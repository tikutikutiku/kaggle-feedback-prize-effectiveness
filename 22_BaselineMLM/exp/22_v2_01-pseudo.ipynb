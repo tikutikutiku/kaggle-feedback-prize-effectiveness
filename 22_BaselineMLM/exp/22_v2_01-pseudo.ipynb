{
 "cells": [
  {
   "cell_type": "code",
   "execution_count": null,
   "id": "wrapped-customs",
   "metadata": {},
   "outputs": [],
   "source": [
    "VERSION = '22_v2_01'\n",
    "FOLD_PATH = '../../00_EDA/00_v2_07/result/'\n",
    "MODEL = 'microsoft/deberta-xlarge'\n",
    "SEED = 100\n",
    "WINDOW = 1024 \n",
    "INNER = 768 \n",
    "EDGE = 128 \n",
    "UNLABELED_DATA_PATH = '../../00_EDA/00_v2_11/result/unlabeled.csv'"
   ]
  },
  {
   "cell_type": "code",
   "execution_count": null,
   "id": "committed-tuesday",
   "metadata": {},
   "outputs": [],
   "source": [
    "FOLD = 0\n",
    "\n",
    "!python ../code/pseudo_label.py --version $VERSION --model $MODEL \\\n",
    "--seed $SEED --fold_path $FOLD_PATH --fold $FOLD --window_size $WINDOW --inner_len $INNER --edge_len $EDGE \\\n",
    "--unlabeled_data_path $UNLABELED_DATA_PATH"
   ]
  },
  {
   "cell_type": "code",
   "execution_count": null,
   "id": "institutional-generation",
   "metadata": {},
   "outputs": [],
   "source": [
    "FOLD = 1\n",
    "\n",
    "!python ../code/pseudo_label.py --version $VERSION --model $MODEL \\\n",
    "--seed $SEED --fold_path $FOLD_PATH --fold $FOLD --window_size $WINDOW --inner_len $INNER --edge_len $EDGE \\\n",
    "--unlabeled_data_path $UNLABELED_DATA_PATH"
   ]
  },
  {
   "cell_type": "code",
   "execution_count": null,
   "id": "individual-wednesday",
   "metadata": {},
   "outputs": [],
   "source": [
    "FOLD = 2\n",
    "\n",
    "!python ../code/pseudo_label.py --version $VERSION --model $MODEL \\\n",
    "--seed $SEED --fold_path $FOLD_PATH --fold $FOLD --window_size $WINDOW --inner_len $INNER --edge_len $EDGE \\\n",
    "--unlabeled_data_path $UNLABELED_DATA_PATH"
   ]
  },
  {
   "cell_type": "code",
   "execution_count": null,
   "id": "biological-agreement",
   "metadata": {},
   "outputs": [],
   "source": [
    "FOLD = 3\n",
    "\n",
    "!python ../code/pseudo_label.py --version $VERSION --model $MODEL \\\n",
    "--seed $SEED --fold_path $FOLD_PATH --fold $FOLD --window_size $WINDOW --inner_len $INNER --edge_len $EDGE \\\n",
    "--unlabeled_data_path $UNLABELED_DATA_PATH"
   ]
  },
  {
   "cell_type": "code",
   "execution_count": null,
   "id": "abstract-restriction",
   "metadata": {},
   "outputs": [],
   "source": [
    "FOLD = 4\n",
    "\n",
    "!python ../code/pseudo_label.py --version $VERSION --model $MODEL \\\n",
    "--seed $SEED --fold_path $FOLD_PATH --fold $FOLD --window_size $WINDOW --inner_len $INNER --edge_len $EDGE \\\n",
    "--unlabeled_data_path $UNLABELED_DATA_PATH"
   ]
  },
  {
   "cell_type": "code",
   "execution_count": null,
   "id": "extended-league",
   "metadata": {},
   "outputs": [],
   "source": []
  }
 ],
 "metadata": {
  "kernelspec": {
   "display_name": "Python 3 (ipykernel)",
   "language": "python",
   "name": "python3"
  },
  "language_info": {
   "codemirror_mode": {
    "name": "ipython",
    "version": 3
   },
   "file_extension": ".py",
   "mimetype": "text/x-python",
   "name": "python",
   "nbconvert_exporter": "python",
   "pygments_lexer": "ipython3",
   "version": "3.7.3"
  }
 },
 "nbformat": 4,
 "nbformat_minor": 5
}
