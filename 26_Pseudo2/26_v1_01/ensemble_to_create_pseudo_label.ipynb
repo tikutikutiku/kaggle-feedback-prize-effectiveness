{
 "cells": [
  {
   "cell_type": "markdown",
   "metadata": {},
   "source": [
    "# Preprocessing"
   ]
  },
  {
   "cell_type": "code",
   "execution_count": 1,
   "metadata": {},
   "outputs": [
    {
     "name": "stdout",
     "output_type": "stream",
     "text": [
      "fold =  0\n",
      "pseudo_df.shape =  (107528, 32)\n",
      "ensemble(simple mean) begins...\n",
      "ensemble(simple mean), done\n",
      "pseudo_df.shape =  (107528, 32)\n",
      "fold =  1\n",
      "pseudo_df.shape =  (107528, 32)\n",
      "ensemble(simple mean) begins...\n",
      "ensemble(simple mean), done\n",
      "pseudo_df.shape =  (107528, 32)\n",
      "fold =  2\n",
      "pseudo_df.shape =  (107528, 32)\n",
      "ensemble(simple mean) begins...\n",
      "ensemble(simple mean), done\n",
      "pseudo_df.shape =  (107528, 32)\n",
      "fold =  3\n",
      "pseudo_df.shape =  (107528, 32)\n",
      "ensemble(simple mean) begins...\n",
      "ensemble(simple mean), done\n",
      "pseudo_df.shape =  (107528, 32)\n",
      "fold =  4\n",
      "pseudo_df.shape =  (107528, 32)\n",
      "ensemble(simple mean) begins...\n",
      "ensemble(simple mean), done\n",
      "pseudo_df.shape =  (107528, 32)\n"
     ]
    }
   ],
   "source": [
    "INPUT_PATH = '../../00_EDA/00_v2_11/result/unlabeled.csv'\n",
    "\n",
    "for FOLD in range(5):\n",
    "    print('fold = ', FOLD)\n",
    "    model_list = [    \n",
    "        {'path':f'../../18_BaselineSW/exp/result/18_v2_01/pseudo_fold{FOLD}.csv', 'w':1}, #deberta-large, seed100, split00_v2_07\n",
    "        {'path':f'../../18_BaselineSW/exp/result/18_v2_03/pseudo_fold{FOLD}.csv', 'w':1}, #deberta-v3-large, seed100, split00_v2_07\n",
    "        {'path':f'../../18_BaselineSW/exp/result/18_v1_05/pseudo_fold{FOLD}.csv', 'w':1}, #deberta-xlarge, seed100, split00_v2_07\n",
    "        {'path':f'../../18_BaselineSW/exp/result/18_v2_22/pseudo_fold{FOLD}.csv', 'w':1}, #deberta-v2-xlarge, seed100, split00_v2_07\n",
    "        {'path':f'../../20_WoSpanDet/exp/result/20_v1_01/pseudo_fold{FOLD}.csv', 'w':1}, #deberta-large, seed100, split00_v2_07, huggingface pre\n",
    "        {'path':f'../../22_BaselineMLM/exp/result/22_v2_01/pseudo_fold{FOLD}.csv', 'w':1}, #deberta-xlarge, seed100, split00_v2_07, MLM pre\n",
    "        {'path':f'../../25_BaselineMLM2/exp/result/25_v1_01/pseudo_fold{FOLD}.csv', 'w':1}, #deberta-large, seed100, split00_v2_07, MLM3\n",
    "    ]\n",
    "\n",
    "    import pandas as pd\n",
    "    import os\n",
    "    os.makedirs('result', exist_ok=True)\n",
    "\n",
    "    w_list = []\n",
    "    for i,model in enumerate(model_list):\n",
    "        w = model['w']\n",
    "        w_list.append(w)\n",
    "\n",
    "    stack_df = None\n",
    "    for i,model in enumerate(model_list):\n",
    "        pred_df = pd.read_csv(model['path'])\n",
    "        w = w_list[i]\n",
    "\n",
    "        if 'cat' in model['path']:\n",
    "            pred_df['pred_ineffective'] = pred_df['Ineffective'] * w / sum(w_list)\n",
    "            pred_df['pred_adequate'] = pred_df['Adequate'] * w / sum(w_list)\n",
    "            pred_df['pred_effective'] = pred_df['Effective'] * w / sum(w_list)\n",
    "        else:\n",
    "            pred_df['pred_ineffective'] = pred_df['Ineffective'] * w / sum(w_list)\n",
    "            pred_df['pred_adequate'] = pred_df['Adequate'] * w / sum(w_list)\n",
    "            pred_df['pred_effective'] = pred_df['Effective'] * w / sum(w_list)\n",
    "        pred_df = pred_df.rename(columns={\n",
    "            'pred_ineffective':f'Ineffective_{i}', \n",
    "            'pred_adequate':f'Adequate_{i}', \n",
    "            'pred_effective':f'Effective_{i}'\n",
    "        })\n",
    "        if stack_df is None:\n",
    "            stack_df = pred_df.copy()\n",
    "        else:\n",
    "            stack_df = stack_df.merge(pred_df[['discourse_id',f'Ineffective_{i}',f'Adequate_{i}',f'Effective_{i}']],\n",
    "                                      on='discourse_id', how='left')\n",
    "\n",
    "    pseudo_df = pd.read_csv(INPUT_PATH)\n",
    "    stack_df = pseudo_df[['discourse_id']].merge(stack_df, on='discourse_id', how='left')\n",
    "\n",
    "    for col_name in ['Ineffective','Adequate','Effective']:\n",
    "        cols = [f'{col_name}_{i}' for i in range(len(model_list))]\n",
    "        stack_df[col_name] = stack_df[cols].sum(axis=1)\n",
    "\n",
    "    stack_df.to_csv(f'result/stack_fold{FOLD}.csv', index=False)\n",
    "    pseudo_df = pseudo_df[['discourse_id']].merge(stack_df, on='discourse_id', how='left')\n",
    "    print('pseudo_df.shape = ', pseudo_df.shape)\n",
    "\n",
    "\n",
    "    # ensemble (simple mean)\n",
    "    print('ensemble(simple mean) begins...')\n",
    "    import catboost\n",
    "    import joblib\n",
    "    from os.path import join as opj\n",
    "\n",
    "    for col_name in ['Ineffective','Adequate','Effective']:\n",
    "        cols = []\n",
    "        cols += [col for col in pseudo_df.columns if (col.startswith(col_name) and '_' in col)] \n",
    "        pseudo_df[col_name] = stack_df[cols].mean(axis=1)\n",
    "    print('ensemble(simple mean), done')\n",
    "\n",
    "    pseudo_df.to_csv(f'result/ensemble_pseudo_label_fold{FOLD}.csv', index=False)\n",
    "    print('pseudo_df.shape = ', pseudo_df.shape)"
   ]
  },
  {
   "cell_type": "code",
   "execution_count": 4,
   "metadata": {},
   "outputs": [
    {
     "name": "stdout",
     "output_type": "stream",
     "text": [
      "ensemble_pseudo_label_fold0.csv  stack_fold0.csv\r\n",
      "ensemble_pseudo_label_fold1.csv  stack_fold1.csv\r\n",
      "ensemble_pseudo_label_fold2.csv  stack_fold2.csv\r\n",
      "ensemble_pseudo_label_fold3.csv  stack_fold3.csv\r\n",
      "ensemble_pseudo_label_fold4.csv  stack_fold4.csv\r\n"
     ]
    }
   ],
   "source": [
    "!ls result"
   ]
  },
  {
   "cell_type": "code",
   "execution_count": null,
   "metadata": {},
   "outputs": [],
   "source": []
  }
 ],
 "metadata": {
  "kernelspec": {
   "display_name": "Python 3",
   "language": "python",
   "name": "python3"
  },
  "language_info": {
   "codemirror_mode": {
    "name": "ipython",
    "version": 3
   },
   "file_extension": ".py",
   "mimetype": "text/x-python",
   "name": "python",
   "nbconvert_exporter": "python",
   "pygments_lexer": "ipython3",
   "version": "3.7.8"
  }
 },
 "nbformat": 4,
 "nbformat_minor": 4
}
