{
 "cells": [
  {
   "cell_type": "code",
   "execution_count": 1,
   "metadata": {},
   "outputs": [],
   "source": [
    "VERSION = '21_v1_01'\n",
    "FOLD_PATH = '../../00_EDA/00_v2_05/result/'\n",
    "#MODEL = 'microsoft/deberta-v3-large'\n",
    "GENERATOR = 'microsoft/deberta-v3-base'\n",
    "#'anferico/bert-for-patents'\n",
    "#'microsoft/deberta-v3-base'\n",
    "#'microsoft/cocolm-large'\n",
    "LR = 2e-5 #8e-6\n",
    "HEAD_LR = 2e-5 #8e-6\n",
    "SEED = 2022\n",
    "TRN_BS = 1\n",
    "VAL_BS = 1\n",
    "ACCUM_STEP = 1\n",
    "EPOCHS = 10\n",
    "HIDDEN_DROP_PROB = 0.1\n",
    "P_DROP = 0.5\n",
    "WARMUP_RATIO = 0.05\n",
    "RATIO_MASKING = 0.1 #0.25\n",
    "EVAL_STEP = -1\n",
    "FP16 = 'true'\n",
    "STOP_EPOCH = 10\n",
    "\n",
    "SCHEDULER = 'cosine_hard'\n",
    "NUM_CYCLES = EPOCHS\n",
    "\n",
    "CP = 'false'\n",
    "\n",
    "WINDOW_SIZE = -100 #512\n",
    "INNER_LEN = -100 #384\n",
    "EDGE_LEN = -100 #64"
   ]
  },
  {
   "cell_type": "code",
   "execution_count": 2,
   "metadata": {
    "scrolled": false
   },
   "outputs": [
    {
     "name": "stdout",
     "output_type": "stream",
     "text": [
      "torch 1.10.1\n",
      "train_df.shape =  (144293, 8)\n",
      "load folds...\n",
      "trn_df.shape =  (115526, 8)\n",
      "val_df.shape =  (28767, 8)\n",
      "2022-07-27 18:30:11.430504: W tensorflow/stream_executor/platform/default/dso_loader.cc:59] Could not load dynamic library 'libcudart.so.10.1'; dlerror: libcudart.so.10.1: cannot open shared object file: No such file or directory; LD_LIBRARY_PATH: /usr/local/cuda-10.2/lib64:\n",
      "2022-07-27 18:30:11.430526: I tensorflow/stream_executor/cuda/cudart_stub.cc:29] Ignore above cudart dlerror if you do not have a GPU set up on your machine.\n",
      "create validation dataset...\n",
      "100%|██████████████████████████████████████| 3119/3119 [00:08<00:00, 383.46it/s]\n",
      "create validation dataset, done\n",
      "self.warmup_ratio =  0.05\n",
      "self.num_train_steps =  124750\n",
      "num_warmup_steps =  6237\n",
      "lr :  [0.0, 0.0, 0.0]\n",
      "100%|████████████| 12475/12475 [36:44<00:00,  5.66it/s, loss=8.49, score=0.0439]\n",
      "100%|███████████████████████████████████████| 3119/3119 [15:08<00:00,  3.43it/s]\n",
      "\n",
      "epoch 1: trn_loss_gen = 8.4868, val_loss_gen = 5.9029, trn_score_gen = 0.0439, val_score_gen = 0.2505\n",
      "model_gen (best loss) saved\n",
      "model_gen (best score) saved\n",
      "lr :  [9.172955178403206e-06, 9.172955178403206e-06, 9.172955178403206e-06]\n",
      "100%|████████████| 12475/12475 [37:25<00:00,  5.56it/s, loss=6.39, score=0.0626]\n",
      "100%|███████████████████████████████████████| 3119/3119 [15:18<00:00,  3.40it/s]\n",
      "\n",
      "epoch 2: trn_loss_gen = 6.3940, val_loss_gen = 5.7811, trn_score_gen = 0.0626, val_score_gen = 0.2622\n",
      "model_gen (best loss) saved\n",
      "model_gen (best score) saved\n",
      "lr :  [7.544063153500434e-06, 7.544063153500434e-06, 7.544063153500434e-06]\n",
      "100%|████████████| 12475/12475 [37:37<00:00,  5.53it/s, loss=6.28, score=0.0633]\n",
      "100%|███████████████████████████████████████| 3119/3119 [15:15<00:00,  3.41it/s]\n",
      "\n",
      "epoch 3: trn_loss_gen = 6.2767, val_loss_gen = 5.6289, trn_score_gen = 0.0633, val_score_gen = 0.2713\n",
      "model_gen (best loss) saved\n",
      "model_gen (best score) saved\n",
      "lr :  [5.9821514045095975e-06, 5.9821514045095975e-06, 5.9821514045095975e-06]\n",
      "  2%|▎             | 233/12475 [00:43<47:41,  4.28it/s, loss=6.18, score=0.0643]^C\n",
      "  2%|▎             | 233/12475 [00:43<38:06,  5.35it/s, loss=6.18, score=0.0643]\n",
      "Traceback (most recent call last):\n",
      "  File \"../21_v1_01/pretrain_mlm.py\", line 112, in <module>\n",
      "    run(args, trn_df, val_df, pseudo_df=None)\n",
      "  File \"/home/takesako/programming/kaggle/54_Feedback2/21_MLM2/21_v1_01/run_pretrain_mlm.py\", line 166, in run\n",
      "    loss_gen, score_gen, output_data_gen = model_gen.training_step(data)\n",
      "  File \"/home/takesako/programming/kaggle/54_Feedback2/21_MLM2/21_v1_01/models_pretrain_generator.py\", line 220, in training_step\n",
      "    loss = self.get_losses(logits[mask].reshape(-1,self.num_labels),\n",
      "KeyboardInterrupt\n"
     ]
    }
   ],
   "source": [
    "FOLD = 0\n",
    "\n",
    "!python ../$VERSION/pretrain_mlm.py --generator $GENERATOR \\\n",
    "--version $VERSION --fold_path $FOLD_PATH --fold $FOLD --seed $SEED \\\n",
    "--lr $LR --head_lr $HEAD_LR --trn_batch_size $TRN_BS --val_batch_size $VAL_BS \\\n",
    "--epochs $EPOCHS --hidden_drop_prob $HIDDEN_DROP_PROB --p_drop $P_DROP \\\n",
    "--accumulate_grad_batches $ACCUM_STEP --warmup_ratio $WARMUP_RATIO --ratio_masking $RATIO_MASKING \\\n",
    "--eval_step $EVAL_STEP --fp16 $FP16 --stop_epoch $STOP_EPOCH \\\n",
    "--scheduler $SCHEDULER --num_cycles $NUM_CYCLES --check_pointing $CP \\\n",
    "--window_size $WINDOW_SIZE --inner_len $INNER_LEN --edge_len $EDGE_LEN"
   ]
  },
  {
   "cell_type": "code",
   "execution_count": null,
   "metadata": {},
   "outputs": [],
   "source": []
  },
  {
   "cell_type": "code",
   "execution_count": null,
   "metadata": {},
   "outputs": [],
   "source": []
  },
  {
   "cell_type": "code",
   "execution_count": null,
   "metadata": {},
   "outputs": [],
   "source": []
  },
  {
   "cell_type": "code",
   "execution_count": null,
   "metadata": {},
   "outputs": [],
   "source": []
  },
  {
   "cell_type": "code",
   "execution_count": null,
   "metadata": {},
   "outputs": [],
   "source": []
  }
 ],
 "metadata": {
  "kernelspec": {
   "display_name": "Python 3",
   "language": "python",
   "name": "python3"
  },
  "language_info": {
   "codemirror_mode": {
    "name": "ipython",
    "version": 3
   },
   "file_extension": ".py",
   "mimetype": "text/x-python",
   "name": "python",
   "nbconvert_exporter": "python",
   "pygments_lexer": "ipython3",
   "version": "3.7.8"
  }
 },
 "nbformat": 4,
 "nbformat_minor": 4
}
