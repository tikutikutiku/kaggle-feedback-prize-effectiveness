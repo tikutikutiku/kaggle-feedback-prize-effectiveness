{
 "cells": [
  {
   "cell_type": "code",
   "execution_count": 1,
   "id": "auburn-office",
   "metadata": {},
   "outputs": [],
   "source": [
    "VERSION = '21_v2_13'\n",
    "FOLD_PATH = '../../00_EDA/00_v2_05/result/'\n",
    "#MODEL = 'microsoft/deberta-v3-large'\n",
    "GENERATOR = 'microsoft/deberta-v3-large'\n",
    "#'microsoft/deberta-large'\n",
    "#'anferico/bert-for-patents'\n",
    "#'microsoft/deberta-v3-base'\n",
    "#'microsoft/cocolm-large'\n",
    "LR = 8e-6\n",
    "HEAD_LR = 8e-6\n",
    "SEED = 2022\n",
    "TRN_BS = 1\n",
    "VAL_BS = 1\n",
    "ACCUM_STEP = 1\n",
    "EPOCHS = 20 #10\n",
    "HIDDEN_DROP_PROB = 0\n",
    "P_DROP = 0.5\n",
    "WARMUP_RATIO = 0.05\n",
    "RATIO_MASKING = 0.15 #0.25\n",
    "EVAL_STEP = -1\n",
    "FP16 = 'false'\n",
    "STOP_EPOCH = EPOCHS\n",
    "RESTART_EPOCH = 0\n",
    "\n",
    "SCHEDULER = 'cosine_hard'\n",
    "NUM_CYCLES = EPOCHS\n",
    "\n",
    "CP = 'true'\n",
    "\n",
    "WINDOW_SIZE = -100 #512\n",
    "INNER_LEN = -100 #384\n",
    "EDGE_LEN = -100 #64\n",
    "\n",
    "MAX_LEN = -100 #512\n",
    "\n",
    "GRAD_CLIP = 1000\n",
    "\n",
    "PRETRAIN_PATH = 'none' #f'result/{VERSION}/model_gen_seed{SEED}_fold{FOLD}_epoch{RESTART_EPOCH-1}.pth'"
   ]
  },
  {
   "cell_type": "code",
   "execution_count": 2,
   "id": "occupational-bunny",
   "metadata": {},
   "outputs": [
    {
     "name": "stdout",
     "output_type": "stream",
     "text": [
      "torch 1.10.2\n",
      "train_df.shape =  (144293, 8)\n",
      "load folds...\n",
      "trn_df.shape =  (115526, 8)\n",
      "val_df.shape =  (28767, 8)\n",
      "2022-07-29 21:40:56.076843: W tensorflow/stream_executor/platform/default/dso_loader.cc:59] Could not load dynamic library 'libcudart.so.10.1'; dlerror: libcudart.so.10.1: cannot open shared object file: No such file or directory; LD_LIBRARY_PATH: /usr/local/cuda/lib64:\n",
      "2022-07-29 21:40:56.076868: I tensorflow/stream_executor/cuda/cudart_stub.cc:29] Ignore above cudart dlerror if you do not have a GPU set up on your machine.\n",
      "create validation dataset...\n",
      "100%|██████████████████████████████████████| 3119/3119 [00:06<00:00, 491.64it/s]\n",
      "create validation dataset, done\n",
      "self.warmup_ratio =  0.05\n",
      "self.num_train_steps =  249500\n",
      "num_warmup_steps =  12475\n",
      "lr :  [0.0, 0.0, 0.0]\n",
      " 74%|██████████▎   | 9181/12475 [44:02<16:32,  3.32it/s, loss=7.51, score=0.171]^C\n",
      " 74%|██████████▎   | 9181/12475 [44:02<15:48,  3.47it/s, loss=7.51, score=0.171]\n",
      "Traceback (most recent call last):\n",
      "  File \"../21_v2_13/pretrain_mlm.py\", line 115, in <module>\n",
      "    run(args, trn_df, val_df, pseudo_df=None)\n",
      "  File \"/home/takesako2/programming/kaggle/54_Feedback2/21_MLM2/21_v2_13/run_pretrain_mlm.py\", line 196, in run\n",
      "    scaler.step(optimizer_gen)\n",
      "  File \"/home/takesako2/anaconda3/lib/python3.7/site-packages/torch/cuda/amp/grad_scaler.py\", line 310, in step\n",
      "    return optimizer.step(*args, **kwargs)\n",
      "  File \"/home/takesako2/anaconda3/lib/python3.7/site-packages/torch/optim/lr_scheduler.py\", line 65, in wrapper\n",
      "    return wrapped(*args, **kwargs)\n",
      "  File \"/home/takesako2/anaconda3/lib/python3.7/site-packages/torch/optim/optimizer.py\", line 88, in wrapper\n",
      "    return func(*args, **kwargs)\n",
      "  File \"/home/takesako2/anaconda3/lib/python3.7/site-packages/transformers/optimization.py\", line 361, in step\n",
      "    denom = exp_avg_sq.sqrt().add_(group[\"eps\"])\n",
      "KeyboardInterrupt\n"
     ]
    }
   ],
   "source": [
    "FOLD = 0\n",
    "\n",
    "!python ../$VERSION/pretrain_mlm.py --generator $GENERATOR \\\n",
    "--version $VERSION --fold_path $FOLD_PATH --fold $FOLD --seed $SEED \\\n",
    "--lr $LR --head_lr $HEAD_LR --trn_batch_size $TRN_BS --val_batch_size $VAL_BS \\\n",
    "--epochs $EPOCHS --hidden_drop_prob $HIDDEN_DROP_PROB --p_drop $P_DROP \\\n",
    "--accumulate_grad_batches $ACCUM_STEP --warmup_ratio $WARMUP_RATIO --ratio_masking $RATIO_MASKING \\\n",
    "--eval_step $EVAL_STEP --fp16 $FP16 --stop_epoch $STOP_EPOCH \\\n",
    "--scheduler $SCHEDULER --num_cycles $NUM_CYCLES --check_pointing $CP \\\n",
    "--window_size $WINDOW_SIZE --inner_len $INNER_LEN --edge_len $EDGE_LEN \\\n",
    "--max_length $MAX_LEN --gradient_clip_val $GRAD_CLIP \\\n",
    "--restart_epoch $RESTART_EPOCH --pretrain_path $PRETRAIN_PATH"
   ]
  },
  {
   "cell_type": "code",
   "execution_count": null,
   "id": "innovative-angola",
   "metadata": {},
   "outputs": [],
   "source": []
  },
  {
   "cell_type": "code",
   "execution_count": null,
   "id": "breeding-muslim",
   "metadata": {},
   "outputs": [],
   "source": []
  },
  {
   "cell_type": "code",
   "execution_count": null,
   "id": "rising-modeling",
   "metadata": {},
   "outputs": [],
   "source": []
  },
  {
   "cell_type": "code",
   "execution_count": null,
   "id": "defensive-printer",
   "metadata": {},
   "outputs": [],
   "source": []
  },
  {
   "cell_type": "code",
   "execution_count": null,
   "id": "engaged-nirvana",
   "metadata": {},
   "outputs": [],
   "source": []
  },
  {
   "cell_type": "code",
   "execution_count": null,
   "id": "hindu-russian",
   "metadata": {},
   "outputs": [],
   "source": []
  },
  {
   "cell_type": "code",
   "execution_count": null,
   "id": "random-seafood",
   "metadata": {},
   "outputs": [],
   "source": []
  },
  {
   "cell_type": "code",
   "execution_count": null,
   "id": "antique-blood",
   "metadata": {},
   "outputs": [],
   "source": []
  }
 ],
 "metadata": {
  "kernelspec": {
   "display_name": "Python 3 (ipykernel)",
   "language": "python",
   "name": "python3"
  },
  "language_info": {
   "codemirror_mode": {
    "name": "ipython",
    "version": 3
   },
   "file_extension": ".py",
   "mimetype": "text/x-python",
   "name": "python",
   "nbconvert_exporter": "python",
   "pygments_lexer": "ipython3",
   "version": "3.7.3"
  }
 },
 "nbformat": 4,
 "nbformat_minor": 5
}
