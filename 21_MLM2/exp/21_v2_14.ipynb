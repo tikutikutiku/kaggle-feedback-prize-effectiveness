{
 "cells": [
  {
   "cell_type": "code",
   "execution_count": null,
   "id": "auburn-office",
   "metadata": {},
   "outputs": [],
   "source": [
    "VERSION = '21_v2_14'\n",
    "FOLD_PATH = '../../00_EDA/00_v2_05/result/'\n",
    "GENERATOR = 'microsoft/deberta-xlarge'\n",
    "LR = 6e-6\n",
    "HEAD_LR = 6e-6 \n",
    "SEED = 2022\n",
    "TRN_BS = 1\n",
    "VAL_BS = 1\n",
    "ACCUM_STEP = 1\n",
    "EPOCHS = 20\n",
    "HIDDEN_DROP_PROB = 0\n",
    "P_DROP = 0.5\n",
    "WARMUP_RATIO = 0.05\n",
    "RATIO_MASKING = 0.25\n",
    "EVAL_STEP = -1\n",
    "FP16 = 'false'\n",
    "STOP_EPOCH = EPOCHS\n",
    "RESTART_EPOCH = 0\n",
    "SCHEDULER = 'cosine_hard'\n",
    "NUM_CYCLES = EPOCHS\n",
    "CP = 'true'\n",
    "WINDOW_SIZE = -100 \n",
    "INNER_LEN = -100 \n",
    "EDGE_LEN = -100\n",
    "MAX_LEN = -100 \n",
    "GRAD_CLIP = 1000\n",
    "PRETRAIN_PATH = 'none' "
   ]
  },
  {
   "cell_type": "code",
   "execution_count": null,
   "id": "occupational-bunny",
   "metadata": {
    "scrolled": true
   },
   "outputs": [],
   "source": [
    "FOLD = 0\n",
    "\n",
    "!python ../code/pretrain_mlm.py --generator $GENERATOR \\\n",
    "--version $VERSION --fold_path $FOLD_PATH --fold $FOLD --seed $SEED \\\n",
    "--lr $LR --head_lr $HEAD_LR --trn_batch_size $TRN_BS --val_batch_size $VAL_BS \\\n",
    "--epochs $EPOCHS --hidden_drop_prob $HIDDEN_DROP_PROB --p_drop $P_DROP \\\n",
    "--accumulate_grad_batches $ACCUM_STEP --warmup_ratio $WARMUP_RATIO --ratio_masking $RATIO_MASKING \\\n",
    "--eval_step $EVAL_STEP --fp16 $FP16 --stop_epoch $STOP_EPOCH \\\n",
    "--scheduler $SCHEDULER --num_cycles $NUM_CYCLES --check_pointing $CP \\\n",
    "--window_size $WINDOW_SIZE --inner_len $INNER_LEN --edge_len $EDGE_LEN \\\n",
    "--max_length $MAX_LEN --gradient_clip_val $GRAD_CLIP \\\n",
    "--restart_epoch $RESTART_EPOCH --pretrain_path $PRETRAIN_PATH"
   ]
  },
  {
   "cell_type": "markdown",
   "id": "ranking-twins",
   "metadata": {},
   "source": [
    "# SWA"
   ]
  },
  {
   "cell_type": "code",
   "execution_count": null,
   "id": "breeding-muslim",
   "metadata": {},
   "outputs": [],
   "source": [
    "!python ../code/swa_gen.py --work_dir ./result/$VERSION/ --fold 0 --seed $SEED --epochs '16 17 18'"
   ]
  },
  {
   "cell_type": "code",
   "execution_count": null,
   "id": "antique-blood",
   "metadata": {},
   "outputs": [],
   "source": []
  }
 ],
 "metadata": {
  "kernelspec": {
   "display_name": "Python 3.5.2 64-bit",
   "language": "python",
   "name": "python3"
  },
  "language_info": {
   "codemirror_mode": {
    "name": "ipython",
    "version": 3
   },
   "file_extension": ".py",
   "mimetype": "text/x-python",
   "name": "python",
   "nbconvert_exporter": "python",
   "pygments_lexer": "ipython3",
   "version": "3.5.2"
  },
  "vscode": {
   "interpreter": {
    "hash": "31f2aee4e71d21fbe5cf8b01ff0e069b9275f58929596ceb00d14d90e3e16cd6"
   }
  }
 },
 "nbformat": 4,
 "nbformat_minor": 5
}
