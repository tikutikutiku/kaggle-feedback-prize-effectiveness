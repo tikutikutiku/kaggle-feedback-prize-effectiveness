{
 "cells": [
  {
   "cell_type": "code",
   "execution_count": 1,
   "id": "colored-needle",
   "metadata": {},
   "outputs": [],
   "source": [
    "VERSION = '18_v2_07'\n",
    "FOLD_PATH = '../../00_EDA/00_v2_07/result/' #'../../00_EDA/00_v1_01/result/'\n",
    "MODEL = 'microsoft/deberta-large'\n",
    "#'microsoft/deberta-base'\n",
    "#'microsoft/deberta-v3-base'\n",
    "#'funnel-transformer/xlarge'\n",
    "#'ahotrod/electra_large_discriminator_squad2_512'\n",
    "#'funnel-transformer/xlarge'\n",
    "#'microsoft/deberta-v3-large'\n",
    "#'microsoft/deberta-large'\n",
    "#'anferico/bert-for-patents'\n",
    "#'microsoft/deberta-v3-base'\n",
    "#'microsoft/cocolm-large'\n",
    "LR = 8e-6 #2e-5\n",
    "HEAD_LR = 8e-6 #2e-5\n",
    "SEED = 200 #100\n",
    "TRN_BS = 1\n",
    "VAL_BS = 1\n",
    "ACCUM_STEP = 1\n",
    "EPOCHS = 5 #2\n",
    "STOP_EPOCH = 5 #2\n",
    "RESTART = 1\n",
    "HIDDEN_DROP_PROB = 0\n",
    "P_DROP = 0\n",
    "RNN = 'none'\n",
    "WARMUP_RATIO = 0.1\n",
    "LOSS = 'xentropy'\n",
    "HEAD = 'simple'\n",
    "AUG = 'false' #'mixup'\n",
    "MIXUP_ALPHA = 1.0\n",
    "P_AUG = 0\n",
    "AUG_STOP_EPOCH = 2\n",
    "MSD = 'true'\n",
    "MULTI_LAYERS = 1\n",
    "EVAL_STEP = -1 #100\n",
    "NUM_LABELS = 3\n",
    "NUM_LABELS_2 = 7\n",
    "ADV_SIFT = 'false'\n",
    "FP16 = 'true' #'false'\n",
    "WD = 0.01\n",
    "FREEZE = 'false'\n",
    "#MAX_LENGTH = 1024\n",
    "MULTI_TASK = 'false' #'true'\n",
    "W_MT = 1.0 #0.5\n",
    "#PREPROCESSED_DATA_PATH = '../../00_EDA/00_v2_01/result/train.csv'\n",
    "#'../../00_EDA/00_v1_09/result/train.csv'\n",
    "AWP = 'true'\n",
    "AWP_LR = 1e-2 #1.0\n",
    "AWP_EPS = 1e-3 #0.01\n",
    "AWP_START_EPOCH = 1\n",
    "\n",
    "#PRETRAINED_DETECTOR_PATH = f'../../input/tascj/result/deberta_large_fold0.pth'\n",
    "PRETRAINED_DETECTOR_PATH = f'../../input/tascj/result/deberta_large_fold1.pth'\n",
    "#PRETRAINED_DETECTOR_PATH = f'../../05_Detection/exp/result/05_v1_04/model_seed100_fold0_swa.pth'\n",
    "\n",
    "MASK_PROB = 0.8\n",
    "MASK_RATIO = 0.3\n",
    "\n",
    "SCHEDULER = 'cosine_hard'\n",
    "NUM_CYCLES = EPOCHS\n",
    "\n",
    "CP = 'false'\n",
    "\n",
    "WINDOW_SIZE = 512\n",
    "INNER_LEN = 384\n",
    "EDGE_LEN = 64"
   ]
  },
  {
   "cell_type": "code",
   "execution_count": 2,
   "id": "understood-criminal",
   "metadata": {
    "scrolled": true
   },
   "outputs": [
    {
     "name": "stdout",
     "output_type": "stream",
     "text": [
      "torch 1.10.2\n",
      "train_df.shape =  (36765, 5)\n",
      "test_df.shape =  (10, 4)\n",
      "sub_df.shape =  (10, 4)\n",
      "load folds...\n",
      "trn_df.shape =  (29462, 6)\n",
      "val_df.shape =  (7303, 6)\n",
      "2022-07-22 06:25:00.671000: W tensorflow/stream_executor/platform/default/dso_loader.cc:59] Could not load dynamic library 'libcudart.so.10.1'; dlerror: libcudart.so.10.1: cannot open shared object file: No such file or directory; LD_LIBRARY_PATH: /usr/local/cuda/lib64:\n",
      "2022-07-22 06:25:00.671023: I tensorflow/stream_executor/cuda/cudart_stub.cc:29] Ignore above cudart dlerror if you do not have a GPU set up on your machine.\n",
      "self.warmup_ratio =  0.1\n",
      "self.num_train_steps =  16760\n",
      "num_warmup_steps =  1676\n",
      "lr :  [0.0, 0.0, 0.0]\n",
      "100%|████████████████████████████| 3352/3352 [24:22<00:00,  2.29it/s, loss=1.57]\n",
      "100%|█████████████████████████████████████████| 839/839 [01:23<00:00, 10.10it/s]\n",
      "epoch 1: trn_loss = 1.5660, val_loss = 0.6306, trn_score = -0.7635, val_score = -0.6306\n",
      "model (best loss) saved\n",
      "model (best score) saved\n",
      "lr :  [3.3054072893322785e-06, 3.3054072893322785e-06, 3.3054072893322785e-06]\n",
      "100%|████████████████████████████| 3352/3352 [24:22<00:00,  2.29it/s, loss=1.28]\n",
      "100%|█████████████████████████████████████████| 839/839 [01:22<00:00, 10.21it/s]\n",
      "epoch 2: trn_loss = 1.2827, val_loss = 0.6148, trn_score = -0.6242, val_score = -0.6148\n",
      "model (best loss) saved\n",
      "model (best score) saved\n",
      "lr :  [2.0000000000000025e-06, 2.0000000000000025e-06, 2.0000000000000025e-06]\n",
      "100%|████████████████████████████| 3352/3352 [24:19<00:00,  2.30it/s, loss=1.19]\n",
      "100%|█████████████████████████████████████████| 839/839 [01:23<00:00, 10.11it/s]\n",
      "epoch 3: trn_loss = 1.1921, val_loss = 0.6030, trn_score = -0.5797, val_score = -0.6030\n",
      "model (best loss) saved\n",
      "model (best score) saved\n",
      "lr :  [9.358222275240884e-07, 9.358222275240884e-07, 9.358222275240884e-07]\n",
      "100%|████████████████████████████| 3352/3352 [24:02<00:00,  2.32it/s, loss=1.11]\n",
      "100%|█████████████████████████████████████████| 839/839 [01:20<00:00, 10.41it/s]\n",
      "epoch 4: trn_loss = 1.1096, val_loss = 0.6015, trn_score = -0.5383, val_score = -0.6015\n",
      "model (best loss) saved\n",
      "model (best score) saved\n",
      "lr :  [2.412295168563667e-07, 2.412295168563667e-07, 2.412295168563667e-07]\n",
      "100%|████████████████████████████| 3352/3352 [23:52<00:00,  2.34it/s, loss=1.02]\n",
      "100%|█████████████████████████████████████████| 839/839 [01:23<00:00, 10.04it/s]\n",
      "epoch 5: trn_loss = 1.0229, val_loss = 0.6143, trn_score = -0.4933, val_score = -0.6143\n",
      "epoch_best 4, val_loss_best 0.60153, val_score_best -0.60153\n",
      "\n"
     ]
    }
   ],
   "source": [
    "FOLD = 0\n",
    "\n",
    "!python ../$VERSION/train.py --model $MODEL --version $VERSION --fold_path $FOLD_PATH --fold $FOLD --seed $SEED \\\n",
    "--lr $LR --head_lr $HEAD_LR --trn_batch_size $TRN_BS --val_batch_size $VAL_BS \\\n",
    "--epochs $EPOCHS --hidden_drop_prob $HIDDEN_DROP_PROB --p_drop $P_DROP \\\n",
    "--accumulate_grad_batches $ACCUM_STEP --rnn $RNN --warmup_ratio $WARMUP_RATIO --loss $LOSS --aug $AUG --head $HEAD \\\n",
    "--mixup_alpha $MIXUP_ALPHA --p_aug $P_AUG --aug_stop_epoch $AUG_STOP_EPOCH \\\n",
    "--msd $MSD --multi_layers $MULTI_LAYERS --eval_step $EVAL_STEP --stop_epoch $STOP_EPOCH \\\n",
    "--num_labels $NUM_LABELS --num_labels_2 $NUM_LABELS_2 \\\n",
    "--restart_epoch $RESTART --adv_sift $ADV_SIFT --fp16 $FP16 --weight_decay $WD --freeze_layers $FREEZE \\\n",
    "--mt $MULTI_TASK --w_mt $W_MT \\\n",
    "--awp $AWP --awp_lr $AWP_LR --awp_eps $AWP_EPS --awp_start_epoch $AWP_START_EPOCH \\\n",
    "--pretrained_detector_path $PRETRAINED_DETECTOR_PATH --mask_prob $MASK_PROB --mask_ratio $MASK_RATIO \\\n",
    "--scheduler $SCHEDULER --num_cycles $NUM_CYCLES --check_pointing $CP \\\n",
    "--window_size $WINDOW_SIZE --inner_len $INNER_LEN --edge_len $EDGE_LEN"
   ]
  },
  {
   "cell_type": "code",
   "execution_count": 3,
   "id": "acceptable-school",
   "metadata": {
    "scrolled": false
   },
   "outputs": [
    {
     "name": "stdout",
     "output_type": "stream",
     "text": [
      "torch 1.10.2\n",
      "train_df.shape =  (36765, 5)\n",
      "test_df.shape =  (10, 4)\n",
      "sub_df.shape =  (10, 4)\n",
      "load folds...\n",
      "trn_df.shape =  (29383, 6)\n",
      "val_df.shape =  (7382, 6)\n",
      "2022-07-22 08:33:39.754119: W tensorflow/stream_executor/platform/default/dso_loader.cc:59] Could not load dynamic library 'libcudart.so.10.1'; dlerror: libcudart.so.10.1: cannot open shared object file: No such file or directory; LD_LIBRARY_PATH: /usr/local/cuda/lib64:\n",
      "2022-07-22 08:33:39.754138: I tensorflow/stream_executor/cuda/cudart_stub.cc:29] Ignore above cudart dlerror if you do not have a GPU set up on your machine.\n",
      "self.warmup_ratio =  0.1\n",
      "self.num_train_steps =  16765\n",
      "num_warmup_steps =  1676\n",
      "lr :  [0.0, 0.0, 0.0]\n",
      "100%|████████████████████████████| 3353/3353 [23:59<00:00,  2.33it/s, loss=1.56]\n",
      "100%|█████████████████████████████████████████| 838/838 [01:20<00:00, 10.42it/s]\n",
      "epoch 1: trn_loss = 1.5576, val_loss = 0.6535, trn_score = -0.7593, val_score = -0.6535\n",
      "model (best loss) saved\n",
      "model (best score) saved\n",
      "lr :  [3.303584776396759e-06, 3.303584776396759e-06, 3.303584776396759e-06]\n",
      "100%|████████████████████████████| 3353/3353 [23:43<00:00,  2.35it/s, loss=1.28]\n",
      "100%|█████████████████████████████████████████| 838/838 [01:20<00:00, 10.39it/s]\n",
      "epoch 2: trn_loss = 1.2774, val_loss = 0.6544, trn_score = -0.6216, val_score = -0.6544\n",
      "lr :  [1.998798053127825e-06, 1.998798053127825e-06, 1.998798053127825e-06]\n",
      "100%|████████████████████████████| 3353/3353 [23:41<00:00,  2.36it/s, loss=1.18]\n",
      "100%|█████████████████████████████████████████| 838/838 [01:20<00:00, 10.40it/s]\n",
      "epoch 3: trn_loss = 1.1806, val_loss = 0.6234, trn_score = -0.5743, val_score = -0.6234\n",
      "model (best loss) saved\n",
      "model (best score) saved\n",
      "lr :  [9.352275048208716e-07, 9.352275048208716e-07, 9.352275048208716e-07]\n",
      "100%|█████████████████████████████| 3353/3353 [23:41<00:00,  2.36it/s, loss=1.1]\n",
      "100%|█████████████████████████████████████████| 838/838 [01:20<00:00, 10.42it/s]\n",
      "epoch 4: trn_loss = 1.0998, val_loss = 0.6266, trn_score = -0.5330, val_score = -0.6266\n",
      "lr :  [2.410712975159734e-07, 2.410712975159734e-07, 2.410712975159734e-07]\n",
      "100%|████████████████████████████| 3353/3353 [23:39<00:00,  2.36it/s, loss=1.02]\n",
      "100%|█████████████████████████████████████████| 838/838 [01:20<00:00, 10.44it/s]\n",
      "epoch 5: trn_loss = 1.0152, val_loss = 0.6382, trn_score = -0.4893, val_score = -0.6382\n",
      "epoch_best 3, val_loss_best 0.62335, val_score_best -0.62335\n",
      "\n"
     ]
    }
   ],
   "source": [
    "FOLD = 1\n",
    "\n",
    "!python ../$VERSION/train.py --model $MODEL --version $VERSION --fold_path $FOLD_PATH --fold $FOLD --seed $SEED \\\n",
    "--lr $LR --head_lr $HEAD_LR --trn_batch_size $TRN_BS --val_batch_size $VAL_BS \\\n",
    "--epochs $EPOCHS --hidden_drop_prob $HIDDEN_DROP_PROB --p_drop $P_DROP \\\n",
    "--accumulate_grad_batches $ACCUM_STEP --rnn $RNN --warmup_ratio $WARMUP_RATIO --loss $LOSS --aug $AUG --head $HEAD \\\n",
    "--mixup_alpha $MIXUP_ALPHA --p_aug $P_AUG --aug_stop_epoch $AUG_STOP_EPOCH \\\n",
    "--msd $MSD --multi_layers $MULTI_LAYERS --eval_step $EVAL_STEP --stop_epoch $STOP_EPOCH \\\n",
    "--num_labels $NUM_LABELS --num_labels_2 $NUM_LABELS_2 \\\n",
    "--restart_epoch $RESTART --adv_sift $ADV_SIFT --fp16 $FP16 --weight_decay $WD --freeze_layers $FREEZE \\\n",
    "--mt $MULTI_TASK --w_mt $W_MT \\\n",
    "--awp $AWP --awp_lr $AWP_LR --awp_eps $AWP_EPS --awp_start_epoch $AWP_START_EPOCH \\\n",
    "--pretrained_detector_path $PRETRAINED_DETECTOR_PATH --mask_prob $MASK_PROB --mask_ratio $MASK_RATIO \\\n",
    "--scheduler $SCHEDULER --num_cycles $NUM_CYCLES --check_pointing $CP \\\n",
    "--window_size $WINDOW_SIZE --inner_len $INNER_LEN --edge_len $EDGE_LEN"
   ]
  },
  {
   "cell_type": "code",
   "execution_count": 4,
   "id": "latin-property",
   "metadata": {
    "scrolled": true
   },
   "outputs": [
    {
     "name": "stdout",
     "output_type": "stream",
     "text": [
      "torch 1.10.2\n",
      "train_df.shape =  (36765, 5)\n",
      "test_df.shape =  (10, 4)\n",
      "sub_df.shape =  (10, 4)\n",
      "load folds...\n",
      "trn_df.shape =  (29461, 6)\n",
      "val_df.shape =  (7304, 6)\n",
      "2022-07-22 10:39:43.828736: W tensorflow/stream_executor/platform/default/dso_loader.cc:59] Could not load dynamic library 'libcudart.so.10.1'; dlerror: libcudart.so.10.1: cannot open shared object file: No such file or directory; LD_LIBRARY_PATH: /usr/local/cuda/lib64:\n",
      "2022-07-22 10:39:43.828756: I tensorflow/stream_executor/cuda/cudart_stub.cc:29] Ignore above cudart dlerror if you do not have a GPU set up on your machine.\n",
      "self.warmup_ratio =  0.1\n",
      "self.num_train_steps =  16765\n",
      "num_warmup_steps =  1676\n",
      "lr :  [0.0, 0.0, 0.0]\n",
      "100%|████████████████████████████| 3353/3353 [23:27<00:00,  2.38it/s, loss=1.61]\n",
      "100%|█████████████████████████████████████████| 838/838 [01:21<00:00, 10.26it/s]\n",
      "epoch 1: trn_loss = 1.6098, val_loss = 0.6644, trn_score = -0.7857, val_score = -0.6644\n",
      "model (best loss) saved\n",
      "model (best score) saved\n",
      "lr :  [3.303584776396759e-06, 3.303584776396759e-06, 3.303584776396759e-06]\n",
      "100%|████████████████████████████| 3353/3353 [23:21<00:00,  2.39it/s, loss=1.29]\n",
      "100%|█████████████████████████████████████████| 838/838 [01:22<00:00, 10.21it/s]\n",
      "epoch 2: trn_loss = 1.2910, val_loss = 0.6111, trn_score = -0.6291, val_score = -0.6111\n",
      "model (best loss) saved\n",
      "model (best score) saved\n",
      "lr :  [1.998798053127825e-06, 1.998798053127825e-06, 1.998798053127825e-06]\n",
      "100%|█████████████████████████████| 3353/3353 [23:25<00:00,  2.39it/s, loss=1.2]\n",
      "100%|█████████████████████████████████████████| 838/838 [01:21<00:00, 10.30it/s]\n",
      "epoch 3: trn_loss = 1.1989, val_loss = 0.6085, trn_score = -0.5830, val_score = -0.6085\n",
      "model (best loss) saved\n",
      "model (best score) saved\n",
      "lr :  [9.352275048208716e-07, 9.352275048208716e-07, 9.352275048208716e-07]\n",
      "100%|████████████████████████████| 3353/3353 [23:29<00:00,  2.38it/s, loss=1.11]\n",
      "100%|█████████████████████████████████████████| 838/838 [01:21<00:00, 10.29it/s]\n",
      "epoch 4: trn_loss = 1.1080, val_loss = 0.6072, trn_score = -0.5369, val_score = -0.6072\n",
      "model (best loss) saved\n",
      "model (best score) saved\n",
      "lr :  [2.410712975159734e-07, 2.410712975159734e-07, 2.410712975159734e-07]\n",
      "100%|████████████████████████████| 3353/3353 [23:27<00:00,  2.38it/s, loss=1.03]\n",
      "100%|█████████████████████████████████████████| 838/838 [01:20<00:00, 10.39it/s]\n",
      "epoch 5: trn_loss = 1.0347, val_loss = 0.6286, trn_score = -0.4992, val_score = -0.6286\n",
      "epoch_best 4, val_loss_best 0.60725, val_score_best -0.60725\n",
      "\n"
     ]
    }
   ],
   "source": [
    "FOLD = 2\n",
    "\n",
    "!python ../$VERSION/train.py --model $MODEL --version $VERSION --fold_path $FOLD_PATH --fold $FOLD --seed $SEED \\\n",
    "--lr $LR --head_lr $HEAD_LR --trn_batch_size $TRN_BS --val_batch_size $VAL_BS \\\n",
    "--epochs $EPOCHS --hidden_drop_prob $HIDDEN_DROP_PROB --p_drop $P_DROP \\\n",
    "--accumulate_grad_batches $ACCUM_STEP --rnn $RNN --warmup_ratio $WARMUP_RATIO --loss $LOSS --aug $AUG --head $HEAD \\\n",
    "--mixup_alpha $MIXUP_ALPHA --p_aug $P_AUG --aug_stop_epoch $AUG_STOP_EPOCH \\\n",
    "--msd $MSD --multi_layers $MULTI_LAYERS --eval_step $EVAL_STEP --stop_epoch $STOP_EPOCH \\\n",
    "--num_labels $NUM_LABELS --num_labels_2 $NUM_LABELS_2 \\\n",
    "--restart_epoch $RESTART --adv_sift $ADV_SIFT --fp16 $FP16 --weight_decay $WD --freeze_layers $FREEZE \\\n",
    "--mt $MULTI_TASK --w_mt $W_MT \\\n",
    "--awp $AWP --awp_lr $AWP_LR --awp_eps $AWP_EPS --awp_start_epoch $AWP_START_EPOCH \\\n",
    "--pretrained_detector_path $PRETRAINED_DETECTOR_PATH --mask_prob $MASK_PROB --mask_ratio $MASK_RATIO \\\n",
    "--scheduler $SCHEDULER --num_cycles $NUM_CYCLES --check_pointing $CP \\\n",
    "--window_size $WINDOW_SIZE --inner_len $INNER_LEN --edge_len $EDGE_LEN"
   ]
  },
  {
   "cell_type": "code",
   "execution_count": 5,
   "id": "assumed-tumor",
   "metadata": {
    "scrolled": true
   },
   "outputs": [
    {
     "name": "stdout",
     "output_type": "stream",
     "text": [
      "torch 1.10.2\n",
      "train_df.shape =  (36765, 5)\n",
      "test_df.shape =  (10, 4)\n",
      "sub_df.shape =  (10, 4)\n",
      "load folds...\n",
      "trn_df.shape =  (29348, 6)\n",
      "val_df.shape =  (7417, 6)\n",
      "2022-07-22 12:44:27.389825: W tensorflow/stream_executor/platform/default/dso_loader.cc:59] Could not load dynamic library 'libcudart.so.10.1'; dlerror: libcudart.so.10.1: cannot open shared object file: No such file or directory; LD_LIBRARY_PATH: /usr/local/cuda/lib64:\n",
      "2022-07-22 12:44:27.389847: I tensorflow/stream_executor/cuda/cudart_stub.cc:29] Ignore above cudart dlerror if you do not have a GPU set up on your machine.\n",
      "self.warmup_ratio =  0.1\n",
      "self.num_train_steps =  16765\n",
      "num_warmup_steps =  1676\n",
      "lr :  [0.0, 0.0, 0.0]\n",
      "100%|████████████████████████████| 3353/3353 [24:10<00:00,  2.31it/s, loss=1.58]\n",
      "100%|█████████████████████████████████████████| 838/838 [01:23<00:00, 10.07it/s]\n",
      "epoch 1: trn_loss = 1.5773, val_loss = 0.6756, trn_score = -0.7689, val_score = -0.6756\n",
      "model (best loss) saved\n",
      "model (best score) saved\n",
      "lr :  [3.303584776396759e-06, 3.303584776396759e-06, 3.303584776396759e-06]\n",
      "100%|████████████████████████████| 3353/3353 [24:11<00:00,  2.31it/s, loss=1.29]\n",
      "100%|█████████████████████████████████████████| 838/838 [01:24<00:00,  9.92it/s]\n",
      "epoch 2: trn_loss = 1.2872, val_loss = 0.6261, trn_score = -0.6270, val_score = -0.6261\n",
      "model (best loss) saved\n",
      "model (best score) saved\n",
      "lr :  [1.998798053127825e-06, 1.998798053127825e-06, 1.998798053127825e-06]\n",
      "100%|████████████████████████████| 3353/3353 [24:06<00:00,  2.32it/s, loss=1.19]\n",
      "100%|█████████████████████████████████████████| 838/838 [01:23<00:00,  9.98it/s]\n",
      "epoch 3: trn_loss = 1.1893, val_loss = 0.6215, trn_score = -0.5781, val_score = -0.6215\n",
      "model (best loss) saved\n",
      "model (best score) saved\n",
      "lr :  [9.352275048208716e-07, 9.352275048208716e-07, 9.352275048208716e-07]\n",
      " 87%|████████████████████████▎   | 2914/3353 [21:04<03:13,  2.27it/s, loss=1.65]^C\n",
      " 87%|████████████████████████▎   | 2914/3353 [21:04<03:10,  2.30it/s, loss=1.65]\n",
      "Traceback (most recent call last):\n",
      "  File \"../18_v2_01/train.py\", line 146, in <module>\n",
      "    run(args, trn_df, val_df, pseudo_df=None)\n",
      "  File \"/home/takesako2/programming/kaggle/54_Feedback2/18_BaselineSW/18_v2_01/run.py\", line 183, in run\n",
      "    scaler.scale(loss).backward()\n",
      "  File \"/home/takesako2/anaconda3/lib/python3.7/site-packages/torch/_tensor.py\", line 307, in backward\n",
      "    torch.autograd.backward(self, gradient, retain_graph, create_graph, inputs=inputs)\n",
      "  File \"/home/takesako2/anaconda3/lib/python3.7/site-packages/torch/autograd/__init__.py\", line 156, in backward\n",
      "    allow_unreachable=True, accumulate_grad=True)  # allow_unreachable flag\n",
      "KeyboardInterrupt\n"
     ]
    }
   ],
   "source": [
    "FOLD = 3\n",
    "\n",
    "!python ../$VERSION/train.py --model $MODEL --version $VERSION --fold_path $FOLD_PATH --fold $FOLD --seed $SEED \\\n",
    "--lr $LR --head_lr $HEAD_LR --trn_batch_size $TRN_BS --val_batch_size $VAL_BS \\\n",
    "--epochs $EPOCHS --hidden_drop_prob $HIDDEN_DROP_PROB --p_drop $P_DROP \\\n",
    "--accumulate_grad_batches $ACCUM_STEP --rnn $RNN --warmup_ratio $WARMUP_RATIO --loss $LOSS --aug $AUG --head $HEAD \\\n",
    "--mixup_alpha $MIXUP_ALPHA --p_aug $P_AUG --aug_stop_epoch $AUG_STOP_EPOCH \\\n",
    "--msd $MSD --multi_layers $MULTI_LAYERS --eval_step $EVAL_STEP --stop_epoch $STOP_EPOCH \\\n",
    "--num_labels $NUM_LABELS --num_labels_2 $NUM_LABELS_2 \\\n",
    "--restart_epoch $RESTART --adv_sift $ADV_SIFT --fp16 $FP16 --weight_decay $WD --freeze_layers $FREEZE \\\n",
    "--mt $MULTI_TASK --w_mt $W_MT \\\n",
    "--awp $AWP --awp_lr $AWP_LR --awp_eps $AWP_EPS --awp_start_epoch $AWP_START_EPOCH \\\n",
    "--pretrained_detector_path $PRETRAINED_DETECTOR_PATH --mask_prob $MASK_PROB --mask_ratio $MASK_RATIO \\\n",
    "--scheduler $SCHEDULER --num_cycles $NUM_CYCLES --check_pointing $CP \\\n",
    "--window_size $WINDOW_SIZE --inner_len $INNER_LEN --edge_len $EDGE_LEN"
   ]
  },
  {
   "cell_type": "code",
   "execution_count": 6,
   "id": "tough-holocaust",
   "metadata": {
    "scrolled": true
   },
   "outputs": [
    {
     "name": "stdout",
     "output_type": "stream",
     "text": [
      "torch 1.10.2\n",
      "train_df.shape =  (36765, 5)\n",
      "test_df.shape =  (10, 4)\n",
      "sub_df.shape =  (10, 4)\n",
      "load folds...\n",
      "trn_df.shape =  (29406, 6)\n",
      "val_df.shape =  (7359, 6)\n",
      "2022-07-22 14:22:51.394793: W tensorflow/stream_executor/platform/default/dso_loader.cc:59] Could not load dynamic library 'libcudart.so.10.1'; dlerror: libcudart.so.10.1: cannot open shared object file: No such file or directory; LD_LIBRARY_PATH: /usr/local/cuda/lib64:\n",
      "2022-07-22 14:22:51.394817: I tensorflow/stream_executor/cuda/cudart_stub.cc:29] Ignore above cudart dlerror if you do not have a GPU set up on your machine.\n",
      "self.warmup_ratio =  0.1\n",
      "self.num_train_steps =  16765\n",
      "num_warmup_steps =  1676\n",
      "lr :  [0.0, 0.0, 0.0]\n",
      "100%|████████████████████████████| 3353/3353 [24:06<00:00,  2.32it/s, loss=1.59]\n",
      "100%|█████████████████████████████████████████| 838/838 [01:24<00:00,  9.97it/s]\n",
      "epoch 1: trn_loss = 1.5875, val_loss = 0.6385, trn_score = -0.7741, val_score = -0.6385\n",
      "model (best loss) saved\n",
      "model (best score) saved\n",
      "lr :  [3.303584776396759e-06, 3.303584776396759e-06, 3.303584776396759e-06]\n",
      "100%|████████████████████████████| 3353/3353 [24:14<00:00,  2.31it/s, loss=1.28]\n",
      "100%|█████████████████████████████████████████| 838/838 [01:24<00:00,  9.97it/s]\n",
      "epoch 2: trn_loss = 1.2772, val_loss = 0.6205, trn_score = -0.6223, val_score = -0.6205\n",
      "model (best loss) saved\n",
      "model (best score) saved\n",
      "lr :  [1.998798053127825e-06, 1.998798053127825e-06, 1.998798053127825e-06]\n",
      "100%|████████████████████████████| 3353/3353 [24:17<00:00,  2.30it/s, loss=1.48]\n",
      "100%|█████████████████████████████████████████| 838/838 [01:24<00:00,  9.87it/s]\n",
      "epoch 3: trn_loss = 1.4760, val_loss = 0.6483, trn_score = -0.7277, val_score = -0.6483\n",
      "lr :  [9.352275048208716e-07, 9.352275048208716e-07, 9.352275048208716e-07]\n",
      "100%|█████████████████████████████| 3353/3353 [24:13<00:00,  2.31it/s, loss=1.2]\n",
      "100%|█████████████████████████████████████████| 838/838 [01:24<00:00,  9.93it/s]\n",
      "epoch 4: trn_loss = 1.2047, val_loss = 0.6219, trn_score = -0.5851, val_score = -0.6219\n",
      "lr :  [2.410712975159734e-07, 2.410712975159734e-07, 2.410712975159734e-07]\n",
      "100%|████████████████████████████| 3353/3353 [24:06<00:00,  2.32it/s, loss=1.12]\n",
      "100%|█████████████████████████████████████████| 838/838 [01:25<00:00,  9.78it/s]\n",
      "epoch 5: trn_loss = 1.1182, val_loss = 0.6077, trn_score = -0.5416, val_score = -0.6077\n",
      "model (best loss) saved\n",
      "model (best score) saved\n",
      "epoch_best 5, val_loss_best 0.60768, val_score_best -0.60768\n",
      "\n"
     ]
    }
   ],
   "source": [
    "FOLD = 4\n",
    "\n",
    "!python ../$VERSION/train.py --model $MODEL --version $VERSION --fold_path $FOLD_PATH --fold $FOLD --seed $SEED \\\n",
    "--lr $LR --head_lr $HEAD_LR --trn_batch_size $TRN_BS --val_batch_size $VAL_BS \\\n",
    "--epochs $EPOCHS --hidden_drop_prob $HIDDEN_DROP_PROB --p_drop $P_DROP \\\n",
    "--accumulate_grad_batches $ACCUM_STEP --rnn $RNN --warmup_ratio $WARMUP_RATIO --loss $LOSS --aug $AUG --head $HEAD \\\n",
    "--mixup_alpha $MIXUP_ALPHA --p_aug $P_AUG --aug_stop_epoch $AUG_STOP_EPOCH \\\n",
    "--msd $MSD --multi_layers $MULTI_LAYERS --eval_step $EVAL_STEP --stop_epoch $STOP_EPOCH \\\n",
    "--num_labels $NUM_LABELS --num_labels_2 $NUM_LABELS_2 \\\n",
    "--restart_epoch $RESTART --adv_sift $ADV_SIFT --fp16 $FP16 --weight_decay $WD --freeze_layers $FREEZE \\\n",
    "--mt $MULTI_TASK --w_mt $W_MT \\\n",
    "--awp $AWP --awp_lr $AWP_LR --awp_eps $AWP_EPS --awp_start_epoch $AWP_START_EPOCH \\\n",
    "--pretrained_detector_path $PRETRAINED_DETECTOR_PATH --mask_prob $MASK_PROB --mask_ratio $MASK_RATIO \\\n",
    "--scheduler $SCHEDULER --num_cycles $NUM_CYCLES --check_pointing $CP \\\n",
    "--window_size $WINDOW_SIZE --inner_len $INNER_LEN --edge_len $EDGE_LEN"
   ]
  },
  {
   "cell_type": "markdown",
   "id": "seven-kinase",
   "metadata": {},
   "source": [
    "# SWA"
   ]
  },
  {
   "cell_type": "code",
   "execution_count": 7,
   "id": "angry-departure",
   "metadata": {},
   "outputs": [],
   "source": [
    "!python ../$VERSION/swa.py --work_dir ./result/$VERSION/ --fold 0 --seed $SEED --start_epoch 3 --end_epoch 4\n",
    "!python ../$VERSION/swa.py --work_dir ./result/$VERSION/ --fold 1 --seed $SEED --start_epoch 3 --end_epoch 4\n",
    "!python ../$VERSION/swa.py --work_dir ./result/$VERSION/ --fold 2 --seed $SEED --start_epoch 2 --end_epoch 4\n",
    "!python ../$VERSION/swa.py --work_dir ./result/$VERSION/ --fold 3 --seed $SEED --start_epoch 2 --end_epoch 3\n",
    "!python ../$VERSION/swa.py --work_dir ./result/$VERSION/ --fold 4 --seed $SEED --start_epoch 5 --end_epoch 5"
   ]
  },
  {
   "cell_type": "markdown",
   "id": "focal-invention",
   "metadata": {},
   "source": [
    "# Validation with SWA"
   ]
  },
  {
   "cell_type": "code",
   "execution_count": 8,
   "id": "medium-portland",
   "metadata": {},
   "outputs": [
    {
     "name": "stdout",
     "output_type": "stream",
     "text": [
      "torch 1.10.2\n",
      "2022-07-22 17:29:42.907287: W tensorflow/stream_executor/platform/default/dso_loader.cc:59] Could not load dynamic library 'libcudart.so.10.1'; dlerror: libcudart.so.10.1: cannot open shared object file: No such file or directory; LD_LIBRARY_PATH: /usr/local/cuda/lib64:\n",
      "2022-07-22 17:29:42.907310: I tensorflow/stream_executor/cuda/cudart_stub.cc:29] Ignore above cudart dlerror if you do not have a GPU set up on your machine.\n",
      "train_df.shape =  (36765, 5)\n",
      "test_df.shape =  (10, 4)\n",
      "sub_df.shape =  (10, 4)\n",
      "load folds...\n",
      "trn_df.shape =  (29462, 6)\n",
      "val_df.shape =  (7303, 6)\n",
      "100%|█████████████████████████████████████████| 839/839 [00:36<00:00, 23.07it/s]\n",
      "val_loss=0.5963, val_score=-0.5963\n",
      "preds.shape =  (7303, 3)\n",
      "labels.shape =  (7303,)\n",
      "losses.shape =  (7303,)\n",
      "discourse_ids.shape =  (7303,)\n"
     ]
    }
   ],
   "source": [
    "FOLD = 0\n",
    "WEIGHT_PATH = f'./result/{VERSION}/model_seed{SEED}_fold{FOLD}_swa.pth'\n",
    "\n",
    "!python ../$VERSION/validation.py --model $MODEL --version $VERSION --fold_path $FOLD_PATH --fold $FOLD --seed $SEED --val_batch_size $VAL_BS \\\n",
    "--rnn $RNN --loss $LOSS --mt $MULTI_TASK --num_labels $NUM_LABELS --loss $LOSS --weight_path $WEIGHT_PATH \\\n",
    "--window_size $WINDOW_SIZE --inner_len $INNER_LEN --edge_len $EDGE_LEN"
   ]
  },
  {
   "cell_type": "code",
   "execution_count": 9,
   "id": "together-relevance",
   "metadata": {},
   "outputs": [
    {
     "name": "stdout",
     "output_type": "stream",
     "text": [
      "torch 1.10.2\n",
      "2022-07-22 17:30:38.899649: W tensorflow/stream_executor/platform/default/dso_loader.cc:59] Could not load dynamic library 'libcudart.so.10.1'; dlerror: libcudart.so.10.1: cannot open shared object file: No such file or directory; LD_LIBRARY_PATH: /usr/local/cuda/lib64:\n",
      "2022-07-22 17:30:38.899672: I tensorflow/stream_executor/cuda/cudart_stub.cc:29] Ignore above cudart dlerror if you do not have a GPU set up on your machine.\n",
      "train_df.shape =  (36765, 5)\n",
      "test_df.shape =  (10, 4)\n",
      "sub_df.shape =  (10, 4)\n",
      "load folds...\n",
      "trn_df.shape =  (29383, 6)\n",
      "val_df.shape =  (7382, 6)\n",
      "100%|█████████████████████████████████████████| 838/838 [00:36<00:00, 23.15it/s]\n",
      "val_loss=0.6207, val_score=-0.6207\n",
      "preds.shape =  (7382, 3)\n",
      "labels.shape =  (7382,)\n",
      "losses.shape =  (7382,)\n",
      "discourse_ids.shape =  (7382,)\n"
     ]
    }
   ],
   "source": [
    "FOLD = 1\n",
    "WEIGHT_PATH = f'./result/{VERSION}/model_seed{SEED}_fold{FOLD}_swa.pth'\n",
    "\n",
    "!python ../$VERSION/validation.py --model $MODEL --version $VERSION --fold_path $FOLD_PATH --fold $FOLD --seed $SEED --val_batch_size $VAL_BS \\\n",
    "--rnn $RNN --loss $LOSS --mt $MULTI_TASK --num_labels $NUM_LABELS --loss $LOSS --weight_path $WEIGHT_PATH \\\n",
    "--window_size $WINDOW_SIZE --inner_len $INNER_LEN --edge_len $EDGE_LEN"
   ]
  },
  {
   "cell_type": "code",
   "execution_count": 10,
   "id": "boxed-sympathy",
   "metadata": {},
   "outputs": [
    {
     "name": "stdout",
     "output_type": "stream",
     "text": [
      "torch 1.10.2\n",
      "2022-07-22 17:31:34.923042: W tensorflow/stream_executor/platform/default/dso_loader.cc:59] Could not load dynamic library 'libcudart.so.10.1'; dlerror: libcudart.so.10.1: cannot open shared object file: No such file or directory; LD_LIBRARY_PATH: /usr/local/cuda/lib64:\n",
      "2022-07-22 17:31:34.923061: I tensorflow/stream_executor/cuda/cudart_stub.cc:29] Ignore above cudart dlerror if you do not have a GPU set up on your machine.\n",
      "train_df.shape =  (36765, 5)\n",
      "test_df.shape =  (10, 4)\n",
      "sub_df.shape =  (10, 4)\n",
      "load folds...\n",
      "trn_df.shape =  (29461, 6)\n",
      "val_df.shape =  (7304, 6)\n",
      "100%|█████████████████████████████████████████| 838/838 [00:37<00:00, 22.29it/s]\n",
      "val_loss=0.5984, val_score=-0.5984\n",
      "preds.shape =  (7304, 3)\n",
      "labels.shape =  (7304,)\n",
      "losses.shape =  (7304,)\n",
      "discourse_ids.shape =  (7304,)\n"
     ]
    }
   ],
   "source": [
    "FOLD = 2\n",
    "WEIGHT_PATH = f'./result/{VERSION}/model_seed{SEED}_fold{FOLD}_swa.pth'\n",
    "\n",
    "!python ../$VERSION/validation.py --model $MODEL --version $VERSION --fold_path $FOLD_PATH --fold $FOLD --seed $SEED --val_batch_size $VAL_BS \\\n",
    "--rnn $RNN --loss $LOSS --mt $MULTI_TASK --num_labels $NUM_LABELS --loss $LOSS --weight_path $WEIGHT_PATH \\\n",
    "--window_size $WINDOW_SIZE --inner_len $INNER_LEN --edge_len $EDGE_LEN"
   ]
  },
  {
   "cell_type": "code",
   "execution_count": 11,
   "id": "equipped-excuse",
   "metadata": {},
   "outputs": [
    {
     "name": "stdout",
     "output_type": "stream",
     "text": [
      "torch 1.10.2\n",
      "2022-07-22 17:32:32.160027: W tensorflow/stream_executor/platform/default/dso_loader.cc:59] Could not load dynamic library 'libcudart.so.10.1'; dlerror: libcudart.so.10.1: cannot open shared object file: No such file or directory; LD_LIBRARY_PATH: /usr/local/cuda/lib64:\n",
      "2022-07-22 17:32:32.160050: I tensorflow/stream_executor/cuda/cudart_stub.cc:29] Ignore above cudart dlerror if you do not have a GPU set up on your machine.\n",
      "train_df.shape =  (36765, 5)\n",
      "test_df.shape =  (10, 4)\n",
      "sub_df.shape =  (10, 4)\n",
      "load folds...\n",
      "trn_df.shape =  (29348, 6)\n",
      "val_df.shape =  (7417, 6)\n",
      "100%|█████████████████████████████████████████| 838/838 [00:36<00:00, 22.75it/s]\n",
      "val_loss=0.6207, val_score=-0.6207\n",
      "preds.shape =  (7417, 3)\n",
      "labels.shape =  (7417,)\n",
      "losses.shape =  (7417,)\n",
      "discourse_ids.shape =  (7417,)\n"
     ]
    }
   ],
   "source": [
    "FOLD = 3\n",
    "WEIGHT_PATH = f'./result/{VERSION}/model_seed{SEED}_fold{FOLD}_swa.pth'\n",
    "\n",
    "!python ../$VERSION/validation.py --model $MODEL --version $VERSION --fold_path $FOLD_PATH --fold $FOLD --seed $SEED --val_batch_size $VAL_BS \\\n",
    "--rnn $RNN --loss $LOSS --mt $MULTI_TASK --num_labels $NUM_LABELS --loss $LOSS --weight_path $WEIGHT_PATH \\\n",
    "--window_size $WINDOW_SIZE --inner_len $INNER_LEN --edge_len $EDGE_LEN"
   ]
  },
  {
   "cell_type": "code",
   "execution_count": 12,
   "id": "informed-spirit",
   "metadata": {},
   "outputs": [
    {
     "name": "stdout",
     "output_type": "stream",
     "text": [
      "torch 1.10.2\n",
      "2022-07-22 17:33:28.411994: W tensorflow/stream_executor/platform/default/dso_loader.cc:59] Could not load dynamic library 'libcudart.so.10.1'; dlerror: libcudart.so.10.1: cannot open shared object file: No such file or directory; LD_LIBRARY_PATH: /usr/local/cuda/lib64:\n",
      "2022-07-22 17:33:28.412016: I tensorflow/stream_executor/cuda/cudart_stub.cc:29] Ignore above cudart dlerror if you do not have a GPU set up on your machine.\n",
      "train_df.shape =  (36765, 5)\n",
      "test_df.shape =  (10, 4)\n",
      "sub_df.shape =  (10, 4)\n",
      "load folds...\n",
      "trn_df.shape =  (29406, 6)\n",
      "val_df.shape =  (7359, 6)\n",
      "100%|█████████████████████████████████████████| 838/838 [00:37<00:00, 22.26it/s]\n",
      "val_loss=0.6077, val_score=-0.6077\n",
      "preds.shape =  (7359, 3)\n",
      "labels.shape =  (7359,)\n",
      "losses.shape =  (7359,)\n",
      "discourse_ids.shape =  (7359,)\n"
     ]
    }
   ],
   "source": [
    "FOLD = 4\n",
    "WEIGHT_PATH = f'./result/{VERSION}/model_seed{SEED}_fold{FOLD}_swa.pth'\n",
    "\n",
    "!python ../$VERSION/validation.py --model $MODEL --version $VERSION --fold_path $FOLD_PATH --fold $FOLD --seed $SEED --val_batch_size $VAL_BS \\\n",
    "--rnn $RNN --loss $LOSS --mt $MULTI_TASK --num_labels $NUM_LABELS --loss $LOSS --weight_path $WEIGHT_PATH \\\n",
    "--window_size $WINDOW_SIZE --inner_len $INNER_LEN --edge_len $EDGE_LEN"
   ]
  },
  {
   "cell_type": "code",
   "execution_count": 13,
   "id": "proper-assumption",
   "metadata": {},
   "outputs": [],
   "source": [
    "import pandas as pd\n",
    "\n",
    "preds = []\n",
    "for fold in range(5):\n",
    "    tmp_df = pd.read_csv(f'./result/{VERSION}/pred_fold{fold}.csv')\n",
    "    preds.append(tmp_df)\n",
    "    \n",
    "pred_df = pd.concat(preds, axis=0).reset_index(drop=True)\n",
    "train_df = pd.read_csv('../../input/feedback-prize-effectiveness/train.csv')\n",
    "\n",
    "oof_df = train_df.merge(pred_df, on='discourse_id', how='left')\n",
    "oof_df.to_csv(f'./result/{VERSION}/oof_df.csv', index=False)"
   ]
  },
  {
   "cell_type": "code",
   "execution_count": 14,
   "id": "suffering-basin",
   "metadata": {},
   "outputs": [
    {
     "data": {
      "text/plain": [
       "((36765, 10),\n",
       " discourse_id               0\n",
       " essay_id                   0\n",
       " discourse_text             0\n",
       " discourse_type             0\n",
       " discourse_effectiveness    0\n",
       " pred_ineffective           0\n",
       " pred_adequate              0\n",
       " pred_effective             0\n",
       " label                      0\n",
       " loss                       0\n",
       " dtype: int64)"
      ]
     },
     "execution_count": 14,
     "metadata": {},
     "output_type": "execute_result"
    }
   ],
   "source": [
    "oof_df.shape, oof_df.isnull().sum()"
   ]
  },
  {
   "cell_type": "code",
   "execution_count": null,
   "id": "aerial-formula",
   "metadata": {},
   "outputs": [],
   "source": []
  },
  {
   "cell_type": "code",
   "execution_count": null,
   "id": "fallen-aside",
   "metadata": {},
   "outputs": [],
   "source": []
  }
 ],
 "metadata": {
  "kernelspec": {
   "display_name": "Python 3 (ipykernel)",
   "language": "python",
   "name": "python3"
  },
  "language_info": {
   "codemirror_mode": {
    "name": "ipython",
    "version": 3
   },
   "file_extension": ".py",
   "mimetype": "text/x-python",
   "name": "python",
   "nbconvert_exporter": "python",
   "pygments_lexer": "ipython3",
   "version": "3.7.3"
  }
 },
 "nbformat": 4,
 "nbformat_minor": 5
}
