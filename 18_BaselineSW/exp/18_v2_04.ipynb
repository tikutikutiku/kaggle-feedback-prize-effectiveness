{
 "cells": [
  {
   "cell_type": "code",
   "execution_count": 1,
   "id": "colored-needle",
   "metadata": {},
   "outputs": [],
   "source": [
    "VERSION = '18_v2_04'\n",
    "FOLD_PATH = '../../00_EDA/00_v2_07/result/' #'../../00_EDA/00_v1_01/result/'\n",
    "MODEL = 'allenai/longformer-large-4096'\n",
    "#'microsoft/deberta-v3-large'\n",
    "#'microsoft/deberta-large'\n",
    "#'microsoft/deberta-base'\n",
    "#'microsoft/deberta-v3-base'\n",
    "#'funnel-transformer/xlarge'\n",
    "#'ahotrod/electra_large_discriminator_squad2_512'\n",
    "#'funnel-transformer/xlarge'\n",
    "#'microsoft/deberta-large'\n",
    "#'anferico/bert-for-patents'\n",
    "#'microsoft/deberta-v3-base'\n",
    "#'microsoft/cocolm-large'\n",
    "LR = 8e-6 #2e-5\n",
    "HEAD_LR = 8e-6 #2e-5\n",
    "SEED = 100\n",
    "TRN_BS = 1\n",
    "VAL_BS = 1\n",
    "ACCUM_STEP = 1\n",
    "EPOCHS = 5 #2\n",
    "STOP_EPOCH = 5 #2\n",
    "RESTART = 1\n",
    "HIDDEN_DROP_PROB = 0\n",
    "P_DROP = 0\n",
    "RNN = 'none'\n",
    "WARMUP_RATIO = 0.1\n",
    "LOSS = 'xentropy'\n",
    "HEAD = 'simple'\n",
    "AUG = 'false' #'mixup'\n",
    "MIXUP_ALPHA = 1.0\n",
    "P_AUG = 0\n",
    "AUG_STOP_EPOCH = 2\n",
    "MSD = 'true'\n",
    "MULTI_LAYERS = 1\n",
    "EVAL_STEP = -1 #100\n",
    "NUM_LABELS = 3\n",
    "NUM_LABELS_2 = 7\n",
    "ADV_SIFT = 'false'\n",
    "FP16 = 'true' #'false'\n",
    "WD = 0.01\n",
    "FREEZE = 'false'\n",
    "#MAX_LENGTH = 1024\n",
    "MULTI_TASK = 'false' #'true'\n",
    "W_MT = 1.0 #0.5\n",
    "#PREPROCESSED_DATA_PATH = '../../00_EDA/00_v2_01/result/train.csv'\n",
    "#'../../00_EDA/00_v1_09/result/train.csv'\n",
    "AWP = 'true'\n",
    "AWP_LR = 1e-2 #1.0\n",
    "AWP_EPS = 1e-3 #0.01\n",
    "AWP_START_EPOCH = 1\n",
    "\n",
    "#PRETRAINED_DETECTOR_PATH = f'../../05_Detection/exp/result/05_v2_09/model_seed100_fold0_swa.pth'\n",
    "#PRETRAINED_DETECTOR_PATH = f'../../05_Detection/exp/result/05_v1_04/model_seed100_fold0_swa.pth'\n",
    "PRETRAINED_DETECTOR_PATH = f'../../input/tascj/result/longformer_large_fold0.pth'\n",
    "#PRETRAINED_DETECTOR_PATH = f'../../input/tascj/result/deberta_large_fold0.pth'\n",
    "\n",
    "\n",
    "MASK_PROB = 0.8\n",
    "MASK_RATIO = 0.3\n",
    "\n",
    "SCHEDULER = 'cosine_hard'\n",
    "NUM_CYCLES = EPOCHS\n",
    "\n",
    "CP = 'false'\n",
    "\n",
    "WINDOW_SIZE = 4096 #512\n",
    "INNER_LEN = 384\n",
    "EDGE_LEN = 64"
   ]
  },
  {
   "cell_type": "code",
   "execution_count": 3,
   "id": "understood-criminal",
   "metadata": {
    "scrolled": true
   },
   "outputs": [
    {
     "name": "stdout",
     "output_type": "stream",
     "text": [
      "torch 1.10.2\n",
      "train_df.shape =  (36765, 5)\n",
      "test_df.shape =  (10, 4)\n",
      "sub_df.shape =  (10, 4)\n",
      "load folds...\n",
      "trn_df.shape =  (29462, 6)\n",
      "val_df.shape =  (7303, 6)\n",
      "2022-07-21 06:44:49.781312: W tensorflow/stream_executor/platform/default/dso_loader.cc:59] Could not load dynamic library 'libcudart.so.10.1'; dlerror: libcudart.so.10.1: cannot open shared object file: No such file or directory; LD_LIBRARY_PATH: /usr/local/cuda/lib64:\n",
      "2022-07-21 06:44:49.781341: I tensorflow/stream_executor/cuda/cudart_stub.cc:29] Ignore above cudart dlerror if you do not have a GPU set up on your machine.\n",
      "self.warmup_ratio =  0.1\n",
      "self.num_train_steps =  16760\n",
      "num_warmup_steps =  1676\n",
      "lr :  [0.0, 0.0, 0.0]\n",
      "100%|████████████████████████████| 3352/3352 [23:51<00:00,  2.34it/s, loss=1.57]\n",
      "100%|█████████████████████████████████████████| 839/839 [01:27<00:00,  9.54it/s]\n",
      "epoch 1: trn_loss = 1.5741, val_loss = 0.6473, trn_score = -0.7673, val_score = -0.6473\n",
      "model (best loss) saved\n",
      "model (best score) saved\n",
      "lr :  [3.3054072893322785e-06, 3.3054072893322785e-06, 3.3054072893322785e-06]\n",
      "100%|████████████████████████████| 3352/3352 [23:45<00:00,  2.35it/s, loss=1.29]\n",
      "100%|█████████████████████████████████████████| 839/839 [01:28<00:00,  9.43it/s]\n",
      "epoch 2: trn_loss = 1.2936, val_loss = 0.6343, trn_score = -0.6289, val_score = -0.6343\n",
      "model (best loss) saved\n",
      "model (best score) saved\n",
      "lr :  [2.0000000000000025e-06, 2.0000000000000025e-06, 2.0000000000000025e-06]\n",
      "100%|█████████████████████████████| 3352/3352 [23:29<00:00,  2.38it/s, loss=1.2]\n",
      "100%|█████████████████████████████████████████| 839/839 [01:27<00:00,  9.56it/s]\n",
      "epoch 3: trn_loss = 1.2047, val_loss = 0.6091, trn_score = -0.5844, val_score = -0.6091\n",
      "model (best loss) saved\n",
      "model (best score) saved\n",
      "lr :  [9.358222275240884e-07, 9.358222275240884e-07, 9.358222275240884e-07]\n",
      "100%|████████████████████████████| 3352/3352 [23:26<00:00,  2.38it/s, loss=1.13]\n",
      "100%|█████████████████████████████████████████| 839/839 [01:26<00:00,  9.75it/s]\n",
      "epoch 4: trn_loss = 1.1297, val_loss = 0.6259, trn_score = -0.5470, val_score = -0.6259\n",
      "lr :  [2.412295168563667e-07, 2.412295168563667e-07, 2.412295168563667e-07]\n",
      "100%|████████████████████████████| 3352/3352 [23:25<00:00,  2.39it/s, loss=1.06]\n",
      "100%|█████████████████████████████████████████| 839/839 [01:27<00:00,  9.59it/s]\n",
      "epoch 5: trn_loss = 1.0643, val_loss = 0.6276, trn_score = -0.5135, val_score = -0.6276\n",
      "epoch_best 3, val_loss_best 0.60912, val_score_best -0.60912\n",
      "\n"
     ]
    }
   ],
   "source": [
    "FOLD = 0\n",
    "\n",
    "!python ../$VERSION/train.py --model $MODEL --version $VERSION --fold_path $FOLD_PATH --fold $FOLD --seed $SEED \\\n",
    "--lr $LR --head_lr $HEAD_LR --trn_batch_size $TRN_BS --val_batch_size $VAL_BS \\\n",
    "--epochs $EPOCHS --hidden_drop_prob $HIDDEN_DROP_PROB --p_drop $P_DROP \\\n",
    "--accumulate_grad_batches $ACCUM_STEP --rnn $RNN --warmup_ratio $WARMUP_RATIO --loss $LOSS --aug $AUG --head $HEAD \\\n",
    "--mixup_alpha $MIXUP_ALPHA --p_aug $P_AUG --aug_stop_epoch $AUG_STOP_EPOCH \\\n",
    "--msd $MSD --multi_layers $MULTI_LAYERS --eval_step $EVAL_STEP --stop_epoch $STOP_EPOCH \\\n",
    "--num_labels $NUM_LABELS --num_labels_2 $NUM_LABELS_2 \\\n",
    "--restart_epoch $RESTART --adv_sift $ADV_SIFT --fp16 $FP16 --weight_decay $WD --freeze_layers $FREEZE \\\n",
    "--mt $MULTI_TASK --w_mt $W_MT \\\n",
    "--awp $AWP --awp_lr $AWP_LR --awp_eps $AWP_EPS --awp_start_epoch $AWP_START_EPOCH \\\n",
    "--pretrained_detector_path $PRETRAINED_DETECTOR_PATH --mask_prob $MASK_PROB --mask_ratio $MASK_RATIO \\\n",
    "--scheduler $SCHEDULER --num_cycles $NUM_CYCLES --check_pointing $CP \\\n",
    "--window_size $WINDOW_SIZE --inner_len $INNER_LEN --edge_len $EDGE_LEN"
   ]
  },
  {
   "cell_type": "code",
   "execution_count": 4,
   "id": "acceptable-school",
   "metadata": {
    "scrolled": true
   },
   "outputs": [
    {
     "name": "stdout",
     "output_type": "stream",
     "text": [
      "torch 1.10.2\n",
      "train_df.shape =  (36765, 5)\n",
      "test_df.shape =  (10, 4)\n",
      "sub_df.shape =  (10, 4)\n",
      "load folds...\n",
      "trn_df.shape =  (29383, 6)\n",
      "val_df.shape =  (7382, 6)\n",
      "2022-07-21 08:50:47.758257: W tensorflow/stream_executor/platform/default/dso_loader.cc:59] Could not load dynamic library 'libcudart.so.10.1'; dlerror: libcudart.so.10.1: cannot open shared object file: No such file or directory; LD_LIBRARY_PATH: /usr/local/cuda/lib64:\n",
      "2022-07-21 08:50:47.758278: I tensorflow/stream_executor/cuda/cudart_stub.cc:29] Ignore above cudart dlerror if you do not have a GPU set up on your machine.\n",
      "self.warmup_ratio =  0.1\n",
      "self.num_train_steps =  16765\n",
      "num_warmup_steps =  1676\n",
      "lr :  [0.0, 0.0, 0.0]\n",
      "100%|████████████████████████████| 3353/3353 [24:18<00:00,  2.30it/s, loss=1.56]\n",
      "100%|█████████████████████████████████████████| 838/838 [01:22<00:00, 10.13it/s]\n",
      "epoch 1: trn_loss = 1.5573, val_loss = 0.6565, trn_score = -0.7585, val_score = -0.6565\n",
      "model (best loss) saved\n",
      "model (best score) saved\n",
      "lr :  [3.303584776396759e-06, 3.303584776396759e-06, 3.303584776396759e-06]\n",
      "100%|████████████████████████████| 3353/3353 [24:15<00:00,  2.30it/s, loss=1.29]\n",
      "100%|█████████████████████████████████████████| 838/838 [01:23<00:00, 10.06it/s]\n",
      "epoch 2: trn_loss = 1.2891, val_loss = 0.6406, trn_score = -0.6267, val_score = -0.6406\n",
      "model (best loss) saved\n",
      "model (best score) saved\n",
      "lr :  [1.998798053127825e-06, 1.998798053127825e-06, 1.998798053127825e-06]\n",
      "100%|█████████████████████████████| 3353/3353 [24:14<00:00,  2.31it/s, loss=1.2]\n",
      "100%|█████████████████████████████████████████| 838/838 [01:23<00:00, 10.04it/s]\n",
      "epoch 3: trn_loss = 1.2023, val_loss = 0.6442, trn_score = -0.5836, val_score = -0.6442\n",
      "lr :  [9.352275048208716e-07, 9.352275048208716e-07, 9.352275048208716e-07]\n",
      "100%|████████████████████████████| 3353/3353 [24:14<00:00,  2.31it/s, loss=1.12]\n",
      "100%|█████████████████████████████████████████| 838/838 [01:22<00:00, 10.20it/s]\n",
      "epoch 4: trn_loss = 1.1219, val_loss = 0.6329, trn_score = -0.5423, val_score = -0.6329\n",
      "model (best loss) saved\n",
      "model (best score) saved\n",
      "lr :  [2.410712975159734e-07, 2.410712975159734e-07, 2.410712975159734e-07]\n",
      "100%|████████████████████████████| 3353/3353 [24:18<00:00,  2.30it/s, loss=1.06]\n",
      "100%|█████████████████████████████████████████| 838/838 [01:22<00:00, 10.16it/s]\n",
      "epoch 5: trn_loss = 1.0579, val_loss = 0.6450, trn_score = -0.5092, val_score = -0.6450\n",
      "epoch_best 4, val_loss_best 0.63290, val_score_best -0.63290\n",
      "\n"
     ]
    }
   ],
   "source": [
    "FOLD = 1\n",
    "\n",
    "!python ../$VERSION/train.py --model $MODEL --version $VERSION --fold_path $FOLD_PATH --fold $FOLD --seed $SEED \\\n",
    "--lr $LR --head_lr $HEAD_LR --trn_batch_size $TRN_BS --val_batch_size $VAL_BS \\\n",
    "--epochs $EPOCHS --hidden_drop_prob $HIDDEN_DROP_PROB --p_drop $P_DROP \\\n",
    "--accumulate_grad_batches $ACCUM_STEP --rnn $RNN --warmup_ratio $WARMUP_RATIO --loss $LOSS --aug $AUG --head $HEAD \\\n",
    "--mixup_alpha $MIXUP_ALPHA --p_aug $P_AUG --aug_stop_epoch $AUG_STOP_EPOCH \\\n",
    "--msd $MSD --multi_layers $MULTI_LAYERS --eval_step $EVAL_STEP --stop_epoch $STOP_EPOCH \\\n",
    "--num_labels $NUM_LABELS --num_labels_2 $NUM_LABELS_2 \\\n",
    "--restart_epoch $RESTART --adv_sift $ADV_SIFT --fp16 $FP16 --weight_decay $WD --freeze_layers $FREEZE \\\n",
    "--mt $MULTI_TASK --w_mt $W_MT \\\n",
    "--awp $AWP --awp_lr $AWP_LR --awp_eps $AWP_EPS --awp_start_epoch $AWP_START_EPOCH \\\n",
    "--pretrained_detector_path $PRETRAINED_DETECTOR_PATH --mask_prob $MASK_PROB --mask_ratio $MASK_RATIO \\\n",
    "--scheduler $SCHEDULER --num_cycles $NUM_CYCLES --check_pointing $CP \\\n",
    "--window_size $WINDOW_SIZE --inner_len $INNER_LEN --edge_len $EDGE_LEN"
   ]
  },
  {
   "cell_type": "code",
   "execution_count": 5,
   "id": "latin-property",
   "metadata": {
    "scrolled": true
   },
   "outputs": [
    {
     "name": "stdout",
     "output_type": "stream",
     "text": [
      "torch 1.10.2\n",
      "train_df.shape =  (36765, 5)\n",
      "test_df.shape =  (10, 4)\n",
      "sub_df.shape =  (10, 4)\n",
      "load folds...\n",
      "trn_df.shape =  (29461, 6)\n",
      "val_df.shape =  (7304, 6)\n",
      "2022-07-21 10:59:42.342875: W tensorflow/stream_executor/platform/default/dso_loader.cc:59] Could not load dynamic library 'libcudart.so.10.1'; dlerror: libcudart.so.10.1: cannot open shared object file: No such file or directory; LD_LIBRARY_PATH: /usr/local/cuda/lib64:\n",
      "2022-07-21 10:59:42.342895: I tensorflow/stream_executor/cuda/cudart_stub.cc:29] Ignore above cudart dlerror if you do not have a GPU set up on your machine.\n",
      "self.warmup_ratio =  0.1\n",
      "self.num_train_steps =  16765\n",
      "num_warmup_steps =  1676\n",
      "lr :  [0.0, 0.0, 0.0]\n",
      "100%|████████████████████████████| 3353/3353 [24:21<00:00,  2.29it/s, loss=1.55]\n",
      "100%|█████████████████████████████████████████| 838/838 [01:23<00:00, 10.08it/s]\n",
      "epoch 1: trn_loss = 1.5538, val_loss = 0.6491, trn_score = -0.7578, val_score = -0.6491\n",
      "model (best loss) saved\n",
      "model (best score) saved\n",
      "lr :  [3.303584776396759e-06, 3.303584776396759e-06, 3.303584776396759e-06]\n",
      "100%|█████████████████████████████| 3353/3353 [24:25<00:00,  2.29it/s, loss=1.3]\n",
      "100%|█████████████████████████████████████████| 838/838 [01:23<00:00, 10.08it/s]\n",
      "epoch 2: trn_loss = 1.3038, val_loss = 0.6590, trn_score = -0.6346, val_score = -0.6590\n",
      "lr :  [1.998798053127825e-06, 1.998798053127825e-06, 1.998798053127825e-06]\n",
      "100%|████████████████████████████| 3353/3353 [24:28<00:00,  2.28it/s, loss=1.23]\n",
      "100%|█████████████████████████████████████████| 838/838 [01:23<00:00, 10.00it/s]\n",
      "epoch 3: trn_loss = 1.2278, val_loss = 0.6078, trn_score = -0.5968, val_score = -0.6078\n",
      "model (best loss) saved\n",
      "model (best score) saved\n",
      "lr :  [9.352275048208716e-07, 9.352275048208716e-07, 9.352275048208716e-07]\n",
      "100%|████████████████████████████| 3353/3353 [24:26<00:00,  2.29it/s, loss=1.14]\n",
      "100%|█████████████████████████████████████████| 838/838 [01:23<00:00,  9.99it/s]\n",
      "epoch 4: trn_loss = 1.1392, val_loss = 0.6195, trn_score = -0.5519, val_score = -0.6195\n",
      "lr :  [2.410712975159734e-07, 2.410712975159734e-07, 2.410712975159734e-07]\n",
      "100%|████████████████████████████| 3353/3353 [24:26<00:00,  2.29it/s, loss=1.07]\n",
      "100%|█████████████████████████████████████████| 838/838 [01:23<00:00, 10.05it/s]\n",
      "epoch 5: trn_loss = 1.0729, val_loss = 0.6229, trn_score = -0.5179, val_score = -0.6229\n",
      "epoch_best 3, val_loss_best 0.60782, val_score_best -0.60782\n",
      "\n"
     ]
    }
   ],
   "source": [
    "FOLD = 2\n",
    "\n",
    "!python ../$VERSION/train.py --model $MODEL --version $VERSION --fold_path $FOLD_PATH --fold $FOLD --seed $SEED \\\n",
    "--lr $LR --head_lr $HEAD_LR --trn_batch_size $TRN_BS --val_batch_size $VAL_BS \\\n",
    "--epochs $EPOCHS --hidden_drop_prob $HIDDEN_DROP_PROB --p_drop $P_DROP \\\n",
    "--accumulate_grad_batches $ACCUM_STEP --rnn $RNN --warmup_ratio $WARMUP_RATIO --loss $LOSS --aug $AUG --head $HEAD \\\n",
    "--mixup_alpha $MIXUP_ALPHA --p_aug $P_AUG --aug_stop_epoch $AUG_STOP_EPOCH \\\n",
    "--msd $MSD --multi_layers $MULTI_LAYERS --eval_step $EVAL_STEP --stop_epoch $STOP_EPOCH \\\n",
    "--num_labels $NUM_LABELS --num_labels_2 $NUM_LABELS_2 \\\n",
    "--restart_epoch $RESTART --adv_sift $ADV_SIFT --fp16 $FP16 --weight_decay $WD --freeze_layers $FREEZE \\\n",
    "--mt $MULTI_TASK --w_mt $W_MT \\\n",
    "--awp $AWP --awp_lr $AWP_LR --awp_eps $AWP_EPS --awp_start_epoch $AWP_START_EPOCH \\\n",
    "--pretrained_detector_path $PRETRAINED_DETECTOR_PATH --mask_prob $MASK_PROB --mask_ratio $MASK_RATIO \\\n",
    "--scheduler $SCHEDULER --num_cycles $NUM_CYCLES --check_pointing $CP \\\n",
    "--window_size $WINDOW_SIZE --inner_len $INNER_LEN --edge_len $EDGE_LEN"
   ]
  },
  {
   "cell_type": "code",
   "execution_count": 6,
   "id": "assumed-tumor",
   "metadata": {
    "scrolled": true
   },
   "outputs": [
    {
     "name": "stdout",
     "output_type": "stream",
     "text": [
      "torch 1.10.2\n",
      "train_df.shape =  (36765, 5)\n",
      "test_df.shape =  (10, 4)\n",
      "sub_df.shape =  (10, 4)\n",
      "load folds...\n",
      "trn_df.shape =  (29348, 6)\n",
      "val_df.shape =  (7417, 6)\n",
      "2022-07-21 13:09:24.667434: W tensorflow/stream_executor/platform/default/dso_loader.cc:59] Could not load dynamic library 'libcudart.so.10.1'; dlerror: libcudart.so.10.1: cannot open shared object file: No such file or directory; LD_LIBRARY_PATH: /usr/local/cuda/lib64:\n",
      "2022-07-21 13:09:24.667456: I tensorflow/stream_executor/cuda/cudart_stub.cc:29] Ignore above cudart dlerror if you do not have a GPU set up on your machine.\n",
      "self.warmup_ratio =  0.1\n",
      "self.num_train_steps =  16765\n",
      "num_warmup_steps =  1676\n",
      "lr :  [0.0, 0.0, 0.0]\n",
      "100%|████████████████████████████| 3353/3353 [24:24<00:00,  2.29it/s, loss=1.56]\n",
      "100%|█████████████████████████████████████████| 838/838 [01:22<00:00, 10.14it/s]\n",
      "epoch 1: trn_loss = 1.5628, val_loss = 0.6533, trn_score = -0.7630, val_score = -0.6533\n",
      "model (best loss) saved\n",
      "model (best score) saved\n",
      "lr :  [3.303584776396759e-06, 3.303584776396759e-06, 3.303584776396759e-06]\n",
      "100%|████████████████████████████| 3353/3353 [24:24<00:00,  2.29it/s, loss=1.29]\n",
      "100%|█████████████████████████████████████████| 838/838 [01:23<00:00, 10.07it/s]\n",
      "epoch 2: trn_loss = 1.2907, val_loss = 0.6417, trn_score = -0.6284, val_score = -0.6417\n",
      "model (best loss) saved\n",
      "model (best score) saved\n",
      "lr :  [1.998798053127825e-06, 1.998798053127825e-06, 1.998798053127825e-06]\n",
      "100%|████████████████████████████| 3353/3353 [24:22<00:00,  2.29it/s, loss=1.21]\n",
      "100%|█████████████████████████████████████████| 838/838 [01:23<00:00, 10.06it/s]\n",
      "epoch 3: trn_loss = 1.2135, val_loss = 0.6242, trn_score = -0.5909, val_score = -0.6242\n",
      "model (best loss) saved\n",
      "model (best score) saved\n",
      "lr :  [9.352275048208716e-07, 9.352275048208716e-07, 9.352275048208716e-07]\n",
      "100%|████████████████████████████| 3353/3353 [24:27<00:00,  2.29it/s, loss=1.14]\n",
      "100%|█████████████████████████████████████████| 838/838 [01:23<00:00, 10.00it/s]\n",
      "epoch 4: trn_loss = 1.1386, val_loss = 0.6354, trn_score = -0.5526, val_score = -0.6354\n",
      "lr :  [2.410712975159734e-07, 2.410712975159734e-07, 2.410712975159734e-07]\n",
      "100%|████████████████████████████| 3353/3353 [24:24<00:00,  2.29it/s, loss=1.08]\n",
      "100%|█████████████████████████████████████████| 838/838 [01:23<00:00, 10.07it/s]\n",
      "epoch 5: trn_loss = 1.0794, val_loss = 0.6459, trn_score = -0.5216, val_score = -0.6459\n",
      "epoch_best 3, val_loss_best 0.62419, val_score_best -0.62419\n",
      "\n"
     ]
    }
   ],
   "source": [
    "FOLD = 3\n",
    "\n",
    "!python ../$VERSION/train.py --model $MODEL --version $VERSION --fold_path $FOLD_PATH --fold $FOLD --seed $SEED \\\n",
    "--lr $LR --head_lr $HEAD_LR --trn_batch_size $TRN_BS --val_batch_size $VAL_BS \\\n",
    "--epochs $EPOCHS --hidden_drop_prob $HIDDEN_DROP_PROB --p_drop $P_DROP \\\n",
    "--accumulate_grad_batches $ACCUM_STEP --rnn $RNN --warmup_ratio $WARMUP_RATIO --loss $LOSS --aug $AUG --head $HEAD \\\n",
    "--mixup_alpha $MIXUP_ALPHA --p_aug $P_AUG --aug_stop_epoch $AUG_STOP_EPOCH \\\n",
    "--msd $MSD --multi_layers $MULTI_LAYERS --eval_step $EVAL_STEP --stop_epoch $STOP_EPOCH \\\n",
    "--num_labels $NUM_LABELS --num_labels_2 $NUM_LABELS_2 \\\n",
    "--restart_epoch $RESTART --adv_sift $ADV_SIFT --fp16 $FP16 --weight_decay $WD --freeze_layers $FREEZE \\\n",
    "--mt $MULTI_TASK --w_mt $W_MT \\\n",
    "--awp $AWP --awp_lr $AWP_LR --awp_eps $AWP_EPS --awp_start_epoch $AWP_START_EPOCH \\\n",
    "--pretrained_detector_path $PRETRAINED_DETECTOR_PATH --mask_prob $MASK_PROB --mask_ratio $MASK_RATIO \\\n",
    "--scheduler $SCHEDULER --num_cycles $NUM_CYCLES --check_pointing $CP \\\n",
    "--window_size $WINDOW_SIZE --inner_len $INNER_LEN --edge_len $EDGE_LEN"
   ]
  },
  {
   "cell_type": "code",
   "execution_count": 7,
   "id": "tough-holocaust",
   "metadata": {
    "scrolled": true
   },
   "outputs": [
    {
     "name": "stdout",
     "output_type": "stream",
     "text": [
      "torch 1.10.2\n",
      "train_df.shape =  (36765, 5)\n",
      "test_df.shape =  (10, 4)\n",
      "sub_df.shape =  (10, 4)\n",
      "load folds...\n",
      "trn_df.shape =  (29406, 6)\n",
      "val_df.shape =  (7359, 6)\n",
      "2022-07-21 15:19:02.668881: W tensorflow/stream_executor/platform/default/dso_loader.cc:59] Could not load dynamic library 'libcudart.so.10.1'; dlerror: libcudart.so.10.1: cannot open shared object file: No such file or directory; LD_LIBRARY_PATH: /usr/local/cuda/lib64:\n",
      "2022-07-21 15:19:02.668901: I tensorflow/stream_executor/cuda/cudart_stub.cc:29] Ignore above cudart dlerror if you do not have a GPU set up on your machine.\n",
      "self.warmup_ratio =  0.1\n",
      "self.num_train_steps =  16765\n",
      "num_warmup_steps =  1676\n",
      "lr :  [0.0, 0.0, 0.0]\n",
      "100%|████████████████████████████| 3353/3353 [24:22<00:00,  2.29it/s, loss=1.57]\n",
      "100%|█████████████████████████████████████████| 838/838 [01:24<00:00,  9.97it/s]\n",
      "epoch 1: trn_loss = 1.5655, val_loss = 0.6492, trn_score = -0.7648, val_score = -0.6492\n",
      "model (best loss) saved\n",
      "model (best score) saved\n",
      "lr :  [3.303584776396759e-06, 3.303584776396759e-06, 3.303584776396759e-06]\n",
      "100%|█████████████████████████████| 3353/3353 [24:24<00:00,  2.29it/s, loss=1.3]\n",
      "100%|█████████████████████████████████████████| 838/838 [01:23<00:00, 10.01it/s]\n",
      "epoch 2: trn_loss = 1.3024, val_loss = 0.6437, trn_score = -0.6345, val_score = -0.6437\n",
      "model (best loss) saved\n",
      "model (best score) saved\n",
      "lr :  [1.998798053127825e-06, 1.998798053127825e-06, 1.998798053127825e-06]\n",
      "100%|████████████████████████████| 3353/3353 [24:21<00:00,  2.29it/s, loss=1.22]\n",
      "100%|█████████████████████████████████████████| 838/838 [01:23<00:00, 10.07it/s]\n",
      "epoch 3: trn_loss = 1.2187, val_loss = 0.6232, trn_score = -0.5934, val_score = -0.6232\n",
      "model (best loss) saved\n",
      "model (best score) saved\n",
      "lr :  [9.352275048208716e-07, 9.352275048208716e-07, 9.352275048208716e-07]\n",
      "100%|████████████████████████████| 3353/3353 [24:23<00:00,  2.29it/s, loss=1.14]\n",
      "100%|█████████████████████████████████████████| 838/838 [01:23<00:00, 10.01it/s]\n",
      "epoch 4: trn_loss = 1.1370, val_loss = 0.6242, trn_score = -0.5508, val_score = -0.6242\n",
      "lr :  [2.410712975159734e-07, 2.410712975159734e-07, 2.410712975159734e-07]\n",
      "100%|████████████████████████████| 3353/3353 [24:25<00:00,  2.29it/s, loss=1.08]\n",
      "100%|█████████████████████████████████████████| 838/838 [01:24<00:00,  9.94it/s]\n",
      "epoch 5: trn_loss = 1.0843, val_loss = 0.6382, trn_score = -0.5238, val_score = -0.6382\n",
      "epoch_best 3, val_loss_best 0.62318, val_score_best -0.62318\n",
      "\n"
     ]
    }
   ],
   "source": [
    "FOLD = 4\n",
    "\n",
    "!python ../$VERSION/train.py --model $MODEL --version $VERSION --fold_path $FOLD_PATH --fold $FOLD --seed $SEED \\\n",
    "--lr $LR --head_lr $HEAD_LR --trn_batch_size $TRN_BS --val_batch_size $VAL_BS \\\n",
    "--epochs $EPOCHS --hidden_drop_prob $HIDDEN_DROP_PROB --p_drop $P_DROP \\\n",
    "--accumulate_grad_batches $ACCUM_STEP --rnn $RNN --warmup_ratio $WARMUP_RATIO --loss $LOSS --aug $AUG --head $HEAD \\\n",
    "--mixup_alpha $MIXUP_ALPHA --p_aug $P_AUG --aug_stop_epoch $AUG_STOP_EPOCH \\\n",
    "--msd $MSD --multi_layers $MULTI_LAYERS --eval_step $EVAL_STEP --stop_epoch $STOP_EPOCH \\\n",
    "--num_labels $NUM_LABELS --num_labels_2 $NUM_LABELS_2 \\\n",
    "--restart_epoch $RESTART --adv_sift $ADV_SIFT --fp16 $FP16 --weight_decay $WD --freeze_layers $FREEZE \\\n",
    "--mt $MULTI_TASK --w_mt $W_MT \\\n",
    "--awp $AWP --awp_lr $AWP_LR --awp_eps $AWP_EPS --awp_start_epoch $AWP_START_EPOCH \\\n",
    "--pretrained_detector_path $PRETRAINED_DETECTOR_PATH --mask_prob $MASK_PROB --mask_ratio $MASK_RATIO \\\n",
    "--scheduler $SCHEDULER --num_cycles $NUM_CYCLES --check_pointing $CP \\\n",
    "--window_size $WINDOW_SIZE --inner_len $INNER_LEN --edge_len $EDGE_LEN"
   ]
  },
  {
   "cell_type": "markdown",
   "id": "seven-kinase",
   "metadata": {},
   "source": [
    "# SWA"
   ]
  },
  {
   "cell_type": "code",
   "execution_count": 8,
   "id": "angry-departure",
   "metadata": {},
   "outputs": [],
   "source": [
    "#!python ../$VERSION/swa.py --work_dir ./result/$VERSION/ --fold 0 --seed $SEED --start_epoch 3 --end_epoch 5\n",
    "#!python ../$VERSION/swa.py --work_dir ./result/$VERSION/ --fold 1 --seed $SEED --start_epoch 2 --end_epoch 5\n",
    "#!python ../$VERSION/swa.py --work_dir ./result/$VERSION/ --fold 2 --seed $SEED --start_epoch 3 --end_epoch 5\n",
    "#!python ../$VERSION/swa.py --work_dir ./result/$VERSION/ --fold 3 --seed $SEED --start_epoch 2 --end_epoch 5\n",
    "#!python ../$VERSION/swa.py --work_dir ./result/$VERSION/ --fold 4 --seed $SEED --start_epoch 3 --end_epoch 5"
   ]
  },
  {
   "cell_type": "code",
   "execution_count": 20,
   "id": "impressive-argentina",
   "metadata": {},
   "outputs": [],
   "source": [
    "!python ../$VERSION/swa.py --work_dir ./result/$VERSION/ --fold 0 --seed $SEED --start_epoch 3 --end_epoch 3"
   ]
  },
  {
   "cell_type": "code",
   "execution_count": 22,
   "id": "interracial-establishment",
   "metadata": {},
   "outputs": [],
   "source": [
    "!python ../$VERSION/swa.py --work_dir ./result/$VERSION/ --fold 1 --seed $SEED --start_epoch 4 --end_epoch 4\n",
    "!python ../$VERSION/swa.py --work_dir ./result/$VERSION/ --fold 2 --seed $SEED --start_epoch 3 --end_epoch 3\n",
    "!python ../$VERSION/swa.py --work_dir ./result/$VERSION/ --fold 3 --seed $SEED --start_epoch 3 --end_epoch 3\n",
    "!python ../$VERSION/swa.py --work_dir ./result/$VERSION/ --fold 4 --seed $SEED --start_epoch 3 --end_epoch 4"
   ]
  },
  {
   "cell_type": "markdown",
   "id": "focal-invention",
   "metadata": {},
   "source": [
    "# Validation with SWA"
   ]
  },
  {
   "cell_type": "code",
   "execution_count": 21,
   "id": "medium-portland",
   "metadata": {
    "scrolled": true
   },
   "outputs": [
    {
     "name": "stdout",
     "output_type": "stream",
     "text": [
      "torch 1.10.2\n",
      "2022-07-21 18:33:03.693150: W tensorflow/stream_executor/platform/default/dso_loader.cc:59] Could not load dynamic library 'libcudart.so.10.1'; dlerror: libcudart.so.10.1: cannot open shared object file: No such file or directory; LD_LIBRARY_PATH: /usr/local/cuda/lib64:\n",
      "2022-07-21 18:33:03.693173: I tensorflow/stream_executor/cuda/cudart_stub.cc:29] Ignore above cudart dlerror if you do not have a GPU set up on your machine.\n",
      "train_df.shape =  (36765, 5)\n",
      "test_df.shape =  (10, 4)\n",
      "sub_df.shape =  (10, 4)\n",
      "load folds...\n",
      "trn_df.shape =  (29462, 6)\n",
      "val_df.shape =  (7303, 6)\n",
      "100%|█████████████████████████████████████████| 839/839 [00:40<00:00, 20.70it/s]\n",
      "val_loss=0.6091, val_score=-0.6091\n",
      "preds.shape =  (7303, 3)\n",
      "labels.shape =  (7303,)\n",
      "losses.shape =  (7303,)\n",
      "discourse_ids.shape =  (7303,)\n"
     ]
    }
   ],
   "source": [
    "FOLD = 0\n",
    "WEIGHT_PATH = f'./result/{VERSION}/model_seed{SEED}_fold{FOLD}_swa.pth'\n",
    "\n",
    "!python ../$VERSION/validation.py --model $MODEL --version $VERSION --fold_path $FOLD_PATH --fold $FOLD --seed $SEED --val_batch_size $VAL_BS \\\n",
    "--rnn $RNN --loss $LOSS --mt $MULTI_TASK --num_labels $NUM_LABELS --loss $LOSS --weight_path $WEIGHT_PATH \\\n",
    "--window_size $WINDOW_SIZE --inner_len $INNER_LEN --edge_len $EDGE_LEN"
   ]
  },
  {
   "cell_type": "code",
   "execution_count": 23,
   "id": "together-relevance",
   "metadata": {},
   "outputs": [
    {
     "name": "stdout",
     "output_type": "stream",
     "text": [
      "torch 1.10.2\n",
      "2022-07-21 18:36:03.495307: W tensorflow/stream_executor/platform/default/dso_loader.cc:59] Could not load dynamic library 'libcudart.so.10.1'; dlerror: libcudart.so.10.1: cannot open shared object file: No such file or directory; LD_LIBRARY_PATH: /usr/local/cuda/lib64:\n",
      "2022-07-21 18:36:03.495328: I tensorflow/stream_executor/cuda/cudart_stub.cc:29] Ignore above cudart dlerror if you do not have a GPU set up on your machine.\n",
      "train_df.shape =  (36765, 5)\n",
      "test_df.shape =  (10, 4)\n",
      "sub_df.shape =  (10, 4)\n",
      "load folds...\n",
      "trn_df.shape =  (29383, 6)\n",
      "val_df.shape =  (7382, 6)\n",
      "100%|█████████████████████████████████████████| 838/838 [00:38<00:00, 21.63it/s]\n",
      "val_loss=0.6329, val_score=-0.6329\n",
      "preds.shape =  (7382, 3)\n",
      "labels.shape =  (7382,)\n",
      "losses.shape =  (7382,)\n",
      "discourse_ids.shape =  (7382,)\n"
     ]
    }
   ],
   "source": [
    "FOLD = 1\n",
    "WEIGHT_PATH = f'./result/{VERSION}/model_seed{SEED}_fold{FOLD}_swa.pth'\n",
    "\n",
    "!python ../$VERSION/validation.py --model $MODEL --version $VERSION --fold_path $FOLD_PATH --fold $FOLD --seed $SEED --val_batch_size $VAL_BS \\\n",
    "--rnn $RNN --loss $LOSS --mt $MULTI_TASK --num_labels $NUM_LABELS --loss $LOSS --weight_path $WEIGHT_PATH \\\n",
    "--window_size $WINDOW_SIZE --inner_len $INNER_LEN --edge_len $EDGE_LEN"
   ]
  },
  {
   "cell_type": "code",
   "execution_count": 24,
   "id": "boxed-sympathy",
   "metadata": {},
   "outputs": [
    {
     "name": "stdout",
     "output_type": "stream",
     "text": [
      "torch 1.10.2\n",
      "2022-07-21 18:37:01.106650: W tensorflow/stream_executor/platform/default/dso_loader.cc:59] Could not load dynamic library 'libcudart.so.10.1'; dlerror: libcudart.so.10.1: cannot open shared object file: No such file or directory; LD_LIBRARY_PATH: /usr/local/cuda/lib64:\n",
      "2022-07-21 18:37:01.106673: I tensorflow/stream_executor/cuda/cudart_stub.cc:29] Ignore above cudart dlerror if you do not have a GPU set up on your machine.\n",
      "train_df.shape =  (36765, 5)\n",
      "test_df.shape =  (10, 4)\n",
      "sub_df.shape =  (10, 4)\n",
      "load folds...\n",
      "trn_df.shape =  (29461, 6)\n",
      "val_df.shape =  (7304, 6)\n",
      "100%|█████████████████████████████████████████| 838/838 [00:39<00:00, 21.03it/s]\n",
      "val_loss=0.6078, val_score=-0.6078\n",
      "preds.shape =  (7304, 3)\n",
      "labels.shape =  (7304,)\n",
      "losses.shape =  (7304,)\n",
      "discourse_ids.shape =  (7304,)\n"
     ]
    }
   ],
   "source": [
    "FOLD = 2\n",
    "WEIGHT_PATH = f'./result/{VERSION}/model_seed{SEED}_fold{FOLD}_swa.pth'\n",
    "\n",
    "!python ../$VERSION/validation.py --model $MODEL --version $VERSION --fold_path $FOLD_PATH --fold $FOLD --seed $SEED --val_batch_size $VAL_BS \\\n",
    "--rnn $RNN --loss $LOSS --mt $MULTI_TASK --num_labels $NUM_LABELS --loss $LOSS --weight_path $WEIGHT_PATH \\\n",
    "--window_size $WINDOW_SIZE --inner_len $INNER_LEN --edge_len $EDGE_LEN"
   ]
  },
  {
   "cell_type": "code",
   "execution_count": 25,
   "id": "equipped-excuse",
   "metadata": {},
   "outputs": [
    {
     "name": "stdout",
     "output_type": "stream",
     "text": [
      "torch 1.10.2\n",
      "2022-07-21 18:37:59.432646: W tensorflow/stream_executor/platform/default/dso_loader.cc:59] Could not load dynamic library 'libcudart.so.10.1'; dlerror: libcudart.so.10.1: cannot open shared object file: No such file or directory; LD_LIBRARY_PATH: /usr/local/cuda/lib64:\n",
      "2022-07-21 18:37:59.432667: I tensorflow/stream_executor/cuda/cudart_stub.cc:29] Ignore above cudart dlerror if you do not have a GPU set up on your machine.\n",
      "train_df.shape =  (36765, 5)\n",
      "test_df.shape =  (10, 4)\n",
      "sub_df.shape =  (10, 4)\n",
      "load folds...\n",
      "trn_df.shape =  (29348, 6)\n",
      "val_df.shape =  (7417, 6)\n",
      "100%|█████████████████████████████████████████| 838/838 [00:38<00:00, 21.69it/s]\n",
      "val_loss=0.6242, val_score=-0.6242\n",
      "preds.shape =  (7417, 3)\n",
      "labels.shape =  (7417,)\n",
      "losses.shape =  (7417,)\n",
      "discourse_ids.shape =  (7417,)\n"
     ]
    }
   ],
   "source": [
    "FOLD = 3\n",
    "WEIGHT_PATH = f'./result/{VERSION}/model_seed{SEED}_fold{FOLD}_swa.pth'\n",
    "\n",
    "!python ../$VERSION/validation.py --model $MODEL --version $VERSION --fold_path $FOLD_PATH --fold $FOLD --seed $SEED --val_batch_size $VAL_BS \\\n",
    "--rnn $RNN --loss $LOSS --mt $MULTI_TASK --num_labels $NUM_LABELS --loss $LOSS --weight_path $WEIGHT_PATH \\\n",
    "--window_size $WINDOW_SIZE --inner_len $INNER_LEN --edge_len $EDGE_LEN"
   ]
  },
  {
   "cell_type": "code",
   "execution_count": 26,
   "id": "informed-spirit",
   "metadata": {},
   "outputs": [
    {
     "name": "stdout",
     "output_type": "stream",
     "text": [
      "torch 1.10.2\n",
      "2022-07-21 18:38:57.013476: W tensorflow/stream_executor/platform/default/dso_loader.cc:59] Could not load dynamic library 'libcudart.so.10.1'; dlerror: libcudart.so.10.1: cannot open shared object file: No such file or directory; LD_LIBRARY_PATH: /usr/local/cuda/lib64:\n",
      "2022-07-21 18:38:57.013498: I tensorflow/stream_executor/cuda/cudart_stub.cc:29] Ignore above cudart dlerror if you do not have a GPU set up on your machine.\n",
      "train_df.shape =  (36765, 5)\n",
      "test_df.shape =  (10, 4)\n",
      "sub_df.shape =  (10, 4)\n",
      "load folds...\n",
      "trn_df.shape =  (29406, 6)\n",
      "val_df.shape =  (7359, 6)\n",
      "100%|█████████████████████████████████████████| 838/838 [00:38<00:00, 21.52it/s]\n",
      "val_loss=0.6218, val_score=-0.6218\n",
      "preds.shape =  (7359, 3)\n",
      "labels.shape =  (7359,)\n",
      "losses.shape =  (7359,)\n",
      "discourse_ids.shape =  (7359,)\n"
     ]
    }
   ],
   "source": [
    "FOLD = 4\n",
    "WEIGHT_PATH = f'./result/{VERSION}/model_seed{SEED}_fold{FOLD}_swa.pth'\n",
    "\n",
    "!python ../$VERSION/validation.py --model $MODEL --version $VERSION --fold_path $FOLD_PATH --fold $FOLD --seed $SEED --val_batch_size $VAL_BS \\\n",
    "--rnn $RNN --loss $LOSS --mt $MULTI_TASK --num_labels $NUM_LABELS --loss $LOSS --weight_path $WEIGHT_PATH \\\n",
    "--window_size $WINDOW_SIZE --inner_len $INNER_LEN --edge_len $EDGE_LEN"
   ]
  },
  {
   "cell_type": "code",
   "execution_count": 2,
   "id": "proper-assumption",
   "metadata": {},
   "outputs": [],
   "source": [
    "import pandas as pd\n",
    "\n",
    "preds = []\n",
    "for fold in range(5):\n",
    "    tmp_df = pd.read_csv(f'./result/{VERSION}/pred_fold{fold}.csv')\n",
    "    preds.append(tmp_df)\n",
    "    \n",
    "pred_df = pd.concat(preds, axis=0).reset_index(drop=True)\n",
    "train_df = pd.read_csv('../../input/feedback-prize-effectiveness/train.csv')\n",
    "\n",
    "oof_df = train_df.merge(pred_df, on='discourse_id', how='left')\n",
    "oof_df.to_csv(f'./result/{VERSION}/oof_df.csv', index=False)"
   ]
  },
  {
   "cell_type": "code",
   "execution_count": 3,
   "id": "suffering-basin",
   "metadata": {},
   "outputs": [
    {
     "data": {
      "text/plain": [
       "((36765, 10),\n",
       " discourse_id               0\n",
       " essay_id                   0\n",
       " discourse_text             0\n",
       " discourse_type             0\n",
       " discourse_effectiveness    0\n",
       " pred_ineffective           0\n",
       " pred_adequate              0\n",
       " pred_effective             0\n",
       " label                      0\n",
       " loss                       0\n",
       " dtype: int64)"
      ]
     },
     "execution_count": 3,
     "metadata": {},
     "output_type": "execute_result"
    }
   ],
   "source": [
    "oof_df.shape, oof_df.isnull().sum()"
   ]
  },
  {
   "cell_type": "code",
   "execution_count": null,
   "id": "aerial-formula",
   "metadata": {},
   "outputs": [],
   "source": []
  },
  {
   "cell_type": "code",
   "execution_count": null,
   "id": "fallen-aside",
   "metadata": {},
   "outputs": [],
   "source": []
  }
 ],
 "metadata": {
  "kernelspec": {
   "display_name": "Python 3 (ipykernel)",
   "language": "python",
   "name": "python3"
  },
  "language_info": {
   "codemirror_mode": {
    "name": "ipython",
    "version": 3
   },
   "file_extension": ".py",
   "mimetype": "text/x-python",
   "name": "python",
   "nbconvert_exporter": "python",
   "pygments_lexer": "ipython3",
   "version": "3.7.3"
  }
 },
 "nbformat": 4,
 "nbformat_minor": 5
}
