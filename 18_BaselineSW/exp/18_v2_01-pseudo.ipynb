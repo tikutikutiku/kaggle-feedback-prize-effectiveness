{
 "cells": [
  {
   "cell_type": "code",
   "execution_count": 1,
   "metadata": {},
   "outputs": [],
   "source": [
    "VERSION = '18_v2_01'\n",
    "FOLD_PATH = '../../00_EDA/00_v2_07/result/'\n",
    "MODEL = 'microsoft/deberta-large'\n",
    "SEED=100\n",
    "WINDOW = 512\n",
    "INNER = 384\n",
    "EDGE = 64\n",
    "UNLABELED_DATA_PATH = '../../00_EDA/00_v2_11/result/unlabeled.csv'"
   ]
  },
  {
   "cell_type": "code",
   "execution_count": 2,
   "metadata": {},
   "outputs": [
    {
     "name": "stdout",
     "output_type": "stream",
     "text": [
      "torch 1.10.1\n",
      "2022-08-27 16:37:52.225328: W tensorflow/stream_executor/platform/default/dso_loader.cc:59] Could not load dynamic library 'libcudart.so.10.1'; dlerror: libcudart.so.10.1: cannot open shared object file: No such file or directory; LD_LIBRARY_PATH: /usr/local/cuda-10.2/lib64:\n",
      "2022-08-27 16:37:52.225411: I tensorflow/stream_executor/cuda/cudart_stub.cc:29] Ignore above cudart dlerror if you do not have a GPU set up on your machine.\n",
      "test_df.shape =  (107528, 8)\n",
      "^C\n",
      "Traceback (most recent call last):\n",
      "  File \"../code/pseudo_label.py\", line 93, in <module>\n",
      "    tokenizer = AutoTokenizer.from_pretrained(args.model, trim_offsets=False)\n",
      "  File \"/home/takesako/anaconda3/lib/python3.7/site-packages/transformers/models/auto/tokenization_auto.py\", line 532, in from_pretrained\n",
      "    return tokenizer_class_fast.from_pretrained(pretrained_model_name_or_path, *inputs, **kwargs)\n",
      "  File \"/home/takesako/anaconda3/lib/python3.7/site-packages/transformers/tokenization_utils_base.py\", line 1715, in from_pretrained\n",
      "    user_agent=user_agent,\n",
      "  File \"/home/takesako/anaconda3/lib/python3.7/site-packages/transformers/file_utils.py\", line 1854, in cached_path\n",
      "    local_files_only=local_files_only,\n",
      "  File \"/home/takesako/anaconda3/lib/python3.7/site-packages/transformers/file_utils.py\", line 2049, in get_from_cache\n",
      "    r = requests.head(url, headers=headers, allow_redirects=False, proxies=proxies, timeout=etag_timeout)\n",
      "  File \"/home/takesako/anaconda3/lib/python3.7/site-packages/requests/api.py\", line 104, in head\n",
      "    return request('head', url, **kwargs)\n",
      "  File \"/home/takesako/anaconda3/lib/python3.7/site-packages/requests/api.py\", line 61, in request\n",
      "    return session.request(method=method, url=url, **kwargs)\n",
      "  File \"/home/takesako/anaconda3/lib/python3.7/site-packages/requests/sessions.py\", line 542, in request\n",
      "    resp = self.send(prep, **send_kwargs)\n",
      "  File \"/home/takesako/anaconda3/lib/python3.7/site-packages/requests/sessions.py\", line 655, in send\n",
      "    r = adapter.send(request, **kwargs)\n",
      "  File \"/home/takesako/anaconda3/lib/python3.7/site-packages/requests/adapters.py\", line 449, in send\n",
      "    timeout=timeout\n",
      "  File \"/home/takesako/anaconda3/lib/python3.7/site-packages/urllib3/connectionpool.py\", line 706, in urlopen\n",
      "    chunked=chunked,\n",
      "  File \"/home/takesako/anaconda3/lib/python3.7/site-packages/urllib3/connectionpool.py\", line 382, in _make_request\n",
      "    self._validate_conn(conn)\n",
      "  File \"/home/takesako/anaconda3/lib/python3.7/site-packages/urllib3/connectionpool.py\", line 1010, in _validate_conn\n",
      "    conn.connect()\n",
      "  File \"/home/takesako/anaconda3/lib/python3.7/site-packages/urllib3/connection.py\", line 353, in connect\n",
      "    conn = self._new_conn()\n",
      "  File \"/home/takesako/anaconda3/lib/python3.7/site-packages/urllib3/connection.py\", line 170, in _new_conn\n",
      "    (self._dns_host, self.port), self.timeout, **extra_kw\n",
      "  File \"/home/takesako/anaconda3/lib/python3.7/site-packages/urllib3/util/connection.py\", line 86, in create_connection\n",
      "    sock.connect(sa)\n",
      "KeyboardInterrupt\n"
     ]
    }
   ],
   "source": [
    "FOLD = 0\n",
    "\n",
    "!python ../code/pseudo_label.py --version $VERSION --model $MODEL \\\n",
    "--seed $SEED --fold_path $FOLD_PATH --fold $FOLD --window_size $WINDOW --inner_len $INNER --edge_len $EDGE \\\n",
    "--unlabeled_data_path $UNLABELED_DATA_PATH"
   ]
  },
  {
   "cell_type": "code",
   "execution_count": null,
   "metadata": {},
   "outputs": [],
   "source": [
    "FOLD = 1\n",
    "!python ../code/pseudo_label.py --version $VERSION --model $MODEL \\\n",
    "--seed $SEED --fold_path $FOLD_PATH --fold $FOLD --window_size $WINDOW --inner_len $INNER --edge_len $EDGE \\\n",
    "--unlabeled_data_path $UNLABELED_DATA_PATH\n",
    "\n",
    "FOLD = 2\n",
    "!python ../code/pseudo_label.py --version $VERSION --model $MODEL \\\n",
    "--seed $SEED --fold_path $FOLD_PATH --fold $FOLD --window_size $WINDOW --inner_len $INNER --edge_len $EDGE \\\n",
    "--unlabeled_data_path $UNLABELED_DATA_PATH\n",
    "\n",
    "FOLD = 3\n",
    "!python ../code/pseudo_label.py --version $VERSION --model $MODEL \\\n",
    "--seed $SEED --fold_path $FOLD_PATH --fold $FOLD --window_size $WINDOW --inner_len $INNER --edge_len $EDGE \\\n",
    "--unlabeled_data_path $UNLABELED_DATA_PATH\n",
    "\n",
    "FOLD = 4\n",
    "!python ../code/pseudo_label.py --version $VERSION --model $MODEL \\\n",
    "--seed $SEED --fold_path $FOLD_PATH --fold $FOLD --window_size $WINDOW --inner_len $INNER --edge_len $EDGE \\\n",
    "--unlabeled_data_path $UNLABELED_DATA_PATH"
   ]
  },
  {
   "cell_type": "code",
   "execution_count": null,
   "metadata": {},
   "outputs": [],
   "source": []
  }
 ],
 "metadata": {
  "kernelspec": {
   "display_name": "Python 3",
   "language": "python",
   "name": "python3"
  },
  "language_info": {
   "codemirror_mode": {
    "name": "ipython",
    "version": 3
   },
   "file_extension": ".py",
   "mimetype": "text/x-python",
   "name": "python",
   "nbconvert_exporter": "python",
   "pygments_lexer": "ipython3",
   "version": "3.7.8"
  }
 },
 "nbformat": 4,
 "nbformat_minor": 5
}
