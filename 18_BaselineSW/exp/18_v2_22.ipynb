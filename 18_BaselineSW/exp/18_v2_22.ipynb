{
 "cells": [
  {
   "cell_type": "code",
   "execution_count": null,
   "id": "potential-forth",
   "metadata": {},
   "outputs": [],
   "source": [
    "VERSION = '18_v2_22'\n",
    "FOLD_PATH = '../../00_EDA/00_v2_07/result/' \n",
    "MODEL = 'microsoft/deberta-v2-xlarge'\n",
    "LR = 6e-6 \n",
    "HEAD_LR = 6e-6 \n",
    "SEED = 100\n",
    "TRN_BS = 1\n",
    "VAL_BS = 1\n",
    "ACCUM_STEP = 1\n",
    "EPOCHS = 6 \n",
    "STOP_EPOCH = 6 \n",
    "RESTART = 1\n",
    "HIDDEN_DROP_PROB = 0\n",
    "P_DROP = 0\n",
    "RNN = 'none'\n",
    "WARMUP_RATIO = 0.1\n",
    "LOSS = 'xentropy'\n",
    "HEAD = 'simple'\n",
    "AUG = 'false' \n",
    "MIXUP_ALPHA = 1.0\n",
    "P_AUG = 0\n",
    "AUG_STOP_EPOCH = 2\n",
    "MSD = 'true'\n",
    "MULTI_LAYERS = 1\n",
    "EVAL_STEP = -1\n",
    "NUM_LABELS = 3\n",
    "NUM_LABELS_2 = 7\n",
    "ADV_SIFT = 'false'\n",
    "FP16 = 'true'\n",
    "WD = 0.01\n",
    "FREEZE = 'true'\n",
    "MULTI_TASK = 'false'\n",
    "W_MT = 1.0 \n",
    "AWP = 'true'\n",
    "AWP_LR = 1e-4\n",
    "AWP_EPS = 1e-3\n",
    "AWP_START_EPOCH = 1\n",
    "PRETRAINED_DETECTOR_PATH = f'../../05_Detection/exp/result/05_v2_11/model_seed100_fold0_swa.pth'\n",
    "MASK_PROB = 0.5\n",
    "MASK_RATIO = 0.22 \n",
    "SCHEDULER = 'cosine_hard'\n",
    "NUM_CYCLES = EPOCHS\n",
    "CP = 'true'\n",
    "WINDOW_SIZE = 1024\n",
    "INNER_LEN = 768 \n",
    "EDGE_LEN = 128 \n",
    "BNB = 32"
   ]
  },
  {
   "cell_type": "code",
   "execution_count": null,
   "id": "nonprofit-israeli",
   "metadata": {
    "scrolled": true
   },
   "outputs": [],
   "source": [
    "FOLD = 0\n",
    "\n",
    "!python ../code/train.py --model $MODEL --version $VERSION --fold_path $FOLD_PATH --fold $FOLD --seed $SEED \\\n",
    "--lr $LR --head_lr $HEAD_LR --trn_batch_size $TRN_BS --val_batch_size $VAL_BS \\\n",
    "--epochs $EPOCHS --hidden_drop_prob $HIDDEN_DROP_PROB --p_drop $P_DROP \\\n",
    "--accumulate_grad_batches $ACCUM_STEP --rnn $RNN --warmup_ratio $WARMUP_RATIO --loss $LOSS --aug $AUG --head $HEAD \\\n",
    "--mixup_alpha $MIXUP_ALPHA --p_aug $P_AUG --aug_stop_epoch $AUG_STOP_EPOCH \\\n",
    "--msd $MSD --multi_layers $MULTI_LAYERS --eval_step $EVAL_STEP --stop_epoch $STOP_EPOCH \\\n",
    "--num_labels $NUM_LABELS --num_labels_2 $NUM_LABELS_2 \\\n",
    "--restart_epoch $RESTART --adv_sift $ADV_SIFT --fp16 $FP16 --weight_decay $WD --freeze_layers $FREEZE \\\n",
    "--mt $MULTI_TASK --w_mt $W_MT \\\n",
    "--awp $AWP --awp_lr $AWP_LR --awp_eps $AWP_EPS --awp_start_epoch $AWP_START_EPOCH \\\n",
    "--pretrained_detector_path $PRETRAINED_DETECTOR_PATH --mask_prob $MASK_PROB --mask_ratio $MASK_RATIO \\\n",
    "--scheduler $SCHEDULER --num_cycles $NUM_CYCLES --check_pointing $CP \\\n",
    "--window_size $WINDOW_SIZE --inner_len $INNER_LEN --edge_len $EDGE_LEN --adam_bits $BNB"
   ]
  },
  {
   "cell_type": "code",
   "execution_count": null,
   "id": "qualified-natural",
   "metadata": {
    "scrolled": true
   },
   "outputs": [],
   "source": [
    "FOLD = 1\n",
    "\n",
    "!python ../code/train.py --model $MODEL --version $VERSION --fold_path $FOLD_PATH --fold $FOLD --seed $SEED \\\n",
    "--lr $LR --head_lr $HEAD_LR --trn_batch_size $TRN_BS --val_batch_size $VAL_BS \\\n",
    "--epochs $EPOCHS --hidden_drop_prob $HIDDEN_DROP_PROB --p_drop $P_DROP \\\n",
    "--accumulate_grad_batches $ACCUM_STEP --rnn $RNN --warmup_ratio $WARMUP_RATIO --loss $LOSS --aug $AUG --head $HEAD \\\n",
    "--mixup_alpha $MIXUP_ALPHA --p_aug $P_AUG --aug_stop_epoch $AUG_STOP_EPOCH \\\n",
    "--msd $MSD --multi_layers $MULTI_LAYERS --eval_step $EVAL_STEP --stop_epoch $STOP_EPOCH \\\n",
    "--num_labels $NUM_LABELS --num_labels_2 $NUM_LABELS_2 \\\n",
    "--restart_epoch $RESTART --adv_sift $ADV_SIFT --fp16 $FP16 --weight_decay $WD --freeze_layers $FREEZE \\\n",
    "--mt $MULTI_TASK --w_mt $W_MT \\\n",
    "--awp $AWP --awp_lr $AWP_LR --awp_eps $AWP_EPS --awp_start_epoch $AWP_START_EPOCH \\\n",
    "--pretrained_detector_path $PRETRAINED_DETECTOR_PATH --mask_prob $MASK_PROB --mask_ratio $MASK_RATIO \\\n",
    "--scheduler $SCHEDULER --num_cycles $NUM_CYCLES --check_pointing $CP \\\n",
    "--window_size $WINDOW_SIZE --inner_len $INNER_LEN --edge_len $EDGE_LEN --adam_bits $BNB"
   ]
  },
  {
   "cell_type": "code",
   "execution_count": null,
   "id": "champion-interim",
   "metadata": {
    "scrolled": true
   },
   "outputs": [],
   "source": [
    "FOLD = 2\n",
    "\n",
    "!python ../code/train.py --model $MODEL --version $VERSION --fold_path $FOLD_PATH --fold $FOLD --seed $SEED \\\n",
    "--lr $LR --head_lr $HEAD_LR --trn_batch_size $TRN_BS --val_batch_size $VAL_BS \\\n",
    "--epochs $EPOCHS --hidden_drop_prob $HIDDEN_DROP_PROB --p_drop $P_DROP \\\n",
    "--accumulate_grad_batches $ACCUM_STEP --rnn $RNN --warmup_ratio $WARMUP_RATIO --loss $LOSS --aug $AUG --head $HEAD \\\n",
    "--mixup_alpha $MIXUP_ALPHA --p_aug $P_AUG --aug_stop_epoch $AUG_STOP_EPOCH \\\n",
    "--msd $MSD --multi_layers $MULTI_LAYERS --eval_step $EVAL_STEP --stop_epoch $STOP_EPOCH \\\n",
    "--num_labels $NUM_LABELS --num_labels_2 $NUM_LABELS_2 \\\n",
    "--restart_epoch $RESTART --adv_sift $ADV_SIFT --fp16 $FP16 --weight_decay $WD --freeze_layers $FREEZE \\\n",
    "--mt $MULTI_TASK --w_mt $W_MT \\\n",
    "--awp $AWP --awp_lr $AWP_LR --awp_eps $AWP_EPS --awp_start_epoch $AWP_START_EPOCH \\\n",
    "--pretrained_detector_path $PRETRAINED_DETECTOR_PATH --mask_prob $MASK_PROB --mask_ratio $MASK_RATIO \\\n",
    "--scheduler $SCHEDULER --num_cycles $NUM_CYCLES --check_pointing $CP \\\n",
    "--window_size $WINDOW_SIZE --inner_len $INNER_LEN --edge_len $EDGE_LEN --adam_bits $BNB"
   ]
  },
  {
   "cell_type": "code",
   "execution_count": null,
   "id": "twenty-italian",
   "metadata": {},
   "outputs": [],
   "source": [
    "RESTART = 3\n",
    "MASK_PROB = 0.5\n",
    "MASK_RATIO = 0.15\n",
    "\n",
    "FOLD = 2\n",
    "\n",
    "!python ../code/train.py --model $MODEL --version $VERSION --fold_path $FOLD_PATH --fold $FOLD --seed $SEED \\\n",
    "--lr $LR --head_lr $HEAD_LR --trn_batch_size $TRN_BS --val_batch_size $VAL_BS \\\n",
    "--epochs $EPOCHS --hidden_drop_prob $HIDDEN_DROP_PROB --p_drop $P_DROP \\\n",
    "--accumulate_grad_batches $ACCUM_STEP --rnn $RNN --warmup_ratio $WARMUP_RATIO --loss $LOSS --aug $AUG --head $HEAD \\\n",
    "--mixup_alpha $MIXUP_ALPHA --p_aug $P_AUG --aug_stop_epoch $AUG_STOP_EPOCH \\\n",
    "--msd $MSD --multi_layers $MULTI_LAYERS --eval_step $EVAL_STEP --stop_epoch $STOP_EPOCH \\\n",
    "--num_labels $NUM_LABELS --num_labels_2 $NUM_LABELS_2 \\\n",
    "--restart_epoch $RESTART --adv_sift $ADV_SIFT --fp16 $FP16 --weight_decay $WD --freeze_layers $FREEZE \\\n",
    "--mt $MULTI_TASK --w_mt $W_MT \\\n",
    "--awp $AWP --awp_lr $AWP_LR --awp_eps $AWP_EPS --awp_start_epoch $AWP_START_EPOCH \\\n",
    "--pretrained_detector_path $PRETRAINED_DETECTOR_PATH --mask_prob $MASK_PROB --mask_ratio $MASK_RATIO \\\n",
    "--scheduler $SCHEDULER --num_cycles $NUM_CYCLES --check_pointing $CP \\\n",
    "--window_size $WINDOW_SIZE --inner_len $INNER_LEN --edge_len $EDGE_LEN --adam_bits $BNB\n",
    "\n",
    "RESTART = 1\n",
    "MASK_PROB = 0.5 \n",
    "MASK_RATIO = 0.22 "
   ]
  },
  {
   "cell_type": "code",
   "execution_count": null,
   "id": "positive-sherman",
   "metadata": {
    "scrolled": true
   },
   "outputs": [],
   "source": [
    "FOLD = 3\n",
    "\n",
    "!python ../code/train.py --model $MODEL --version $VERSION --fold_path $FOLD_PATH --fold $FOLD --seed $SEED \\\n",
    "--lr $LR --head_lr $HEAD_LR --trn_batch_size $TRN_BS --val_batch_size $VAL_BS \\\n",
    "--epochs $EPOCHS --hidden_drop_prob $HIDDEN_DROP_PROB --p_drop $P_DROP \\\n",
    "--accumulate_grad_batches $ACCUM_STEP --rnn $RNN --warmup_ratio $WARMUP_RATIO --loss $LOSS --aug $AUG --head $HEAD \\\n",
    "--mixup_alpha $MIXUP_ALPHA --p_aug $P_AUG --aug_stop_epoch $AUG_STOP_EPOCH \\\n",
    "--msd $MSD --multi_layers $MULTI_LAYERS --eval_step $EVAL_STEP --stop_epoch $STOP_EPOCH \\\n",
    "--num_labels $NUM_LABELS --num_labels_2 $NUM_LABELS_2 \\\n",
    "--restart_epoch $RESTART --adv_sift $ADV_SIFT --fp16 $FP16 --weight_decay $WD --freeze_layers $FREEZE \\\n",
    "--mt $MULTI_TASK --w_mt $W_MT \\\n",
    "--awp $AWP --awp_lr $AWP_LR --awp_eps $AWP_EPS --awp_start_epoch $AWP_START_EPOCH \\\n",
    "--pretrained_detector_path $PRETRAINED_DETECTOR_PATH --mask_prob $MASK_PROB --mask_ratio $MASK_RATIO \\\n",
    "--scheduler $SCHEDULER --num_cycles $NUM_CYCLES --check_pointing $CP \\\n",
    "--window_size $WINDOW_SIZE --inner_len $INNER_LEN --edge_len $EDGE_LEN --adam_bits $BNB"
   ]
  },
  {
   "cell_type": "code",
   "execution_count": null,
   "id": "adopted-update",
   "metadata": {
    "scrolled": true
   },
   "outputs": [],
   "source": [
    "FOLD = 4\n",
    "\n",
    "!python ../code/train.py --model $MODEL --version $VERSION --fold_path $FOLD_PATH --fold $FOLD --seed $SEED \\\n",
    "--lr $LR --head_lr $HEAD_LR --trn_batch_size $TRN_BS --val_batch_size $VAL_BS \\\n",
    "--epochs $EPOCHS --hidden_drop_prob $HIDDEN_DROP_PROB --p_drop $P_DROP \\\n",
    "--accumulate_grad_batches $ACCUM_STEP --rnn $RNN --warmup_ratio $WARMUP_RATIO --loss $LOSS --aug $AUG --head $HEAD \\\n",
    "--mixup_alpha $MIXUP_ALPHA --p_aug $P_AUG --aug_stop_epoch $AUG_STOP_EPOCH \\\n",
    "--msd $MSD --multi_layers $MULTI_LAYERS --eval_step $EVAL_STEP --stop_epoch $STOP_EPOCH \\\n",
    "--num_labels $NUM_LABELS --num_labels_2 $NUM_LABELS_2 \\\n",
    "--restart_epoch $RESTART --adv_sift $ADV_SIFT --fp16 $FP16 --weight_decay $WD --freeze_layers $FREEZE \\\n",
    "--mt $MULTI_TASK --w_mt $W_MT \\\n",
    "--awp $AWP --awp_lr $AWP_LR --awp_eps $AWP_EPS --awp_start_epoch $AWP_START_EPOCH \\\n",
    "--pretrained_detector_path $PRETRAINED_DETECTOR_PATH --mask_prob $MASK_PROB --mask_ratio $MASK_RATIO \\\n",
    "--scheduler $SCHEDULER --num_cycles $NUM_CYCLES --check_pointing $CP \\\n",
    "--window_size $WINDOW_SIZE --inner_len $INNER_LEN --edge_len $EDGE_LEN --adam_bits $BNB"
   ]
  },
  {
   "cell_type": "markdown",
   "id": "attractive-liability",
   "metadata": {},
   "source": [
    "# SWA"
   ]
  },
  {
   "cell_type": "code",
   "execution_count": null,
   "id": "pointed-electronics",
   "metadata": {},
   "outputs": [],
   "source": [
    "!python ../$VERSION/swa.py --work_dir ./result/$VERSION/ --fold 0 --seed $SEED --epochs '4'\n",
    "!python ../$VERSION/swa.py --work_dir ./result/$VERSION/ --fold 1 --seed $SEED --epochs '4 5'\n",
    "!python ../$VERSION/swa.py --work_dir ./result/$VERSION/ --fold 2 --seed $SEED --epochs '4 5 6'\n",
    "!python ../$VERSION/swa.py --work_dir ./result/$VERSION/ --fold 3 --seed $SEED --epochs '4'\n",
    "!python ../$VERSION/swa.py --work_dir ./result/$VERSION/ --fold 4 --seed $SEED --epochs '2 3 4 5'"
   ]
  },
  {
   "cell_type": "code",
   "execution_count": null,
   "id": "taken-business",
   "metadata": {},
   "outputs": [],
   "source": []
  }
 ],
 "metadata": {
  "kernelspec": {
   "display_name": "Python 3 (ipykernel)",
   "language": "python",
   "name": "python3"
  },
  "language_info": {
   "codemirror_mode": {
    "name": "ipython",
    "version": 3
   },
   "file_extension": ".py",
   "mimetype": "text/x-python",
   "name": "python",
   "nbconvert_exporter": "python",
   "pygments_lexer": "ipython3",
   "version": "3.7.3"
  }
 },
 "nbformat": 4,
 "nbformat_minor": 5
}
