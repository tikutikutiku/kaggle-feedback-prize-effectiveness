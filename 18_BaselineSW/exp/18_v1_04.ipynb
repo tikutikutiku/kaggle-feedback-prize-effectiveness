{
 "cells": [
  {
   "cell_type": "code",
   "execution_count": 1,
   "metadata": {},
   "outputs": [],
   "source": [
    "VERSION = '18_v1_04'\n",
    "FOLD_PATH = '../../00_EDA/00_v2_07/result/' #'../../00_EDA/00_v1_01/result/'\n",
    "MODEL = 'microsoft/deberta-v3-large'\n",
    "#'microsoft/deberta-large'\n",
    "#'microsoft/deberta-base'\n",
    "#'microsoft/deberta-v3-base'\n",
    "#'funnel-transformer/xlarge'\n",
    "#'ahotrod/electra_large_discriminator_squad2_512'\n",
    "#'funnel-transformer/xlarge'\n",
    "#'microsoft/deberta-large'\n",
    "#'anferico/bert-for-patents'\n",
    "#'microsoft/deberta-v3-base'\n",
    "#'microsoft/cocolm-large'\n",
    "LR = 8e-6 #2e-5\n",
    "HEAD_LR = 8e-6 #2e-5\n",
    "SEED = 200 #100\n",
    "TRN_BS = 1\n",
    "VAL_BS = 1\n",
    "ACCUM_STEP = 1\n",
    "EPOCHS = 5 #2\n",
    "STOP_EPOCH = 5 #2\n",
    "RESTART = 1\n",
    "HIDDEN_DROP_PROB = 0\n",
    "P_DROP = 0\n",
    "RNN = 'none'\n",
    "WARMUP_RATIO = 0.1\n",
    "LOSS = 'xentropy'\n",
    "HEAD = 'simple'\n",
    "AUG = 'false' #'mixup'\n",
    "MIXUP_ALPHA = 1.0\n",
    "P_AUG = 0\n",
    "AUG_STOP_EPOCH = 2\n",
    "MSD = 'true'\n",
    "MULTI_LAYERS = 1\n",
    "EVAL_STEP = -1 #100\n",
    "NUM_LABELS = 3\n",
    "NUM_LABELS_2 = 7\n",
    "ADV_SIFT = 'false'\n",
    "FP16 = 'true' #'false'\n",
    "WD = 0.01\n",
    "FREEZE = 'false'\n",
    "#MAX_LENGTH = 1024\n",
    "MULTI_TASK = 'false' #'true'\n",
    "W_MT = 1.0 #0.5\n",
    "#PREPROCESSED_DATA_PATH = '../../00_EDA/00_v2_01/result/train.csv'\n",
    "#'../../00_EDA/00_v1_09/result/train.csv'\n",
    "AWP = 'true'\n",
    "AWP_LR = 1e-2 #1.0\n",
    "AWP_EPS = 1e-3 #0.01\n",
    "AWP_START_EPOCH = 1\n",
    "\n",
    "#PRETRAINED_DETECTOR_PATH = f'../../05_Detection/exp/result/05_v2_09/model_seed100_fold0_swa.pth'\n",
    "PRETRAINED_DETECTOR_PATH = f'../../05_Detection/exp/result/05_v1_06/model_seed100_fold1_swa.pth'\n",
    "#PRETRAINED_DETECTOR_PATH = f'../../input/tascj/result/deberta_large_fold0.pth'\n",
    "#PRETRAINED_DETECTOR_PATH = f'../../05_Detection/exp/result/05_v1_04/model_seed100_fold0_swa.pth'\n",
    "\n",
    "MASK_PROB = 0.8\n",
    "MASK_RATIO = 0.3\n",
    "\n",
    "SCHEDULER = 'cosine_hard'\n",
    "NUM_CYCLES = EPOCHS\n",
    "\n",
    "CP = 'false'\n",
    "\n",
    "WINDOW_SIZE = 512\n",
    "INNER_LEN = 384\n",
    "EDGE_LEN = 64"
   ]
  },
  {
   "cell_type": "code",
   "execution_count": 2,
   "metadata": {
    "scrolled": false
   },
   "outputs": [
    {
     "name": "stdout",
     "output_type": "stream",
     "text": [
      "torch 1.10.1\n",
      "train_df.shape =  (36765, 5)\n",
      "test_df.shape =  (10, 4)\n",
      "sub_df.shape =  (10, 4)\n",
      "load folds...\n",
      "trn_df.shape =  (29462, 6)\n",
      "val_df.shape =  (7303, 6)\n",
      "2022-07-22 20:35:43.408129: W tensorflow/stream_executor/platform/default/dso_loader.cc:59] Could not load dynamic library 'libcudart.so.10.1'; dlerror: libcudart.so.10.1: cannot open shared object file: No such file or directory; LD_LIBRARY_PATH: /usr/local/cuda-10.2/lib64:\n",
      "2022-07-22 20:35:43.408152: I tensorflow/stream_executor/cuda/cudart_stub.cc:29] Ignore above cudart dlerror if you do not have a GPU set up on your machine.\n",
      "self.warmup_ratio =  0.1\n",
      "self.num_train_steps =  16760\n",
      "num_warmup_steps =  1676\n",
      "lr :  [0.0, 0.0, 0.0]\n",
      "100%|████████████████████████████| 3352/3352 [27:46<00:00,  2.01it/s, loss=1.58]\n",
      "100%|█████████████████████████████████████████| 839/839 [02:01<00:00,  6.93it/s]\n",
      "epoch 1: trn_loss = 1.5796, val_loss = 0.6404, trn_score = -0.7701, val_score = -0.6404\n",
      "model (best loss) saved\n",
      "model (best score) saved\n",
      "lr :  [3.3054072893322785e-06, 3.3054072893322785e-06, 3.3054072893322785e-06]\n",
      "100%|████████████████████████████| 3352/3352 [27:46<00:00,  2.01it/s, loss=1.33]\n",
      "100%|█████████████████████████████████████████| 839/839 [02:02<00:00,  6.87it/s]\n",
      "epoch 2: trn_loss = 1.3290, val_loss = 0.6192, trn_score = -0.6451, val_score = -0.6192\n",
      "model (best loss) saved\n",
      "model (best score) saved\n",
      "lr :  [2.0000000000000025e-06, 2.0000000000000025e-06, 2.0000000000000025e-06]\n",
      "100%|████████████████████████████| 3352/3352 [27:49<00:00,  2.01it/s, loss=1.23]\n",
      "100%|█████████████████████████████████████████| 839/839 [02:02<00:00,  6.84it/s]\n",
      "epoch 3: trn_loss = 1.2309, val_loss = 0.5993, trn_score = -0.5964, val_score = -0.5993\n",
      "model (best loss) saved\n",
      "model (best score) saved\n",
      "lr :  [9.358222275240884e-07, 9.358222275240884e-07, 9.358222275240884e-07]\n",
      "100%|████████████████████████████| 3352/3352 [27:54<00:00,  2.00it/s, loss=1.15]\n",
      "100%|█████████████████████████████████████████| 839/839 [02:03<00:00,  6.80it/s]\n",
      "epoch 4: trn_loss = 1.1465, val_loss = 0.6012, trn_score = -0.5524, val_score = -0.6012\n",
      "lr :  [2.412295168563667e-07, 2.412295168563667e-07, 2.412295168563667e-07]\n",
      "100%|████████████████████████████| 3352/3352 [27:43<00:00,  2.02it/s, loss=1.07]\n",
      "100%|█████████████████████████████████████████| 839/839 [02:01<00:00,  6.90it/s]\n",
      "epoch 5: trn_loss = 1.0694, val_loss = 0.6057, trn_score = -0.5117, val_score = -0.6057\n",
      "epoch_best 3, val_loss_best 0.59934, val_score_best -0.59934\n",
      "\n"
     ]
    }
   ],
   "source": [
    "FOLD = 0\n",
    "\n",
    "!python ../$VERSION/train.py --model $MODEL --version $VERSION --fold_path $FOLD_PATH --fold $FOLD --seed $SEED \\\n",
    "--lr $LR --head_lr $HEAD_LR --trn_batch_size $TRN_BS --val_batch_size $VAL_BS \\\n",
    "--epochs $EPOCHS --hidden_drop_prob $HIDDEN_DROP_PROB --p_drop $P_DROP \\\n",
    "--accumulate_grad_batches $ACCUM_STEP --rnn $RNN --warmup_ratio $WARMUP_RATIO --loss $LOSS --aug $AUG --head $HEAD \\\n",
    "--mixup_alpha $MIXUP_ALPHA --p_aug $P_AUG --aug_stop_epoch $AUG_STOP_EPOCH \\\n",
    "--msd $MSD --multi_layers $MULTI_LAYERS --eval_step $EVAL_STEP --stop_epoch $STOP_EPOCH \\\n",
    "--num_labels $NUM_LABELS --num_labels_2 $NUM_LABELS_2 \\\n",
    "--restart_epoch $RESTART --adv_sift $ADV_SIFT --fp16 $FP16 --weight_decay $WD --freeze_layers $FREEZE \\\n",
    "--mt $MULTI_TASK --w_mt $W_MT \\\n",
    "--awp $AWP --awp_lr $AWP_LR --awp_eps $AWP_EPS --awp_start_epoch $AWP_START_EPOCH \\\n",
    "--pretrained_detector_path $PRETRAINED_DETECTOR_PATH --mask_prob $MASK_PROB --mask_ratio $MASK_RATIO \\\n",
    "--scheduler $SCHEDULER --num_cycles $NUM_CYCLES --check_pointing $CP \\\n",
    "--window_size $WINDOW_SIZE --inner_len $INNER_LEN --edge_len $EDGE_LEN"
   ]
  },
  {
   "cell_type": "code",
   "execution_count": 3,
   "metadata": {
    "scrolled": true
   },
   "outputs": [
    {
     "name": "stdout",
     "output_type": "stream",
     "text": [
      "torch 1.10.1\n",
      "train_df.shape =  (36765, 5)\n",
      "test_df.shape =  (10, 4)\n",
      "sub_df.shape =  (10, 4)\n",
      "load folds...\n",
      "trn_df.shape =  (29383, 6)\n",
      "val_df.shape =  (7382, 6)\n",
      "2022-07-22 23:05:35.158574: W tensorflow/stream_executor/platform/default/dso_loader.cc:59] Could not load dynamic library 'libcudart.so.10.1'; dlerror: libcudart.so.10.1: cannot open shared object file: No such file or directory; LD_LIBRARY_PATH: /usr/local/cuda-10.2/lib64:\n",
      "2022-07-22 23:05:35.158594: I tensorflow/stream_executor/cuda/cudart_stub.cc:29] Ignore above cudart dlerror if you do not have a GPU set up on your machine.\n",
      "self.warmup_ratio =  0.1\n",
      "self.num_train_steps =  16765\n",
      "num_warmup_steps =  1676\n",
      "lr :  [0.0, 0.0, 0.0]\n",
      "100%|████████████████████████████| 3353/3353 [27:47<00:00,  2.01it/s, loss=1.57]\n",
      "100%|█████████████████████████████████████████| 838/838 [02:01<00:00,  6.91it/s]\n",
      "epoch 1: trn_loss = 1.5732, val_loss = 0.6721, trn_score = -0.7666, val_score = -0.6721\n",
      "model (best loss) saved\n",
      "model (best score) saved\n",
      "lr :  [3.303584776396759e-06, 3.303584776396759e-06, 3.303584776396759e-06]\n",
      "100%|████████████████████████████| 3353/3353 [27:51<00:00,  2.01it/s, loss=1.31]\n",
      "100%|█████████████████████████████████████████| 838/838 [02:02<00:00,  6.81it/s]\n",
      "epoch 2: trn_loss = 1.3054, val_loss = 0.6384, trn_score = -0.6333, val_score = -0.6384\n",
      "model (best loss) saved\n",
      "model (best score) saved\n",
      "lr :  [1.998798053127825e-06, 1.998798053127825e-06, 1.998798053127825e-06]\n",
      "100%|████████████████████████████| 3353/3353 [28:00<00:00,  2.00it/s, loss=1.22]\n",
      "100%|█████████████████████████████████████████| 838/838 [02:03<00:00,  6.80it/s]\n",
      "epoch 3: trn_loss = 1.2219, val_loss = 0.6243, trn_score = -0.5902, val_score = -0.6243\n",
      "model (best loss) saved\n",
      "model (best score) saved\n",
      "lr :  [9.352275048208716e-07, 9.352275048208716e-07, 9.352275048208716e-07]\n",
      "100%|████████████████████████████| 3353/3353 [28:01<00:00,  1.99it/s, loss=1.13]\n",
      "100%|█████████████████████████████████████████| 838/838 [02:02<00:00,  6.82it/s]\n",
      "epoch 4: trn_loss = 1.1345, val_loss = 0.6263, trn_score = -0.5459, val_score = -0.6263\n",
      "lr :  [2.410712975159734e-07, 2.410712975159734e-07, 2.410712975159734e-07]\n",
      "100%|████████████████████████████| 3353/3353 [28:01<00:00,  1.99it/s, loss=1.05]\n",
      "100%|█████████████████████████████████████████| 838/838 [02:02<00:00,  6.85it/s]\n",
      "epoch 5: trn_loss = 1.0538, val_loss = 0.6266, trn_score = -0.5051, val_score = -0.6266\n",
      "epoch_best 3, val_loss_best 0.62426, val_score_best -0.62426\n",
      "\n"
     ]
    }
   ],
   "source": [
    "FOLD = 1\n",
    "\n",
    "!python ../$VERSION/train.py --model $MODEL --version $VERSION --fold_path $FOLD_PATH --fold $FOLD --seed $SEED \\\n",
    "--lr $LR --head_lr $HEAD_LR --trn_batch_size $TRN_BS --val_batch_size $VAL_BS \\\n",
    "--epochs $EPOCHS --hidden_drop_prob $HIDDEN_DROP_PROB --p_drop $P_DROP \\\n",
    "--accumulate_grad_batches $ACCUM_STEP --rnn $RNN --warmup_ratio $WARMUP_RATIO --loss $LOSS --aug $AUG --head $HEAD \\\n",
    "--mixup_alpha $MIXUP_ALPHA --p_aug $P_AUG --aug_stop_epoch $AUG_STOP_EPOCH \\\n",
    "--msd $MSD --multi_layers $MULTI_LAYERS --eval_step $EVAL_STEP --stop_epoch $STOP_EPOCH \\\n",
    "--num_labels $NUM_LABELS --num_labels_2 $NUM_LABELS_2 \\\n",
    "--restart_epoch $RESTART --adv_sift $ADV_SIFT --fp16 $FP16 --weight_decay $WD --freeze_layers $FREEZE \\\n",
    "--mt $MULTI_TASK --w_mt $W_MT \\\n",
    "--awp $AWP --awp_lr $AWP_LR --awp_eps $AWP_EPS --awp_start_epoch $AWP_START_EPOCH \\\n",
    "--pretrained_detector_path $PRETRAINED_DETECTOR_PATH --mask_prob $MASK_PROB --mask_ratio $MASK_RATIO \\\n",
    "--scheduler $SCHEDULER --num_cycles $NUM_CYCLES --check_pointing $CP \\\n",
    "--window_size $WINDOW_SIZE --inner_len $INNER_LEN --edge_len $EDGE_LEN"
   ]
  },
  {
   "cell_type": "code",
   "execution_count": 4,
   "metadata": {
    "scrolled": true
   },
   "outputs": [
    {
     "name": "stdout",
     "output_type": "stream",
     "text": [
      "torch 1.10.1\n",
      "train_df.shape =  (36765, 5)\n",
      "test_df.shape =  (10, 4)\n",
      "sub_df.shape =  (10, 4)\n",
      "load folds...\n",
      "trn_df.shape =  (29461, 6)\n",
      "val_df.shape =  (7304, 6)\n",
      "2022-07-23 01:36:11.404752: W tensorflow/stream_executor/platform/default/dso_loader.cc:59] Could not load dynamic library 'libcudart.so.10.1'; dlerror: libcudart.so.10.1: cannot open shared object file: No such file or directory; LD_LIBRARY_PATH: /usr/local/cuda-10.2/lib64:\n",
      "2022-07-23 01:36:11.404776: I tensorflow/stream_executor/cuda/cudart_stub.cc:29] Ignore above cudart dlerror if you do not have a GPU set up on your machine.\n",
      "self.warmup_ratio =  0.1\n",
      "self.num_train_steps =  16765\n",
      "num_warmup_steps =  1676\n",
      "lr :  [0.0, 0.0, 0.0]\n",
      "100%|████████████████████████████| 3353/3353 [27:43<00:00,  2.02it/s, loss=1.59]\n",
      "100%|█████████████████████████████████████████| 838/838 [02:02<00:00,  6.84it/s]\n",
      "epoch 1: trn_loss = 1.5877, val_loss = 0.6533, trn_score = -0.7742, val_score = -0.6533\n",
      "model (best loss) saved\n",
      "model (best score) saved\n",
      "lr :  [3.303584776396759e-06, 3.303584776396759e-06, 3.303584776396759e-06]\n",
      "100%|████████████████████████████| 3353/3353 [27:45<00:00,  2.01it/s, loss=1.31]\n",
      "100%|█████████████████████████████████████████| 838/838 [02:03<00:00,  6.78it/s]\n",
      "epoch 2: trn_loss = 1.3099, val_loss = 0.6163, trn_score = -0.6358, val_score = -0.6163\n",
      "model (best loss) saved\n",
      "model (best score) saved\n",
      "lr :  [1.998798053127825e-06, 1.998798053127825e-06, 1.998798053127825e-06]\n",
      "100%|████████████████████████████| 3353/3353 [27:41<00:00,  2.02it/s, loss=1.23]\n",
      "100%|█████████████████████████████████████████| 838/838 [02:04<00:00,  6.72it/s]\n",
      "epoch 3: trn_loss = 1.2323, val_loss = 0.6125, trn_score = -0.5959, val_score = -0.6125\n",
      "model (best loss) saved\n",
      "model (best score) saved\n",
      "lr :  [9.352275048208716e-07, 9.352275048208716e-07, 9.352275048208716e-07]\n",
      "100%|████████████████████████████| 3353/3353 [27:38<00:00,  2.02it/s, loss=1.15]\n",
      "100%|█████████████████████████████████████████| 838/838 [02:05<00:00,  6.69it/s]\n",
      "epoch 4: trn_loss = 1.1468, val_loss = 0.6036, trn_score = -0.5523, val_score = -0.6036\n",
      "model (best loss) saved\n",
      "model (best score) saved\n",
      "lr :  [2.410712975159734e-07, 2.410712975159734e-07, 2.410712975159734e-07]\n",
      "100%|████████████████████████████| 3353/3353 [27:38<00:00,  2.02it/s, loss=1.06]\n",
      "100%|█████████████████████████████████████████| 838/838 [01:57<00:00,  7.13it/s]\n",
      "epoch 5: trn_loss = 1.0627, val_loss = 0.6098, trn_score = -0.5084, val_score = -0.6098\n",
      "epoch_best 4, val_loss_best 0.60358, val_score_best -0.60358\n",
      "\n"
     ]
    }
   ],
   "source": [
    "FOLD = 2\n",
    "\n",
    "!python ../$VERSION/train.py --model $MODEL --version $VERSION --fold_path $FOLD_PATH --fold $FOLD --seed $SEED \\\n",
    "--lr $LR --head_lr $HEAD_LR --trn_batch_size $TRN_BS --val_batch_size $VAL_BS \\\n",
    "--epochs $EPOCHS --hidden_drop_prob $HIDDEN_DROP_PROB --p_drop $P_DROP \\\n",
    "--accumulate_grad_batches $ACCUM_STEP --rnn $RNN --warmup_ratio $WARMUP_RATIO --loss $LOSS --aug $AUG --head $HEAD \\\n",
    "--mixup_alpha $MIXUP_ALPHA --p_aug $P_AUG --aug_stop_epoch $AUG_STOP_EPOCH \\\n",
    "--msd $MSD --multi_layers $MULTI_LAYERS --eval_step $EVAL_STEP --stop_epoch $STOP_EPOCH \\\n",
    "--num_labels $NUM_LABELS --num_labels_2 $NUM_LABELS_2 \\\n",
    "--restart_epoch $RESTART --adv_sift $ADV_SIFT --fp16 $FP16 --weight_decay $WD --freeze_layers $FREEZE \\\n",
    "--mt $MULTI_TASK --w_mt $W_MT \\\n",
    "--awp $AWP --awp_lr $AWP_LR --awp_eps $AWP_EPS --awp_start_epoch $AWP_START_EPOCH \\\n",
    "--pretrained_detector_path $PRETRAINED_DETECTOR_PATH --mask_prob $MASK_PROB --mask_ratio $MASK_RATIO \\\n",
    "--scheduler $SCHEDULER --num_cycles $NUM_CYCLES --check_pointing $CP \\\n",
    "--window_size $WINDOW_SIZE --inner_len $INNER_LEN --edge_len $EDGE_LEN"
   ]
  },
  {
   "cell_type": "code",
   "execution_count": 5,
   "metadata": {
    "scrolled": true
   },
   "outputs": [
    {
     "name": "stdout",
     "output_type": "stream",
     "text": [
      "torch 1.10.1\n",
      "train_df.shape =  (36765, 5)\n",
      "test_df.shape =  (10, 4)\n",
      "sub_df.shape =  (10, 4)\n",
      "load folds...\n",
      "trn_df.shape =  (29348, 6)\n",
      "val_df.shape =  (7417, 6)\n",
      "2022-07-23 04:05:37.792126: W tensorflow/stream_executor/platform/default/dso_loader.cc:59] Could not load dynamic library 'libcudart.so.10.1'; dlerror: libcudart.so.10.1: cannot open shared object file: No such file or directory; LD_LIBRARY_PATH: /usr/local/cuda-10.2/lib64:\n",
      "2022-07-23 04:05:37.792149: I tensorflow/stream_executor/cuda/cudart_stub.cc:29] Ignore above cudart dlerror if you do not have a GPU set up on your machine.\n",
      "self.warmup_ratio =  0.1\n",
      "self.num_train_steps =  16765\n",
      "num_warmup_steps =  1676\n",
      "lr :  [0.0, 0.0, 0.0]\n",
      "100%|████████████████████████████| 3353/3353 [26:53<00:00,  2.08it/s, loss=1.59]\n",
      "100%|█████████████████████████████████████████| 838/838 [01:54<00:00,  7.31it/s]\n",
      "epoch 1: trn_loss = 1.5873, val_loss = 0.6537, trn_score = -0.7734, val_score = -0.6537\n",
      "model (best loss) saved\n",
      "model (best score) saved\n",
      "lr :  [3.303584776396759e-06, 3.303584776396759e-06, 3.303584776396759e-06]\n",
      "100%|████████████████████████████| 3353/3353 [26:56<00:00,  2.07it/s, loss=1.31]\n",
      "100%|█████████████████████████████████████████| 838/838 [01:53<00:00,  7.38it/s]\n",
      "epoch 2: trn_loss = 1.3072, val_loss = 0.6355, trn_score = -0.6343, val_score = -0.6355\n",
      "model (best loss) saved\n",
      "model (best score) saved\n",
      "lr :  [1.998798053127825e-06, 1.998798053127825e-06, 1.998798053127825e-06]\n",
      "100%|████████████████████████████| 3353/3353 [26:58<00:00,  2.07it/s, loss=1.22]\n",
      "100%|█████████████████████████████████████████| 838/838 [01:54<00:00,  7.32it/s]\n",
      "epoch 3: trn_loss = 1.2157, val_loss = 0.6197, trn_score = -0.5880, val_score = -0.6197\n",
      "model (best loss) saved\n",
      "model (best score) saved\n",
      "lr :  [9.352275048208716e-07, 9.352275048208716e-07, 9.352275048208716e-07]\n",
      "100%|████████████████████████████| 3353/3353 [27:28<00:00,  2.03it/s, loss=1.14]\n",
      "100%|█████████████████████████████████████████| 838/838 [02:02<00:00,  6.83it/s]\n",
      "epoch 4: trn_loss = 1.1359, val_loss = 0.6175, trn_score = -0.5469, val_score = -0.6175\n",
      "model (best loss) saved\n",
      "model (best score) saved\n",
      "lr :  [2.410712975159734e-07, 2.410712975159734e-07, 2.410712975159734e-07]\n",
      "100%|████████████████████████████| 3353/3353 [27:49<00:00,  2.01it/s, loss=1.04]\n",
      "100%|█████████████████████████████████████████| 838/838 [02:03<00:00,  6.81it/s]\n",
      "epoch 5: trn_loss = 1.0430, val_loss = 0.6294, trn_score = -0.4985, val_score = -0.6294\n",
      "epoch_best 4, val_loss_best 0.61751, val_score_best -0.61751\n",
      "\n"
     ]
    }
   ],
   "source": [
    "FOLD = 3\n",
    "\n",
    "!python ../$VERSION/train.py --model $MODEL --version $VERSION --fold_path $FOLD_PATH --fold $FOLD --seed $SEED \\\n",
    "--lr $LR --head_lr $HEAD_LR --trn_batch_size $TRN_BS --val_batch_size $VAL_BS \\\n",
    "--epochs $EPOCHS --hidden_drop_prob $HIDDEN_DROP_PROB --p_drop $P_DROP \\\n",
    "--accumulate_grad_batches $ACCUM_STEP --rnn $RNN --warmup_ratio $WARMUP_RATIO --loss $LOSS --aug $AUG --head $HEAD \\\n",
    "--mixup_alpha $MIXUP_ALPHA --p_aug $P_AUG --aug_stop_epoch $AUG_STOP_EPOCH \\\n",
    "--msd $MSD --multi_layers $MULTI_LAYERS --eval_step $EVAL_STEP --stop_epoch $STOP_EPOCH \\\n",
    "--num_labels $NUM_LABELS --num_labels_2 $NUM_LABELS_2 \\\n",
    "--restart_epoch $RESTART --adv_sift $ADV_SIFT --fp16 $FP16 --weight_decay $WD --freeze_layers $FREEZE \\\n",
    "--mt $MULTI_TASK --w_mt $W_MT \\\n",
    "--awp $AWP --awp_lr $AWP_LR --awp_eps $AWP_EPS --awp_start_epoch $AWP_START_EPOCH \\\n",
    "--pretrained_detector_path $PRETRAINED_DETECTOR_PATH --mask_prob $MASK_PROB --mask_ratio $MASK_RATIO \\\n",
    "--scheduler $SCHEDULER --num_cycles $NUM_CYCLES --check_pointing $CP \\\n",
    "--window_size $WINDOW_SIZE --inner_len $INNER_LEN --edge_len $EDGE_LEN"
   ]
  },
  {
   "cell_type": "code",
   "execution_count": 6,
   "metadata": {},
   "outputs": [
    {
     "name": "stdout",
     "output_type": "stream",
     "text": [
      "torch 1.10.1\n",
      "train_df.shape =  (36765, 5)\n",
      "test_df.shape =  (10, 4)\n",
      "sub_df.shape =  (10, 4)\n",
      "load folds...\n",
      "trn_df.shape =  (29406, 6)\n",
      "val_df.shape =  (7359, 6)\n",
      "2022-07-23 06:32:15.755483: W tensorflow/stream_executor/platform/default/dso_loader.cc:59] Could not load dynamic library 'libcudart.so.10.1'; dlerror: libcudart.so.10.1: cannot open shared object file: No such file or directory; LD_LIBRARY_PATH: /usr/local/cuda-10.2/lib64:\n",
      "2022-07-23 06:32:15.755506: I tensorflow/stream_executor/cuda/cudart_stub.cc:29] Ignore above cudart dlerror if you do not have a GPU set up on your machine.\n",
      "self.warmup_ratio =  0.1\n",
      "self.num_train_steps =  16765\n",
      "num_warmup_steps =  1676\n",
      "lr :  [0.0, 0.0, 0.0]\n",
      "100%|████████████████████████████| 3353/3353 [27:40<00:00,  2.02it/s, loss=1.58]\n",
      "100%|█████████████████████████████████████████| 838/838 [02:02<00:00,  6.83it/s]\n",
      "epoch 1: trn_loss = 1.5848, val_loss = 0.6642, trn_score = -0.7720, val_score = -0.6642\n",
      "model (best loss) saved\n",
      "model (best score) saved\n",
      "lr :  [3.303584776396759e-06, 3.303584776396759e-06, 3.303584776396759e-06]\n",
      "100%|████████████████████████████| 3353/3353 [27:52<00:00,  2.00it/s, loss=1.32]\n",
      "100%|█████████████████████████████████████████| 838/838 [02:03<00:00,  6.77it/s]\n",
      "epoch 2: trn_loss = 1.3168, val_loss = 0.6522, trn_score = -0.6381, val_score = -0.6522\n",
      "model (best loss) saved\n",
      "model (best score) saved\n",
      "lr :  [1.998798053127825e-06, 1.998798053127825e-06, 1.998798053127825e-06]\n",
      "100%|████████████████████████████| 3353/3353 [28:05<00:00,  1.99it/s, loss=1.21]\n",
      "100%|█████████████████████████████████████████| 838/838 [02:00<00:00,  6.97it/s]\n",
      "epoch 3: trn_loss = 1.2140, val_loss = 0.6176, trn_score = -0.5866, val_score = -0.6176\n",
      "model (best loss) saved\n",
      "model (best score) saved\n",
      "lr :  [9.352275048208716e-07, 9.352275048208716e-07, 9.352275048208716e-07]\n",
      "100%|████████████████████████████| 3353/3353 [28:05<00:00,  1.99it/s, loss=1.13]\n",
      "100%|█████████████████████████████████████████| 838/838 [02:04<00:00,  6.75it/s]\n",
      "epoch 4: trn_loss = 1.1263, val_loss = 0.6158, trn_score = -0.5412, val_score = -0.6158\n",
      "model (best loss) saved\n",
      "model (best score) saved\n",
      "lr :  [2.410712975159734e-07, 2.410712975159734e-07, 2.410712975159734e-07]\n",
      "100%|████████████████████████████| 3353/3353 [28:06<00:00,  1.99it/s, loss=1.05]\n",
      "100%|█████████████████████████████████████████| 838/838 [02:05<00:00,  6.69it/s]\n",
      "epoch 5: trn_loss = 1.0474, val_loss = 0.6269, trn_score = -0.5005, val_score = -0.6269\n",
      "epoch_best 4, val_loss_best 0.61581, val_score_best -0.61581\n",
      "\n"
     ]
    }
   ],
   "source": [
    "FOLD = 4\n",
    "\n",
    "!python ../$VERSION/train.py --model $MODEL --version $VERSION --fold_path $FOLD_PATH --fold $FOLD --seed $SEED \\\n",
    "--lr $LR --head_lr $HEAD_LR --trn_batch_size $TRN_BS --val_batch_size $VAL_BS \\\n",
    "--epochs $EPOCHS --hidden_drop_prob $HIDDEN_DROP_PROB --p_drop $P_DROP \\\n",
    "--accumulate_grad_batches $ACCUM_STEP --rnn $RNN --warmup_ratio $WARMUP_RATIO --loss $LOSS --aug $AUG --head $HEAD \\\n",
    "--mixup_alpha $MIXUP_ALPHA --p_aug $P_AUG --aug_stop_epoch $AUG_STOP_EPOCH \\\n",
    "--msd $MSD --multi_layers $MULTI_LAYERS --eval_step $EVAL_STEP --stop_epoch $STOP_EPOCH \\\n",
    "--num_labels $NUM_LABELS --num_labels_2 $NUM_LABELS_2 \\\n",
    "--restart_epoch $RESTART --adv_sift $ADV_SIFT --fp16 $FP16 --weight_decay $WD --freeze_layers $FREEZE \\\n",
    "--mt $MULTI_TASK --w_mt $W_MT \\\n",
    "--awp $AWP --awp_lr $AWP_LR --awp_eps $AWP_EPS --awp_start_epoch $AWP_START_EPOCH \\\n",
    "--pretrained_detector_path $PRETRAINED_DETECTOR_PATH --mask_prob $MASK_PROB --mask_ratio $MASK_RATIO \\\n",
    "--scheduler $SCHEDULER --num_cycles $NUM_CYCLES --check_pointing $CP \\\n",
    "--window_size $WINDOW_SIZE --inner_len $INNER_LEN --edge_len $EDGE_LEN"
   ]
  },
  {
   "cell_type": "markdown",
   "metadata": {},
   "source": [
    "# SWA"
   ]
  },
  {
   "cell_type": "code",
   "execution_count": 7,
   "metadata": {},
   "outputs": [],
   "source": [
    "!python ../$VERSION/swa.py --work_dir ./result/$VERSION/ --fold 0 --seed $SEED --start_epoch 3 --end_epoch 5\n",
    "!python ../$VERSION/swa.py --work_dir ./result/$VERSION/ --fold 1 --seed $SEED --start_epoch 3 --end_epoch 5\n",
    "!python ../$VERSION/swa.py --work_dir ./result/$VERSION/ --fold 2 --seed $SEED --start_epoch 3 --end_epoch 5\n",
    "!python ../$VERSION/swa.py --work_dir ./result/$VERSION/ --fold 3 --seed $SEED --start_epoch 3 --end_epoch 4\n",
    "!python ../$VERSION/swa.py --work_dir ./result/$VERSION/ --fold 4 --seed $SEED --start_epoch 3 --end_epoch 4"
   ]
  },
  {
   "cell_type": "code",
   "execution_count": 8,
   "metadata": {
    "scrolled": true
   },
   "outputs": [
    {
     "name": "stdout",
     "output_type": "stream",
     "text": [
      "torch 1.10.1\n",
      "2022-07-23 14:16:56.735673: W tensorflow/stream_executor/platform/default/dso_loader.cc:59] Could not load dynamic library 'libcudart.so.10.1'; dlerror: libcudart.so.10.1: cannot open shared object file: No such file or directory; LD_LIBRARY_PATH: /usr/local/cuda-10.2/lib64:\n",
      "2022-07-23 14:16:56.735697: I tensorflow/stream_executor/cuda/cudart_stub.cc:29] Ignore above cudart dlerror if you do not have a GPU set up on your machine.\n",
      "train_df.shape =  (36765, 5)\n",
      "test_df.shape =  (10, 4)\n",
      "sub_df.shape =  (10, 4)\n",
      "load folds...\n",
      "trn_df.shape =  (29462, 6)\n",
      "val_df.shape =  (7303, 6)\n",
      "100%|█████████████████████████████████████████| 839/839 [01:09<00:00, 12.08it/s]\n",
      "val_loss=0.5948, val_score=-0.5948\n",
      "preds.shape =  (7303, 3)\n",
      "labels.shape =  (7303,)\n",
      "losses.shape =  (7303,)\n",
      "discourse_ids.shape =  (7303,)\n"
     ]
    }
   ],
   "source": [
    "FOLD = 0\n",
    "WEIGHT_PATH = f'./result/{VERSION}/model_seed{SEED}_fold{FOLD}_swa.pth'\n",
    "\n",
    "!python ../$VERSION/validation.py --model $MODEL --version $VERSION --fold_path $FOLD_PATH --fold $FOLD --seed $SEED --val_batch_size $VAL_BS \\\n",
    "--rnn $RNN --loss $LOSS --mt $MULTI_TASK --num_labels $NUM_LABELS --loss $LOSS --weight_path $WEIGHT_PATH \\\n",
    "--window_size $WINDOW_SIZE --inner_len $INNER_LEN --edge_len $EDGE_LEN"
   ]
  },
  {
   "cell_type": "code",
   "execution_count": 9,
   "metadata": {
    "scrolled": true
   },
   "outputs": [
    {
     "name": "stdout",
     "output_type": "stream",
     "text": [
      "torch 1.10.1\n",
      "2022-07-23 14:18:30.626377: W tensorflow/stream_executor/platform/default/dso_loader.cc:59] Could not load dynamic library 'libcudart.so.10.1'; dlerror: libcudart.so.10.1: cannot open shared object file: No such file or directory; LD_LIBRARY_PATH: /usr/local/cuda-10.2/lib64:\n",
      "2022-07-23 14:18:30.626399: I tensorflow/stream_executor/cuda/cudart_stub.cc:29] Ignore above cudart dlerror if you do not have a GPU set up on your machine.\n",
      "train_df.shape =  (36765, 5)\n",
      "test_df.shape =  (10, 4)\n",
      "sub_df.shape =  (10, 4)\n",
      "load folds...\n",
      "trn_df.shape =  (29383, 6)\n",
      "val_df.shape =  (7382, 6)\n",
      "100%|█████████████████████████████████████████| 838/838 [01:11<00:00, 11.69it/s]\n",
      "val_loss=0.6199, val_score=-0.6199\n",
      "preds.shape =  (7382, 3)\n",
      "labels.shape =  (7382,)\n",
      "losses.shape =  (7382,)\n",
      "discourse_ids.shape =  (7382,)\n"
     ]
    }
   ],
   "source": [
    "FOLD = 1\n",
    "WEIGHT_PATH = f'./result/{VERSION}/model_seed{SEED}_fold{FOLD}_swa.pth'\n",
    "\n",
    "!python ../$VERSION/validation.py --model $MODEL --version $VERSION --fold_path $FOLD_PATH --fold $FOLD --seed $SEED --val_batch_size $VAL_BS \\\n",
    "--rnn $RNN --loss $LOSS --mt $MULTI_TASK --num_labels $NUM_LABELS --loss $LOSS --weight_path $WEIGHT_PATH \\\n",
    "--window_size $WINDOW_SIZE --inner_len $INNER_LEN --edge_len $EDGE_LEN"
   ]
  },
  {
   "cell_type": "code",
   "execution_count": 10,
   "metadata": {},
   "outputs": [
    {
     "name": "stdout",
     "output_type": "stream",
     "text": [
      "torch 1.10.1\n",
      "2022-07-23 14:20:01.821519: W tensorflow/stream_executor/platform/default/dso_loader.cc:59] Could not load dynamic library 'libcudart.so.10.1'; dlerror: libcudart.so.10.1: cannot open shared object file: No such file or directory; LD_LIBRARY_PATH: /usr/local/cuda-10.2/lib64:\n",
      "2022-07-23 14:20:01.821542: I tensorflow/stream_executor/cuda/cudart_stub.cc:29] Ignore above cudart dlerror if you do not have a GPU set up on your machine.\n",
      "train_df.shape =  (36765, 5)\n",
      "test_df.shape =  (10, 4)\n",
      "sub_df.shape =  (10, 4)\n",
      "load folds...\n",
      "trn_df.shape =  (29461, 6)\n",
      "val_df.shape =  (7304, 6)\n",
      "100%|█████████████████████████████████████████| 838/838 [01:14<00:00, 11.24it/s]\n",
      "val_loss=0.6026, val_score=-0.6026\n",
      "preds.shape =  (7304, 3)\n",
      "labels.shape =  (7304,)\n",
      "losses.shape =  (7304,)\n",
      "discourse_ids.shape =  (7304,)\n"
     ]
    }
   ],
   "source": [
    "FOLD = 2\n",
    "WEIGHT_PATH = f'./result/{VERSION}/model_seed{SEED}_fold{FOLD}_swa.pth'\n",
    "\n",
    "!python ../$VERSION/validation.py --model $MODEL --version $VERSION --fold_path $FOLD_PATH --fold $FOLD --seed $SEED --val_batch_size $VAL_BS \\\n",
    "--rnn $RNN --loss $LOSS --mt $MULTI_TASK --num_labels $NUM_LABELS --loss $LOSS --weight_path $WEIGHT_PATH \\\n",
    "--window_size $WINDOW_SIZE --inner_len $INNER_LEN --edge_len $EDGE_LEN"
   ]
  },
  {
   "cell_type": "code",
   "execution_count": 11,
   "metadata": {},
   "outputs": [
    {
     "name": "stdout",
     "output_type": "stream",
     "text": [
      "torch 1.10.1\n",
      "2022-07-23 14:21:36.033300: W tensorflow/stream_executor/platform/default/dso_loader.cc:59] Could not load dynamic library 'libcudart.so.10.1'; dlerror: libcudart.so.10.1: cannot open shared object file: No such file or directory; LD_LIBRARY_PATH: /usr/local/cuda-10.2/lib64:\n",
      "2022-07-23 14:21:36.033324: I tensorflow/stream_executor/cuda/cudart_stub.cc:29] Ignore above cudart dlerror if you do not have a GPU set up on your machine.\n",
      "train_df.shape =  (36765, 5)\n",
      "test_df.shape =  (10, 4)\n",
      "sub_df.shape =  (10, 4)\n",
      "load folds...\n",
      "trn_df.shape =  (29348, 6)\n",
      "val_df.shape =  (7417, 6)\n",
      "100%|█████████████████████████████████████████| 838/838 [01:12<00:00, 11.61it/s]\n",
      "val_loss=0.6147, val_score=-0.6147\n",
      "preds.shape =  (7417, 3)\n",
      "labels.shape =  (7417,)\n",
      "losses.shape =  (7417,)\n",
      "discourse_ids.shape =  (7417,)\n"
     ]
    }
   ],
   "source": [
    "FOLD = 3\n",
    "WEIGHT_PATH = f'./result/{VERSION}/model_seed{SEED}_fold{FOLD}_swa.pth'\n",
    "\n",
    "!python ../$VERSION/validation.py --model $MODEL --version $VERSION --fold_path $FOLD_PATH --fold $FOLD --seed $SEED --val_batch_size $VAL_BS \\\n",
    "--rnn $RNN --loss $LOSS --mt $MULTI_TASK --num_labels $NUM_LABELS --loss $LOSS --weight_path $WEIGHT_PATH \\\n",
    "--window_size $WINDOW_SIZE --inner_len $INNER_LEN --edge_len $EDGE_LEN"
   ]
  },
  {
   "cell_type": "code",
   "execution_count": 12,
   "metadata": {},
   "outputs": [
    {
     "name": "stdout",
     "output_type": "stream",
     "text": [
      "torch 1.10.1\n",
      "2022-07-23 14:23:07.921089: W tensorflow/stream_executor/platform/default/dso_loader.cc:59] Could not load dynamic library 'libcudart.so.10.1'; dlerror: libcudart.so.10.1: cannot open shared object file: No such file or directory; LD_LIBRARY_PATH: /usr/local/cuda-10.2/lib64:\n",
      "2022-07-23 14:23:07.921148: I tensorflow/stream_executor/cuda/cudart_stub.cc:29] Ignore above cudart dlerror if you do not have a GPU set up on your machine.\n",
      "train_df.shape =  (36765, 5)\n",
      "test_df.shape =  (10, 4)\n",
      "sub_df.shape =  (10, 4)\n",
      "load folds...\n",
      "trn_df.shape =  (29406, 6)\n",
      "val_df.shape =  (7359, 6)\n",
      "100%|█████████████████████████████████████████| 838/838 [01:13<00:00, 11.43it/s]\n",
      "val_loss=0.6137, val_score=-0.6137\n",
      "preds.shape =  (7359, 3)\n",
      "labels.shape =  (7359,)\n",
      "losses.shape =  (7359,)\n",
      "discourse_ids.shape =  (7359,)\n"
     ]
    }
   ],
   "source": [
    "FOLD = 4\n",
    "WEIGHT_PATH = f'./result/{VERSION}/model_seed{SEED}_fold{FOLD}_swa.pth'\n",
    "\n",
    "!python ../$VERSION/validation.py --model $MODEL --version $VERSION --fold_path $FOLD_PATH --fold $FOLD --seed $SEED --val_batch_size $VAL_BS \\\n",
    "--rnn $RNN --loss $LOSS --mt $MULTI_TASK --num_labels $NUM_LABELS --loss $LOSS --weight_path $WEIGHT_PATH \\\n",
    "--window_size $WINDOW_SIZE --inner_len $INNER_LEN --edge_len $EDGE_LEN"
   ]
  },
  {
   "cell_type": "code",
   "execution_count": 13,
   "metadata": {},
   "outputs": [],
   "source": [
    "import pandas as pd\n",
    "\n",
    "preds = []\n",
    "for fold in range(5):\n",
    "    tmp_df = pd.read_csv(f'./result/{VERSION}/pred_fold{fold}.csv')\n",
    "    preds.append(tmp_df)\n",
    "    \n",
    "pred_df = pd.concat(preds, axis=0).reset_index(drop=True)\n",
    "train_df = pd.read_csv('../../input/feedback-prize-effectiveness/train.csv')\n",
    "\n",
    "oof_df = train_df.merge(pred_df, on='discourse_id', how='left')\n",
    "oof_df.to_csv(f'./result/{VERSION}/oof_df.csv', index=False)"
   ]
  },
  {
   "cell_type": "code",
   "execution_count": 14,
   "metadata": {},
   "outputs": [
    {
     "data": {
      "text/plain": [
       "((36765, 10),\n",
       " discourse_id               0\n",
       " essay_id                   0\n",
       " discourse_text             0\n",
       " discourse_type             0\n",
       " discourse_effectiveness    0\n",
       " pred_ineffective           0\n",
       " pred_adequate              0\n",
       " pred_effective             0\n",
       " label                      0\n",
       " loss                       0\n",
       " dtype: int64)"
      ]
     },
     "execution_count": 14,
     "metadata": {},
     "output_type": "execute_result"
    }
   ],
   "source": [
    "oof_df.shape, oof_df.isnull().sum()"
   ]
  },
  {
   "cell_type": "code",
   "execution_count": null,
   "metadata": {},
   "outputs": [],
   "source": []
  },
  {
   "cell_type": "code",
   "execution_count": null,
   "metadata": {},
   "outputs": [],
   "source": []
  }
 ],
 "metadata": {
  "kernelspec": {
   "display_name": "Python 3",
   "language": "python",
   "name": "python3"
  },
  "language_info": {
   "codemirror_mode": {
    "name": "ipython",
    "version": 3
   },
   "file_extension": ".py",
   "mimetype": "text/x-python",
   "name": "python",
   "nbconvert_exporter": "python",
   "pygments_lexer": "ipython3",
   "version": "3.7.8"
  }
 },
 "nbformat": 4,
 "nbformat_minor": 4
}
