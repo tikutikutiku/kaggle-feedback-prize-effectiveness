{
 "cells": [
  {
   "cell_type": "code",
   "execution_count": 1,
   "id": "colored-needle",
   "metadata": {},
   "outputs": [],
   "source": [
    "VERSION = '18_v2_03'\n",
    "FOLD_PATH = '../../00_EDA/00_v2_07/result/' #'../../00_EDA/00_v1_01/result/'\n",
    "MODEL = 'microsoft/deberta-v3-large' \n",
    "#'microsoft/deberta-large'\n",
    "\n",
    "SEED=100\n",
    "WINDOW = 512\n",
    "INNER = 384\n",
    "EDGE = 64\n",
    "UNLABELED_DATA_PATH = '../../00_EDA/00_v2_11/result/unlabeled.csv'"
   ]
  },
  {
   "cell_type": "code",
   "execution_count": 2,
   "id": "aerial-formula",
   "metadata": {},
   "outputs": [
    {
     "name": "stdout",
     "output_type": "stream",
     "text": [
      "torch 1.10.2\n",
      "2022-08-03 22:42:06.248873: W tensorflow/stream_executor/platform/default/dso_loader.cc:59] Could not load dynamic library 'libcudart.so.10.1'; dlerror: libcudart.so.10.1: cannot open shared object file: No such file or directory; LD_LIBRARY_PATH: /usr/local/cuda/lib64:\n",
      "2022-08-03 22:42:06.248896: I tensorflow/stream_executor/cuda/cudart_stub.cc:29] Ignore above cudart dlerror if you do not have a GPU set up on your machine.\n",
      "test_df.shape =  (107528, 8)\n",
      "100%|█████████████████████████████████████| 11403/11403 [10:20<00:00, 18.38it/s]\n"
     ]
    }
   ],
   "source": [
    "FOLD = 0\n",
    "\n",
    "!python ../$VERSION/pseudo_label.py --version $VERSION --model $MODEL \\\n",
    "--seed $SEED --fold_path $FOLD_PATH --fold $FOLD --window_size $WINDOW --inner_len $INNER --edge_len $EDGE \\\n",
    "--unlabeled_data_path $UNLABELED_DATA_PATH"
   ]
  },
  {
   "cell_type": "code",
   "execution_count": 3,
   "id": "southwest-california",
   "metadata": {},
   "outputs": [
    {
     "data": {
      "text/plain": [
       "(107528, 11)"
      ]
     },
     "execution_count": 3,
     "metadata": {},
     "output_type": "execute_result"
    }
   ],
   "source": [
    "import pandas as pd\n",
    "pd.read_csv(f'result/{VERSION}/pseudo_fold0.csv').shape"
   ]
  },
  {
   "cell_type": "code",
   "execution_count": null,
   "id": "champion-repeat",
   "metadata": {},
   "outputs": [],
   "source": []
  },
  {
   "cell_type": "code",
   "execution_count": null,
   "id": "outer-jamaica",
   "metadata": {},
   "outputs": [],
   "source": []
  },
  {
   "cell_type": "code",
   "execution_count": 4,
   "id": "special-sunday",
   "metadata": {},
   "outputs": [
    {
     "name": "stdout",
     "output_type": "stream",
     "text": [
      "torch 1.10.2\n",
      "2022-08-03 22:52:44.907957: W tensorflow/stream_executor/platform/default/dso_loader.cc:59] Could not load dynamic library 'libcudart.so.10.1'; dlerror: libcudart.so.10.1: cannot open shared object file: No such file or directory; LD_LIBRARY_PATH: /usr/local/cuda/lib64:\n",
      "2022-08-03 22:52:44.907980: I tensorflow/stream_executor/cuda/cudart_stub.cc:29] Ignore above cudart dlerror if you do not have a GPU set up on your machine.\n",
      "test_df.shape =  (107528, 8)\n",
      "100%|█████████████████████████████████████| 11403/11403 [10:12<00:00, 18.62it/s]\n",
      "torch 1.10.2\n",
      "2022-08-03 23:03:14.853443: W tensorflow/stream_executor/platform/default/dso_loader.cc:59] Could not load dynamic library 'libcudart.so.10.1'; dlerror: libcudart.so.10.1: cannot open shared object file: No such file or directory; LD_LIBRARY_PATH: /usr/local/cuda/lib64:\n",
      "2022-08-03 23:03:14.853466: I tensorflow/stream_executor/cuda/cudart_stub.cc:29] Ignore above cudart dlerror if you do not have a GPU set up on your machine.\n",
      "test_df.shape =  (107528, 8)\n",
      "100%|█████████████████████████████████████| 11403/11403 [10:13<00:00, 18.59it/s]\n",
      "torch 1.10.2\n",
      "2022-08-03 23:13:45.734720: W tensorflow/stream_executor/platform/default/dso_loader.cc:59] Could not load dynamic library 'libcudart.so.10.1'; dlerror: libcudart.so.10.1: cannot open shared object file: No such file or directory; LD_LIBRARY_PATH: /usr/local/cuda/lib64:\n",
      "2022-08-03 23:13:45.734742: I tensorflow/stream_executor/cuda/cudart_stub.cc:29] Ignore above cudart dlerror if you do not have a GPU set up on your machine.\n",
      "test_df.shape =  (107528, 8)\n",
      "100%|█████████████████████████████████████| 11403/11403 [10:19<00:00, 18.41it/s]\n",
      "torch 1.10.2\n",
      "2022-08-03 23:24:22.866490: W tensorflow/stream_executor/platform/default/dso_loader.cc:59] Could not load dynamic library 'libcudart.so.10.1'; dlerror: libcudart.so.10.1: cannot open shared object file: No such file or directory; LD_LIBRARY_PATH: /usr/local/cuda/lib64:\n",
      "2022-08-03 23:24:22.866512: I tensorflow/stream_executor/cuda/cudart_stub.cc:29] Ignore above cudart dlerror if you do not have a GPU set up on your machine.\n",
      "test_df.shape =  (107528, 8)\n",
      "100%|█████████████████████████████████████| 11403/11403 [10:12<00:00, 18.61it/s]\n"
     ]
    }
   ],
   "source": [
    "FOLD = 1\n",
    "!python ../$VERSION/pseudo_label.py --version $VERSION --model $MODEL \\\n",
    "--seed $SEED --fold_path $FOLD_PATH --fold $FOLD --window_size $WINDOW --inner_len $INNER --edge_len $EDGE \\\n",
    "--unlabeled_data_path $UNLABELED_DATA_PATH\n",
    "\n",
    "FOLD = 2\n",
    "!python ../$VERSION/pseudo_label.py --version $VERSION --model $MODEL \\\n",
    "--seed $SEED --fold_path $FOLD_PATH --fold $FOLD --window_size $WINDOW --inner_len $INNER --edge_len $EDGE \\\n",
    "--unlabeled_data_path $UNLABELED_DATA_PATH\n",
    "\n",
    "FOLD = 3\n",
    "!python ../$VERSION/pseudo_label.py --version $VERSION --model $MODEL \\\n",
    "--seed $SEED --fold_path $FOLD_PATH --fold $FOLD --window_size $WINDOW --inner_len $INNER --edge_len $EDGE \\\n",
    "--unlabeled_data_path $UNLABELED_DATA_PATH\n",
    "\n",
    "FOLD = 4\n",
    "!python ../$VERSION/pseudo_label.py --version $VERSION --model $MODEL \\\n",
    "--seed $SEED --fold_path $FOLD_PATH --fold $FOLD --window_size $WINDOW --inner_len $INNER --edge_len $EDGE \\\n",
    "--unlabeled_data_path $UNLABELED_DATA_PATH"
   ]
  },
  {
   "cell_type": "code",
   "execution_count": null,
   "id": "potential-teacher",
   "metadata": {},
   "outputs": [],
   "source": []
  },
  {
   "cell_type": "code",
   "execution_count": null,
   "id": "fallen-aside",
   "metadata": {},
   "outputs": [],
   "source": []
  }
 ],
 "metadata": {
  "kernelspec": {
   "display_name": "Python 3 (ipykernel)",
   "language": "python",
   "name": "python3"
  },
  "language_info": {
   "codemirror_mode": {
    "name": "ipython",
    "version": 3
   },
   "file_extension": ".py",
   "mimetype": "text/x-python",
   "name": "python",
   "nbconvert_exporter": "python",
   "pygments_lexer": "ipython3",
   "version": "3.7.3"
  }
 },
 "nbformat": 4,
 "nbformat_minor": 5
}
