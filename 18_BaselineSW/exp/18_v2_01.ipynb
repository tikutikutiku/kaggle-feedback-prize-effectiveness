{
 "cells": [
  {
   "cell_type": "code",
   "execution_count": 1,
   "id": "colored-needle",
   "metadata": {},
   "outputs": [],
   "source": [
    "VERSION = '18_v2_01'\n",
    "FOLD_PATH = '../../00_EDA/00_v2_07/result/' #'../../00_EDA/00_v1_01/result/'\n",
    "MODEL = 'microsoft/deberta-large'\n",
    "#'microsoft/deberta-base'\n",
    "#'microsoft/deberta-v3-base'\n",
    "#'funnel-transformer/xlarge'\n",
    "#'ahotrod/electra_large_discriminator_squad2_512'\n",
    "#'funnel-transformer/xlarge'\n",
    "#'microsoft/deberta-v3-large'\n",
    "#'microsoft/deberta-large'\n",
    "#'anferico/bert-for-patents'\n",
    "#'microsoft/deberta-v3-base'\n",
    "#'microsoft/cocolm-large'\n",
    "LR = 8e-6 #2e-5\n",
    "HEAD_LR = 8e-6 #2e-5\n",
    "SEED = 100\n",
    "TRN_BS = 1\n",
    "VAL_BS = 1\n",
    "ACCUM_STEP = 1\n",
    "EPOCHS = 5 #2\n",
    "STOP_EPOCH = 5 #2\n",
    "RESTART = 1\n",
    "HIDDEN_DROP_PROB = 0\n",
    "P_DROP = 0\n",
    "RNN = 'none'\n",
    "WARMUP_RATIO = 0.1\n",
    "LOSS = 'xentropy'\n",
    "HEAD = 'simple'\n",
    "AUG = 'false' #'mixup'\n",
    "MIXUP_ALPHA = 1.0\n",
    "P_AUG = 0\n",
    "AUG_STOP_EPOCH = 2\n",
    "MSD = 'true'\n",
    "MULTI_LAYERS = 1\n",
    "EVAL_STEP = -1 #100\n",
    "NUM_LABELS = 3\n",
    "NUM_LABELS_2 = 7\n",
    "ADV_SIFT = 'false'\n",
    "FP16 = 'true' #'false'\n",
    "WD = 0.01\n",
    "FREEZE = 'false'\n",
    "#MAX_LENGTH = 1024\n",
    "MULTI_TASK = 'false' #'true'\n",
    "W_MT = 1.0 #0.5\n",
    "#PREPROCESSED_DATA_PATH = '../../00_EDA/00_v2_01/result/train.csv'\n",
    "#'../../00_EDA/00_v1_09/result/train.csv'\n",
    "AWP = 'true'\n",
    "AWP_LR = 1e-2 #1.0\n",
    "AWP_EPS = 1e-3 #0.01\n",
    "AWP_START_EPOCH = 1\n",
    "\n",
    "PRETRAINED_DETECTOR_PATH = f'../../input/tascj/result/deberta_large_fold0.pth'\n",
    "#PRETRAINED_DETECTOR_PATH = f'../../05_Detection/exp/result/05_v1_04/model_seed100_fold0_swa.pth'\n",
    "\n",
    "MASK_PROB = 0.8\n",
    "MASK_RATIO = 0.3\n",
    "\n",
    "SCHEDULER = 'cosine_hard'\n",
    "NUM_CYCLES = EPOCHS\n",
    "\n",
    "CP = 'false'\n",
    "\n",
    "WINDOW_SIZE = 512\n",
    "INNER_LEN = 384\n",
    "EDGE_LEN = 64"
   ]
  },
  {
   "cell_type": "code",
   "execution_count": 2,
   "id": "understood-criminal",
   "metadata": {
    "scrolled": true
   },
   "outputs": [
    {
     "name": "stdout",
     "output_type": "stream",
     "text": [
      "torch 1.10.2\n",
      "train_df.shape =  (36765, 5)\n",
      "test_df.shape =  (10, 4)\n",
      "sub_df.shape =  (10, 4)\n",
      "load folds...\n",
      "trn_df.shape =  (29462, 6)\n",
      "val_df.shape =  (7303, 6)\n",
      "2022-07-18 23:47:57.823411: W tensorflow/stream_executor/platform/default/dso_loader.cc:59] Could not load dynamic library 'libcudart.so.10.1'; dlerror: libcudart.so.10.1: cannot open shared object file: No such file or directory; LD_LIBRARY_PATH: /usr/local/cuda/lib64:\n",
      "2022-07-18 23:47:57.823431: I tensorflow/stream_executor/cuda/cudart_stub.cc:29] Ignore above cudart dlerror if you do not have a GPU set up on your machine.\n",
      "self.warmup_ratio =  0.1\n",
      "self.num_train_steps =  16760\n",
      "num_warmup_steps =  1676\n",
      "lr :  [0.0, 0.0, 0.0]\n",
      "100%|████████████████████████████| 3352/3352 [23:59<00:00,  2.33it/s, loss=1.55]\n",
      "100%|█████████████████████████████████████████| 839/839 [01:24<00:00,  9.94it/s]\n",
      "epoch 1: trn_loss = 1.5532, val_loss = 0.6611, trn_score = -0.7578, val_score = -0.6611\n",
      "model (best loss) saved\n",
      "model (best score) saved\n",
      "lr :  [3.3054072893322785e-06, 3.3054072893322785e-06, 3.3054072893322785e-06]\n",
      "100%|████████████████████████████| 3352/3352 [23:46<00:00,  2.35it/s, loss=1.27]\n",
      "100%|█████████████████████████████████████████| 839/839 [01:23<00:00, 10.05it/s]\n",
      "epoch 2: trn_loss = 1.2673, val_loss = 0.6269, trn_score = -0.6175, val_score = -0.6269\n",
      "model (best loss) saved\n",
      "model (best score) saved\n",
      "lr :  [2.0000000000000025e-06, 2.0000000000000025e-06, 2.0000000000000025e-06]\n",
      "100%|████████████████████████████| 3352/3352 [23:51<00:00,  2.34it/s, loss=1.18]\n",
      "100%|█████████████████████████████████████████| 839/839 [01:23<00:00, 10.06it/s]\n",
      "epoch 3: trn_loss = 1.1827, val_loss = 0.5996, trn_score = -0.5751, val_score = -0.5996\n",
      "model (best loss) saved\n",
      "model (best score) saved\n",
      "lr :  [9.358222275240884e-07, 9.358222275240884e-07, 9.358222275240884e-07]\n",
      "100%|████████████████████████████| 3352/3352 [23:54<00:00,  2.34it/s, loss=1.11]\n",
      "100%|█████████████████████████████████████████| 839/839 [01:23<00:00, 10.07it/s]\n",
      "epoch 4: trn_loss = 1.1050, val_loss = 0.6014, trn_score = -0.5350, val_score = -0.6014\n",
      "lr :  [2.412295168563667e-07, 2.412295168563667e-07, 2.412295168563667e-07]\n",
      "100%|████████████████████████████| 3352/3352 [23:55<00:00,  2.34it/s, loss=1.03]\n",
      "100%|█████████████████████████████████████████| 839/839 [01:23<00:00, 10.06it/s]\n",
      "epoch 5: trn_loss = 1.0261, val_loss = 0.6058, trn_score = -0.4952, val_score = -0.6058\n",
      "epoch_best 3, val_loss_best 0.59960, val_score_best -0.59960\n",
      "\n"
     ]
    }
   ],
   "source": [
    "FOLD = 0\n",
    "\n",
    "!python ../$VERSION/train.py --model $MODEL --version $VERSION --fold_path $FOLD_PATH --fold $FOLD --seed $SEED \\\n",
    "--lr $LR --head_lr $HEAD_LR --trn_batch_size $TRN_BS --val_batch_size $VAL_BS \\\n",
    "--epochs $EPOCHS --hidden_drop_prob $HIDDEN_DROP_PROB --p_drop $P_DROP \\\n",
    "--accumulate_grad_batches $ACCUM_STEP --rnn $RNN --warmup_ratio $WARMUP_RATIO --loss $LOSS --aug $AUG --head $HEAD \\\n",
    "--mixup_alpha $MIXUP_ALPHA --p_aug $P_AUG --aug_stop_epoch $AUG_STOP_EPOCH \\\n",
    "--msd $MSD --multi_layers $MULTI_LAYERS --eval_step $EVAL_STEP --stop_epoch $STOP_EPOCH \\\n",
    "--num_labels $NUM_LABELS --num_labels_2 $NUM_LABELS_2 \\\n",
    "--restart_epoch $RESTART --adv_sift $ADV_SIFT --fp16 $FP16 --weight_decay $WD --freeze_layers $FREEZE \\\n",
    "--mt $MULTI_TASK --w_mt $W_MT \\\n",
    "--awp $AWP --awp_lr $AWP_LR --awp_eps $AWP_EPS --awp_start_epoch $AWP_START_EPOCH \\\n",
    "--pretrained_detector_path $PRETRAINED_DETECTOR_PATH --mask_prob $MASK_PROB --mask_ratio $MASK_RATIO \\\n",
    "--scheduler $SCHEDULER --num_cycles $NUM_CYCLES --check_pointing $CP \\\n",
    "--window_size $WINDOW_SIZE --inner_len $INNER_LEN --edge_len $EDGE_LEN"
   ]
  },
  {
   "cell_type": "code",
   "execution_count": 3,
   "id": "acceptable-school",
   "metadata": {
    "scrolled": true
   },
   "outputs": [
    {
     "name": "stdout",
     "output_type": "stream",
     "text": [
      "torch 1.10.2\n",
      "train_df.shape =  (36765, 5)\n",
      "test_df.shape =  (10, 4)\n",
      "sub_df.shape =  (10, 4)\n",
      "load folds...\n",
      "trn_df.shape =  (29383, 6)\n",
      "val_df.shape =  (7382, 6)\n",
      "2022-07-19 01:55:05.211354: W tensorflow/stream_executor/platform/default/dso_loader.cc:59] Could not load dynamic library 'libcudart.so.10.1'; dlerror: libcudart.so.10.1: cannot open shared object file: No such file or directory; LD_LIBRARY_PATH: /usr/local/cuda/lib64:\n",
      "2022-07-19 01:55:05.211376: I tensorflow/stream_executor/cuda/cudart_stub.cc:29] Ignore above cudart dlerror if you do not have a GPU set up on your machine.\n",
      "self.warmup_ratio =  0.1\n",
      "self.num_train_steps =  16765\n",
      "num_warmup_steps =  1676\n",
      "lr :  [0.0, 0.0, 0.0]\n",
      "100%|████████████████████████████| 3353/3353 [24:04<00:00,  2.32it/s, loss=1.53]\n",
      "100%|█████████████████████████████████████████| 838/838 [01:23<00:00, 10.06it/s]\n",
      "epoch 1: trn_loss = 1.5320, val_loss = 0.6670, trn_score = -0.7463, val_score = -0.6670\n",
      "model (best loss) saved\n",
      "model (best score) saved\n",
      "lr :  [3.303584776396759e-06, 3.303584776396759e-06, 3.303584776396759e-06]\n",
      "100%|████████████████████████████| 3353/3353 [24:10<00:00,  2.31it/s, loss=1.29]\n",
      "100%|█████████████████████████████████████████| 838/838 [01:23<00:00, 10.10it/s]\n",
      "epoch 2: trn_loss = 1.2876, val_loss = 0.6302, trn_score = -0.6271, val_score = -0.6302\n",
      "model (best loss) saved\n",
      "model (best score) saved\n",
      "lr :  [1.998798053127825e-06, 1.998798053127825e-06, 1.998798053127825e-06]\n",
      "100%|█████████████████████████████| 3353/3353 [24:07<00:00,  2.32it/s, loss=1.2]\n",
      "100%|█████████████████████████████████████████| 838/838 [01:23<00:00,  9.99it/s]\n",
      "epoch 3: trn_loss = 1.1985, val_loss = 0.6114, trn_score = -0.5837, val_score = -0.6114\n",
      "model (best loss) saved\n",
      "model (best score) saved\n",
      "lr :  [9.352275048208716e-07, 9.352275048208716e-07, 9.352275048208716e-07]\n",
      "100%|████████████████████████████| 3353/3353 [24:08<00:00,  2.31it/s, loss=1.12]\n",
      "100%|█████████████████████████████████████████| 838/838 [01:23<00:00, 10.01it/s]\n",
      "epoch 4: trn_loss = 1.1157, val_loss = 0.6196, trn_score = -0.5411, val_score = -0.6196\n",
      "lr :  [2.410712975159734e-07, 2.410712975159734e-07, 2.410712975159734e-07]\n",
      "100%|████████████████████████████| 3353/3353 [24:09<00:00,  2.31it/s, loss=1.04]\n",
      "100%|█████████████████████████████████████████| 838/838 [01:23<00:00, 10.06it/s]\n",
      "epoch 5: trn_loss = 1.0363, val_loss = 0.6319, trn_score = -0.5002, val_score = -0.6319\n",
      "epoch_best 3, val_loss_best 0.61139, val_score_best -0.61139\n",
      "\n"
     ]
    }
   ],
   "source": [
    "FOLD = 1\n",
    "\n",
    "!python ../$VERSION/train.py --model $MODEL --version $VERSION --fold_path $FOLD_PATH --fold $FOLD --seed $SEED \\\n",
    "--lr $LR --head_lr $HEAD_LR --trn_batch_size $TRN_BS --val_batch_size $VAL_BS \\\n",
    "--epochs $EPOCHS --hidden_drop_prob $HIDDEN_DROP_PROB --p_drop $P_DROP \\\n",
    "--accumulate_grad_batches $ACCUM_STEP --rnn $RNN --warmup_ratio $WARMUP_RATIO --loss $LOSS --aug $AUG --head $HEAD \\\n",
    "--mixup_alpha $MIXUP_ALPHA --p_aug $P_AUG --aug_stop_epoch $AUG_STOP_EPOCH \\\n",
    "--msd $MSD --multi_layers $MULTI_LAYERS --eval_step $EVAL_STEP --stop_epoch $STOP_EPOCH \\\n",
    "--num_labels $NUM_LABELS --num_labels_2 $NUM_LABELS_2 \\\n",
    "--restart_epoch $RESTART --adv_sift $ADV_SIFT --fp16 $FP16 --weight_decay $WD --freeze_layers $FREEZE \\\n",
    "--mt $MULTI_TASK --w_mt $W_MT \\\n",
    "--awp $AWP --awp_lr $AWP_LR --awp_eps $AWP_EPS --awp_start_epoch $AWP_START_EPOCH \\\n",
    "--pretrained_detector_path $PRETRAINED_DETECTOR_PATH --mask_prob $MASK_PROB --mask_ratio $MASK_RATIO \\\n",
    "--scheduler $SCHEDULER --num_cycles $NUM_CYCLES --check_pointing $CP \\\n",
    "--window_size $WINDOW_SIZE --inner_len $INNER_LEN --edge_len $EDGE_LEN"
   ]
  },
  {
   "cell_type": "code",
   "execution_count": 4,
   "id": "latin-property",
   "metadata": {
    "scrolled": true
   },
   "outputs": [
    {
     "name": "stdout",
     "output_type": "stream",
     "text": [
      "torch 1.10.2\n",
      "train_df.shape =  (36765, 5)\n",
      "test_df.shape =  (10, 4)\n",
      "sub_df.shape =  (10, 4)\n",
      "load folds...\n",
      "trn_df.shape =  (29461, 6)\n",
      "val_df.shape =  (7304, 6)\n",
      "2022-07-19 04:03:24.941007: W tensorflow/stream_executor/platform/default/dso_loader.cc:59] Could not load dynamic library 'libcudart.so.10.1'; dlerror: libcudart.so.10.1: cannot open shared object file: No such file or directory; LD_LIBRARY_PATH: /usr/local/cuda/lib64:\n",
      "2022-07-19 04:03:24.941027: I tensorflow/stream_executor/cuda/cudart_stub.cc:29] Ignore above cudart dlerror if you do not have a GPU set up on your machine.\n",
      "self.warmup_ratio =  0.1\n",
      "self.num_train_steps =  16765\n",
      "num_warmup_steps =  1676\n",
      "lr :  [0.0, 0.0, 0.0]\n",
      "100%|████████████████████████████| 3353/3353 [24:01<00:00,  2.33it/s, loss=1.56]\n",
      "100%|█████████████████████████████████████████| 838/838 [01:24<00:00,  9.87it/s]\n",
      "epoch 1: trn_loss = 1.5595, val_loss = 0.6661, trn_score = -0.7610, val_score = -0.6661\n",
      "model (best loss) saved\n",
      "model (best score) saved\n",
      "lr :  [3.303584776396759e-06, 3.303584776396759e-06, 3.303584776396759e-06]\n",
      "100%|████████████████████████████| 3353/3353 [24:02<00:00,  2.32it/s, loss=1.28]\n",
      "100%|█████████████████████████████████████████| 838/838 [01:24<00:00,  9.93it/s]\n",
      "epoch 2: trn_loss = 1.2830, val_loss = 0.6097, trn_score = -0.6263, val_score = -0.6097\n",
      "model (best loss) saved\n",
      "model (best score) saved\n",
      "lr :  [1.998798053127825e-06, 1.998798053127825e-06, 1.998798053127825e-06]\n",
      "100%|████████████████████████████| 3353/3353 [24:03<00:00,  2.32it/s, loss=1.19]\n",
      "100%|█████████████████████████████████████████| 838/838 [01:24<00:00,  9.94it/s]\n",
      "epoch 3: trn_loss = 1.1857, val_loss = 0.6004, trn_score = -0.5771, val_score = -0.6004\n",
      "model (best loss) saved\n",
      "model (best score) saved\n",
      "lr :  [9.352275048208716e-07, 9.352275048208716e-07, 9.352275048208716e-07]\n",
      "100%|████████████████████████████| 3353/3353 [24:03<00:00,  2.32it/s, loss=1.11]\n",
      "100%|█████████████████████████████████████████| 838/838 [01:24<00:00,  9.93it/s]\n",
      "epoch 4: trn_loss = 1.1085, val_loss = 0.6086, trn_score = -0.5379, val_score = -0.6086\n",
      "lr :  [2.410712975159734e-07, 2.410712975159734e-07, 2.410712975159734e-07]\n",
      "100%|████████████████████████████| 3353/3353 [24:12<00:00,  2.31it/s, loss=1.04]\n",
      "100%|█████████████████████████████████████████| 838/838 [01:25<00:00,  9.82it/s]\n",
      "epoch 5: trn_loss = 1.0413, val_loss = 0.6008, trn_score = -0.5032, val_score = -0.6008\n",
      "epoch_best 3, val_loss_best 0.60044, val_score_best -0.60044\n",
      "\n"
     ]
    }
   ],
   "source": [
    "FOLD = 2\n",
    "\n",
    "!python ../$VERSION/train.py --model $MODEL --version $VERSION --fold_path $FOLD_PATH --fold $FOLD --seed $SEED \\\n",
    "--lr $LR --head_lr $HEAD_LR --trn_batch_size $TRN_BS --val_batch_size $VAL_BS \\\n",
    "--epochs $EPOCHS --hidden_drop_prob $HIDDEN_DROP_PROB --p_drop $P_DROP \\\n",
    "--accumulate_grad_batches $ACCUM_STEP --rnn $RNN --warmup_ratio $WARMUP_RATIO --loss $LOSS --aug $AUG --head $HEAD \\\n",
    "--mixup_alpha $MIXUP_ALPHA --p_aug $P_AUG --aug_stop_epoch $AUG_STOP_EPOCH \\\n",
    "--msd $MSD --multi_layers $MULTI_LAYERS --eval_step $EVAL_STEP --stop_epoch $STOP_EPOCH \\\n",
    "--num_labels $NUM_LABELS --num_labels_2 $NUM_LABELS_2 \\\n",
    "--restart_epoch $RESTART --adv_sift $ADV_SIFT --fp16 $FP16 --weight_decay $WD --freeze_layers $FREEZE \\\n",
    "--mt $MULTI_TASK --w_mt $W_MT \\\n",
    "--awp $AWP --awp_lr $AWP_LR --awp_eps $AWP_EPS --awp_start_epoch $AWP_START_EPOCH \\\n",
    "--pretrained_detector_path $PRETRAINED_DETECTOR_PATH --mask_prob $MASK_PROB --mask_ratio $MASK_RATIO \\\n",
    "--scheduler $SCHEDULER --num_cycles $NUM_CYCLES --check_pointing $CP \\\n",
    "--window_size $WINDOW_SIZE --inner_len $INNER_LEN --edge_len $EDGE_LEN"
   ]
  },
  {
   "cell_type": "code",
   "execution_count": 5,
   "id": "assumed-tumor",
   "metadata": {
    "scrolled": true
   },
   "outputs": [
    {
     "name": "stdout",
     "output_type": "stream",
     "text": [
      "torch 1.10.2\n",
      "train_df.shape =  (36765, 5)\n",
      "test_df.shape =  (10, 4)\n",
      "sub_df.shape =  (10, 4)\n",
      "load folds...\n",
      "trn_df.shape =  (29348, 6)\n",
      "val_df.shape =  (7417, 6)\n",
      "2022-07-19 06:11:32.421618: W tensorflow/stream_executor/platform/default/dso_loader.cc:59] Could not load dynamic library 'libcudart.so.10.1'; dlerror: libcudart.so.10.1: cannot open shared object file: No such file or directory; LD_LIBRARY_PATH: /usr/local/cuda/lib64:\n",
      "2022-07-19 06:11:32.421640: I tensorflow/stream_executor/cuda/cudart_stub.cc:29] Ignore above cudart dlerror if you do not have a GPU set up on your machine.\n",
      "self.warmup_ratio =  0.1\n",
      "self.num_train_steps =  16765\n",
      "num_warmup_steps =  1676\n",
      "lr :  [0.0, 0.0, 0.0]\n",
      "100%|████████████████████████████| 3353/3353 [23:52<00:00,  2.34it/s, loss=1.54]\n",
      "100%|█████████████████████████████████████████| 838/838 [01:22<00:00, 10.19it/s]\n",
      "epoch 1: trn_loss = 1.5407, val_loss = 0.7608, trn_score = -0.7508, val_score = -0.7608\n",
      "model (best loss) saved\n",
      "model (best score) saved\n",
      "lr :  [3.303584776396759e-06, 3.303584776396759e-06, 3.303584776396759e-06]\n",
      "100%|████████████████████████████| 3353/3353 [23:53<00:00,  2.34it/s, loss=1.27]\n",
      "100%|█████████████████████████████████████████| 838/838 [01:23<00:00, 10.07it/s]\n",
      "epoch 2: trn_loss = 1.2657, val_loss = 0.6216, trn_score = -0.6171, val_score = -0.6216\n",
      "model (best loss) saved\n",
      "model (best score) saved\n",
      "lr :  [1.998798053127825e-06, 1.998798053127825e-06, 1.998798053127825e-06]\n",
      "100%|████████████████████████████| 3353/3353 [24:12<00:00,  2.31it/s, loss=1.18]\n",
      "100%|█████████████████████████████████████████| 838/838 [01:22<00:00, 10.10it/s]\n",
      "epoch 3: trn_loss = 1.1769, val_loss = 0.6153, trn_score = -0.5725, val_score = -0.6153\n",
      "model (best loss) saved\n",
      "model (best score) saved\n",
      "lr :  [9.352275048208716e-07, 9.352275048208716e-07, 9.352275048208716e-07]\n",
      "100%|████████████████████████████| 3353/3353 [24:02<00:00,  2.32it/s, loss=1.11]\n",
      "100%|█████████████████████████████████████████| 838/838 [01:22<00:00, 10.12it/s]\n",
      "epoch 4: trn_loss = 1.1054, val_loss = 0.6276, trn_score = -0.5364, val_score = -0.6276\n",
      "lr :  [2.410712975159734e-07, 2.410712975159734e-07, 2.410712975159734e-07]\n",
      "100%|████████████████████████████| 3353/3353 [23:54<00:00,  2.34it/s, loss=1.03]\n",
      "100%|█████████████████████████████████████████| 838/838 [01:23<00:00, 10.09it/s]\n",
      "epoch 5: trn_loss = 1.0253, val_loss = 0.6258, trn_score = -0.4949, val_score = -0.6258\n",
      "epoch_best 3, val_loss_best 0.61532, val_score_best -0.61532\n",
      "\n"
     ]
    }
   ],
   "source": [
    "FOLD = 3\n",
    "\n",
    "!python ../$VERSION/train.py --model $MODEL --version $VERSION --fold_path $FOLD_PATH --fold $FOLD --seed $SEED \\\n",
    "--lr $LR --head_lr $HEAD_LR --trn_batch_size $TRN_BS --val_batch_size $VAL_BS \\\n",
    "--epochs $EPOCHS --hidden_drop_prob $HIDDEN_DROP_PROB --p_drop $P_DROP \\\n",
    "--accumulate_grad_batches $ACCUM_STEP --rnn $RNN --warmup_ratio $WARMUP_RATIO --loss $LOSS --aug $AUG --head $HEAD \\\n",
    "--mixup_alpha $MIXUP_ALPHA --p_aug $P_AUG --aug_stop_epoch $AUG_STOP_EPOCH \\\n",
    "--msd $MSD --multi_layers $MULTI_LAYERS --eval_step $EVAL_STEP --stop_epoch $STOP_EPOCH \\\n",
    "--num_labels $NUM_LABELS --num_labels_2 $NUM_LABELS_2 \\\n",
    "--restart_epoch $RESTART --adv_sift $ADV_SIFT --fp16 $FP16 --weight_decay $WD --freeze_layers $FREEZE \\\n",
    "--mt $MULTI_TASK --w_mt $W_MT \\\n",
    "--awp $AWP --awp_lr $AWP_LR --awp_eps $AWP_EPS --awp_start_epoch $AWP_START_EPOCH \\\n",
    "--pretrained_detector_path $PRETRAINED_DETECTOR_PATH --mask_prob $MASK_PROB --mask_ratio $MASK_RATIO \\\n",
    "--scheduler $SCHEDULER --num_cycles $NUM_CYCLES --check_pointing $CP \\\n",
    "--window_size $WINDOW_SIZE --inner_len $INNER_LEN --edge_len $EDGE_LEN"
   ]
  },
  {
   "cell_type": "code",
   "execution_count": 6,
   "id": "tough-holocaust",
   "metadata": {
    "scrolled": true
   },
   "outputs": [
    {
     "name": "stdout",
     "output_type": "stream",
     "text": [
      "torch 1.10.2\n",
      "train_df.shape =  (36765, 5)\n",
      "test_df.shape =  (10, 4)\n",
      "sub_df.shape =  (10, 4)\n",
      "load folds...\n",
      "trn_df.shape =  (29406, 6)\n",
      "val_df.shape =  (7359, 6)\n",
      "2022-07-19 08:19:03.191494: W tensorflow/stream_executor/platform/default/dso_loader.cc:59] Could not load dynamic library 'libcudart.so.10.1'; dlerror: libcudart.so.10.1: cannot open shared object file: No such file or directory; LD_LIBRARY_PATH: /usr/local/cuda/lib64:\n",
      "2022-07-19 08:19:03.191516: I tensorflow/stream_executor/cuda/cudart_stub.cc:29] Ignore above cudart dlerror if you do not have a GPU set up on your machine.\n",
      "self.warmup_ratio =  0.1\n",
      "self.num_train_steps =  16765\n",
      "num_warmup_steps =  1676\n",
      "lr :  [0.0, 0.0, 0.0]\n",
      "100%|████████████████████████████| 3353/3353 [23:57<00:00,  2.33it/s, loss=1.56]\n",
      "100%|█████████████████████████████████████████| 838/838 [01:23<00:00,  9.98it/s]\n",
      "epoch 1: trn_loss = 1.5642, val_loss = 0.6666, trn_score = -0.7630, val_score = -0.6666\n",
      "model (best loss) saved\n",
      "model (best score) saved\n",
      "lr :  [3.303584776396759e-06, 3.303584776396759e-06, 3.303584776396759e-06]\n",
      "100%|████████████████████████████| 3353/3353 [23:58<00:00,  2.33it/s, loss=1.28]\n",
      "100%|█████████████████████████████████████████| 838/838 [01:23<00:00, 10.01it/s]\n",
      "epoch 2: trn_loss = 1.2763, val_loss = 0.6502, trn_score = -0.6221, val_score = -0.6502\n",
      "model (best loss) saved\n",
      "model (best score) saved\n",
      "lr :  [1.998798053127825e-06, 1.998798053127825e-06, 1.998798053127825e-06]\n",
      "100%|████████████████████████████| 3353/3353 [23:59<00:00,  2.33it/s, loss=1.18]\n",
      "100%|█████████████████████████████████████████| 838/838 [01:24<00:00,  9.94it/s]\n",
      "epoch 3: trn_loss = 1.1819, val_loss = 0.6175, trn_score = -0.5745, val_score = -0.6175\n",
      "model (best loss) saved\n",
      "model (best score) saved\n",
      "lr :  [9.352275048208716e-07, 9.352275048208716e-07, 9.352275048208716e-07]\n",
      "100%|████████████████████████████| 3353/3353 [23:59<00:00,  2.33it/s, loss=1.11]\n",
      "100%|█████████████████████████████████████████| 838/838 [01:24<00:00,  9.88it/s]\n",
      "epoch 4: trn_loss = 1.1051, val_loss = 0.6139, trn_score = -0.5359, val_score = -0.6139\n",
      "model (best loss) saved\n",
      "model (best score) saved\n",
      "lr :  [2.410712975159734e-07, 2.410712975159734e-07, 2.410712975159734e-07]\n",
      "100%|████████████████████████████| 3353/3353 [24:01<00:00,  2.33it/s, loss=1.02]\n",
      "100%|█████████████████████████████████████████| 838/838 [01:23<00:00, 10.05it/s]\n",
      "epoch 5: trn_loss = 1.0167, val_loss = 0.6249, trn_score = -0.4896, val_score = -0.6249\n",
      "epoch_best 4, val_loss_best 0.61395, val_score_best -0.61395\n",
      "\n"
     ]
    }
   ],
   "source": [
    "FOLD = 4\n",
    "\n",
    "!python ../$VERSION/train.py --model $MODEL --version $VERSION --fold_path $FOLD_PATH --fold $FOLD --seed $SEED \\\n",
    "--lr $LR --head_lr $HEAD_LR --trn_batch_size $TRN_BS --val_batch_size $VAL_BS \\\n",
    "--epochs $EPOCHS --hidden_drop_prob $HIDDEN_DROP_PROB --p_drop $P_DROP \\\n",
    "--accumulate_grad_batches $ACCUM_STEP --rnn $RNN --warmup_ratio $WARMUP_RATIO --loss $LOSS --aug $AUG --head $HEAD \\\n",
    "--mixup_alpha $MIXUP_ALPHA --p_aug $P_AUG --aug_stop_epoch $AUG_STOP_EPOCH \\\n",
    "--msd $MSD --multi_layers $MULTI_LAYERS --eval_step $EVAL_STEP --stop_epoch $STOP_EPOCH \\\n",
    "--num_labels $NUM_LABELS --num_labels_2 $NUM_LABELS_2 \\\n",
    "--restart_epoch $RESTART --adv_sift $ADV_SIFT --fp16 $FP16 --weight_decay $WD --freeze_layers $FREEZE \\\n",
    "--mt $MULTI_TASK --w_mt $W_MT \\\n",
    "--awp $AWP --awp_lr $AWP_LR --awp_eps $AWP_EPS --awp_start_epoch $AWP_START_EPOCH \\\n",
    "--pretrained_detector_path $PRETRAINED_DETECTOR_PATH --mask_prob $MASK_PROB --mask_ratio $MASK_RATIO \\\n",
    "--scheduler $SCHEDULER --num_cycles $NUM_CYCLES --check_pointing $CP \\\n",
    "--window_size $WINDOW_SIZE --inner_len $INNER_LEN --edge_len $EDGE_LEN"
   ]
  },
  {
   "cell_type": "markdown",
   "id": "seven-kinase",
   "metadata": {},
   "source": [
    "# SWA"
   ]
  },
  {
   "cell_type": "code",
   "execution_count": 7,
   "id": "angry-departure",
   "metadata": {},
   "outputs": [],
   "source": [
    "!python ../$VERSION/swa.py --work_dir ./result/$VERSION/ --fold 0 --seed $SEED --start_epoch 3 --end_epoch 5\n",
    "!python ../$VERSION/swa.py --work_dir ./result/$VERSION/ --fold 1 --seed $SEED --start_epoch 3 --end_epoch 4\n",
    "#!python ../$VERSION/swa.py --work_dir ./result/$VERSION/ --fold 2 --seed $SEED --start_epoch 3 --end_epoch 3\n",
    "!python ../$VERSION/swa.py --work_dir ./result/$VERSION/ --fold 3 --seed $SEED --start_epoch 2 --end_epoch 3\n",
    "!python ../$VERSION/swa.py --work_dir ./result/$VERSION/ --fold 4 --seed $SEED --start_epoch 3 --end_epoch 4"
   ]
  },
  {
   "cell_type": "code",
   "execution_count": 16,
   "id": "retired-cigarette",
   "metadata": {},
   "outputs": [],
   "source": [
    "!python ../$VERSION/swa.py --work_dir ./result/$VERSION/ --fold 2 --seed $SEED --epochs '3 5'"
   ]
  },
  {
   "cell_type": "markdown",
   "id": "focal-invention",
   "metadata": {},
   "source": [
    "# Validation with SWA"
   ]
  },
  {
   "cell_type": "code",
   "execution_count": 9,
   "id": "medium-portland",
   "metadata": {},
   "outputs": [
    {
     "name": "stdout",
     "output_type": "stream",
     "text": [
      "torch 1.10.2\n",
      "2022-07-19 18:22:59.359904: W tensorflow/stream_executor/platform/default/dso_loader.cc:59] Could not load dynamic library 'libcudart.so.10.1'; dlerror: libcudart.so.10.1: cannot open shared object file: No such file or directory; LD_LIBRARY_PATH: /usr/local/cuda/lib64:\n",
      "2022-07-19 18:22:59.359924: I tensorflow/stream_executor/cuda/cudart_stub.cc:29] Ignore above cudart dlerror if you do not have a GPU set up on your machine.\n",
      "train_df.shape =  (36765, 5)\n",
      "test_df.shape =  (10, 4)\n",
      "sub_df.shape =  (10, 4)\n",
      "load folds...\n",
      "trn_df.shape =  (29462, 6)\n",
      "val_df.shape =  (7303, 6)\n",
      "100%|█████████████████████████████████████████| 839/839 [00:37<00:00, 22.65it/s]\n",
      "val_loss=0.5961, val_score=-0.5961\n",
      "preds.shape =  (7303, 3)\n",
      "labels.shape =  (7303,)\n",
      "losses.shape =  (7303,)\n",
      "discourse_ids.shape =  (7303,)\n"
     ]
    }
   ],
   "source": [
    "FOLD = 0\n",
    "WEIGHT_PATH = f'./result/{VERSION}/model_seed{SEED}_fold{FOLD}_swa.pth'\n",
    "\n",
    "!python ../$VERSION/validation.py --model $MODEL --version $VERSION --fold_path $FOLD_PATH --fold $FOLD --seed $SEED --val_batch_size $VAL_BS \\\n",
    "--rnn $RNN --loss $LOSS --mt $MULTI_TASK --num_labels $NUM_LABELS --loss $LOSS --weight_path $WEIGHT_PATH \\\n",
    "--window_size $WINDOW_SIZE --inner_len $INNER_LEN --edge_len $EDGE_LEN"
   ]
  },
  {
   "cell_type": "code",
   "execution_count": 10,
   "id": "together-relevance",
   "metadata": {},
   "outputs": [
    {
     "name": "stdout",
     "output_type": "stream",
     "text": [
      "torch 1.10.2\n",
      "2022-07-19 18:24:04.436067: W tensorflow/stream_executor/platform/default/dso_loader.cc:59] Could not load dynamic library 'libcudart.so.10.1'; dlerror: libcudart.so.10.1: cannot open shared object file: No such file or directory; LD_LIBRARY_PATH: /usr/local/cuda/lib64:\n",
      "2022-07-19 18:24:04.436088: I tensorflow/stream_executor/cuda/cudart_stub.cc:29] Ignore above cudart dlerror if you do not have a GPU set up on your machine.\n",
      "train_df.shape =  (36765, 5)\n",
      "test_df.shape =  (10, 4)\n",
      "sub_df.shape =  (10, 4)\n",
      "load folds...\n",
      "trn_df.shape =  (29383, 6)\n",
      "val_df.shape =  (7382, 6)\n",
      "100%|█████████████████████████████████████████| 838/838 [00:36<00:00, 23.07it/s]\n",
      "val_loss=0.6110, val_score=-0.6110\n",
      "preds.shape =  (7382, 3)\n",
      "labels.shape =  (7382,)\n",
      "losses.shape =  (7382,)\n",
      "discourse_ids.shape =  (7382,)\n"
     ]
    }
   ],
   "source": [
    "FOLD = 1\n",
    "WEIGHT_PATH = f'./result/{VERSION}/model_seed{SEED}_fold{FOLD}_swa.pth'\n",
    "\n",
    "!python ../$VERSION/validation.py --model $MODEL --version $VERSION --fold_path $FOLD_PATH --fold $FOLD --seed $SEED --val_batch_size $VAL_BS \\\n",
    "--rnn $RNN --loss $LOSS --mt $MULTI_TASK --num_labels $NUM_LABELS --loss $LOSS --weight_path $WEIGHT_PATH \\\n",
    "--window_size $WINDOW_SIZE --inner_len $INNER_LEN --edge_len $EDGE_LEN"
   ]
  },
  {
   "cell_type": "code",
   "execution_count": 17,
   "id": "boxed-sympathy",
   "metadata": {},
   "outputs": [
    {
     "name": "stdout",
     "output_type": "stream",
     "text": [
      "torch 1.10.2\n",
      "2022-07-19 18:44:02.231589: W tensorflow/stream_executor/platform/default/dso_loader.cc:59] Could not load dynamic library 'libcudart.so.10.1'; dlerror: libcudart.so.10.1: cannot open shared object file: No such file or directory; LD_LIBRARY_PATH: /usr/local/cuda/lib64:\n",
      "2022-07-19 18:44:02.231611: I tensorflow/stream_executor/cuda/cudart_stub.cc:29] Ignore above cudart dlerror if you do not have a GPU set up on your machine.\n",
      "train_df.shape =  (36765, 5)\n",
      "test_df.shape =  (10, 4)\n",
      "sub_df.shape =  (10, 4)\n",
      "load folds...\n",
      "trn_df.shape =  (29461, 6)\n",
      "val_df.shape =  (7304, 6)\n",
      "100%|█████████████████████████████████████████| 838/838 [00:36<00:00, 22.83it/s]\n",
      "val_loss=0.5981, val_score=-0.5981\n",
      "preds.shape =  (7304, 3)\n",
      "labels.shape =  (7304,)\n",
      "losses.shape =  (7304,)\n",
      "discourse_ids.shape =  (7304,)\n"
     ]
    }
   ],
   "source": [
    "FOLD = 2\n",
    "WEIGHT_PATH = f'./result/{VERSION}/model_seed{SEED}_fold{FOLD}_swa.pth'\n",
    "\n",
    "!python ../$VERSION/validation.py --model $MODEL --version $VERSION --fold_path $FOLD_PATH --fold $FOLD --seed $SEED --val_batch_size $VAL_BS \\\n",
    "--rnn $RNN --loss $LOSS --mt $MULTI_TASK --num_labels $NUM_LABELS --loss $LOSS --weight_path $WEIGHT_PATH \\\n",
    "--window_size $WINDOW_SIZE --inner_len $INNER_LEN --edge_len $EDGE_LEN"
   ]
  },
  {
   "cell_type": "code",
   "execution_count": 12,
   "id": "equipped-excuse",
   "metadata": {},
   "outputs": [
    {
     "name": "stdout",
     "output_type": "stream",
     "text": [
      "torch 1.10.2\n",
      "2022-07-19 18:25:56.533018: W tensorflow/stream_executor/platform/default/dso_loader.cc:59] Could not load dynamic library 'libcudart.so.10.1'; dlerror: libcudart.so.10.1: cannot open shared object file: No such file or directory; LD_LIBRARY_PATH: /usr/local/cuda/lib64:\n",
      "2022-07-19 18:25:56.533039: I tensorflow/stream_executor/cuda/cudart_stub.cc:29] Ignore above cudart dlerror if you do not have a GPU set up on your machine.\n",
      "train_df.shape =  (36765, 5)\n",
      "test_df.shape =  (10, 4)\n",
      "sub_df.shape =  (10, 4)\n",
      "load folds...\n",
      "trn_df.shape =  (29348, 6)\n",
      "val_df.shape =  (7417, 6)\n",
      "100%|█████████████████████████████████████████| 838/838 [00:35<00:00, 23.40it/s]\n",
      "val_loss=0.6123, val_score=-0.6123\n",
      "preds.shape =  (7417, 3)\n",
      "labels.shape =  (7417,)\n",
      "losses.shape =  (7417,)\n",
      "discourse_ids.shape =  (7417,)\n"
     ]
    }
   ],
   "source": [
    "FOLD = 3\n",
    "WEIGHT_PATH = f'./result/{VERSION}/model_seed{SEED}_fold{FOLD}_swa.pth'\n",
    "\n",
    "!python ../$VERSION/validation.py --model $MODEL --version $VERSION --fold_path $FOLD_PATH --fold $FOLD --seed $SEED --val_batch_size $VAL_BS \\\n",
    "--rnn $RNN --loss $LOSS --mt $MULTI_TASK --num_labels $NUM_LABELS --loss $LOSS --weight_path $WEIGHT_PATH \\\n",
    "--window_size $WINDOW_SIZE --inner_len $INNER_LEN --edge_len $EDGE_LEN"
   ]
  },
  {
   "cell_type": "code",
   "execution_count": 13,
   "id": "informed-spirit",
   "metadata": {},
   "outputs": [
    {
     "name": "stdout",
     "output_type": "stream",
     "text": [
      "torch 1.10.2\n",
      "2022-07-19 18:26:51.736303: W tensorflow/stream_executor/platform/default/dso_loader.cc:59] Could not load dynamic library 'libcudart.so.10.1'; dlerror: libcudart.so.10.1: cannot open shared object file: No such file or directory; LD_LIBRARY_PATH: /usr/local/cuda/lib64:\n",
      "2022-07-19 18:26:51.736328: I tensorflow/stream_executor/cuda/cudart_stub.cc:29] Ignore above cudart dlerror if you do not have a GPU set up on your machine.\n",
      "train_df.shape =  (36765, 5)\n",
      "test_df.shape =  (10, 4)\n",
      "sub_df.shape =  (10, 4)\n",
      "load folds...\n",
      "trn_df.shape =  (29406, 6)\n",
      "val_df.shape =  (7359, 6)\n",
      "100%|█████████████████████████████████████████| 838/838 [00:37<00:00, 22.36it/s]\n",
      "val_loss=0.6114, val_score=-0.6114\n",
      "preds.shape =  (7359, 3)\n",
      "labels.shape =  (7359,)\n",
      "losses.shape =  (7359,)\n",
      "discourse_ids.shape =  (7359,)\n"
     ]
    }
   ],
   "source": [
    "FOLD = 4\n",
    "WEIGHT_PATH = f'./result/{VERSION}/model_seed{SEED}_fold{FOLD}_swa.pth'\n",
    "\n",
    "!python ../$VERSION/validation.py --model $MODEL --version $VERSION --fold_path $FOLD_PATH --fold $FOLD --seed $SEED --val_batch_size $VAL_BS \\\n",
    "--rnn $RNN --loss $LOSS --mt $MULTI_TASK --num_labels $NUM_LABELS --loss $LOSS --weight_path $WEIGHT_PATH \\\n",
    "--window_size $WINDOW_SIZE --inner_len $INNER_LEN --edge_len $EDGE_LEN"
   ]
  },
  {
   "cell_type": "code",
   "execution_count": 14,
   "id": "proper-assumption",
   "metadata": {},
   "outputs": [],
   "source": [
    "import pandas as pd\n",
    "\n",
    "preds = []\n",
    "for fold in range(5):\n",
    "    tmp_df = pd.read_csv(f'./result/{VERSION}/pred_fold{fold}.csv')\n",
    "    preds.append(tmp_df)\n",
    "    \n",
    "pred_df = pd.concat(preds, axis=0).reset_index(drop=True)\n",
    "train_df = pd.read_csv('../../input/feedback-prize-effectiveness/train.csv')\n",
    "\n",
    "oof_df = train_df.merge(pred_df, on='discourse_id', how='left')\n",
    "oof_df.to_csv(f'./result/{VERSION}/oof_df.csv', index=False)"
   ]
  },
  {
   "cell_type": "code",
   "execution_count": 15,
   "id": "suffering-basin",
   "metadata": {},
   "outputs": [
    {
     "data": {
      "text/plain": [
       "((36765, 10),\n",
       " discourse_id               0\n",
       " essay_id                   0\n",
       " discourse_text             0\n",
       " discourse_type             0\n",
       " discourse_effectiveness    0\n",
       " pred_ineffective           0\n",
       " pred_adequate              0\n",
       " pred_effective             0\n",
       " label                      0\n",
       " loss                       0\n",
       " dtype: int64)"
      ]
     },
     "execution_count": 15,
     "metadata": {},
     "output_type": "execute_result"
    }
   ],
   "source": [
    "oof_df.shape, oof_df.isnull().sum()"
   ]
  },
  {
   "cell_type": "code",
   "execution_count": null,
   "id": "aerial-formula",
   "metadata": {},
   "outputs": [],
   "source": []
  },
  {
   "cell_type": "code",
   "execution_count": null,
   "id": "fallen-aside",
   "metadata": {},
   "outputs": [],
   "source": []
  }
 ],
 "metadata": {
  "kernelspec": {
   "display_name": "Python 3 (ipykernel)",
   "language": "python",
   "name": "python3"
  },
  "language_info": {
   "codemirror_mode": {
    "name": "ipython",
    "version": 3
   },
   "file_extension": ".py",
   "mimetype": "text/x-python",
   "name": "python",
   "nbconvert_exporter": "python",
   "pygments_lexer": "ipython3",
   "version": "3.7.3"
  }
 },
 "nbformat": 4,
 "nbformat_minor": 5
}
