{
 "cells": [
  {
   "cell_type": "code",
   "execution_count": 1,
   "metadata": {},
   "outputs": [],
   "source": [
    "VERSION = '18_v1_05'\n",
    "FOLD_PATH = '../../00_EDA/00_v2_07/result/' #'../../00_EDA/00_v1_01/result/'\n",
    "MODEL = 'microsoft/deberta-xlarge'\n",
    "#'microsoft/deberta-large'\n",
    "#'microsoft/deberta-base'\n",
    "#'microsoft/deberta-v3-base'\n",
    "#'funnel-transformer/xlarge'\n",
    "#'ahotrod/electra_large_discriminator_squad2_512'\n",
    "#'funnel-transformer/xlarge'\n",
    "#'microsoft/deberta-v3-large'\n",
    "#'microsoft/deberta-large'\n",
    "#'anferico/bert-for-patents'\n",
    "#'microsoft/deberta-v3-base'\n",
    "#'microsoft/cocolm-large'\n",
    "LR = 6e-6 #8e-6 #2e-5\n",
    "HEAD_LR = 6e-6 #8e-6 #2e-5\n",
    "SEED = 100\n",
    "TRN_BS = 1\n",
    "VAL_BS = 1\n",
    "ACCUM_STEP = 1\n",
    "EPOCHS = 5 #2\n",
    "STOP_EPOCH = 5 #2\n",
    "RESTART = 1\n",
    "HIDDEN_DROP_PROB = 0\n",
    "P_DROP = 0\n",
    "RNN = 'none'\n",
    "WARMUP_RATIO = 0.1\n",
    "LOSS = 'xentropy'\n",
    "HEAD = 'simple'\n",
    "AUG = 'false' #'mixup'\n",
    "MIXUP_ALPHA = 1.0\n",
    "P_AUG = 0\n",
    "AUG_STOP_EPOCH = 2\n",
    "MSD = 'true'\n",
    "MULTI_LAYERS = 1\n",
    "EVAL_STEP = -1 #100\n",
    "NUM_LABELS = 3\n",
    "NUM_LABELS_2 = 7\n",
    "ADV_SIFT = 'false'\n",
    "FP16 = 'true' #'false'\n",
    "WD = 0.01\n",
    "FREEZE = 'true'\n",
    "#MAX_LENGTH = 1024\n",
    "MULTI_TASK = 'false' #'true'\n",
    "W_MT = 1.0 #0.5\n",
    "#PREPROCESSED_DATA_PATH = '../../00_EDA/00_v2_01/result/train.csv'\n",
    "#'../../00_EDA/00_v1_09/result/train.csv'\n",
    "AWP = 'true'\n",
    "AWP_LR = 5e-4 #1e-2 #1.0\n",
    "AWP_EPS = 1e-3 #0.01\n",
    "AWP_START_EPOCH = 1\n",
    "\n",
    "PRETRAINED_DETECTOR_PATH = f'../../input/tascj/result/deberta_xlarge_fold0.pth'\n",
    "#PRETRAINED_DETECTOR_PATH = f'../../input/tascj/result/deberta_large_fold0.pth'\n",
    "#PRETRAINED_DETECTOR_PATH = f'../../05_Detection/exp/result/05_v1_04/model_seed100_fold0_swa.pth'\n",
    "\n",
    "MASK_PROB = 0.8\n",
    "MASK_RATIO = 0.3\n",
    "\n",
    "SCHEDULER = 'cosine_hard'\n",
    "NUM_CYCLES = EPOCHS\n",
    "\n",
    "CP = 'true'\n",
    "\n",
    "WINDOW_SIZE = 1024 #768 #512\n",
    "INNER_LEN = 768 #512 #384\n",
    "EDGE_LEN = 128 #64\n",
    "\n",
    "BNB = 32"
   ]
  },
  {
   "cell_type": "code",
   "execution_count": 2,
   "metadata": {
    "scrolled": false
   },
   "outputs": [
    {
     "name": "stdout",
     "output_type": "stream",
     "text": [
      "torch 1.10.1\n",
      "train_df.shape =  (36765, 5)\n",
      "test_df.shape =  (10, 4)\n",
      "sub_df.shape =  (10, 4)\n",
      "load folds...\n",
      "trn_df.shape =  (29462, 6)\n",
      "val_df.shape =  (7303, 6)\n",
      "2022-07-23 09:08:27.892337: W tensorflow/stream_executor/platform/default/dso_loader.cc:59] Could not load dynamic library 'libcudart.so.10.1'; dlerror: libcudart.so.10.1: cannot open shared object file: No such file or directory; LD_LIBRARY_PATH: /usr/local/cuda-10.2/lib64:\n",
      "2022-07-23 09:08:27.892361: I tensorflow/stream_executor/cuda/cudart_stub.cc:29] Ignore above cudart dlerror if you do not have a GPU set up on your machine.\n",
      "freeze 12/24\n",
      "self.warmup_ratio =  0.1\n",
      "self.num_train_steps =  16760\n",
      "num_warmup_steps =  1676\n",
      "lr :  [0.0, 0.0, 0.0]\n",
      "100%|████████████████████████████| 3352/3352 [57:54<00:00,  1.04s/it, loss=1.57]\n",
      "100%|█████████████████████████████████████████| 839/839 [02:58<00:00,  4.69it/s]\n",
      "epoch 1: trn_loss = 1.5664, val_loss = 0.6535, trn_score = -0.7715, val_score = -0.6535\n",
      "model (best loss) saved\n",
      "model (best score) saved\n",
      "lr :  [2.4790554669992093e-06, 2.4790554669992093e-06, 2.4790554669992093e-06]\n",
      "100%|████████████████████████████| 3352/3352 [57:48<00:00,  1.03s/it, loss=1.32]\n",
      "100%|█████████████████████████████████████████| 839/839 [03:01<00:00,  4.63it/s]\n",
      "epoch 2: trn_loss = 1.3220, val_loss = 0.6617, trn_score = -0.6504, val_score = -0.6617\n",
      "lr :  [1.500000000000002e-06, 1.500000000000002e-06, 1.500000000000002e-06]\n",
      "100%|████████████████████████████| 3352/3352 [58:06<00:00,  1.04s/it, loss=1.28]\n",
      "100%|█████████████████████████████████████████| 839/839 [03:03<00:00,  4.58it/s]\n",
      "epoch 3: trn_loss = 1.2804, val_loss = 0.6140, trn_score = -0.6276, val_score = -0.6140\n",
      "model (best loss) saved\n",
      "model (best score) saved\n",
      "lr :  [7.018666706430663e-07, 7.018666706430663e-07, 7.018666706430663e-07]\n",
      "100%|████████████████████████████| 3352/3352 [58:23<00:00,  1.05s/it, loss=1.24]\n",
      "100%|█████████████████████████████████████████| 839/839 [03:00<00:00,  4.64it/s]\n",
      "epoch 4: trn_loss = 1.2357, val_loss = 0.6124, trn_score = -0.6075, val_score = -0.6124\n",
      "model (best loss) saved\n",
      "model (best score) saved\n",
      "lr :  [1.8092213764227505e-07, 1.8092213764227505e-07, 1.8092213764227505e-07]\n",
      "100%|█████████████████████████████| 3352/3352 [58:22<00:00,  1.04s/it, loss=1.2]\n",
      "100%|█████████████████████████████████████████| 839/839 [03:01<00:00,  4.63it/s]\n",
      "epoch 5: trn_loss = 1.1996, val_loss = 0.6018, trn_score = -0.5892, val_score = -0.6018\n",
      "model (best loss) saved\n",
      "model (best score) saved\n",
      "epoch_best 5, val_loss_best 0.60176, val_score_best -0.60176\n",
      "\n"
     ]
    }
   ],
   "source": [
    "FOLD = 0\n",
    "\n",
    "!python ../$VERSION/train.py --model $MODEL --version $VERSION --fold_path $FOLD_PATH --fold $FOLD --seed $SEED \\\n",
    "--lr $LR --head_lr $HEAD_LR --trn_batch_size $TRN_BS --val_batch_size $VAL_BS \\\n",
    "--epochs $EPOCHS --hidden_drop_prob $HIDDEN_DROP_PROB --p_drop $P_DROP \\\n",
    "--accumulate_grad_batches $ACCUM_STEP --rnn $RNN --warmup_ratio $WARMUP_RATIO --loss $LOSS --aug $AUG --head $HEAD \\\n",
    "--mixup_alpha $MIXUP_ALPHA --p_aug $P_AUG --aug_stop_epoch $AUG_STOP_EPOCH \\\n",
    "--msd $MSD --multi_layers $MULTI_LAYERS --eval_step $EVAL_STEP --stop_epoch $STOP_EPOCH \\\n",
    "--num_labels $NUM_LABELS --num_labels_2 $NUM_LABELS_2 \\\n",
    "--restart_epoch $RESTART --adv_sift $ADV_SIFT --fp16 $FP16 --weight_decay $WD --freeze_layers $FREEZE \\\n",
    "--mt $MULTI_TASK --w_mt $W_MT \\\n",
    "--awp $AWP --awp_lr $AWP_LR --awp_eps $AWP_EPS --awp_start_epoch $AWP_START_EPOCH \\\n",
    "--pretrained_detector_path $PRETRAINED_DETECTOR_PATH --mask_prob $MASK_PROB --mask_ratio $MASK_RATIO \\\n",
    "--scheduler $SCHEDULER --num_cycles $NUM_CYCLES --check_pointing $CP \\\n",
    "--window_size $WINDOW_SIZE --inner_len $INNER_LEN --edge_len $EDGE_LEN --adam_bits $BNB"
   ]
  },
  {
   "cell_type": "code",
   "execution_count": 3,
   "metadata": {},
   "outputs": [
    {
     "name": "stdout",
     "output_type": "stream",
     "text": [
      "torch 1.10.1\n",
      "2022-07-23 17:50:06.786121: W tensorflow/stream_executor/platform/default/dso_loader.cc:59] Could not load dynamic library 'libcudart.so.10.1'; dlerror: libcudart.so.10.1: cannot open shared object file: No such file or directory; LD_LIBRARY_PATH: /usr/local/cuda-10.2/lib64:\n",
      "2022-07-23 17:50:06.786247: I tensorflow/stream_executor/cuda/cudart_stub.cc:29] Ignore above cudart dlerror if you do not have a GPU set up on your machine.\n",
      "train_df.shape =  (36765, 5)\n",
      "test_df.shape =  (10, 4)\n",
      "sub_df.shape =  (10, 4)\n",
      "load folds...\n",
      "trn_df.shape =  (29462, 6)\n",
      "val_df.shape =  (7303, 6)\n",
      "100%|█████████████████████████████████████████| 839/839 [02:03<00:00,  6.80it/s]\n",
      "val_loss=0.5970, val_score=-0.5970\n",
      "preds.shape =  (7303, 3)\n",
      "labels.shape =  (7303,)\n",
      "losses.shape =  (7303,)\n",
      "discourse_ids.shape =  (7303,)\n"
     ]
    }
   ],
   "source": [
    "FOLD = 0\n",
    "\n",
    "!python ../$VERSION/swa.py --work_dir ./result/$VERSION/ --fold $FOLD --seed $SEED --start_epoch 5 --end_epoch 7\n",
    "\n",
    "WEIGHT_PATH = f'./result/{VERSION}/model_seed{SEED}_fold{FOLD}_swa.pth'\n",
    "\n",
    "!python ../$VERSION/validation.py --model $MODEL --version $VERSION --fold_path $FOLD_PATH --fold $FOLD --seed $SEED --val_batch_size $VAL_BS \\\n",
    "--rnn $RNN --loss $LOSS --mt $MULTI_TASK --num_labels $NUM_LABELS --loss $LOSS --weight_path $WEIGHT_PATH \\\n",
    "--window_size $WINDOW_SIZE --inner_len $INNER_LEN --edge_len $EDGE_LEN"
   ]
  },
  {
   "cell_type": "code",
   "execution_count": 4,
   "metadata": {},
   "outputs": [
    {
     "name": "stdout",
     "output_type": "stream",
     "text": [
      "torch 1.10.1\n",
      "2022-07-23 17:54:01.951304: W tensorflow/stream_executor/platform/default/dso_loader.cc:59] Could not load dynamic library 'libcudart.so.10.1'; dlerror: libcudart.so.10.1: cannot open shared object file: No such file or directory; LD_LIBRARY_PATH: /usr/local/cuda-10.2/lib64:\n",
      "2022-07-23 17:54:01.951326: I tensorflow/stream_executor/cuda/cudart_stub.cc:29] Ignore above cudart dlerror if you do not have a GPU set up on your machine.\n",
      "train_df.shape =  (36765, 5)\n",
      "test_df.shape =  (10, 4)\n",
      "sub_df.shape =  (10, 4)\n",
      "load folds...\n",
      "trn_df.shape =  (29462, 6)\n",
      "val_df.shape =  (7303, 6)\n",
      "100%|█████████████████████████████████████████| 839/839 [02:05<00:00,  6.69it/s]\n",
      "val_loss=0.5963, val_score=-0.5963\n",
      "preds.shape =  (7303, 3)\n",
      "labels.shape =  (7303,)\n",
      "losses.shape =  (7303,)\n",
      "discourse_ids.shape =  (7303,)\n"
     ]
    }
   ],
   "source": [
    "FOLD = 0\n",
    "\n",
    "!python ../$VERSION/swa.py --work_dir ./result/$VERSION/ --fold $FOLD --seed $SEED --start_epoch 5 --end_epoch 6\n",
    "\n",
    "WEIGHT_PATH = f'./result/{VERSION}/model_seed{SEED}_fold{FOLD}_swa.pth'\n",
    "\n",
    "!python ../$VERSION/validation.py --model $MODEL --version $VERSION --fold_path $FOLD_PATH --fold $FOLD --seed $SEED --val_batch_size $VAL_BS \\\n",
    "--rnn $RNN --loss $LOSS --mt $MULTI_TASK --num_labels $NUM_LABELS --loss $LOSS --weight_path $WEIGHT_PATH \\\n",
    "--window_size $WINDOW_SIZE --inner_len $INNER_LEN --edge_len $EDGE_LEN"
   ]
  },
  {
   "cell_type": "code",
   "execution_count": 5,
   "metadata": {},
   "outputs": [
    {
     "name": "stdout",
     "output_type": "stream",
     "text": [
      "torch 1.10.1\n",
      "2022-07-23 17:58:46.084042: W tensorflow/stream_executor/platform/default/dso_loader.cc:59] Could not load dynamic library 'libcudart.so.10.1'; dlerror: libcudart.so.10.1: cannot open shared object file: No such file or directory; LD_LIBRARY_PATH: /usr/local/cuda-10.2/lib64:\n",
      "2022-07-23 17:58:46.084068: I tensorflow/stream_executor/cuda/cudart_stub.cc:29] Ignore above cudart dlerror if you do not have a GPU set up on your machine.\n",
      "train_df.shape =  (36765, 5)\n",
      "test_df.shape =  (10, 4)\n",
      "sub_df.shape =  (10, 4)\n",
      "load folds...\n",
      "trn_df.shape =  (29462, 6)\n",
      "val_df.shape =  (7303, 6)\n",
      "100%|█████████████████████████████████████████| 839/839 [02:05<00:00,  6.68it/s]\n",
      "val_loss=0.5959, val_score=-0.5959\n",
      "preds.shape =  (7303, 3)\n",
      "labels.shape =  (7303,)\n",
      "losses.shape =  (7303,)\n",
      "discourse_ids.shape =  (7303,)\n"
     ]
    }
   ],
   "source": [
    "FOLD = 0\n",
    "\n",
    "!python ../$VERSION/swa.py --work_dir ./result/$VERSION/ --fold $FOLD --seed $SEED --start_epoch 6 --end_epoch 7\n",
    "\n",
    "WEIGHT_PATH = f'./result/{VERSION}/model_seed{SEED}_fold{FOLD}_swa.pth'\n",
    "\n",
    "!python ../$VERSION/validation.py --model $MODEL --version $VERSION --fold_path $FOLD_PATH --fold $FOLD --seed $SEED --val_batch_size $VAL_BS \\\n",
    "--rnn $RNN --loss $LOSS --mt $MULTI_TASK --num_labels $NUM_LABELS --loss $LOSS --weight_path $WEIGHT_PATH \\\n",
    "--window_size $WINDOW_SIZE --inner_len $INNER_LEN --edge_len $EDGE_LEN"
   ]
  },
  {
   "cell_type": "code",
   "execution_count": 6,
   "metadata": {},
   "outputs": [
    {
     "name": "stdout",
     "output_type": "stream",
     "text": [
      "torch 1.10.1\n",
      "2022-07-23 18:01:27.699680: W tensorflow/stream_executor/platform/default/dso_loader.cc:59] Could not load dynamic library 'libcudart.so.10.1'; dlerror: libcudart.so.10.1: cannot open shared object file: No such file or directory; LD_LIBRARY_PATH: /usr/local/cuda-10.2/lib64:\n",
      "2022-07-23 18:01:27.699704: I tensorflow/stream_executor/cuda/cudart_stub.cc:29] Ignore above cudart dlerror if you do not have a GPU set up on your machine.\n",
      "train_df.shape =  (36765, 5)\n",
      "test_df.shape =  (10, 4)\n",
      "sub_df.shape =  (10, 4)\n",
      "load folds...\n",
      "trn_df.shape =  (29462, 6)\n",
      "val_df.shape =  (7303, 6)\n",
      "100%|█████████████████████████████████████████| 839/839 [02:08<00:00,  6.52it/s]\n",
      "val_loss=0.5982, val_score=-0.5982\n",
      "preds.shape =  (7303, 3)\n",
      "labels.shape =  (7303,)\n",
      "losses.shape =  (7303,)\n",
      "discourse_ids.shape =  (7303,)\n"
     ]
    }
   ],
   "source": [
    "FOLD = 0\n",
    "\n",
    "!python ../$VERSION/swa.py --work_dir ./result/$VERSION/ --fold $FOLD --seed $SEED --start_epoch 4 --end_epoch 8\n",
    "\n",
    "WEIGHT_PATH = f'./result/{VERSION}/model_seed{SEED}_fold{FOLD}_swa.pth'\n",
    "\n",
    "!python ../$VERSION/validation.py --model $MODEL --version $VERSION --fold_path $FOLD_PATH --fold $FOLD --seed $SEED --val_batch_size $VAL_BS \\\n",
    "--rnn $RNN --loss $LOSS --mt $MULTI_TASK --num_labels $NUM_LABELS --loss $LOSS --weight_path $WEIGHT_PATH \\\n",
    "--window_size $WINDOW_SIZE --inner_len $INNER_LEN --edge_len $EDGE_LEN"
   ]
  },
  {
   "cell_type": "code",
   "execution_count": 7,
   "metadata": {
    "scrolled": true
   },
   "outputs": [
    {
     "name": "stdout",
     "output_type": "stream",
     "text": [
      "torch 1.10.1\n",
      "2022-07-23 18:04:16.720802: W tensorflow/stream_executor/platform/default/dso_loader.cc:59] Could not load dynamic library 'libcudart.so.10.1'; dlerror: libcudart.so.10.1: cannot open shared object file: No such file or directory; LD_LIBRARY_PATH: /usr/local/cuda-10.2/lib64:\n",
      "2022-07-23 18:04:16.720827: I tensorflow/stream_executor/cuda/cudart_stub.cc:29] Ignore above cudart dlerror if you do not have a GPU set up on your machine.\n",
      "train_df.shape =  (36765, 5)\n",
      "test_df.shape =  (10, 4)\n",
      "sub_df.shape =  (10, 4)\n",
      "load folds...\n",
      "trn_df.shape =  (29462, 6)\n",
      "val_df.shape =  (7303, 6)\n",
      "100%|█████████████████████████████████████████| 839/839 [02:08<00:00,  6.51it/s]\n",
      "val_loss=0.5977, val_score=-0.5977\n",
      "preds.shape =  (7303, 3)\n",
      "labels.shape =  (7303,)\n",
      "losses.shape =  (7303,)\n",
      "discourse_ids.shape =  (7303,)\n"
     ]
    }
   ],
   "source": [
    "FOLD = 0\n",
    "\n",
    "!python ../$VERSION/swa.py --work_dir ./result/$VERSION/ --fold $FOLD --seed $SEED --start_epoch 6 --end_epoch 8\n",
    "\n",
    "WEIGHT_PATH = f'./result/{VERSION}/model_seed{SEED}_fold{FOLD}_swa.pth'\n",
    "\n",
    "!python ../$VERSION/validation.py --model $MODEL --version $VERSION --fold_path $FOLD_PATH --fold $FOLD --seed $SEED --val_batch_size $VAL_BS \\\n",
    "--rnn $RNN --loss $LOSS --mt $MULTI_TASK --num_labels $NUM_LABELS --loss $LOSS --weight_path $WEIGHT_PATH \\\n",
    "--window_size $WINDOW_SIZE --inner_len $INNER_LEN --edge_len $EDGE_LEN"
   ]
  },
  {
   "cell_type": "code",
   "execution_count": 8,
   "metadata": {},
   "outputs": [
    {
     "name": "stdout",
     "output_type": "stream",
     "text": [
      "torch 1.10.1\n",
      "2022-07-23 18:07:49.541286: W tensorflow/stream_executor/platform/default/dso_loader.cc:59] Could not load dynamic library 'libcudart.so.10.1'; dlerror: libcudart.so.10.1: cannot open shared object file: No such file or directory; LD_LIBRARY_PATH: /usr/local/cuda-10.2/lib64:\n",
      "2022-07-23 18:07:49.541311: I tensorflow/stream_executor/cuda/cudart_stub.cc:29] Ignore above cudart dlerror if you do not have a GPU set up on your machine.\n",
      "train_df.shape =  (36765, 5)\n",
      "test_df.shape =  (10, 4)\n",
      "sub_df.shape =  (10, 4)\n",
      "load folds...\n",
      "trn_df.shape =  (29462, 6)\n",
      "val_df.shape =  (7303, 6)\n",
      "100%|█████████████████████████████████████████| 839/839 [02:07<00:00,  6.59it/s]\n",
      "val_loss=0.5951, val_score=-0.5951\n",
      "preds.shape =  (7303, 3)\n",
      "labels.shape =  (7303,)\n",
      "losses.shape =  (7303,)\n",
      "discourse_ids.shape =  (7303,)\n"
     ]
    }
   ],
   "source": [
    "FOLD = 0\n",
    "\n",
    "!python ../$VERSION/swa.py --work_dir ./result/$VERSION/ --fold $FOLD --seed $SEED --start_epoch 6 --end_epoch 6\n",
    "\n",
    "WEIGHT_PATH = f'./result/{VERSION}/model_seed{SEED}_fold{FOLD}_swa.pth'\n",
    "\n",
    "!python ../$VERSION/validation.py --model $MODEL --version $VERSION --fold_path $FOLD_PATH --fold $FOLD --seed $SEED --val_batch_size $VAL_BS \\\n",
    "--rnn $RNN --loss $LOSS --mt $MULTI_TASK --num_labels $NUM_LABELS --loss $LOSS --weight_path $WEIGHT_PATH \\\n",
    "--window_size $WINDOW_SIZE --inner_len $INNER_LEN --edge_len $EDGE_LEN"
   ]
  },
  {
   "cell_type": "code",
   "execution_count": null,
   "metadata": {},
   "outputs": [],
   "source": []
  },
  {
   "cell_type": "code",
   "execution_count": null,
   "metadata": {},
   "outputs": [],
   "source": []
  },
  {
   "cell_type": "code",
   "execution_count": null,
   "metadata": {},
   "outputs": [],
   "source": []
  },
  {
   "cell_type": "code",
   "execution_count": null,
   "metadata": {},
   "outputs": [],
   "source": []
  },
  {
   "cell_type": "code",
   "execution_count": 2,
   "metadata": {},
   "outputs": [],
   "source": [
    "VERSION = '18_v1_05'\n",
    "FOLD_PATH = '../../00_EDA/00_v2_07/result/' #'../../00_EDA/00_v1_01/result/'\n",
    "MODEL = 'microsoft/deberta-xlarge'\n",
    "#'microsoft/deberta-large'\n",
    "#'microsoft/deberta-base'\n",
    "#'microsoft/deberta-v3-base'\n",
    "#'funnel-transformer/xlarge'\n",
    "#'ahotrod/electra_large_discriminator_squad2_512'\n",
    "#'funnel-transformer/xlarge'\n",
    "#'microsoft/deberta-v3-large'\n",
    "#'microsoft/deberta-large'\n",
    "#'anferico/bert-for-patents'\n",
    "#'microsoft/deberta-v3-base'\n",
    "#'microsoft/cocolm-large'\n",
    "LR = 6e-6 #8e-6 #2e-5\n",
    "HEAD_LR = 6e-6 #8e-6 #2e-5\n",
    "SEED = 100\n",
    "TRN_BS = 1\n",
    "VAL_BS = 1\n",
    "ACCUM_STEP = 1\n",
    "EPOCHS = 6 #5 #2\n",
    "STOP_EPOCH = 6 #5 #2\n",
    "RESTART = 1\n",
    "HIDDEN_DROP_PROB = 0\n",
    "P_DROP = 0\n",
    "RNN = 'none'\n",
    "WARMUP_RATIO = 0.1\n",
    "LOSS = 'xentropy'\n",
    "HEAD = 'simple'\n",
    "AUG = 'false' #'mixup'\n",
    "MIXUP_ALPHA = 1.0\n",
    "P_AUG = 0\n",
    "AUG_STOP_EPOCH = 2\n",
    "MSD = 'true'\n",
    "MULTI_LAYERS = 1\n",
    "EVAL_STEP = -1 #100\n",
    "NUM_LABELS = 3\n",
    "NUM_LABELS_2 = 7\n",
    "ADV_SIFT = 'false'\n",
    "FP16 = 'true' #'false'\n",
    "WD = 0.01\n",
    "FREEZE = 'true'\n",
    "#MAX_LENGTH = 1024\n",
    "MULTI_TASK = 'false' #'true'\n",
    "W_MT = 1.0 #0.5\n",
    "#PREPROCESSED_DATA_PATH = '../../00_EDA/00_v2_01/result/train.csv'\n",
    "#'../../00_EDA/00_v1_09/result/train.csv'\n",
    "AWP = 'true'\n",
    "AWP_LR = 1e-4 #5e-4 #1e-2 #1.0\n",
    "AWP_EPS = 1e-3 #0.01\n",
    "AWP_START_EPOCH = 1\n",
    "\n",
    "PRETRAINED_DETECTOR_PATH = f'../../input/tascj/result/deberta_xlarge_fold0.pth'\n",
    "#PRETRAINED_DETECTOR_PATH = f'../../input/tascj/result/deberta_large_fold0.pth'\n",
    "#PRETRAINED_DETECTOR_PATH = f'../../05_Detection/exp/result/05_v1_04/model_seed100_fold0_swa.pth'\n",
    "\n",
    "MASK_PROB = 0.8\n",
    "MASK_RATIO = 0.3\n",
    "\n",
    "SCHEDULER = 'cosine_hard'\n",
    "NUM_CYCLES = EPOCHS\n",
    "\n",
    "CP = 'true'\n",
    "\n",
    "WINDOW_SIZE = 1024 #768 #512\n",
    "INNER_LEN = 768 #512 #384\n",
    "EDGE_LEN = 128 #64\n",
    "\n",
    "BNB = 32"
   ]
  },
  {
   "cell_type": "code",
   "execution_count": 14,
   "metadata": {
    "scrolled": false
   },
   "outputs": [
    {
     "name": "stdout",
     "output_type": "stream",
     "text": [
      "torch 1.10.1\n",
      "train_df.shape =  (36765, 5)\n",
      "test_df.shape =  (10, 4)\n",
      "sub_df.shape =  (10, 4)\n",
      "load folds...\n",
      "trn_df.shape =  (29383, 6)\n",
      "val_df.shape =  (7382, 6)\n",
      "2022-07-23 23:35:14.027843: W tensorflow/stream_executor/platform/default/dso_loader.cc:59] Could not load dynamic library 'libcudart.so.10.1'; dlerror: libcudart.so.10.1: cannot open shared object file: No such file or directory; LD_LIBRARY_PATH: /usr/local/cuda-10.2/lib64:\n",
      "2022-07-23 23:35:14.027866: I tensorflow/stream_executor/cuda/cudart_stub.cc:29] Ignore above cudart dlerror if you do not have a GPU set up on your machine.\n",
      "freeze 12/24\n",
      "self.warmup_ratio =  0.1\n",
      "self.num_train_steps =  20118\n",
      "num_warmup_steps =  2011\n",
      "lr :  [0.0, 0.0, 0.0]\n",
      "100%|████████████████████████████| 3353/3353 [58:00<00:00,  1.04s/it, loss=1.51]\n",
      "100%|█████████████████████████████████████████| 838/838 [02:58<00:00,  4.69it/s]\n",
      "epoch 1: trn_loss = 1.5148, val_loss = 0.6445, trn_score = -0.7538, val_score = -0.6445\n",
      "model (best loss) saved\n",
      "model (best score) saved\n",
      "lr :  [3.5186661693254884e-06, 3.5186661693254884e-06, 3.5186661693254884e-06]\n",
      "100%|████████████████████████████| 3353/3353 [58:14<00:00,  1.04s/it, loss=1.25]\n",
      "100%|█████████████████████████████████████████| 838/838 [02:59<00:00,  4.67it/s]\n",
      "epoch 2: trn_loss = 1.2493, val_loss = 0.6237, trn_score = -0.6205, val_score = -0.6237\n",
      "model (best loss) saved\n",
      "model (best score) saved\n",
      "lr :  [2.4772329990251676e-06, 2.4772329990251676e-06, 2.4772329990251676e-06]\n",
      "100%|████████████████████████████| 3353/3353 [58:22<00:00,  1.04s/it, loss=1.17]\n",
      "100%|█████████████████████████████████████████| 838/838 [02:59<00:00,  4.68it/s]\n",
      "epoch 3: trn_loss = 1.1658, val_loss = 0.6243, trn_score = -0.5796, val_score = -0.6243\n",
      "lr :  [1.498798106558355e-06, 1.498798106558355e-06, 1.498798106558355e-06]\n",
      "100%|█████████████████████████████| 3353/3353 [58:10<00:00,  1.04s/it, loss=1.1]\n",
      "100%|█████████████████████████████████████████| 838/838 [02:57<00:00,  4.72it/s]\n",
      "epoch 4: trn_loss = 1.1009, val_loss = 0.6290, trn_score = -0.5468, val_score = -0.6290\n",
      "lr :  [7.012719818425146e-07, 7.012719818425146e-07, 7.012719818425146e-07]\n",
      "100%|████████████████████████████| 3353/3353 [57:38<00:00,  1.03s/it, loss=1.01]\n",
      "100%|█████████████████████████████████████████| 838/838 [02:56<00:00,  4.73it/s]\n",
      "epoch 5: trn_loss = 1.0130, val_loss = 0.6228, trn_score = -0.5032, val_score = -0.6228\n",
      "model (best loss) saved\n",
      "model (best score) saved\n",
      "lr :  [1.8076392843092538e-07, 1.8076392843092538e-07, 1.8076392843092538e-07]\n",
      "100%|███████████████████████████| 3353/3353 [57:16<00:00,  1.03s/it, loss=0.944]\n",
      "100%|█████████████████████████████████████████| 838/838 [02:56<00:00,  4.74it/s]\n",
      "epoch 6: trn_loss = 0.9439, val_loss = 0.6510, trn_score = -0.4685, val_score = -0.6510\n",
      "epoch_best 5, val_loss_best 0.62283, val_score_best -0.62283\n",
      "\n"
     ]
    }
   ],
   "source": [
    "FOLD = 1\n",
    "\n",
    "!python ../$VERSION/train.py --model $MODEL --version $VERSION --fold_path $FOLD_PATH --fold $FOLD --seed $SEED \\\n",
    "--lr $LR --head_lr $HEAD_LR --trn_batch_size $TRN_BS --val_batch_size $VAL_BS \\\n",
    "--epochs $EPOCHS --hidden_drop_prob $HIDDEN_DROP_PROB --p_drop $P_DROP \\\n",
    "--accumulate_grad_batches $ACCUM_STEP --rnn $RNN --warmup_ratio $WARMUP_RATIO --loss $LOSS --aug $AUG --head $HEAD \\\n",
    "--mixup_alpha $MIXUP_ALPHA --p_aug $P_AUG --aug_stop_epoch $AUG_STOP_EPOCH \\\n",
    "--msd $MSD --multi_layers $MULTI_LAYERS --eval_step $EVAL_STEP --stop_epoch $STOP_EPOCH \\\n",
    "--num_labels $NUM_LABELS --num_labels_2 $NUM_LABELS_2 \\\n",
    "--restart_epoch $RESTART --adv_sift $ADV_SIFT --fp16 $FP16 --weight_decay $WD --freeze_layers $FREEZE \\\n",
    "--mt $MULTI_TASK --w_mt $W_MT \\\n",
    "--awp $AWP --awp_lr $AWP_LR --awp_eps $AWP_EPS --awp_start_epoch $AWP_START_EPOCH \\\n",
    "--pretrained_detector_path $PRETRAINED_DETECTOR_PATH --mask_prob $MASK_PROB --mask_ratio $MASK_RATIO \\\n",
    "--scheduler $SCHEDULER --num_cycles $NUM_CYCLES --check_pointing $CP \\\n",
    "--window_size $WINDOW_SIZE --inner_len $INNER_LEN --edge_len $EDGE_LEN --adam_bits $BNB"
   ]
  },
  {
   "cell_type": "code",
   "execution_count": 15,
   "metadata": {
    "scrolled": false
   },
   "outputs": [
    {
     "name": "stdout",
     "output_type": "stream",
     "text": [
      "torch 1.10.1\n",
      "train_df.shape =  (36765, 5)\n",
      "test_df.shape =  (10, 4)\n",
      "sub_df.shape =  (10, 4)\n",
      "load folds...\n",
      "trn_df.shape =  (29461, 6)\n",
      "val_df.shape =  (7304, 6)\n",
      "2022-07-24 06:14:53.864954: W tensorflow/stream_executor/platform/default/dso_loader.cc:59] Could not load dynamic library 'libcudart.so.10.1'; dlerror: libcudart.so.10.1: cannot open shared object file: No such file or directory; LD_LIBRARY_PATH: /usr/local/cuda-10.2/lib64:\n",
      "2022-07-24 06:14:53.864978: I tensorflow/stream_executor/cuda/cudart_stub.cc:29] Ignore above cudart dlerror if you do not have a GPU set up on your machine.\n",
      "freeze 12/24\n",
      "self.warmup_ratio =  0.1\n",
      "self.num_train_steps =  20118\n",
      "num_warmup_steps =  2011\n",
      "lr :  [0.0, 0.0, 0.0]\n",
      "100%|████████████████████████████| 3353/3353 [57:09<00:00,  1.02s/it, loss=1.54]\n",
      "100%|█████████████████████████████████████████| 838/838 [03:01<00:00,  4.63it/s]\n",
      "epoch 1: trn_loss = 1.5450, val_loss = 0.6618, trn_score = -0.7689, val_score = -0.6618\n",
      "model (best loss) saved\n",
      "model (best score) saved\n",
      "lr :  [3.5186661693254884e-06, 3.5186661693254884e-06, 3.5186661693254884e-06]\n",
      "100%|████████████████████████████| 3353/3353 [57:04<00:00,  1.02s/it, loss=1.25]\n",
      "100%|█████████████████████████████████████████| 838/838 [03:00<00:00,  4.65it/s]\n",
      "epoch 2: trn_loss = 1.2484, val_loss = 0.6188, trn_score = -0.6207, val_score = -0.6188\n",
      "model (best loss) saved\n",
      "model (best score) saved\n",
      "lr :  [2.4772329990251676e-06, 2.4772329990251676e-06, 2.4772329990251676e-06]\n",
      "100%|████████████████████████████| 3353/3353 [57:43<00:00,  1.03s/it, loss=1.16]\n",
      "100%|█████████████████████████████████████████| 838/838 [03:04<00:00,  4.54it/s]\n",
      "epoch 3: trn_loss = 1.1636, val_loss = 0.6036, trn_score = -0.5780, val_score = -0.6036\n",
      "model (best loss) saved\n",
      "model (best score) saved\n",
      "lr :  [1.498798106558355e-06, 1.498798106558355e-06, 1.498798106558355e-06]\n",
      "100%|█████████████████████████████| 3353/3353 [57:47<00:00,  1.03s/it, loss=1.1]\n",
      "100%|█████████████████████████████████████████| 838/838 [03:03<00:00,  4.55it/s]\n",
      "epoch 4: trn_loss = 1.0961, val_loss = 0.6081, trn_score = -0.5446, val_score = -0.6081\n",
      "lr :  [7.012719818425146e-07, 7.012719818425146e-07, 7.012719818425146e-07]\n",
      "100%|████████████████████████████| 3353/3353 [57:45<00:00,  1.03s/it, loss=1.03]\n",
      "100%|█████████████████████████████████████████| 838/838 [03:07<00:00,  4.47it/s]\n",
      "epoch 5: trn_loss = 1.0265, val_loss = 0.6094, trn_score = -0.5097, val_score = -0.6094\n",
      "lr :  [1.8076392843092538e-07, 1.8076392843092538e-07, 1.8076392843092538e-07]\n",
      "100%|███████████████████████████| 3353/3353 [57:49<00:00,  1.03s/it, loss=0.953]\n",
      "100%|█████████████████████████████████████████| 838/838 [03:05<00:00,  4.51it/s]\n",
      "epoch 6: trn_loss = 0.9534, val_loss = 0.6221, trn_score = -0.4721, val_score = -0.6221\n",
      "epoch_best 3, val_loss_best 0.60365, val_score_best -0.60365\n",
      "\n"
     ]
    }
   ],
   "source": [
    "FOLD = 2\n",
    "\n",
    "!python ../$VERSION/train.py --model $MODEL --version $VERSION --fold_path $FOLD_PATH --fold $FOLD --seed $SEED \\\n",
    "--lr $LR --head_lr $HEAD_LR --trn_batch_size $TRN_BS --val_batch_size $VAL_BS \\\n",
    "--epochs $EPOCHS --hidden_drop_prob $HIDDEN_DROP_PROB --p_drop $P_DROP \\\n",
    "--accumulate_grad_batches $ACCUM_STEP --rnn $RNN --warmup_ratio $WARMUP_RATIO --loss $LOSS --aug $AUG --head $HEAD \\\n",
    "--mixup_alpha $MIXUP_ALPHA --p_aug $P_AUG --aug_stop_epoch $AUG_STOP_EPOCH \\\n",
    "--msd $MSD --multi_layers $MULTI_LAYERS --eval_step $EVAL_STEP --stop_epoch $STOP_EPOCH \\\n",
    "--num_labels $NUM_LABELS --num_labels_2 $NUM_LABELS_2 \\\n",
    "--restart_epoch $RESTART --adv_sift $ADV_SIFT --fp16 $FP16 --weight_decay $WD --freeze_layers $FREEZE \\\n",
    "--mt $MULTI_TASK --w_mt $W_MT \\\n",
    "--awp $AWP --awp_lr $AWP_LR --awp_eps $AWP_EPS --awp_start_epoch $AWP_START_EPOCH \\\n",
    "--pretrained_detector_path $PRETRAINED_DETECTOR_PATH --mask_prob $MASK_PROB --mask_ratio $MASK_RATIO \\\n",
    "--scheduler $SCHEDULER --num_cycles $NUM_CYCLES --check_pointing $CP \\\n",
    "--window_size $WINDOW_SIZE --inner_len $INNER_LEN --edge_len $EDGE_LEN --adam_bits $BNB"
   ]
  },
  {
   "cell_type": "code",
   "execution_count": 3,
   "metadata": {},
   "outputs": [],
   "source": [
    "AWP_LR = 5e-4 #1e-2 #1.0\n",
    "AWP_EPS = 1e-3 #0.01"
   ]
  },
  {
   "cell_type": "code",
   "execution_count": null,
   "metadata": {},
   "outputs": [
    {
     "name": "stdout",
     "output_type": "stream",
     "text": [
      "torch 1.10.1\n",
      "train_df.shape =  (36765, 5)\n",
      "test_df.shape =  (10, 4)\n",
      "sub_df.shape =  (10, 4)\n",
      "load folds...\n",
      "trn_df.shape =  (29461, 6)\n",
      "val_df.shape =  (7304, 6)\n",
      "2022-07-24 12:25:06.440596: W tensorflow/stream_executor/platform/default/dso_loader.cc:59] Could not load dynamic library 'libcudart.so.10.1'; dlerror: libcudart.so.10.1: cannot open shared object file: No such file or directory; LD_LIBRARY_PATH: /usr/local/cuda-10.2/lib64:\n",
      "2022-07-24 12:25:06.440619: I tensorflow/stream_executor/cuda/cudart_stub.cc:29] Ignore above cudart dlerror if you do not have a GPU set up on your machine.\n",
      "freeze 12/24\n",
      "self.warmup_ratio =  0.1\n",
      "self.num_train_steps =  20118\n",
      "num_warmup_steps =  2011\n",
      "lr :  [0.0, 0.0, 0.0]\n",
      "100%|████████████████████████████| 3353/3353 [57:24<00:00,  1.03s/it, loss=1.59]\n",
      "100%|█████████████████████████████████████████| 838/838 [03:03<00:00,  4.58it/s]\n",
      "epoch 1: trn_loss = 1.5913, val_loss = 0.6641, trn_score = -0.7846, val_score = -0.6641\n",
      "model (best loss) saved\n",
      "model (best score) saved\n",
      "lr :  [3.5186661693254884e-06, 3.5186661693254884e-06, 3.5186661693254884e-06]\n",
      "100%|████████████████████████████| 3353/3353 [57:29<00:00,  1.03s/it, loss=1.33]\n",
      "100%|█████████████████████████████████████████| 838/838 [03:02<00:00,  4.60it/s]\n",
      "epoch 2: trn_loss = 1.3263, val_loss = 0.6294, trn_score = -0.6535, val_score = -0.6294\n",
      "model (best loss) saved\n",
      "model (best score) saved\n",
      "lr :  [2.4772329990251676e-06, 2.4772329990251676e-06, 2.4772329990251676e-06]\n",
      " 55%|███████████████▎            | 1838/3353 [31:41<23:20,  1.08it/s, loss=1.26]"
     ]
    }
   ],
   "source": [
    "FOLD = 2\n",
    "\n",
    "!python ../$VERSION/train.py --model $MODEL --version $VERSION --fold_path $FOLD_PATH --fold $FOLD --seed $SEED \\\n",
    "--lr $LR --head_lr $HEAD_LR --trn_batch_size $TRN_BS --val_batch_size $VAL_BS \\\n",
    "--epochs $EPOCHS --hidden_drop_prob $HIDDEN_DROP_PROB --p_drop $P_DROP \\\n",
    "--accumulate_grad_batches $ACCUM_STEP --rnn $RNN --warmup_ratio $WARMUP_RATIO --loss $LOSS --aug $AUG --head $HEAD \\\n",
    "--mixup_alpha $MIXUP_ALPHA --p_aug $P_AUG --aug_stop_epoch $AUG_STOP_EPOCH \\\n",
    "--msd $MSD --multi_layers $MULTI_LAYERS --eval_step $EVAL_STEP --stop_epoch $STOP_EPOCH \\\n",
    "--num_labels $NUM_LABELS --num_labels_2 $NUM_LABELS_2 \\\n",
    "--restart_epoch $RESTART --adv_sift $ADV_SIFT --fp16 $FP16 --weight_decay $WD --freeze_layers $FREEZE \\\n",
    "--mt $MULTI_TASK --w_mt $W_MT \\\n",
    "--awp $AWP --awp_lr $AWP_LR --awp_eps $AWP_EPS --awp_start_epoch $AWP_START_EPOCH \\\n",
    "--pretrained_detector_path $PRETRAINED_DETECTOR_PATH --mask_prob $MASK_PROB --mask_ratio $MASK_RATIO \\\n",
    "--scheduler $SCHEDULER --num_cycles $NUM_CYCLES --check_pointing $CP \\\n",
    "--window_size $WINDOW_SIZE --inner_len $INNER_LEN --edge_len $EDGE_LEN --adam_bits $BNB"
   ]
  },
  {
   "cell_type": "code",
   "execution_count": 4,
   "metadata": {},
   "outputs": [],
   "source": [
    "EPOCHS = 6 #5 #2\n",
    "STOP_EPOCH = 6 #5 #2\n",
    "RESTART = 3"
   ]
  },
  {
   "cell_type": "code",
   "execution_count": 5,
   "metadata": {
    "scrolled": true
   },
   "outputs": [
    {
     "name": "stdout",
     "output_type": "stream",
     "text": [
      "torch 1.10.1\n",
      "train_df.shape =  (36765, 5)\n",
      "test_df.shape =  (10, 4)\n",
      "sub_df.shape =  (10, 4)\n",
      "load folds...\n",
      "trn_df.shape =  (29461, 6)\n",
      "val_df.shape =  (7304, 6)\n",
      "2022-07-24 15:10:23.859576: W tensorflow/stream_executor/platform/default/dso_loader.cc:59] Could not load dynamic library 'libcudart.so.10.1'; dlerror: libcudart.so.10.1: cannot open shared object file: No such file or directory; LD_LIBRARY_PATH: /usr/local/cuda-10.2/lib64:\n",
      "2022-07-24 15:10:23.859659: I tensorflow/stream_executor/cuda/cudart_stub.cc:29] Ignore above cudart dlerror if you do not have a GPU set up on your machine.\n",
      "freeze 12/24\n",
      "self.warmup_ratio =  0.1\n",
      "self.num_train_steps =  20118\n",
      "num_warmup_steps =  2011\n",
      "epoch =  1\n",
      "100%|██████████████████████████████████████| 3353/3353 [00:12<00:00, 267.70it/s]\n",
      "epoch =  2\n",
      "100%|██████████████████████████████████████| 3353/3353 [00:12<00:00, 269.47it/s]\n",
      "lr :  [2.4772329990251676e-06, 2.4772329990251676e-06, 2.4772329990251676e-06]\n",
      "100%|████████████████████████████| 3353/3353 [57:51<00:00,  1.04s/it, loss=1.26]\n",
      "100%|█████████████████████████████████████████| 838/838 [03:05<00:00,  4.53it/s]\n",
      "epoch 3: trn_loss = 1.2636, val_loss = 0.6135, trn_score = -0.6204, val_score = -0.6135\n",
      "model (best loss) saved\n",
      "model (best score) saved\n",
      "lr :  [1.498798106558355e-06, 1.498798106558355e-06, 1.498798106558355e-06]\n",
      "100%|████████████████████████████| 3353/3353 [57:00<00:00,  1.02s/it, loss=1.22]\n",
      "100%|█████████████████████████████████████████| 838/838 [03:02<00:00,  4.59it/s]\n",
      "epoch 4: trn_loss = 1.2182, val_loss = 0.6173, trn_score = -0.5975, val_score = -0.6173\n",
      "lr :  [7.012719818425146e-07, 7.012719818425146e-07, 7.012719818425146e-07]\n",
      " 60%|████████████████▋           | 1999/3353 [32:54<23:55,  1.06s/it, loss=1.52]^C\n",
      " 60%|████████████████▋           | 1999/3353 [32:55<22:17,  1.01it/s, loss=1.52]\n",
      "Traceback (most recent call last):\n",
      "  File \"../18_v1_05/train.py\", line 148, in <module>\n",
      "    run(args, trn_df, val_df, pseudo_df=None)\n",
      "  File \"/home/takesako/programming/kaggle/54_Feedback2/18_BaselineSW/18_v1_05/run.py\", line 194, in run\n",
      "    scaler.scale(loss).backward()\n",
      "  File \"/home/takesako/anaconda3/lib/python3.7/site-packages/torch/_tensor.py\", line 307, in backward\n",
      "    torch.autograd.backward(self, gradient, retain_graph, create_graph, inputs=inputs)\n",
      "  File \"/home/takesako/anaconda3/lib/python3.7/site-packages/torch/autograd/__init__.py\", line 156, in backward\n",
      "    allow_unreachable=True, accumulate_grad=True)  # allow_unreachable flag\n",
      "KeyboardInterrupt\n"
     ]
    }
   ],
   "source": [
    "FOLD = 2\n",
    "\n",
    "PRETRAIN_PATH = '../../18_BaselineSW/exp/result/18_v1_05/model_seed100_fold2_epoch2.pth'\n",
    "\n",
    "!python ../$VERSION/train.py --model $MODEL --version $VERSION --fold_path $FOLD_PATH --fold $FOLD --seed $SEED \\\n",
    "--lr $LR --head_lr $HEAD_LR --trn_batch_size $TRN_BS --val_batch_size $VAL_BS \\\n",
    "--epochs $EPOCHS --hidden_drop_prob $HIDDEN_DROP_PROB --p_drop $P_DROP \\\n",
    "--accumulate_grad_batches $ACCUM_STEP --rnn $RNN --warmup_ratio $WARMUP_RATIO --loss $LOSS --aug $AUG --head $HEAD \\\n",
    "--mixup_alpha $MIXUP_ALPHA --p_aug $P_AUG --aug_stop_epoch $AUG_STOP_EPOCH \\\n",
    "--msd $MSD --multi_layers $MULTI_LAYERS --eval_step $EVAL_STEP --stop_epoch $STOP_EPOCH \\\n",
    "--num_labels $NUM_LABELS --num_labels_2 $NUM_LABELS_2 \\\n",
    "--restart_epoch $RESTART --adv_sift $ADV_SIFT --fp16 $FP16 --weight_decay $WD --freeze_layers $FREEZE \\\n",
    "--mt $MULTI_TASK --w_mt $W_MT \\\n",
    "--awp $AWP --awp_lr $AWP_LR --awp_eps $AWP_EPS --awp_start_epoch $AWP_START_EPOCH \\\n",
    "--pretrained_detector_path $PRETRAINED_DETECTOR_PATH --mask_prob $MASK_PROB --mask_ratio $MASK_RATIO \\\n",
    "--scheduler $SCHEDULER --num_cycles $NUM_CYCLES --check_pointing $CP \\\n",
    "--window_size $WINDOW_SIZE --inner_len $INNER_LEN --edge_len $EDGE_LEN --adam_bits $BNB \\\n",
    "--pretrain_path $PRETRAIN_PATH"
   ]
  },
  {
   "cell_type": "code",
   "execution_count": null,
   "metadata": {},
   "outputs": [],
   "source": []
  },
  {
   "cell_type": "code",
   "execution_count": null,
   "metadata": {},
   "outputs": [],
   "source": []
  },
  {
   "cell_type": "code",
   "execution_count": null,
   "metadata": {},
   "outputs": [],
   "source": []
  },
  {
   "cell_type": "code",
   "execution_count": 6,
   "metadata": {},
   "outputs": [],
   "source": [
    "AWP_LR = 1e-4 #5e-4 #1e-2 #1.0\n",
    "AWP_EPS = 1e-3 #0.01\n",
    "AWP_START_EPOCH = 1\n",
    "\n",
    "EPOCHS = 6 #5 #2\n",
    "STOP_EPOCH = 6 #5 #2\n",
    "RESTART = 1"
   ]
  },
  {
   "cell_type": "code",
   "execution_count": 7,
   "metadata": {
    "scrolled": false
   },
   "outputs": [
    {
     "name": "stdout",
     "output_type": "stream",
     "text": [
      "torch 1.10.1\n",
      "train_df.shape =  (36765, 5)\n",
      "test_df.shape =  (10, 4)\n",
      "sub_df.shape =  (10, 4)\n",
      "load folds...\n",
      "trn_df.shape =  (29348, 6)\n",
      "val_df.shape =  (7417, 6)\n",
      "2022-07-24 17:46:44.598095: W tensorflow/stream_executor/platform/default/dso_loader.cc:59] Could not load dynamic library 'libcudart.so.10.1'; dlerror: libcudart.so.10.1: cannot open shared object file: No such file or directory; LD_LIBRARY_PATH: /usr/local/cuda-10.2/lib64:\n",
      "2022-07-24 17:46:44.598114: I tensorflow/stream_executor/cuda/cudart_stub.cc:29] Ignore above cudart dlerror if you do not have a GPU set up on your machine.\n",
      "freeze 12/24\n",
      "self.warmup_ratio =  0.1\n",
      "self.num_train_steps =  20118\n",
      "num_warmup_steps =  2011\n",
      "lr :  [0.0, 0.0, 0.0]\n",
      "100%|████████████████████████████| 3353/3353 [57:07<00:00,  1.02s/it, loss=1.54]\n",
      "100%|█████████████████████████████████████████| 838/838 [02:54<00:00,  4.81it/s]\n",
      "epoch 1: trn_loss = 1.5430, val_loss = 0.6742, trn_score = -0.7678, val_score = -0.6742\n",
      "model (best loss) saved\n",
      "model (best score) saved\n",
      "lr :  [3.5186661693254884e-06, 3.5186661693254884e-06, 3.5186661693254884e-06]\n",
      "100%|████████████████████████████| 3353/3353 [57:24<00:00,  1.03s/it, loss=1.24]\n",
      "100%|█████████████████████████████████████████| 838/838 [02:55<00:00,  4.77it/s]\n",
      "epoch 2: trn_loss = 1.2426, val_loss = 0.6220, trn_score = -0.6172, val_score = -0.6220\n",
      "model (best loss) saved\n",
      "model (best score) saved\n",
      "lr :  [2.4772329990251676e-06, 2.4772329990251676e-06, 2.4772329990251676e-06]\n",
      "100%|████████████████████████████| 3353/3353 [57:51<00:00,  1.04s/it, loss=1.23]\n",
      "100%|█████████████████████████████████████████| 838/838 [02:59<00:00,  4.68it/s]\n",
      "epoch 3: trn_loss = 1.2289, val_loss = 0.6635, trn_score = -0.6077, val_score = -0.6635\n",
      "lr :  [1.498798106558355e-06, 1.498798106558355e-06, 1.498798106558355e-06]\n",
      "100%|████████████████████████████| 3353/3353 [58:04<00:00,  1.04s/it, loss=1.09]\n",
      "100%|█████████████████████████████████████████| 838/838 [03:00<00:00,  4.64it/s]\n",
      "epoch 4: trn_loss = 1.0930, val_loss = 0.6232, trn_score = -0.5420, val_score = -0.6232\n",
      "lr :  [7.012719818425146e-07, 7.012719818425146e-07, 7.012719818425146e-07]\n",
      "100%|████████████████████████████| 3353/3353 [58:17<00:00,  1.04s/it, loss=1.03]\n",
      "100%|█████████████████████████████████████████| 838/838 [03:00<00:00,  4.65it/s]\n",
      "epoch 5: trn_loss = 1.0324, val_loss = 0.6364, trn_score = -0.5122, val_score = -0.6364\n",
      "lr :  [1.8076392843092538e-07, 1.8076392843092538e-07, 1.8076392843092538e-07]\n",
      "100%|███████████████████████████| 3353/3353 [58:41<00:00,  1.05s/it, loss=0.969]\n",
      "100%|█████████████████████████████████████████| 838/838 [03:00<00:00,  4.65it/s]\n",
      "epoch 6: trn_loss = 0.9689, val_loss = 0.6545, trn_score = -0.4800, val_score = -0.6545\n",
      "epoch_best 2, val_loss_best 0.62201, val_score_best -0.62201\n",
      "\n"
     ]
    }
   ],
   "source": [
    "FOLD = 3\n",
    "\n",
    "!python ../$VERSION/train.py --model $MODEL --version $VERSION --fold_path $FOLD_PATH --fold $FOLD --seed $SEED \\\n",
    "--lr $LR --head_lr $HEAD_LR --trn_batch_size $TRN_BS --val_batch_size $VAL_BS \\\n",
    "--epochs $EPOCHS --hidden_drop_prob $HIDDEN_DROP_PROB --p_drop $P_DROP \\\n",
    "--accumulate_grad_batches $ACCUM_STEP --rnn $RNN --warmup_ratio $WARMUP_RATIO --loss $LOSS --aug $AUG --head $HEAD \\\n",
    "--mixup_alpha $MIXUP_ALPHA --p_aug $P_AUG --aug_stop_epoch $AUG_STOP_EPOCH \\\n",
    "--msd $MSD --multi_layers $MULTI_LAYERS --eval_step $EVAL_STEP --stop_epoch $STOP_EPOCH \\\n",
    "--num_labels $NUM_LABELS --num_labels_2 $NUM_LABELS_2 \\\n",
    "--restart_epoch $RESTART --adv_sift $ADV_SIFT --fp16 $FP16 --weight_decay $WD --freeze_layers $FREEZE \\\n",
    "--mt $MULTI_TASK --w_mt $W_MT \\\n",
    "--awp $AWP --awp_lr $AWP_LR --awp_eps $AWP_EPS --awp_start_epoch $AWP_START_EPOCH \\\n",
    "--pretrained_detector_path $PRETRAINED_DETECTOR_PATH --mask_prob $MASK_PROB --mask_ratio $MASK_RATIO \\\n",
    "--scheduler $SCHEDULER --num_cycles $NUM_CYCLES --check_pointing $CP \\\n",
    "--window_size $WINDOW_SIZE --inner_len $INNER_LEN --edge_len $EDGE_LEN --adam_bits $BNB"
   ]
  },
  {
   "cell_type": "code",
   "execution_count": 8,
   "metadata": {},
   "outputs": [
    {
     "name": "stdout",
     "output_type": "stream",
     "text": [
      "torch 1.10.1\n",
      "train_df.shape =  (36765, 5)\n",
      "test_df.shape =  (10, 4)\n",
      "sub_df.shape =  (10, 4)\n",
      "load folds...\n",
      "trn_df.shape =  (29406, 6)\n",
      "val_df.shape =  (7359, 6)\n",
      "2022-07-24 23:52:53.728408: W tensorflow/stream_executor/platform/default/dso_loader.cc:59] Could not load dynamic library 'libcudart.so.10.1'; dlerror: libcudart.so.10.1: cannot open shared object file: No such file or directory; LD_LIBRARY_PATH: /usr/local/cuda-10.2/lib64:\n",
      "2022-07-24 23:52:53.728431: I tensorflow/stream_executor/cuda/cudart_stub.cc:29] Ignore above cudart dlerror if you do not have a GPU set up on your machine.\n",
      "freeze 12/24\n",
      "self.warmup_ratio =  0.1\n",
      "self.num_train_steps =  20118\n",
      "num_warmup_steps =  2011\n",
      "lr :  [0.0, 0.0, 0.0]\n",
      "100%|████████████████████████████| 3353/3353 [57:43<00:00,  1.03s/it, loss=1.53]\n",
      "100%|█████████████████████████████████████████| 838/838 [02:59<00:00,  4.66it/s]\n",
      "epoch 1: trn_loss = 1.5275, val_loss = 0.6340, trn_score = -0.7600, val_score = -0.6340\n",
      "model (best loss) saved\n",
      "model (best score) saved\n",
      "lr :  [3.5186661693254884e-06, 3.5186661693254884e-06, 3.5186661693254884e-06]\n",
      "100%|████████████████████████████| 3353/3353 [57:45<00:00,  1.03s/it, loss=1.25]\n",
      "100%|█████████████████████████████████████████| 838/838 [03:00<00:00,  4.63it/s]\n",
      "epoch 2: trn_loss = 1.2458, val_loss = 0.6277, trn_score = -0.6186, val_score = -0.6277\n",
      "model (best loss) saved\n",
      "model (best score) saved\n",
      "lr :  [2.4772329990251676e-06, 2.4772329990251676e-06, 2.4772329990251676e-06]\n",
      "100%|████████████████████████████| 3353/3353 [57:31<00:00,  1.03s/it, loss=1.22]\n",
      "100%|█████████████████████████████████████████| 838/838 [03:00<00:00,  4.64it/s]\n",
      "epoch 3: trn_loss = 1.2233, val_loss = 0.6620, trn_score = -0.6076, val_score = -0.6620\n",
      "lr :  [1.498798106558355e-06, 1.498798106558355e-06, 1.498798106558355e-06]\n",
      "100%|████████████████████████████| 3353/3353 [56:45<00:00,  1.02s/it, loss=1.15]\n",
      "100%|█████████████████████████████████████████| 838/838 [03:00<00:00,  4.65it/s]\n",
      "epoch 4: trn_loss = 1.1543, val_loss = 0.6350, trn_score = -0.5728, val_score = -0.6350\n",
      "lr :  [7.012719818425146e-07, 7.012719818425146e-07, 7.012719818425146e-07]\n",
      "100%|████████████████████████████| 3353/3353 [56:58<00:00,  1.02s/it, loss=1.08]\n",
      "100%|█████████████████████████████████████████| 838/838 [03:00<00:00,  4.63it/s]\n",
      "epoch 5: trn_loss = 1.0823, val_loss = 0.6132, trn_score = -0.5378, val_score = -0.6132\n",
      "model (best loss) saved\n",
      "model (best score) saved\n",
      "lr :  [1.8076392843092538e-07, 1.8076392843092538e-07, 1.8076392843092538e-07]\n",
      " 51%|██████████████▊              | 1713/3353 [28:17<23:14,  1.18it/s, loss=1.5]^C\n",
      " 51%|██████████████▊              | 1713/3353 [28:17<27:05,  1.01it/s, loss=1.5]\n",
      "Traceback (most recent call last):\n",
      "  File \"../18_v1_05/train.py\", line 148, in <module>\n",
      "    run(args, trn_df, val_df, pseudo_df=None)\n",
      "  File \"/home/takesako/programming/kaggle/54_Feedback2/18_BaselineSW/18_v1_05/run.py\", line 193, in run\n",
      "    loss = awp.attack_backward(data)\n",
      "  File \"/home/takesako/programming/kaggle/54_Feedback2/18_BaselineSW/18_v1_05/awp.py\", line 33, in attack_backward\n",
      "    self._attack_step() # モデルを近傍の悪い方へ改変\n",
      "  File \"/home/takesako/programming/kaggle/54_Feedback2/18_BaselineSW/18_v1_05/awp.py\", line 45, in _attack_step\n",
      "    if norm1 != 0 and not torch.isnan(norm1):\n",
      "KeyboardInterrupt\n"
     ]
    }
   ],
   "source": [
    "FOLD = 4\n",
    "\n",
    "!python ../$VERSION/train.py --model $MODEL --version $VERSION --fold_path $FOLD_PATH --fold $FOLD --seed $SEED \\\n",
    "--lr $LR --head_lr $HEAD_LR --trn_batch_size $TRN_BS --val_batch_size $VAL_BS \\\n",
    "--epochs $EPOCHS --hidden_drop_prob $HIDDEN_DROP_PROB --p_drop $P_DROP \\\n",
    "--accumulate_grad_batches $ACCUM_STEP --rnn $RNN --warmup_ratio $WARMUP_RATIO --loss $LOSS --aug $AUG --head $HEAD \\\n",
    "--mixup_alpha $MIXUP_ALPHA --p_aug $P_AUG --aug_stop_epoch $AUG_STOP_EPOCH \\\n",
    "--msd $MSD --multi_layers $MULTI_LAYERS --eval_step $EVAL_STEP --stop_epoch $STOP_EPOCH \\\n",
    "--num_labels $NUM_LABELS --num_labels_2 $NUM_LABELS_2 \\\n",
    "--restart_epoch $RESTART --adv_sift $ADV_SIFT --fp16 $FP16 --weight_decay $WD --freeze_layers $FREEZE \\\n",
    "--mt $MULTI_TASK --w_mt $W_MT \\\n",
    "--awp $AWP --awp_lr $AWP_LR --awp_eps $AWP_EPS --awp_start_epoch $AWP_START_EPOCH \\\n",
    "--pretrained_detector_path $PRETRAINED_DETECTOR_PATH --mask_prob $MASK_PROB --mask_ratio $MASK_RATIO \\\n",
    "--scheduler $SCHEDULER --num_cycles $NUM_CYCLES --check_pointing $CP \\\n",
    "--window_size $WINDOW_SIZE --inner_len $INNER_LEN --edge_len $EDGE_LEN --adam_bits $BNB"
   ]
  },
  {
   "cell_type": "markdown",
   "metadata": {},
   "source": [
    "# SWA"
   ]
  },
  {
   "cell_type": "code",
   "execution_count": 9,
   "metadata": {},
   "outputs": [],
   "source": [
    "#!python ../$VERSION/swa.py --work_dir ./result/$VERSION/ --fold 0 --seed $SEED --start_epoch 6 --end_epoch 6\n",
    "!python ../$VERSION/swa.py --work_dir ./result/$VERSION/ --fold 1 --seed $SEED --start_epoch 2 --end_epoch 5\n",
    "!python ../$VERSION/swa.py --work_dir ./result/$VERSION/ --fold 2 --seed $SEED --start_epoch 3 --end_epoch 5\n",
    "!python ../$VERSION/swa.py --work_dir ./result/$VERSION/ --fold 3 --seed $SEED --epochs '2 4'\n",
    "#!python ../$VERSION/swa.py --work_dir ./result/$VERSION/ --fold 4 --seed $SEED --start_epoch 3 --end_epoch 4"
   ]
  },
  {
   "cell_type": "code",
   "execution_count": 13,
   "metadata": {},
   "outputs": [],
   "source": [
    "!python ../$VERSION/swa.py --work_dir ./result/$VERSION/ --fold 4 --seed $SEED --start_epoch 5 --end_epoch 5"
   ]
  },
  {
   "cell_type": "code",
   "execution_count": null,
   "metadata": {},
   "outputs": [],
   "source": [
    "# FOLD = 0\n",
    "# WEIGHT_PATH = f'./result/{VERSION}/model_seed{SEED}_fold{FOLD}_swa.pth'\n",
    "\n",
    "# !python ../$VERSION/validation.py --model $MODEL --version $VERSION --fold_path $FOLD_PATH --fold $FOLD --seed $SEED --val_batch_size $VAL_BS \\\n",
    "# --rnn $RNN --loss $LOSS --mt $MULTI_TASK --num_labels $NUM_LABELS --loss $LOSS --weight_path $WEIGHT_PATH \\\n",
    "# --window_size $WINDOW_SIZE --inner_len $INNER_LEN --edge_len $EDGE_LEN"
   ]
  },
  {
   "cell_type": "code",
   "execution_count": 10,
   "metadata": {},
   "outputs": [
    {
     "name": "stdout",
     "output_type": "stream",
     "text": [
      "torch 1.10.1\n",
      "2022-07-25 05:24:42.587406: W tensorflow/stream_executor/platform/default/dso_loader.cc:59] Could not load dynamic library 'libcudart.so.10.1'; dlerror: libcudart.so.10.1: cannot open shared object file: No such file or directory; LD_LIBRARY_PATH: /usr/local/cuda-10.2/lib64:\n",
      "2022-07-25 05:24:42.587427: I tensorflow/stream_executor/cuda/cudart_stub.cc:29] Ignore above cudart dlerror if you do not have a GPU set up on your machine.\n",
      "train_df.shape =  (36765, 5)\n",
      "test_df.shape =  (10, 4)\n",
      "sub_df.shape =  (10, 4)\n",
      "load folds...\n",
      "trn_df.shape =  (29383, 6)\n",
      "val_df.shape =  (7382, 6)\n",
      "100%|█████████████████████████████████████████| 838/838 [02:10<00:00,  6.41it/s]\n",
      "val_loss=0.6185, val_score=-0.6185\n",
      "preds.shape =  (7382, 3)\n",
      "labels.shape =  (7382,)\n",
      "losses.shape =  (7382,)\n",
      "discourse_ids.shape =  (7382,)\n"
     ]
    }
   ],
   "source": [
    "FOLD = 1\n",
    "WEIGHT_PATH = f'./result/{VERSION}/model_seed{SEED}_fold{FOLD}_swa.pth'\n",
    "\n",
    "!python ../$VERSION/validation.py --model $MODEL --version $VERSION --fold_path $FOLD_PATH --fold $FOLD --seed $SEED --val_batch_size $VAL_BS \\\n",
    "--rnn $RNN --loss $LOSS --mt $MULTI_TASK --num_labels $NUM_LABELS --loss $LOSS --weight_path $WEIGHT_PATH \\\n",
    "--window_size $WINDOW_SIZE --inner_len $INNER_LEN --edge_len $EDGE_LEN"
   ]
  },
  {
   "cell_type": "code",
   "execution_count": 11,
   "metadata": {},
   "outputs": [
    {
     "name": "stdout",
     "output_type": "stream",
     "text": [
      "torch 1.10.1\n",
      "2022-07-25 05:27:17.597041: W tensorflow/stream_executor/platform/default/dso_loader.cc:59] Could not load dynamic library 'libcudart.so.10.1'; dlerror: libcudart.so.10.1: cannot open shared object file: No such file or directory; LD_LIBRARY_PATH: /usr/local/cuda-10.2/lib64:\n",
      "2022-07-25 05:27:17.597062: I tensorflow/stream_executor/cuda/cudart_stub.cc:29] Ignore above cudart dlerror if you do not have a GPU set up on your machine.\n",
      "train_df.shape =  (36765, 5)\n",
      "test_df.shape =  (10, 4)\n",
      "sub_df.shape =  (10, 4)\n",
      "load folds...\n",
      "trn_df.shape =  (29461, 6)\n",
      "val_df.shape =  (7304, 6)\n",
      "100%|█████████████████████████████████████████| 838/838 [02:19<00:00,  5.99it/s]\n",
      "val_loss=0.5998, val_score=-0.5998\n",
      "preds.shape =  (7304, 3)\n",
      "labels.shape =  (7304,)\n",
      "losses.shape =  (7304,)\n",
      "discourse_ids.shape =  (7304,)\n"
     ]
    }
   ],
   "source": [
    "FOLD = 2\n",
    "WEIGHT_PATH = f'./result/{VERSION}/model_seed{SEED}_fold{FOLD}_swa.pth'\n",
    "\n",
    "!python ../$VERSION/validation.py --model $MODEL --version $VERSION --fold_path $FOLD_PATH --fold $FOLD --seed $SEED --val_batch_size $VAL_BS \\\n",
    "--rnn $RNN --loss $LOSS --mt $MULTI_TASK --num_labels $NUM_LABELS --loss $LOSS --weight_path $WEIGHT_PATH \\\n",
    "--window_size $WINDOW_SIZE --inner_len $INNER_LEN --edge_len $EDGE_LEN"
   ]
  },
  {
   "cell_type": "code",
   "execution_count": 12,
   "metadata": {},
   "outputs": [
    {
     "name": "stdout",
     "output_type": "stream",
     "text": [
      "torch 1.10.1\n",
      "2022-07-25 05:30:00.666206: W tensorflow/stream_executor/platform/default/dso_loader.cc:59] Could not load dynamic library 'libcudart.so.10.1'; dlerror: libcudart.so.10.1: cannot open shared object file: No such file or directory; LD_LIBRARY_PATH: /usr/local/cuda-10.2/lib64:\n",
      "2022-07-25 05:30:00.666226: I tensorflow/stream_executor/cuda/cudart_stub.cc:29] Ignore above cudart dlerror if you do not have a GPU set up on your machine.\n",
      "train_df.shape =  (36765, 5)\n",
      "test_df.shape =  (10, 4)\n",
      "sub_df.shape =  (10, 4)\n",
      "load folds...\n",
      "trn_df.shape =  (29348, 6)\n",
      "val_df.shape =  (7417, 6)\n",
      "100%|█████████████████████████████████████████| 838/838 [02:13<00:00,  6.28it/s]\n",
      "val_loss=0.6163, val_score=-0.6163\n",
      "preds.shape =  (7417, 3)\n",
      "labels.shape =  (7417,)\n",
      "losses.shape =  (7417,)\n",
      "discourse_ids.shape =  (7417,)\n"
     ]
    }
   ],
   "source": [
    "FOLD = 3\n",
    "WEIGHT_PATH = f'./result/{VERSION}/model_seed{SEED}_fold{FOLD}_swa.pth'\n",
    "\n",
    "!python ../$VERSION/validation.py --model $MODEL --version $VERSION --fold_path $FOLD_PATH --fold $FOLD --seed $SEED --val_batch_size $VAL_BS \\\n",
    "--rnn $RNN --loss $LOSS --mt $MULTI_TASK --num_labels $NUM_LABELS --loss $LOSS --weight_path $WEIGHT_PATH \\\n",
    "--window_size $WINDOW_SIZE --inner_len $INNER_LEN --edge_len $EDGE_LEN"
   ]
  },
  {
   "cell_type": "code",
   "execution_count": 14,
   "metadata": {},
   "outputs": [
    {
     "name": "stdout",
     "output_type": "stream",
     "text": [
      "torch 1.10.1\n",
      "2022-07-25 05:32:41.276158: W tensorflow/stream_executor/platform/default/dso_loader.cc:59] Could not load dynamic library 'libcudart.so.10.1'; dlerror: libcudart.so.10.1: cannot open shared object file: No such file or directory; LD_LIBRARY_PATH: /usr/local/cuda-10.2/lib64:\n",
      "2022-07-25 05:32:41.276181: I tensorflow/stream_executor/cuda/cudart_stub.cc:29] Ignore above cudart dlerror if you do not have a GPU set up on your machine.\n",
      "train_df.shape =  (36765, 5)\n",
      "test_df.shape =  (10, 4)\n",
      "sub_df.shape =  (10, 4)\n",
      "load folds...\n",
      "trn_df.shape =  (29406, 6)\n",
      "val_df.shape =  (7359, 6)\n",
      "100%|█████████████████████████████████████████| 838/838 [02:15<00:00,  6.17it/s]\n",
      "val_loss=0.6132, val_score=-0.6132\n",
      "preds.shape =  (7359, 3)\n",
      "labels.shape =  (7359,)\n",
      "losses.shape =  (7359,)\n",
      "discourse_ids.shape =  (7359,)\n"
     ]
    }
   ],
   "source": [
    "FOLD = 4\n",
    "WEIGHT_PATH = f'./result/{VERSION}/model_seed{SEED}_fold{FOLD}_swa.pth'\n",
    "\n",
    "!python ../$VERSION/validation.py --model $MODEL --version $VERSION --fold_path $FOLD_PATH --fold $FOLD --seed $SEED --val_batch_size $VAL_BS \\\n",
    "--rnn $RNN --loss $LOSS --mt $MULTI_TASK --num_labels $NUM_LABELS --loss $LOSS --weight_path $WEIGHT_PATH \\\n",
    "--window_size $WINDOW_SIZE --inner_len $INNER_LEN --edge_len $EDGE_LEN"
   ]
  },
  {
   "cell_type": "code",
   "execution_count": 15,
   "metadata": {},
   "outputs": [],
   "source": [
    "import pandas as pd\n",
    "\n",
    "preds = []\n",
    "for fold in range(5):\n",
    "    tmp_df = pd.read_csv(f'./result/{VERSION}/pred_fold{fold}.csv')\n",
    "    preds.append(tmp_df)\n",
    "    \n",
    "pred_df = pd.concat(preds, axis=0).reset_index(drop=True)\n",
    "train_df = pd.read_csv('../../input/feedback-prize-effectiveness/train.csv')\n",
    "\n",
    "oof_df = train_df.merge(pred_df, on='discourse_id', how='left')\n",
    "oof_df.to_csv(f'./result/{VERSION}/oof_df.csv', index=False)"
   ]
  },
  {
   "cell_type": "code",
   "execution_count": 16,
   "metadata": {},
   "outputs": [
    {
     "data": {
      "text/plain": [
       "((36765, 10),\n",
       " discourse_id               0\n",
       " essay_id                   0\n",
       " discourse_text             0\n",
       " discourse_type             0\n",
       " discourse_effectiveness    0\n",
       " pred_ineffective           0\n",
       " pred_adequate              0\n",
       " pred_effective             0\n",
       " label                      0\n",
       " loss                       0\n",
       " dtype: int64)"
      ]
     },
     "execution_count": 16,
     "metadata": {},
     "output_type": "execute_result"
    }
   ],
   "source": [
    "oof_df.shape, oof_df.isnull().sum()"
   ]
  },
  {
   "cell_type": "code",
   "execution_count": null,
   "metadata": {},
   "outputs": [],
   "source": []
  },
  {
   "cell_type": "code",
   "execution_count": null,
   "metadata": {},
   "outputs": [],
   "source": []
  },
  {
   "cell_type": "code",
   "execution_count": null,
   "metadata": {},
   "outputs": [],
   "source": []
  },
  {
   "cell_type": "code",
   "execution_count": null,
   "metadata": {},
   "outputs": [],
   "source": []
  }
 ],
 "metadata": {
  "kernelspec": {
   "display_name": "Python 3",
   "language": "python",
   "name": "python3"
  },
  "language_info": {
   "codemirror_mode": {
    "name": "ipython",
    "version": 3
   },
   "file_extension": ".py",
   "mimetype": "text/x-python",
   "name": "python",
   "nbconvert_exporter": "python",
   "pygments_lexer": "ipython3",
   "version": "3.7.8"
  }
 },
 "nbformat": 4,
 "nbformat_minor": 4
}
