{
 "cells": [
  {
   "cell_type": "code",
   "execution_count": null,
   "id": "danish-defense",
   "metadata": {},
   "outputs": [],
   "source": [
    "VERSION = '34_v2_02'\n",
    "FOLD_PATH = '../../00_EDA/00_v2_07/result/' \n",
    "MODEL = 'microsoft/deberta-large'\n",
    "SEED = 100\n",
    "WINDOW = 768 \n",
    "INNER = 512 \n",
    "EDGE = 128 \n",
    "RNN = 'lstm'\n",
    "UNLABELED_DATA_PATH = '../../00_EDA/00_v2_11/result/unlabeled.csv'"
   ]
  },
  {
   "cell_type": "code",
   "execution_count": null,
   "id": "afraid-opposition",
   "metadata": {},
   "outputs": [],
   "source": [
    "FOLD = 0\n",
    "\n",
    "!python ../code/pseudo_label.py --version $VERSION --model $MODEL \\\n",
    "--seed $SEED --fold_path $FOLD_PATH --fold $FOLD --window_size $WINDOW --inner_len $INNER --edge_len $EDGE \\\n",
    "--unlabeled_data_path $UNLABELED_DATA_PATH --rnn $RNN"
   ]
  },
  {
   "cell_type": "code",
   "execution_count": null,
   "id": "operational-difficulty",
   "metadata": {},
   "outputs": [],
   "source": [
    "FOLD = 1\n",
    "!python ../code/pseudo_label.py --version $VERSION --model $MODEL \\\n",
    "--seed $SEED --fold_path $FOLD_PATH --fold $FOLD --window_size $WINDOW --inner_len $INNER --edge_len $EDGE \\\n",
    "--unlabeled_data_path $UNLABELED_DATA_PATH --rnn $RNN\n",
    "\n",
    "FOLD = 2\n",
    "!python ../code/pseudo_label.py --version $VERSION --model $MODEL \\\n",
    "--seed $SEED --fold_path $FOLD_PATH --fold $FOLD --window_size $WINDOW --inner_len $INNER --edge_len $EDGE \\\n",
    "--unlabeled_data_path $UNLABELED_DATA_PATH --rnn $RNN\n",
    "\n",
    "FOLD = 3\n",
    "!python ../code/pseudo_label.py --version $VERSION --model $MODEL \\\n",
    "--seed $SEED --fold_path $FOLD_PATH --fold $FOLD --window_size $WINDOW --inner_len $INNER --edge_len $EDGE \\\n",
    "--unlabeled_data_path $UNLABELED_DATA_PATH --rnn $RNN\n",
    "\n",
    "FOLD = 4\n",
    "!python ../code/pseudo_label.py --version $VERSION --model $MODEL \\\n",
    "--seed $SEED --fold_path $FOLD_PATH --fold $FOLD --window_size $WINDOW --inner_len $INNER --edge_len $EDGE \\\n",
    "--unlabeled_data_path $UNLABELED_DATA_PATH --rnn $RNN"
   ]
  },
  {
   "cell_type": "code",
   "execution_count": null,
   "id": "alleged-timer",
   "metadata": {},
   "outputs": [],
   "source": []
  }
 ],
 "metadata": {
  "kernelspec": {
   "display_name": "Python 3 (ipykernel)",
   "language": "python",
   "name": "python3"
  },
  "language_info": {
   "codemirror_mode": {
    "name": "ipython",
    "version": 3
   },
   "file_extension": ".py",
   "mimetype": "text/x-python",
   "name": "python",
   "nbconvert_exporter": "python",
   "pygments_lexer": "ipython3",
   "version": "3.7.3"
  }
 },
 "nbformat": 4,
 "nbformat_minor": 5
}
