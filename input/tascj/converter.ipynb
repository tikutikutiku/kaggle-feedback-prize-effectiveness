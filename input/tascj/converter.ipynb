{
 "cells": [
  {
   "cell_type": "code",
   "execution_count": 3,
   "metadata": {},
   "outputs": [
    {
     "name": "stderr",
     "output_type": "stream",
     "text": [
      "Some weights of the model checkpoint at microsoft/deberta-large were not used when initializing DebertaForTokenClassification: ['lm_predictions.lm_head.dense.bias', 'lm_predictions.lm_head.LayerNorm.bias', 'lm_predictions.lm_head.LayerNorm.weight', 'lm_predictions.lm_head.bias', 'lm_predictions.lm_head.dense.weight', 'deberta.embeddings.position_embeddings.weight']\n",
      "- This IS expected if you are initializing DebertaForTokenClassification from the checkpoint of a model trained on another task or with another architecture (e.g. initializing a BertForSequenceClassification model from a BertForPreTraining model).\n",
      "- This IS NOT expected if you are initializing DebertaForTokenClassification from the checkpoint of a model that you expect to be exactly identical (initializing a BertForSequenceClassification model from a BertForSequenceClassification model).\n",
      "Some weights of DebertaForTokenClassification were not initialized from the model checkpoint at microsoft/deberta-large and are newly initialized: ['classifier.bias', 'classifier.weight']\n",
      "You should probably TRAIN this model on a down-stream task to be able to use it for predictions and inference.\n"
     ]
    }
   ],
   "source": [
    "import torch\n",
    "from torch import nn\n",
    "from transformers import AutoTokenizer, AutoModelForTokenClassification\n",
    "import os\n",
    "from os.path import join as opj\n",
    "\n",
    "\n",
    "class args:\n",
    "    model = 'microsoft/deberta-large' #'microsoft/deberta-base'\n",
    "    pretrained_detector_path = 'deberta_large_fold1.pth' #'deberta_large_fold0.pth' #'deberta_base_fold1.pth' #'deberta_base_fold0.pth'\n",
    "\n",
    "class TextSpanDetectorOriginal(nn.Module):\n",
    "    def __init__(self, arch, num_classes=7, local_files_only=True):\n",
    "        super().__init__()\n",
    "        self.model = AutoModelForTokenClassification.from_pretrained(\n",
    "            arch,\n",
    "            num_labels=1 + 2 + num_classes,\n",
    "            local_files_only=local_files_only\n",
    "        )\n",
    "        self.tokenizer = AutoTokenizer.from_pretrained(\n",
    "            arch,\n",
    "            local_files_only=local_files_only\n",
    "        )\n",
    "            \n",
    "model_pretraining = TextSpanDetectorOriginal(args.model,num_classes=7)\n",
    "model_pretraining.load_state_dict(torch.load(args.pretrained_detector_path)['state_dict'])\n",
    "\n",
    "#save\n",
    "output_path = './result'\n",
    "os.makedirs(output_path, exist_ok=True)\n",
    "torch.save(model_pretraining.state_dict(), opj(output_path,args.pretrained_detector_path)) "
   ]
  },
  {
   "cell_type": "code",
   "execution_count": null,
   "metadata": {},
   "outputs": [],
   "source": []
  }
 ],
 "metadata": {
  "kernelspec": {
   "display_name": "Python 3",
   "language": "python",
   "name": "python3"
  },
  "language_info": {
   "codemirror_mode": {
    "name": "ipython",
    "version": 3
   },
   "file_extension": ".py",
   "mimetype": "text/x-python",
   "name": "python",
   "nbconvert_exporter": "python",
   "pygments_lexer": "ipython3",
   "version": "3.7.8"
  }
 },
 "nbformat": 4,
 "nbformat_minor": 4
}
