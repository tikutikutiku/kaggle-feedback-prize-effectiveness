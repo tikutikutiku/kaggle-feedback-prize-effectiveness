{
 "cells": [
  {
   "cell_type": "code",
   "execution_count": 2,
   "metadata": {},
   "outputs": [
    {
     "name": "stderr",
     "output_type": "stream",
     "text": [
      "Some weights of the model checkpoint at allenai/longformer-large-4096 were not used when initializing LongformerForTokenClassification: ['lm_head.decoder.weight', 'lm_head.dense.bias', 'lm_head.layer_norm.bias', 'lm_head.layer_norm.weight', 'lm_head.dense.weight', 'lm_head.bias']\n",
      "- This IS expected if you are initializing LongformerForTokenClassification from the checkpoint of a model trained on another task or with another architecture (e.g. initializing a BertForSequenceClassification model from a BertForPreTraining model).\n",
      "- This IS NOT expected if you are initializing LongformerForTokenClassification from the checkpoint of a model that you expect to be exactly identical (initializing a BertForSequenceClassification model from a BertForSequenceClassification model).\n",
      "Some weights of LongformerForTokenClassification were not initialized from the model checkpoint at allenai/longformer-large-4096 and are newly initialized: ['classifier.weight', 'classifier.bias']\n",
      "You should probably TRAIN this model on a down-stream task to be able to use it for predictions and inference.\n"
     ]
    }
   ],
   "source": [
    "import torch\n",
    "from torch import nn\n",
    "from transformers import AutoTokenizer, AutoModelForTokenClassification\n",
    "import os\n",
    "from os.path import join as opj\n",
    "\n",
    "\n",
    "class args:\n",
    "    model ='microsoft/deberta-large' #'microsoft/deberta-xlarge' \n",
    "    pretrained_detector_path = 'deberta_large_fold0.pth' #'deberta_xlarge_fold0.pth' \n",
    "\n",
    "class TextSpanDetectorOriginal(nn.Module):\n",
    "    def __init__(self, arch, num_classes=7, local_files_only=True):\n",
    "        super().__init__()\n",
    "        self.model = AutoModelForTokenClassification.from_pretrained(\n",
    "            arch,\n",
    "            num_labels=1 + 2 + num_classes,\n",
    "            local_files_only=local_files_only\n",
    "        )\n",
    "        self.tokenizer = AutoTokenizer.from_pretrained(\n",
    "            arch,\n",
    "            local_files_only=local_files_only\n",
    "        )\n",
    "            \n",
    "model_pretraining = TextSpanDetectorOriginal(args.model,num_classes=7)\n",
    "model_pretraining.load_state_dict(torch.load(args.pretrained_detector_path)['state_dict'])\n",
    "\n",
    "#save\n",
    "output_path = './result'\n",
    "os.makedirs(output_path, exist_ok=True)\n",
    "torch.save(model_pretraining.state_dict(), opj(output_path,args.pretrained_detector_path)) "
   ]
  },
  {
   "cell_type": "code",
   "execution_count": null,
   "metadata": {},
   "outputs": [],
   "source": []
  }
 ],
 "metadata": {
  "kernelspec": {
   "display_name": "Python 3",
   "language": "python",
   "name": "python3"
  },
  "language_info": {
   "codemirror_mode": {
    "name": "ipython",
    "version": 3
   },
   "file_extension": ".py",
   "mimetype": "text/x-python",
   "name": "python",
   "nbconvert_exporter": "python",
   "pygments_lexer": "ipython3",
   "version": "3.7.8"
  }
 },
 "nbformat": 4,
 "nbformat_minor": 4
}
