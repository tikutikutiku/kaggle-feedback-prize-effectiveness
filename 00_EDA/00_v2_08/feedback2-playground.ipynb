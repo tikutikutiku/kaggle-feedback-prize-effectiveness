{
 "cells": [
  {
   "cell_type": "markdown",
   "metadata": {},
   "source": [
    "* EDA for formulation  "
   ]
  },
  {
   "cell_type": "markdown",
   "metadata": {},
   "source": [
    "# Import Libraries and Data"
   ]
  },
  {
   "cell_type": "code",
   "execution_count": 1,
   "metadata": {
    "_cell_guid": "b1076dfc-b9ad-4769-8c92-a6c4dae69d19",
    "_uuid": "8f2839f25d086af736a60e9eeb907d3b93b6e0e5",
    "execution": {
     "iopub.execute_input": "2022-05-10T10:03:55.232895Z",
     "iopub.status.busy": "2022-05-10T10:03:55.232215Z",
     "iopub.status.idle": "2022-05-10T10:03:55.272779Z",
     "shell.execute_reply": "2022-05-10T10:03:55.271779Z",
     "shell.execute_reply.started": "2022-05-10T10:03:55.232764Z"
    }
   },
   "outputs": [],
   "source": [
    "import numpy as np\n",
    "import pandas as pd\n",
    "pd.get_option(\"display.max_columns\")\n",
    "pd.set_option('display.max_columns', 300)\n",
    "pd.get_option(\"display.max_rows\")\n",
    "pd.set_option('display.max_rows', 300)\n",
    "\n",
    "import matplotlib.pyplot as plt\n",
    "%matplotlib inline\n",
    "\n",
    "import os\n",
    "from os.path import join as opj\n",
    "import gc\n",
    "\n",
    "INPUT_PATH = '../../input/feedback-prize-effectiveness/'\n",
    "\n",
    "LABEL = 'discourse_effectiveness'"
   ]
  },
  {
   "cell_type": "code",
   "execution_count": 2,
   "metadata": {
    "execution": {
     "iopub.execute_input": "2022-05-10T10:03:55.276389Z",
     "iopub.status.busy": "2022-05-10T10:03:55.276096Z",
     "iopub.status.idle": "2022-05-10T10:03:55.406083Z",
     "shell.execute_reply": "2022-05-10T10:03:55.405306Z",
     "shell.execute_reply.started": "2022-05-10T10:03:55.276334Z"
    }
   },
   "outputs": [
    {
     "name": "stdout",
     "output_type": "stream",
     "text": [
      "train_df.shape =  (36765, 5)\n",
      "test_df.shape =  (10, 4)\n",
      "sub_df.shape =  (10, 4)\n"
     ]
    }
   ],
   "source": [
    "train_df = pd.read_csv(opj(INPUT_PATH, 'train.csv'))\n",
    "test_df = pd.read_csv(opj(INPUT_PATH, 'test.csv'))\n",
    "sub_df = pd.read_csv(opj(INPUT_PATH, 'sample_submission.csv'))\n",
    "\n",
    "print('train_df.shape = ', train_df.shape)\n",
    "print('test_df.shape = ', test_df.shape)\n",
    "print('sub_df.shape = ', sub_df.shape)"
   ]
  },
  {
   "cell_type": "markdown",
   "metadata": {},
   "source": [
    "# Check Distribution"
   ]
  },
  {
   "cell_type": "code",
   "execution_count": 3,
   "metadata": {},
   "outputs": [
    {
     "data": {
      "text/plain": [
       "array(['Lead', 'Position', 'Claim', 'Evidence', 'Counterclaim',\n",
       "       'Rebuttal', 'Concluding Statement'], dtype=object)"
      ]
     },
     "execution_count": 3,
     "metadata": {},
     "output_type": "execute_result"
    }
   ],
   "source": [
    "train_df['discourse_type'].unique()"
   ]
  },
  {
   "cell_type": "code",
   "execution_count": 4,
   "metadata": {},
   "outputs": [
    {
     "data": {
      "text/html": [
       "<div>\n",
       "<style scoped>\n",
       "    .dataframe tbody tr th:only-of-type {\n",
       "        vertical-align: middle;\n",
       "    }\n",
       "\n",
       "    .dataframe tbody tr th {\n",
       "        vertical-align: top;\n",
       "    }\n",
       "\n",
       "    .dataframe thead th {\n",
       "        text-align: right;\n",
       "    }\n",
       "</style>\n",
       "<table border=\"1\" class=\"dataframe\">\n",
       "  <thead>\n",
       "    <tr style=\"text-align: right;\">\n",
       "      <th></th>\n",
       "      <th>discourse_id</th>\n",
       "      <th>essay_id</th>\n",
       "      <th>discourse_text</th>\n",
       "      <th>discourse_type</th>\n",
       "      <th>discourse_effectiveness</th>\n",
       "    </tr>\n",
       "  </thead>\n",
       "  <tbody>\n",
       "    <tr>\n",
       "      <th>0</th>\n",
       "      <td>0013cc385424</td>\n",
       "      <td>007ACE74B050</td>\n",
       "      <td>Hi, i'm Isaac, i'm going to be writing about h...</td>\n",
       "      <td>Lead</td>\n",
       "      <td>Adequate</td>\n",
       "    </tr>\n",
       "    <tr>\n",
       "      <th>1</th>\n",
       "      <td>9704a709b505</td>\n",
       "      <td>007ACE74B050</td>\n",
       "      <td>On my perspective, I think that the face is a ...</td>\n",
       "      <td>Position</td>\n",
       "      <td>Adequate</td>\n",
       "    </tr>\n",
       "    <tr>\n",
       "      <th>2</th>\n",
       "      <td>c22adee811b6</td>\n",
       "      <td>007ACE74B050</td>\n",
       "      <td>I think that the face is a natural landform be...</td>\n",
       "      <td>Claim</td>\n",
       "      <td>Adequate</td>\n",
       "    </tr>\n",
       "    <tr>\n",
       "      <th>3</th>\n",
       "      <td>a10d361e54e4</td>\n",
       "      <td>007ACE74B050</td>\n",
       "      <td>If life was on Mars, we would know by now. The...</td>\n",
       "      <td>Evidence</td>\n",
       "      <td>Adequate</td>\n",
       "    </tr>\n",
       "    <tr>\n",
       "      <th>4</th>\n",
       "      <td>db3e453ec4e2</td>\n",
       "      <td>007ACE74B050</td>\n",
       "      <td>People thought that the face was formed by ali...</td>\n",
       "      <td>Counterclaim</td>\n",
       "      <td>Adequate</td>\n",
       "    </tr>\n",
       "    <tr>\n",
       "      <th>5</th>\n",
       "      <td>36a565e45db7</td>\n",
       "      <td>007ACE74B050</td>\n",
       "      <td>though some say that life on Mars does exist, ...</td>\n",
       "      <td>Rebuttal</td>\n",
       "      <td>Ineffective</td>\n",
       "    </tr>\n",
       "    <tr>\n",
       "      <th>6</th>\n",
       "      <td>fb65fe816ba3</td>\n",
       "      <td>007ACE74B050</td>\n",
       "      <td>It says in paragraph 7, on April 5, 1998, Mars...</td>\n",
       "      <td>Evidence</td>\n",
       "      <td>Adequate</td>\n",
       "    </tr>\n",
       "    <tr>\n",
       "      <th>7</th>\n",
       "      <td>4e472e2584fa</td>\n",
       "      <td>007ACE74B050</td>\n",
       "      <td>Everyone who thought it was made by alieans ev...</td>\n",
       "      <td>Counterclaim</td>\n",
       "      <td>Adequate</td>\n",
       "    </tr>\n",
       "    <tr>\n",
       "      <th>8</th>\n",
       "      <td>28a94d3ee425</td>\n",
       "      <td>007ACE74B050</td>\n",
       "      <td>Though people were not satified about how the ...</td>\n",
       "      <td>Concluding Statement</td>\n",
       "      <td>Adequate</td>\n",
       "    </tr>\n",
       "    <tr>\n",
       "      <th>9</th>\n",
       "      <td>d226f06362f5</td>\n",
       "      <td>00944C693682</td>\n",
       "      <td>Limiting the usage of cars has personal and pr...</td>\n",
       "      <td>Lead</td>\n",
       "      <td>Effective</td>\n",
       "    </tr>\n",
       "  </tbody>\n",
       "</table>\n",
       "</div>"
      ],
      "text/plain": [
       "   discourse_id      essay_id  \\\n",
       "0  0013cc385424  007ACE74B050   \n",
       "1  9704a709b505  007ACE74B050   \n",
       "2  c22adee811b6  007ACE74B050   \n",
       "3  a10d361e54e4  007ACE74B050   \n",
       "4  db3e453ec4e2  007ACE74B050   \n",
       "5  36a565e45db7  007ACE74B050   \n",
       "6  fb65fe816ba3  007ACE74B050   \n",
       "7  4e472e2584fa  007ACE74B050   \n",
       "8  28a94d3ee425  007ACE74B050   \n",
       "9  d226f06362f5  00944C693682   \n",
       "\n",
       "                                      discourse_text        discourse_type  \\\n",
       "0  Hi, i'm Isaac, i'm going to be writing about h...                  Lead   \n",
       "1  On my perspective, I think that the face is a ...              Position   \n",
       "2  I think that the face is a natural landform be...                 Claim   \n",
       "3  If life was on Mars, we would know by now. The...              Evidence   \n",
       "4  People thought that the face was formed by ali...          Counterclaim   \n",
       "5  though some say that life on Mars does exist, ...              Rebuttal   \n",
       "6  It says in paragraph 7, on April 5, 1998, Mars...              Evidence   \n",
       "7  Everyone who thought it was made by alieans ev...          Counterclaim   \n",
       "8  Though people were not satified about how the ...  Concluding Statement   \n",
       "9  Limiting the usage of cars has personal and pr...                  Lead   \n",
       "\n",
       "  discourse_effectiveness  \n",
       "0                Adequate  \n",
       "1                Adequate  \n",
       "2                Adequate  \n",
       "3                Adequate  \n",
       "4                Adequate  \n",
       "5             Ineffective  \n",
       "6                Adequate  \n",
       "7                Adequate  \n",
       "8                Adequate  \n",
       "9               Effective  "
      ]
     },
     "execution_count": 4,
     "metadata": {},
     "output_type": "execute_result"
    }
   ],
   "source": [
    "train_df.head(10)"
   ]
  },
  {
   "cell_type": "code",
   "execution_count": 5,
   "metadata": {},
   "outputs": [
    {
     "data": {
      "text/plain": [
       "(array([2.287e+03, 0.000e+00, 0.000e+00, 0.000e+00, 2.000e+00]),\n",
       " array([1. , 1.2, 1.4, 1.6, 1.8, 2. ]),\n",
       " <BarContainer object of 5 artists>)"
      ]
     },
     "execution_count": 5,
     "metadata": {},
     "output_type": "execute_result"
    },
    {
     "data": {
      "image/png": "[encoded data removed]",
      "text/plain": [
       "<Figure size 432x288 with 1 Axes>"
      ]
     },
     "metadata": {
      "needs_background": "light"
     },
     "output_type": "display_data"
    }
   ],
   "source": [
    "plt.hist(train_df[train_df['discourse_type']=='Lead'].groupby('essay_id')['discourse_type'].count().values, bins=5)"
   ]
  },
  {
   "cell_type": "code",
   "execution_count": 6,
   "metadata": {},
   "outputs": [
    {
     "data": {
      "text/plain": [
       "(array([3986.,    0.,    0.,    0.,   19.]),\n",
       " array([1. , 1.2, 1.4, 1.6, 1.8, 2. ]),\n",
       " <BarContainer object of 5 artists>)"
      ]
     },
     "execution_count": 6,
     "metadata": {},
     "output_type": "execute_result"
    },
    {
     "data": {
      "image/png": "[encoded data removed]",
      "text/plain": [
       "<Figure size 432x288 with 1 Axes>"
      ]
     },
     "metadata": {
      "needs_background": "light"
     },
     "output_type": "display_data"
    }
   ],
   "source": [
    "plt.hist(train_df[train_df['discourse_type']=='Position'].groupby('essay_id')['discourse_type'].count().values, bins=5)"
   ]
  },
  {
   "cell_type": "code",
   "execution_count": 7,
   "metadata": {},
   "outputs": [
    {
     "data": {
      "text/plain": [
       "(array([5.590e+02, 0.000e+00, 8.990e+02, 0.000e+00, 1.025e+03, 0.000e+00,\n",
       "        5.590e+02, 0.000e+00, 2.150e+02, 0.000e+00, 0.000e+00, 4.300e+02,\n",
       "        0.000e+00, 5.800e+01, 0.000e+00, 2.300e+01, 0.000e+00, 6.000e+00,\n",
       "        0.000e+00, 1.000e+00]),\n",
       " array([ 1.  ,  1.45,  1.9 ,  2.35,  2.8 ,  3.25,  3.7 ,  4.15,  4.6 ,\n",
       "         5.05,  5.5 ,  5.95,  6.4 ,  6.85,  7.3 ,  7.75,  8.2 ,  8.65,\n",
       "         9.1 ,  9.55, 10.  ]),\n",
       " <BarContainer object of 20 artists>)"
      ]
     },
     "execution_count": 7,
     "metadata": {},
     "output_type": "execute_result"
    },
    {
     "data": {
      "image/png": "[encoded data removed]",
      "text/plain": [
       "<Figure size 432x288 with 1 Axes>"
      ]
     },
     "metadata": {
      "needs_background": "light"
     },
     "output_type": "display_data"
    }
   ],
   "source": [
    "plt.hist(train_df[train_df['discourse_type']=='Claim'].groupby('essay_id')['discourse_type'].count().values, bins=20)"
   ]
  },
  {
   "cell_type": "code",
   "execution_count": 8,
   "metadata": {},
   "outputs": [
    {
     "data": {
      "text/plain": [
       "(array([ 590.,    0.,  945.,    0., 1531.,    0.,  693.,    0.,  263.,\n",
       "           0.,   97.,    0.,   32.,    0.,    9.,    0.,    5.,    0.,\n",
       "           0.,    2.]),\n",
       " array([ 1. ,  1.5,  2. ,  2.5,  3. ,  3.5,  4. ,  4.5,  5. ,  5.5,  6. ,\n",
       "         6.5,  7. ,  7.5,  8. ,  8.5,  9. ,  9.5, 10. , 10.5, 11. ]),\n",
       " <BarContainer object of 20 artists>)"
      ]
     },
     "execution_count": 8,
     "metadata": {},
     "output_type": "execute_result"
    },
    {
     "data": {
      "image/png": "[encoded data removed]",
      "text/plain": [
       "<Figure size 432x288 with 1 Axes>"
      ]
     },
     "metadata": {
      "needs_background": "light"
     },
     "output_type": "display_data"
    }
   ],
   "source": [
    "plt.hist(train_df[train_df['discourse_type']=='Evidence'].groupby('essay_id')['discourse_type'].count().values, bins=20)"
   ]
  },
  {
   "cell_type": "code",
   "execution_count": 9,
   "metadata": {},
   "outputs": [
    {
     "data": {
      "text/plain": [
       "(array([1.031e+03, 0.000e+00, 0.000e+00, 0.000e+00, 2.390e+02, 0.000e+00,\n",
       "        0.000e+00, 0.000e+00, 6.100e+01, 0.000e+00, 0.000e+00, 0.000e+00,\n",
       "        1.000e+01, 0.000e+00, 0.000e+00, 0.000e+00, 7.000e+00, 0.000e+00,\n",
       "        0.000e+00, 1.000e+00]),\n",
       " array([1.  , 1.25, 1.5 , 1.75, 2.  , 2.25, 2.5 , 2.75, 3.  , 3.25, 3.5 ,\n",
       "        3.75, 4.  , 4.25, 4.5 , 4.75, 5.  , 5.25, 5.5 , 5.75, 6.  ]),\n",
       " <BarContainer object of 20 artists>)"
      ]
     },
     "execution_count": 9,
     "metadata": {},
     "output_type": "execute_result"
    },
    {
     "data": {
      "image/png": "[encoded data removed]",
      "text/plain": [
       "<Figure size 432x288 with 1 Axes>"
      ]
     },
     "metadata": {
      "needs_background": "light"
     },
     "output_type": "display_data"
    }
   ],
   "source": [
    "plt.hist(train_df[train_df['discourse_type']=='Counterclaim'].groupby('essay_id')['discourse_type'].count().values, bins=20)"
   ]
  },
  {
   "cell_type": "code",
   "execution_count": 10,
   "metadata": {},
   "outputs": [
    {
     "data": {
      "text/plain": [
       "(array([840.,   0.,   0.,   0.,   0., 138.,   0.,   0.,   0.,   0.,  31.,\n",
       "          0.,   0.,   0.,   0.,   5.,   0.,   0.,   0.,   3.]),\n",
       " array([1. , 1.2, 1.4, 1.6, 1.8, 2. , 2.2, 2.4, 2.6, 2.8, 3. , 3.2, 3.4,\n",
       "        3.6, 3.8, 4. , 4.2, 4.4, 4.6, 4.8, 5. ]),\n",
       " <BarContainer object of 20 artists>)"
      ]
     },
     "execution_count": 10,
     "metadata": {},
     "output_type": "execute_result"
    },
    {
     "data": {
      "image/png": "[encoded data removed]",
      "text/plain": [
       "<Figure size 432x288 with 1 Axes>"
      ]
     },
     "metadata": {
      "needs_background": "light"
     },
     "output_type": "display_data"
    }
   ],
   "source": [
    "plt.hist(train_df[train_df['discourse_type']=='Rebuttal'].groupby('essay_id')['discourse_type'].count().values, bins=20)"
   ]
  },
  {
   "cell_type": "code",
   "execution_count": 11,
   "metadata": {},
   "outputs": [
    {
     "data": {
      "text/plain": [
       "(array([3313.,    0.,    0.,    0.,   19.]),\n",
       " array([1. , 1.2, 1.4, 1.6, 1.8, 2. ]),\n",
       " <BarContainer object of 5 artists>)"
      ]
     },
     "execution_count": 11,
     "metadata": {},
     "output_type": "execute_result"
    },
    {
     "data": {
      "image/png": "[encoded data removed]",
      "text/plain": [
       "<Figure size 432x288 with 1 Axes>"
      ]
     },
     "metadata": {
      "needs_background": "light"
     },
     "output_type": "display_data"
    }
   ],
   "source": [
    "plt.hist(train_df[train_df['discourse_type']=='Concluding Statement'].groupby('essay_id')['discourse_type'].count().values, bins=5)"
   ]
  },
  {
   "cell_type": "markdown",
   "metadata": {},
   "source": [
    "# Construct part of full text which includes discourse_text"
   ]
  },
  {
   "cell_type": "code",
   "execution_count": 12,
   "metadata": {},
   "outputs": [],
   "source": [
    "unique_ids = sorted(train_df['essay_id'].unique())"
   ]
  },
  {
   "cell_type": "code",
   "execution_count": 19,
   "metadata": {},
   "outputs": [
    {
     "name": "stderr",
     "output_type": "stream",
     "text": [
      "100%|██████████████████████████████████████| 4191/4191 [00:27<00:00, 150.61it/s]\n"
     ]
    },
    {
     "name": "stdout",
     "output_type": "stream",
     "text": [
      "essay_df.shape =  (36765, 6)\n"
     ]
    }
   ],
   "source": [
    "from tqdm import tqdm\n",
    "\n",
    "essay_df = []\n",
    "for essay_id in tqdm(unique_ids):\n",
    "    tmp_essay_df = train_df[train_df['essay_id']==essay_id].reset_index(drop=True)\n",
    "    for i in range(len(tmp_essay_df)):\n",
    "        tmp_df = tmp_essay_df.iloc[i]\n",
    "        discourse_type = tmp_df['discourse_type']\n",
    "        feature_text = []\n",
    "        if discourse_type=='Lead':\n",
    "            feature_df = tmp_essay_df[tmp_essay_df['discourse_type'].isin([''])].reset_index(drop=True)\n",
    "        elif discourse_type=='Position':\n",
    "            feature_df = tmp_essay_df[tmp_essay_df['discourse_type'].isin([''])].reset_index(drop=True)\n",
    "        elif discourse_type=='Claim':\n",
    "            feature_df = tmp_essay_df[tmp_essay_df['discourse_type'].isin(['Position'])].reset_index(drop=True)\n",
    "        elif discourse_type=='Evidence':\n",
    "            feature_df = tmp_essay_df[tmp_essay_df['discourse_type'].isin(['Claim'])].reset_index(drop=True)\n",
    "        elif discourse_type=='Counterclaim':\n",
    "            feature_df = tmp_essay_df[tmp_essay_df['discourse_type'].isin(['Position'])].reset_index(drop=True)\n",
    "        elif discourse_type=='Rebuttal':\n",
    "            feature_df = tmp_essay_df[tmp_essay_df['discourse_type'].isin(['Position', 'Counterclaim'])].reset_index(drop=True)\n",
    "        elif discourse_type=='Concluding Statement':\n",
    "            feature_df = tmp_essay_df[tmp_essay_df['discourse_type'].isin(['Position'])].reset_index(drop=True)\n",
    "\n",
    "        for i_feat in range(len(feature_df)):\n",
    "            feature_text.append(feature_df.loc[i_feat, 'discourse_text'])\n",
    "        feature_text = '[SEP]'.join(feature_text)\n",
    "        \n",
    "        tmp_essay_df.loc[i,'feature_text'] = feature_text\n",
    "    essay_df.append(tmp_essay_df)\n",
    "    \n",
    "essay_df = pd.concat(essay_df).reset_index(drop=True)\n",
    "print('essay_df.shape = ', essay_df.shape)"
   ]
  },
  {
   "cell_type": "code",
   "execution_count": 20,
   "metadata": {},
   "outputs": [
    {
     "data": {
      "text/html": [
       "<div>\n",
       "<style scoped>\n",
       "    .dataframe tbody tr th:only-of-type {\n",
       "        vertical-align: middle;\n",
       "    }\n",
       "\n",
       "    .dataframe tbody tr th {\n",
       "        vertical-align: top;\n",
       "    }\n",
       "\n",
       "    .dataframe thead th {\n",
       "        text-align: right;\n",
       "    }\n",
       "</style>\n",
       "<table border=\"1\" class=\"dataframe\">\n",
       "  <thead>\n",
       "    <tr style=\"text-align: right;\">\n",
       "      <th></th>\n",
       "      <th>discourse_id</th>\n",
       "      <th>essay_id</th>\n",
       "      <th>discourse_text</th>\n",
       "      <th>discourse_type</th>\n",
       "      <th>discourse_effectiveness</th>\n",
       "      <th>feature_text</th>\n",
       "    </tr>\n",
       "  </thead>\n",
       "  <tbody>\n",
       "    <tr>\n",
       "      <th>0</th>\n",
       "      <td>fe6dfbd53216</td>\n",
       "      <td>00066EA9880D</td>\n",
       "      <td>Driverless cars are exaclty what you would exp...</td>\n",
       "      <td>Lead</td>\n",
       "      <td>Adequate</td>\n",
       "      <td></td>\n",
       "    </tr>\n",
       "    <tr>\n",
       "      <th>1</th>\n",
       "      <td>ca9e1b60c9fb</td>\n",
       "      <td>00066EA9880D</td>\n",
       "      <td>The developement of these cars should be stopp...</td>\n",
       "      <td>Position</td>\n",
       "      <td>Effective</td>\n",
       "      <td></td>\n",
       "    </tr>\n",
       "    <tr>\n",
       "      <th>2</th>\n",
       "      <td>6cf2157f4f19</td>\n",
       "      <td>00066EA9880D</td>\n",
       "      <td>the driver will be alerted when they will need...</td>\n",
       "      <td>Claim</td>\n",
       "      <td>Effective</td>\n",
       "      <td>The developement of these cars should be stopp...</td>\n",
       "    </tr>\n",
       "    <tr>\n",
       "      <th>3</th>\n",
       "      <td>d920880f4341</td>\n",
       "      <td>00066EA9880D</td>\n",
       "      <td>This is such a dangerous thing because we all ...</td>\n",
       "      <td>Evidence</td>\n",
       "      <td>Effective</td>\n",
       "      <td>the driver will be alerted when they will need...</td>\n",
       "    </tr>\n",
       "    <tr>\n",
       "      <th>4</th>\n",
       "      <td>7d52c3216a0e</td>\n",
       "      <td>00066EA9880D</td>\n",
       "      <td>Another thing that can go wrong with these car...</td>\n",
       "      <td>Claim</td>\n",
       "      <td>Effective</td>\n",
       "      <td>The developement of these cars should be stopp...</td>\n",
       "    </tr>\n",
       "  </tbody>\n",
       "</table>\n",
       "</div>"
      ],
      "text/plain": [
       "   discourse_id      essay_id  \\\n",
       "0  fe6dfbd53216  00066EA9880D   \n",
       "1  ca9e1b60c9fb  00066EA9880D   \n",
       "2  6cf2157f4f19  00066EA9880D   \n",
       "3  d920880f4341  00066EA9880D   \n",
       "4  7d52c3216a0e  00066EA9880D   \n",
       "\n",
       "                                      discourse_text discourse_type  \\\n",
       "0  Driverless cars are exaclty what you would exp...           Lead   \n",
       "1  The developement of these cars should be stopp...       Position   \n",
       "2  the driver will be alerted when they will need...          Claim   \n",
       "3  This is such a dangerous thing because we all ...       Evidence   \n",
       "4  Another thing that can go wrong with these car...          Claim   \n",
       "\n",
       "  discourse_effectiveness                                       feature_text  \n",
       "0                Adequate                                                     \n",
       "1               Effective                                                     \n",
       "2               Effective  The developement of these cars should be stopp...  \n",
       "3               Effective  the driver will be alerted when they will need...  \n",
       "4               Effective  The developement of these cars should be stopp...  "
      ]
     },
     "execution_count": 20,
     "metadata": {},
     "output_type": "execute_result"
    }
   ],
   "source": [
    "essay_df.head()"
   ]
  },
  {
   "cell_type": "code",
   "execution_count": 21,
   "metadata": {},
   "outputs": [],
   "source": [
    "train_df = train_df.merge(essay_df[['discourse_id','feature_text']], on='discourse_id', how='left')"
   ]
  },
  {
   "cell_type": "code",
   "execution_count": 22,
   "metadata": {},
   "outputs": [],
   "source": [
    "import os\n",
    "os.makedirs('./result', exist_ok=True)\n",
    "train_df.to_csv('./result/train.csv', index=False)"
   ]
  },
  {
   "cell_type": "code",
   "execution_count": 23,
   "metadata": {},
   "outputs": [
    {
     "data": {
      "text/html": [
       "<div>\n",
       "<style scoped>\n",
       "    .dataframe tbody tr th:only-of-type {\n",
       "        vertical-align: middle;\n",
       "    }\n",
       "\n",
       "    .dataframe tbody tr th {\n",
       "        vertical-align: top;\n",
       "    }\n",
       "\n",
       "    .dataframe thead th {\n",
       "        text-align: right;\n",
       "    }\n",
       "</style>\n",
       "<table border=\"1\" class=\"dataframe\">\n",
       "  <thead>\n",
       "    <tr style=\"text-align: right;\">\n",
       "      <th></th>\n",
       "      <th>discourse_id</th>\n",
       "      <th>essay_id</th>\n",
       "      <th>discourse_text</th>\n",
       "      <th>discourse_type</th>\n",
       "      <th>discourse_effectiveness</th>\n",
       "      <th>feature_text</th>\n",
       "    </tr>\n",
       "  </thead>\n",
       "  <tbody>\n",
       "    <tr>\n",
       "      <th>0</th>\n",
       "      <td>0013cc385424</td>\n",
       "      <td>007ACE74B050</td>\n",
       "      <td>Hi, i'm Isaac, i'm going to be writing about h...</td>\n",
       "      <td>Lead</td>\n",
       "      <td>Adequate</td>\n",
       "      <td></td>\n",
       "    </tr>\n",
       "    <tr>\n",
       "      <th>1</th>\n",
       "      <td>9704a709b505</td>\n",
       "      <td>007ACE74B050</td>\n",
       "      <td>On my perspective, I think that the face is a ...</td>\n",
       "      <td>Position</td>\n",
       "      <td>Adequate</td>\n",
       "      <td></td>\n",
       "    </tr>\n",
       "    <tr>\n",
       "      <th>2</th>\n",
       "      <td>c22adee811b6</td>\n",
       "      <td>007ACE74B050</td>\n",
       "      <td>I think that the face is a natural landform be...</td>\n",
       "      <td>Claim</td>\n",
       "      <td>Adequate</td>\n",
       "      <td>On my perspective, I think that the face is a ...</td>\n",
       "    </tr>\n",
       "    <tr>\n",
       "      <th>3</th>\n",
       "      <td>a10d361e54e4</td>\n",
       "      <td>007ACE74B050</td>\n",
       "      <td>If life was on Mars, we would know by now. The...</td>\n",
       "      <td>Evidence</td>\n",
       "      <td>Adequate</td>\n",
       "      <td>I think that the face is a natural landform be...</td>\n",
       "    </tr>\n",
       "    <tr>\n",
       "      <th>4</th>\n",
       "      <td>db3e453ec4e2</td>\n",
       "      <td>007ACE74B050</td>\n",
       "      <td>People thought that the face was formed by ali...</td>\n",
       "      <td>Counterclaim</td>\n",
       "      <td>Adequate</td>\n",
       "      <td>On my perspective, I think that the face is a ...</td>\n",
       "    </tr>\n",
       "  </tbody>\n",
       "</table>\n",
       "</div>"
      ],
      "text/plain": [
       "   discourse_id      essay_id  \\\n",
       "0  0013cc385424  007ACE74B050   \n",
       "1  9704a709b505  007ACE74B050   \n",
       "2  c22adee811b6  007ACE74B050   \n",
       "3  a10d361e54e4  007ACE74B050   \n",
       "4  db3e453ec4e2  007ACE74B050   \n",
       "\n",
       "                                      discourse_text discourse_type  \\\n",
       "0  Hi, i'm Isaac, i'm going to be writing about h...           Lead   \n",
       "1  On my perspective, I think that the face is a ...       Position   \n",
       "2  I think that the face is a natural landform be...          Claim   \n",
       "3  If life was on Mars, we would know by now. The...       Evidence   \n",
       "4  People thought that the face was formed by ali...   Counterclaim   \n",
       "\n",
       "  discourse_effectiveness                                       feature_text  \n",
       "0                Adequate                                                     \n",
       "1                Adequate                                                     \n",
       "2                Adequate  On my perspective, I think that the face is a ...  \n",
       "3                Adequate  I think that the face is a natural landform be...  \n",
       "4                Adequate  On my perspective, I think that the face is a ...  "
      ]
     },
     "execution_count": 23,
     "metadata": {},
     "output_type": "execute_result"
    }
   ],
   "source": [
    "train_df.head()"
   ]
  },
  {
   "cell_type": "code",
   "execution_count": null,
   "metadata": {},
   "outputs": [],
   "source": []
  },
  {
   "cell_type": "code",
   "execution_count": null,
   "metadata": {},
   "outputs": [],
   "source": []
  },
  {
   "cell_type": "code",
   "execution_count": null,
   "metadata": {},
   "outputs": [],
   "source": []
  },
  {
   "cell_type": "code",
   "execution_count": null,
   "metadata": {},
   "outputs": [],
   "source": []
  }
 ],
 "metadata": {
  "kernelspec": {
   "display_name": "Python 3 (ipykernel)",
   "language": "python",
   "name": "python3"
  },
  "language_info": {
   "codemirror_mode": {
    "name": "ipython",
    "version": 3
   },
   "file_extension": ".py",
   "mimetype": "text/x-python",
   "name": "python",
   "nbconvert_exporter": "python",
   "pygments_lexer": "ipython3",
   "version": "3.7.3"
  }
 },
 "nbformat": 4,
 "nbformat_minor": 4
}
