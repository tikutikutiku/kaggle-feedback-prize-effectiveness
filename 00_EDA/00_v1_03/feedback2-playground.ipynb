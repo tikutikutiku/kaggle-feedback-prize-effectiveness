{
 "cells": [
  {
   "cell_type": "markdown",
   "metadata": {},
   "source": [
    "* EDA for formulation  "
   ]
  },
  {
   "cell_type": "markdown",
   "metadata": {},
   "source": [
    "# Import Libraries and Data"
   ]
  },
  {
   "cell_type": "code",
   "execution_count": 1,
   "metadata": {
    "_cell_guid": "b1076dfc-b9ad-4769-8c92-a6c4dae69d19",
    "_uuid": "8f2839f25d086af736a60e9eeb907d3b93b6e0e5",
    "execution": {
     "iopub.execute_input": "2022-05-10T10:03:55.232895Z",
     "iopub.status.busy": "2022-05-10T10:03:55.232215Z",
     "iopub.status.idle": "2022-05-10T10:03:55.272779Z",
     "shell.execute_reply": "2022-05-10T10:03:55.271779Z",
     "shell.execute_reply.started": "2022-05-10T10:03:55.232764Z"
    }
   },
   "outputs": [],
   "source": [
    "import numpy as np\n",
    "import pandas as pd\n",
    "pd.get_option(\"display.max_columns\")\n",
    "pd.set_option('display.max_columns', 300)\n",
    "pd.get_option(\"display.max_rows\")\n",
    "pd.set_option('display.max_rows', 300)\n",
    "\n",
    "import matplotlib.pyplot as plt\n",
    "%matplotlib inline\n",
    "\n",
    "import os\n",
    "from os.path import join as opj\n",
    "import gc\n",
    "\n",
    "INPUT_PATH = '../../input/feedback-prize-effectiveness/'\n",
    "\n",
    "LABEL = 'discourse_effectiveness'"
   ]
  },
  {
   "cell_type": "code",
   "execution_count": 2,
   "metadata": {
    "execution": {
     "iopub.execute_input": "2022-05-10T10:03:55.276389Z",
     "iopub.status.busy": "2022-05-10T10:03:55.276096Z",
     "iopub.status.idle": "2022-05-10T10:03:55.406083Z",
     "shell.execute_reply": "2022-05-10T10:03:55.405306Z",
     "shell.execute_reply.started": "2022-05-10T10:03:55.276334Z"
    }
   },
   "outputs": [
    {
     "name": "stdout",
     "output_type": "stream",
     "text": [
      "train_df.shape =  (36765, 5)\n",
      "test_df.shape =  (10, 4)\n",
      "sub_df.shape =  (10, 4)\n"
     ]
    }
   ],
   "source": [
    "train_df = pd.read_csv(opj(INPUT_PATH, 'train.csv'))\n",
    "test_df = pd.read_csv(opj(INPUT_PATH, 'test.csv'))\n",
    "sub_df = pd.read_csv(opj(INPUT_PATH, 'sample_submission.csv'))\n",
    "\n",
    "print('train_df.shape = ', train_df.shape)\n",
    "print('test_df.shape = ', test_df.shape)\n",
    "print('sub_df.shape = ', sub_df.shape)"
   ]
  },
  {
   "cell_type": "markdown",
   "metadata": {},
   "source": [
    "# EDA"
   ]
  },
  {
   "cell_type": "code",
   "execution_count": 3,
   "metadata": {},
   "outputs": [
    {
     "data": {
      "text/html": [
       "<div>\n",
       "<style scoped>\n",
       "    .dataframe tbody tr th:only-of-type {\n",
       "        vertical-align: middle;\n",
       "    }\n",
       "\n",
       "    .dataframe tbody tr th {\n",
       "        vertical-align: top;\n",
       "    }\n",
       "\n",
       "    .dataframe thead th {\n",
       "        text-align: right;\n",
       "    }\n",
       "</style>\n",
       "<table border=\"1\" class=\"dataframe\">\n",
       "  <thead>\n",
       "    <tr style=\"text-align: right;\">\n",
       "      <th></th>\n",
       "      <th>discourse_id</th>\n",
       "      <th>essay_id</th>\n",
       "      <th>discourse_text</th>\n",
       "      <th>discourse_type</th>\n",
       "      <th>discourse_effectiveness</th>\n",
       "    </tr>\n",
       "  </thead>\n",
       "  <tbody>\n",
       "    <tr>\n",
       "      <th>0</th>\n",
       "      <td>0013cc385424</td>\n",
       "      <td>007ACE74B050</td>\n",
       "      <td>Hi, i'm Isaac, i'm going to be writing about h...</td>\n",
       "      <td>Lead</td>\n",
       "      <td>Adequate</td>\n",
       "    </tr>\n",
       "    <tr>\n",
       "      <th>1</th>\n",
       "      <td>9704a709b505</td>\n",
       "      <td>007ACE74B050</td>\n",
       "      <td>On my perspective, I think that the face is a ...</td>\n",
       "      <td>Position</td>\n",
       "      <td>Adequate</td>\n",
       "    </tr>\n",
       "    <tr>\n",
       "      <th>2</th>\n",
       "      <td>c22adee811b6</td>\n",
       "      <td>007ACE74B050</td>\n",
       "      <td>I think that the face is a natural landform be...</td>\n",
       "      <td>Claim</td>\n",
       "      <td>Adequate</td>\n",
       "    </tr>\n",
       "    <tr>\n",
       "      <th>3</th>\n",
       "      <td>a10d361e54e4</td>\n",
       "      <td>007ACE74B050</td>\n",
       "      <td>If life was on Mars, we would know by now. The...</td>\n",
       "      <td>Evidence</td>\n",
       "      <td>Adequate</td>\n",
       "    </tr>\n",
       "    <tr>\n",
       "      <th>4</th>\n",
       "      <td>db3e453ec4e2</td>\n",
       "      <td>007ACE74B050</td>\n",
       "      <td>People thought that the face was formed by ali...</td>\n",
       "      <td>Counterclaim</td>\n",
       "      <td>Adequate</td>\n",
       "    </tr>\n",
       "  </tbody>\n",
       "</table>\n",
       "</div>"
      ],
      "text/plain": [
       "   discourse_id      essay_id  \\\n",
       "0  0013cc385424  007ACE74B050   \n",
       "1  9704a709b505  007ACE74B050   \n",
       "2  c22adee811b6  007ACE74B050   \n",
       "3  a10d361e54e4  007ACE74B050   \n",
       "4  db3e453ec4e2  007ACE74B050   \n",
       "\n",
       "                                      discourse_text discourse_type  \\\n",
       "0  Hi, i'm Isaac, i'm going to be writing about h...           Lead   \n",
       "1  On my perspective, I think that the face is a ...       Position   \n",
       "2  I think that the face is a natural landform be...          Claim   \n",
       "3  If life was on Mars, we would know by now. The...       Evidence   \n",
       "4  People thought that the face was formed by ali...   Counterclaim   \n",
       "\n",
       "  discourse_effectiveness  \n",
       "0                Adequate  \n",
       "1                Adequate  \n",
       "2                Adequate  \n",
       "3                Adequate  \n",
       "4                Adequate  "
      ]
     },
     "execution_count": 3,
     "metadata": {},
     "output_type": "execute_result"
    }
   ],
   "source": [
    "train_df.head()"
   ]
  },
  {
   "cell_type": "code",
   "execution_count": 4,
   "metadata": {},
   "outputs": [],
   "source": [
    "unique_ids = np.array(sorted(train_df['essay_id'].unique()))"
   ]
  },
  {
   "cell_type": "code",
   "execution_count": 5,
   "metadata": {},
   "outputs": [
    {
     "data": {
      "text/html": [
       "<div>\n",
       "<style scoped>\n",
       "    .dataframe tbody tr th:only-of-type {\n",
       "        vertical-align: middle;\n",
       "    }\n",
       "\n",
       "    .dataframe tbody tr th {\n",
       "        vertical-align: top;\n",
       "    }\n",
       "\n",
       "    .dataframe thead th {\n",
       "        text-align: right;\n",
       "    }\n",
       "</style>\n",
       "<table border=\"1\" class=\"dataframe\">\n",
       "  <thead>\n",
       "    <tr style=\"text-align: right;\">\n",
       "      <th></th>\n",
       "      <th>discourse_id</th>\n",
       "      <th>essay_id</th>\n",
       "      <th>discourse_text</th>\n",
       "      <th>discourse_type</th>\n",
       "      <th>discourse_effectiveness</th>\n",
       "    </tr>\n",
       "  </thead>\n",
       "  <tbody>\n",
       "    <tr>\n",
       "      <th>14340</th>\n",
       "      <td>fe6dfbd53216</td>\n",
       "      <td>00066EA9880D</td>\n",
       "      <td>Driverless cars are exaclty what you would exp...</td>\n",
       "      <td>Lead</td>\n",
       "      <td>Adequate</td>\n",
       "    </tr>\n",
       "    <tr>\n",
       "      <th>14341</th>\n",
       "      <td>ca9e1b60c9fb</td>\n",
       "      <td>00066EA9880D</td>\n",
       "      <td>The developement of these cars should be stopp...</td>\n",
       "      <td>Position</td>\n",
       "      <td>Effective</td>\n",
       "    </tr>\n",
       "    <tr>\n",
       "      <th>14342</th>\n",
       "      <td>6cf2157f4f19</td>\n",
       "      <td>00066EA9880D</td>\n",
       "      <td>the driver will be alerted when they will need...</td>\n",
       "      <td>Claim</td>\n",
       "      <td>Effective</td>\n",
       "    </tr>\n",
       "    <tr>\n",
       "      <th>14343</th>\n",
       "      <td>d920880f4341</td>\n",
       "      <td>00066EA9880D</td>\n",
       "      <td>This is such a dangerous thing because we all ...</td>\n",
       "      <td>Evidence</td>\n",
       "      <td>Effective</td>\n",
       "    </tr>\n",
       "    <tr>\n",
       "      <th>14344</th>\n",
       "      <td>7d52c3216a0e</td>\n",
       "      <td>00066EA9880D</td>\n",
       "      <td>Another thing that can go wrong with these car...</td>\n",
       "      <td>Claim</td>\n",
       "      <td>Effective</td>\n",
       "    </tr>\n",
       "    <tr>\n",
       "      <th>14345</th>\n",
       "      <td>30930de50889</td>\n",
       "      <td>00066EA9880D</td>\n",
       "      <td>Every person with any kind of technological de...</td>\n",
       "      <td>Evidence</td>\n",
       "      <td>Effective</td>\n",
       "    </tr>\n",
       "    <tr>\n",
       "      <th>14346</th>\n",
       "      <td>d16ff143cb0b</td>\n",
       "      <td>00066EA9880D</td>\n",
       "      <td>who to blame for the wreck if there were possi...</td>\n",
       "      <td>Claim</td>\n",
       "      <td>Effective</td>\n",
       "    </tr>\n",
       "    <tr>\n",
       "      <th>14347</th>\n",
       "      <td>cb665a65fb75</td>\n",
       "      <td>00066EA9880D</td>\n",
       "      <td>Should the manufacturer of the car be blamed o...</td>\n",
       "      <td>Evidence</td>\n",
       "      <td>Effective</td>\n",
       "    </tr>\n",
       "    <tr>\n",
       "      <th>14348</th>\n",
       "      <td>3e75ef7e0262</td>\n",
       "      <td>00066EA9880D</td>\n",
       "      <td>With all these things that could possibly go w...</td>\n",
       "      <td>Concluding Statement</td>\n",
       "      <td>Adequate</td>\n",
       "    </tr>\n",
       "  </tbody>\n",
       "</table>\n",
       "</div>"
      ],
      "text/plain": [
       "       discourse_id      essay_id  \\\n",
       "14340  fe6dfbd53216  00066EA9880D   \n",
       "14341  ca9e1b60c9fb  00066EA9880D   \n",
       "14342  6cf2157f4f19  00066EA9880D   \n",
       "14343  d920880f4341  00066EA9880D   \n",
       "14344  7d52c3216a0e  00066EA9880D   \n",
       "14345  30930de50889  00066EA9880D   \n",
       "14346  d16ff143cb0b  00066EA9880D   \n",
       "14347  cb665a65fb75  00066EA9880D   \n",
       "14348  3e75ef7e0262  00066EA9880D   \n",
       "\n",
       "                                          discourse_text  \\\n",
       "14340  Driverless cars are exaclty what you would exp...   \n",
       "14341  The developement of these cars should be stopp...   \n",
       "14342  the driver will be alerted when they will need...   \n",
       "14343  This is such a dangerous thing because we all ...   \n",
       "14344  Another thing that can go wrong with these car...   \n",
       "14345  Every person with any kind of technological de...   \n",
       "14346  who to blame for the wreck if there were possi...   \n",
       "14347  Should the manufacturer of the car be blamed o...   \n",
       "14348  With all these things that could possibly go w...   \n",
       "\n",
       "             discourse_type discourse_effectiveness  \n",
       "14340                  Lead                Adequate  \n",
       "14341              Position               Effective  \n",
       "14342                 Claim               Effective  \n",
       "14343              Evidence               Effective  \n",
       "14344                 Claim               Effective  \n",
       "14345              Evidence               Effective  \n",
       "14346                 Claim               Effective  \n",
       "14347              Evidence               Effective  \n",
       "14348  Concluding Statement                Adequate  "
      ]
     },
     "execution_count": 5,
     "metadata": {},
     "output_type": "execute_result"
    }
   ],
   "source": [
    "idx = 0\n",
    "train_df[train_df['essay_id']==unique_ids[idx]]"
   ]
  },
  {
   "cell_type": "code",
   "execution_count": 6,
   "metadata": {},
   "outputs": [
    {
     "data": {
      "text/plain": [
       "Adequate       20977\n",
       "Effective       9326\n",
       "Ineffective     6462\n",
       "Name: discourse_effectiveness, dtype: int64"
      ]
     },
     "execution_count": 6,
     "metadata": {},
     "output_type": "execute_result"
    }
   ],
   "source": [
    "train_df[LABEL].value_counts()"
   ]
  },
  {
   "cell_type": "code",
   "execution_count": 7,
   "metadata": {},
   "outputs": [
    {
     "data": {
      "text/plain": [
       "Evidence                12105\n",
       "Claim                   11977\n",
       "Position                 4024\n",
       "Concluding Statement     3351\n",
       "Lead                     2291\n",
       "Counterclaim             1773\n",
       "Rebuttal                 1244\n",
       "Name: discourse_type, dtype: int64"
      ]
     },
     "execution_count": 7,
     "metadata": {},
     "output_type": "execute_result"
    }
   ],
   "source": [
    "train_df['discourse_type'].value_counts()"
   ]
  },
  {
   "cell_type": "code",
   "execution_count": 8,
   "metadata": {
    "scrolled": false
   },
   "outputs": [],
   "source": [
    "from tqdm import tqdm\n",
    "\n",
    "relation_mapper = {\n",
    "    'Lead': ['Position',''],\n",
    "    'Position': ['Lead',''],\n",
    "    'Claim': ['Position',''],\n",
    "    'Counterclaim': ['Position',''],\n",
    "    'Rebuttal': ['Counterclaim',''],\n",
    "    'Evidence': ['Claim',''],\n",
    "    'Concluding Statement': ['Claim', 'Evidence']\n",
    "}\n",
    "\n",
    "def generate_text(df):\n",
    "    df['related_type_0'] = df['discourse_type'].apply(lambda x:relation_mapper[x][0])\n",
    "    df['related_type_1'] = df['discourse_type'].apply(lambda x:relation_mapper[x][1])\n",
    "\n",
    "    data_df = []\n",
    "    for unique_id in tqdm(unique_ids):\n",
    "        tmp_df = train_df[train_df['essay_id']==unique_id].reset_index(drop=True)\n",
    "\n",
    "        discourse_type_df = tmp_df.groupby('discourse_type')['discourse_id'].apply(list).reset_index()\n",
    "        discourse_type_df_0 = discourse_type_df.rename(columns={'discourse_type':'related_type_0','discourse_id':'related_id_0'})\n",
    "        tmp_df = tmp_df.merge(discourse_type_df_0, on='related_type_0', how='left')\n",
    "\n",
    "        discourse_type_df_1 = discourse_type_df.rename(columns={'discourse_type':'related_type_1','discourse_id':'related_id_1'})\n",
    "        tmp_df = tmp_df.merge(discourse_type_df_1, on='related_type_1', how='left').fillna('')\n",
    "\n",
    "\n",
    "        for idx in range(len(tmp_df)):\n",
    "            discourse_type = tmp_df.loc[idx, 'discourse_type']\n",
    "            discourse_text = tmp_df.loc[idx, 'discourse_text']\n",
    "\n",
    "            related_type_0 = tmp_df.loc[idx, 'related_type_0']\n",
    "            related_id_0   = tmp_df.loc[idx, 'related_id_0']\n",
    "            related_text_list_0 = []\n",
    "            for i,disc_id in enumerate(related_id_0):\n",
    "                related_text_list_0.append(f'[{related_type_0.upper()}]' + tmp_df.loc[tmp_df['discourse_id']==disc_id, 'discourse_text'].values[0])\n",
    "            related_text_0 = ' '.join(related_text_list_0)\n",
    "            text = f'[{discourse_type.upper()}]{discourse_text}[SEP]{related_text_0}'\n",
    "\n",
    "            related_type_1 = tmp_df.loc[idx, 'related_type_1']\n",
    "            if related_type_1!='':\n",
    "                related_id_1  = tmp_df.loc[idx, 'related_id_1']\n",
    "                related_text_list_1 = []\n",
    "                for i,disc_id in enumerate(related_id_1):\n",
    "                    related_text_list_1.append(f'[{related_type_1.upper()}]' + tmp_df.loc[tmp_df['discourse_id']==disc_id, 'discourse_text'].values[0])\n",
    "                related_text_1 = ' '.join(related_text_list_1)\n",
    "                text += f'{related_text_1}'\n",
    "\n",
    "            tmp_df.loc[idx,'text'] = text\n",
    "            tmp_df.loc[idx,'discourse_text_2'] = f'[{discourse_type.upper()}]{discourse_text}'\n",
    "        data_df.append(tmp_df)\n",
    "\n",
    "    data_df = pd.concat(data_df).reset_index(drop=True)\n",
    "    return data_df"
   ]
  },
  {
   "cell_type": "code",
   "execution_count": 9,
   "metadata": {},
   "outputs": [],
   "source": [
    "import os\n",
    "os.makedirs('./result', exist_ok=True)"
   ]
  },
  {
   "cell_type": "code",
   "execution_count": 10,
   "metadata": {},
   "outputs": [
    {
     "name": "stderr",
     "output_type": "stream",
     "text": [
      "100%|██████████| 4191/4191 [01:04<00:00, 64.74it/s]\n"
     ]
    },
    {
     "data": {
      "text/html": [
       "<div>\n",
       "<style scoped>\n",
       "    .dataframe tbody tr th:only-of-type {\n",
       "        vertical-align: middle;\n",
       "    }\n",
       "\n",
       "    .dataframe tbody tr th {\n",
       "        vertical-align: top;\n",
       "    }\n",
       "\n",
       "    .dataframe thead th {\n",
       "        text-align: right;\n",
       "    }\n",
       "</style>\n",
       "<table border=\"1\" class=\"dataframe\">\n",
       "  <thead>\n",
       "    <tr style=\"text-align: right;\">\n",
       "      <th></th>\n",
       "      <th>discourse_id</th>\n",
       "      <th>essay_id</th>\n",
       "      <th>discourse_text</th>\n",
       "      <th>discourse_type</th>\n",
       "      <th>discourse_effectiveness</th>\n",
       "      <th>related_type_0</th>\n",
       "      <th>related_type_1</th>\n",
       "      <th>related_id_0</th>\n",
       "      <th>related_id_1</th>\n",
       "      <th>text</th>\n",
       "      <th>discourse_text_2</th>\n",
       "    </tr>\n",
       "  </thead>\n",
       "  <tbody>\n",
       "    <tr>\n",
       "      <th>0</th>\n",
       "      <td>fe6dfbd53216</td>\n",
       "      <td>00066EA9880D</td>\n",
       "      <td>Driverless cars are exaclty what you would exp...</td>\n",
       "      <td>Lead</td>\n",
       "      <td>Adequate</td>\n",
       "      <td>Position</td>\n",
       "      <td></td>\n",
       "      <td>[ca9e1b60c9fb]</td>\n",
       "      <td></td>\n",
       "      <td>[LEAD]Driverless cars are exaclty what you wou...</td>\n",
       "      <td>[LEAD]Driverless cars are exaclty what you wou...</td>\n",
       "    </tr>\n",
       "    <tr>\n",
       "      <th>1</th>\n",
       "      <td>ca9e1b60c9fb</td>\n",
       "      <td>00066EA9880D</td>\n",
       "      <td>The developement of these cars should be stopp...</td>\n",
       "      <td>Position</td>\n",
       "      <td>Effective</td>\n",
       "      <td>Lead</td>\n",
       "      <td></td>\n",
       "      <td>[fe6dfbd53216]</td>\n",
       "      <td></td>\n",
       "      <td>[POSITION]The developement of these cars shoul...</td>\n",
       "      <td>[POSITION]The developement of these cars shoul...</td>\n",
       "    </tr>\n",
       "    <tr>\n",
       "      <th>2</th>\n",
       "      <td>6cf2157f4f19</td>\n",
       "      <td>00066EA9880D</td>\n",
       "      <td>the driver will be alerted when they will need...</td>\n",
       "      <td>Claim</td>\n",
       "      <td>Effective</td>\n",
       "      <td>Position</td>\n",
       "      <td></td>\n",
       "      <td>[ca9e1b60c9fb]</td>\n",
       "      <td></td>\n",
       "      <td>[CLAIM]the driver will be alerted when they wi...</td>\n",
       "      <td>[CLAIM]the driver will be alerted when they wi...</td>\n",
       "    </tr>\n",
       "    <tr>\n",
       "      <th>3</th>\n",
       "      <td>d920880f4341</td>\n",
       "      <td>00066EA9880D</td>\n",
       "      <td>This is such a dangerous thing because we all ...</td>\n",
       "      <td>Evidence</td>\n",
       "      <td>Effective</td>\n",
       "      <td>Claim</td>\n",
       "      <td></td>\n",
       "      <td>[6cf2157f4f19, 7d52c3216a0e, d16ff143cb0b]</td>\n",
       "      <td></td>\n",
       "      <td>[EVIDENCE]This is such a dangerous thing becau...</td>\n",
       "      <td>[EVIDENCE]This is such a dangerous thing becau...</td>\n",
       "    </tr>\n",
       "    <tr>\n",
       "      <th>4</th>\n",
       "      <td>7d52c3216a0e</td>\n",
       "      <td>00066EA9880D</td>\n",
       "      <td>Another thing that can go wrong with these car...</td>\n",
       "      <td>Claim</td>\n",
       "      <td>Effective</td>\n",
       "      <td>Position</td>\n",
       "      <td></td>\n",
       "      <td>[ca9e1b60c9fb]</td>\n",
       "      <td></td>\n",
       "      <td>[CLAIM]Another thing that can go wrong with th...</td>\n",
       "      <td>[CLAIM]Another thing that can go wrong with th...</td>\n",
       "    </tr>\n",
       "  </tbody>\n",
       "</table>\n",
       "</div>"
      ],
      "text/plain": [
       "   discourse_id      essay_id  \\\n",
       "0  fe6dfbd53216  00066EA9880D   \n",
       "1  ca9e1b60c9fb  00066EA9880D   \n",
       "2  6cf2157f4f19  00066EA9880D   \n",
       "3  d920880f4341  00066EA9880D   \n",
       "4  7d52c3216a0e  00066EA9880D   \n",
       "\n",
       "                                      discourse_text discourse_type  \\\n",
       "0  Driverless cars are exaclty what you would exp...           Lead   \n",
       "1  The developement of these cars should be stopp...       Position   \n",
       "2  the driver will be alerted when they will need...          Claim   \n",
       "3  This is such a dangerous thing because we all ...       Evidence   \n",
       "4  Another thing that can go wrong with these car...          Claim   \n",
       "\n",
       "  discourse_effectiveness related_type_0 related_type_1  \\\n",
       "0                Adequate       Position                  \n",
       "1               Effective           Lead                  \n",
       "2               Effective       Position                  \n",
       "3               Effective          Claim                  \n",
       "4               Effective       Position                  \n",
       "\n",
       "                                 related_id_0 related_id_1  \\\n",
       "0                              [ca9e1b60c9fb]                \n",
       "1                              [fe6dfbd53216]                \n",
       "2                              [ca9e1b60c9fb]                \n",
       "3  [6cf2157f4f19, 7d52c3216a0e, d16ff143cb0b]                \n",
       "4                              [ca9e1b60c9fb]                \n",
       "\n",
       "                                                text  \\\n",
       "0  [LEAD]Driverless cars are exaclty what you wou...   \n",
       "1  [POSITION]The developement of these cars shoul...   \n",
       "2  [CLAIM]the driver will be alerted when they wi...   \n",
       "3  [EVIDENCE]This is such a dangerous thing becau...   \n",
       "4  [CLAIM]Another thing that can go wrong with th...   \n",
       "\n",
       "                                    discourse_text_2  \n",
       "0  [LEAD]Driverless cars are exaclty what you wou...  \n",
       "1  [POSITION]The developement of these cars shoul...  \n",
       "2  [CLAIM]the driver will be alerted when they wi...  \n",
       "3  [EVIDENCE]This is such a dangerous thing becau...  \n",
       "4  [CLAIM]Another thing that can go wrong with th...  "
      ]
     },
     "execution_count": 10,
     "metadata": {},
     "output_type": "execute_result"
    }
   ],
   "source": [
    "data_df = generate_text(train_df)\n",
    "data_df.to_csv('./result/preprocessed_train.csv', index=False)\n",
    "data_df.head()"
   ]
  },
  {
   "cell_type": "code",
   "execution_count": 11,
   "metadata": {},
   "outputs": [
    {
     "data": {
      "text/plain": [
       "(36765, 11)"
      ]
     },
     "execution_count": 11,
     "metadata": {},
     "output_type": "execute_result"
    }
   ],
   "source": [
    "data_df.shape"
   ]
  },
  {
   "cell_type": "code",
   "execution_count": null,
   "metadata": {},
   "outputs": [],
   "source": []
  },
  {
   "cell_type": "code",
   "execution_count": 12,
   "metadata": {},
   "outputs": [
    {
     "name": "stderr",
     "output_type": "stream",
     "text": [
      "Special tokens have been added in the vocabulary, make sure the associated word embeddings are fine-tuned or trained.\n",
      "Special tokens have been added in the vocabulary, make sure the associated word embeddings are fine-tuned or trained.\n"
     ]
    }
   ],
   "source": [
    "from transformers.models.deberta_v2 import DebertaV2TokenizerFast   \n",
    "\n",
    "model_name = 'microsoft/deberta-v3-base'\n",
    "tokenizer = DebertaV2TokenizerFast.from_pretrained(model_name, trim_offsets=False)      \n",
    "special_tokens_dict = {'additional_special_tokens': ['\\r\\n'] + [f'[{s.upper()}]' for s in list(relation_mapper.keys())]}\n",
    "_ = tokenizer.add_special_tokens(special_tokens_dict)"
   ]
  },
  {
   "cell_type": "code",
   "execution_count": 13,
   "metadata": {
    "scrolled": false
   },
   "outputs": [
    {
     "name": "stderr",
     "output_type": "stream",
     "text": [
      "100%|██████████| 36765/36765 [00:12<00:00, 2901.99it/s]\n"
     ]
    }
   ],
   "source": [
    "token_length_list = []\n",
    "for text in tqdm(data_df['text'].values):\n",
    "    token_length_list.append( len(tokenizer.tokenize(text, add_special_tokens=True)) )"
   ]
  },
  {
   "cell_type": "code",
   "execution_count": 14,
   "metadata": {},
   "outputs": [
    {
     "data": {
      "image/png": "[encoded data removed]",
      "text/plain": [
       "<Figure size 432x288 with 1 Axes>"
      ]
     },
     "metadata": {
      "needs_background": "light"
     },
     "output_type": "display_data"
    }
   ],
   "source": [
    "plt.hist(token_length_list, bins=100)\n",
    "plt.yscale('log')\n",
    "plt.grid();"
   ]
  },
  {
   "cell_type": "code",
   "execution_count": null,
   "metadata": {},
   "outputs": [],
   "source": []
  }
 ],
 "metadata": {
  "kernelspec": {
   "display_name": "Python 3",
   "language": "python",
   "name": "python3"
  },
  "language_info": {
   "codemirror_mode": {
    "name": "ipython",
    "version": 3
   },
   "file_extension": ".py",
   "mimetype": "text/x-python",
   "name": "python",
   "nbconvert_exporter": "python",
   "pygments_lexer": "ipython3",
   "version": "3.7.8"
  }
 },
 "nbformat": 4,
 "nbformat_minor": 4
}
