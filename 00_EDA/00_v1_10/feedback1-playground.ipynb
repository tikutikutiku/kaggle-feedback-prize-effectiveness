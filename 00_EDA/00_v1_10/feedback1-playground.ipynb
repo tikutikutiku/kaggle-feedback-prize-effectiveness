{
 "cells": [
  {
   "cell_type": "markdown",
   "metadata": {},
   "source": [
    "# Import Libraries and Data"
   ]
  },
  {
   "cell_type": "code",
   "execution_count": 1,
   "metadata": {
    "_cell_guid": "b1076dfc-b9ad-4769-8c92-a6c4dae69d19",
    "_uuid": "8f2839f25d086af736a60e9eeb907d3b93b6e0e5",
    "execution": {
     "iopub.execute_input": "2022-05-10T10:03:55.232895Z",
     "iopub.status.busy": "2022-05-10T10:03:55.232215Z",
     "iopub.status.idle": "2022-05-10T10:03:55.272779Z",
     "shell.execute_reply": "2022-05-10T10:03:55.271779Z",
     "shell.execute_reply.started": "2022-05-10T10:03:55.232764Z"
    }
   },
   "outputs": [],
   "source": [
    "import numpy as np\n",
    "import pandas as pd\n",
    "pd.get_option(\"display.max_columns\")\n",
    "pd.set_option('display.max_columns', 300)\n",
    "pd.get_option(\"display.max_rows\")\n",
    "pd.set_option('display.max_rows', 300)\n",
    "\n",
    "import matplotlib.pyplot as plt\n",
    "%matplotlib inline\n",
    "\n",
    "import os\n",
    "from os.path import join as opj\n",
    "import gc\n",
    "\n",
    "#INPUT_PATH = '../../input/feedback-prize-effectiveness/'\n",
    "INPUT_PATH = '../../00_EDA/00_v2_04/result/unlabeled.csv'\n",
    "\n",
    "#LABEL = 'discourse_effectiveness'"
   ]
  },
  {
   "cell_type": "code",
   "execution_count": 2,
   "metadata": {
    "execution": {
     "iopub.execute_input": "2022-05-10T10:03:55.276389Z",
     "iopub.status.busy": "2022-05-10T10:03:55.276096Z",
     "iopub.status.idle": "2022-05-10T10:03:55.406083Z",
     "shell.execute_reply": "2022-05-10T10:03:55.405306Z",
     "shell.execute_reply.started": "2022-05-10T10:03:55.276334Z"
    }
   },
   "outputs": [
    {
     "name": "stdout",
     "output_type": "stream",
     "text": [
      "train_df.shape =  (107528, 9)\n"
     ]
    }
   ],
   "source": [
    "# train_df = pd.read_csv(opj(INPUT_PATH, 'train.csv'))\n",
    "# test_df = pd.read_csv(opj(INPUT_PATH, 'test.csv'))\n",
    "# sub_df = pd.read_csv(opj(INPUT_PATH, 'sample_submission.csv'))\n",
    "\n",
    "# print('train_df.shape = ', train_df.shape)\n",
    "# print('test_df.shape = ', test_df.shape)\n",
    "# print('sub_df.shape = ', sub_df.shape)\n",
    "\n",
    "train_df = pd.read_csv(INPUT_PATH)\n",
    "print('train_df.shape = ', train_df.shape)"
   ]
  },
  {
   "cell_type": "markdown",
   "metadata": {},
   "source": [
    "# Create Folds"
   ]
  },
  {
   "cell_type": "code",
   "execution_count": 3,
   "metadata": {},
   "outputs": [
    {
     "data": {
      "text/html": [
       "<div>\n",
       "<style scoped>\n",
       "    .dataframe tbody tr th:only-of-type {\n",
       "        vertical-align: middle;\n",
       "    }\n",
       "\n",
       "    .dataframe tbody tr th {\n",
       "        vertical-align: top;\n",
       "    }\n",
       "\n",
       "    .dataframe thead th {\n",
       "        text-align: right;\n",
       "    }\n",
       "</style>\n",
       "<table border=\"1\" class=\"dataframe\">\n",
       "  <thead>\n",
       "    <tr style=\"text-align: right;\">\n",
       "      <th></th>\n",
       "      <th>essay_id</th>\n",
       "      <th>discourse_id</th>\n",
       "      <th>discourse_start</th>\n",
       "      <th>discourse_end</th>\n",
       "      <th>discourse_text</th>\n",
       "      <th>discourse_type</th>\n",
       "      <th>discourse_type_num</th>\n",
       "      <th>predictionstring</th>\n",
       "      <th>neighbor_text</th>\n",
       "    </tr>\n",
       "  </thead>\n",
       "  <tbody>\n",
       "    <tr>\n",
       "      <th>0</th>\n",
       "      <td>A8445CABFECE</td>\n",
       "      <td>1.622576e+12</td>\n",
       "      <td>18.0</td>\n",
       "      <td>85.0</td>\n",
       "      <td>Drivers should not be able to use phones while...</td>\n",
       "      <td>Position</td>\n",
       "      <td>Position 1</td>\n",
       "      <td>3 4 5 6 7 8 9 10 11 12 13 14</td>\n",
       "      <td>[POSITION]Drivers should not be able to use ph...</td>\n",
       "    </tr>\n",
       "    <tr>\n",
       "      <th>1</th>\n",
       "      <td>A8445CABFECE</td>\n",
       "      <td>1.622576e+12</td>\n",
       "      <td>86.0</td>\n",
       "      <td>202.0</td>\n",
       "      <td>Drivers who used their phone while operating a...</td>\n",
       "      <td>Claim</td>\n",
       "      <td>Claim 1</td>\n",
       "      <td>15 16 17 18 19 20 21 22 23 24 25 26 27 28 29 3...</td>\n",
       "      <td>[POSITION]Drivers should not be able to use ph...</td>\n",
       "    </tr>\n",
       "    <tr>\n",
       "      <th>2</th>\n",
       "      <td>A8445CABFECE</td>\n",
       "      <td>1.622576e+12</td>\n",
       "      <td>203.0</td>\n",
       "      <td>1030.0</td>\n",
       "      <td>According to an article by the Edgar Snyder Fi...</td>\n",
       "      <td>Evidence</td>\n",
       "      <td>Evidence 1</td>\n",
       "      <td>36 37 38 39 40 41 42 43 44 45 46 47 48 49 50 5...</td>\n",
       "      <td>[POSITION]Drivers should not be able to use ph...</td>\n",
       "    </tr>\n",
       "    <tr>\n",
       "      <th>3</th>\n",
       "      <td>A8445CABFECE</td>\n",
       "      <td>1.622576e+12</td>\n",
       "      <td>1031.0</td>\n",
       "      <td>1243.0</td>\n",
       "      <td>In conclusion, drivers should not able to work...</td>\n",
       "      <td>Concluding Statement</td>\n",
       "      <td>Concluding Statement 1</td>\n",
       "      <td>177 178 179 180 181 182 183 184 185 186 187 18...</td>\n",
       "      <td>[POSITION]Drivers should not be able to use ph...</td>\n",
       "    </tr>\n",
       "    <tr>\n",
       "      <th>4</th>\n",
       "      <td>6B4F7A0165B9</td>\n",
       "      <td>1.622644e+12</td>\n",
       "      <td>36.0</td>\n",
       "      <td>512.0</td>\n",
       "      <td>The ability to stay connected to people we kno...</td>\n",
       "      <td>Lead</td>\n",
       "      <td>Lead 1</td>\n",
       "      <td>5 6 7 8 9 10 11 12 13 14 15 16 17 18 19 20 21 ...</td>\n",
       "      <td>[LEAD]The ability to stay connected to people ...</td>\n",
       "    </tr>\n",
       "  </tbody>\n",
       "</table>\n",
       "</div>"
      ],
      "text/plain": [
       "       essay_id  discourse_id  discourse_start  discourse_end  \\\n",
       "0  A8445CABFECE  1.622576e+12             18.0           85.0   \n",
       "1  A8445CABFECE  1.622576e+12             86.0          202.0   \n",
       "2  A8445CABFECE  1.622576e+12            203.0         1030.0   \n",
       "3  A8445CABFECE  1.622576e+12           1031.0         1243.0   \n",
       "4  6B4F7A0165B9  1.622644e+12             36.0          512.0   \n",
       "\n",
       "                                      discourse_text        discourse_type  \\\n",
       "0  Drivers should not be able to use phones while...              Position   \n",
       "1  Drivers who used their phone while operating a...                 Claim   \n",
       "2  According to an article by the Edgar Snyder Fi...              Evidence   \n",
       "3  In conclusion, drivers should not able to work...  Concluding Statement   \n",
       "4  The ability to stay connected to people we kno...                  Lead   \n",
       "\n",
       "       discourse_type_num                                   predictionstring  \\\n",
       "0              Position 1                       3 4 5 6 7 8 9 10 11 12 13 14   \n",
       "1                 Claim 1  15 16 17 18 19 20 21 22 23 24 25 26 27 28 29 3...   \n",
       "2              Evidence 1  36 37 38 39 40 41 42 43 44 45 46 47 48 49 50 5...   \n",
       "3  Concluding Statement 1  177 178 179 180 181 182 183 184 185 186 187 18...   \n",
       "4                  Lead 1  5 6 7 8 9 10 11 12 13 14 15 16 17 18 19 20 21 ...   \n",
       "\n",
       "                                       neighbor_text  \n",
       "0  [POSITION]Drivers should not be able to use ph...  \n",
       "1  [POSITION]Drivers should not be able to use ph...  \n",
       "2  [POSITION]Drivers should not be able to use ph...  \n",
       "3  [POSITION]Drivers should not be able to use ph...  \n",
       "4  [LEAD]The ability to stay connected to people ...  "
      ]
     },
     "execution_count": 3,
     "metadata": {},
     "output_type": "execute_result"
    }
   ],
   "source": [
    "train_df.head()"
   ]
  },
  {
   "cell_type": "code",
   "execution_count": 4,
   "metadata": {},
   "outputs": [
    {
     "data": {
      "text/plain": [
       "array(['0000D23A521A', '001552828BD0', '0019E4D09427', ...,\n",
       "       'FFF1442D6698', 'FFF1ED4F8544', 'FFFD0AF13501'], dtype='<U12')"
      ]
     },
     "execution_count": 4,
     "metadata": {},
     "output_type": "execute_result"
    }
   ],
   "source": [
    "unique_ids = np.array(sorted(train_df['essay_id'].unique()))\n",
    "unique_ids"
   ]
  },
  {
   "cell_type": "code",
   "execution_count": 5,
   "metadata": {},
   "outputs": [],
   "source": [
    "import numpy as np\n",
    "from sklearn.model_selection import KFold\n",
    "\n",
    "def get_fold_ids_list(n_folds, ids, seed):\n",
    "    kfold = KFold(n_splits=n_folds,\n",
    "                  shuffle=True,\n",
    "                  random_state=seed)\n",
    "    trn_ids_list = []\n",
    "    val_ids_list = []\n",
    "    for trn_idx, val_idx in kfold.split(ids,ids):\n",
    "        trn_ids_list.append(ids[np.array(trn_idx)])\n",
    "        val_ids_list.append(ids[np.array(val_idx)])\n",
    "    return trn_ids_list, val_ids_list"
   ]
  },
  {
   "cell_type": "code",
   "execution_count": 6,
   "metadata": {},
   "outputs": [],
   "source": [
    "N_FOLDS = 5\n",
    "SEED = 2022\n",
    "\n",
    "trn_ids_list, val_ids_list = get_fold_ids_list(n_folds=N_FOLDS,\n",
    "                                               ids=unique_ids,\n",
    "                                               seed=SEED)"
   ]
  },
  {
   "cell_type": "code",
   "execution_count": 7,
   "metadata": {},
   "outputs": [
    {
     "data": {
      "text/plain": [
       "['./result/val_ids_list.joblib']"
      ]
     },
     "execution_count": 7,
     "metadata": {},
     "output_type": "execute_result"
    }
   ],
   "source": [
    "import joblib\n",
    "import os\n",
    "\n",
    "os.makedirs('./result', exist_ok=True)\n",
    "joblib.dump(trn_ids_list, './result/trn_ids_list.joblib')\n",
    "joblib.dump(val_ids_list, './result/val_ids_list.joblib')"
   ]
  },
  {
   "cell_type": "code",
   "execution_count": 8,
   "metadata": {},
   "outputs": [
    {
     "name": "stdout",
     "output_type": "stream",
     "text": [
      "fold =  0\n",
      "trn_df.shape = (85917, 10), val_df.shape = (21611, 10)\n",
      "\n",
      "fold =  1\n",
      "trn_df.shape = (85928, 10), val_df.shape = (21600, 10)\n",
      "\n",
      "fold =  2\n",
      "trn_df.shape = (86175, 10), val_df.shape = (21353, 10)\n",
      "\n",
      "fold =  3\n",
      "trn_df.shape = (85889, 10), val_df.shape = (21639, 10)\n",
      "\n",
      "fold =  4\n",
      "trn_df.shape = (86203, 10), val_df.shape = (21325, 10)\n",
      "\n"
     ]
    }
   ],
   "source": [
    "for fold in range(N_FOLDS):\n",
    "    print('fold = ', fold)\n",
    "    trn_df = train_df[train_df['essay_id'].isin(trn_ids_list[fold])].reset_index()\n",
    "    val_df = train_df[train_df['essay_id'].isin(val_ids_list[fold])].reset_index()\n",
    "    print('trn_df.shape = {}, val_df.shape = {}'.format(trn_df.shape, val_df.shape))\n",
    "    print('')"
   ]
  },
  {
   "cell_type": "code",
   "execution_count": 9,
   "metadata": {},
   "outputs": [
    {
     "name": "stdout",
     "output_type": "stream",
     "text": [
      "fold =  0\n"
     ]
    },
    {
     "data": {
      "text/plain": [
       "Claim                   7693\n",
       "Evidence                6759\n",
       "Position                2279\n",
       "Concluding Statement    2037\n",
       "Lead                    1420\n",
       "Counterclaim             803\n",
       "Rebuttal                 620\n",
       "Name: discourse_type, dtype: int64"
      ]
     },
     "metadata": {},
     "output_type": "display_data"
    },
    {
     "name": "stdout",
     "output_type": "stream",
     "text": [
      "\n",
      "fold =  1\n"
     ]
    },
    {
     "data": {
      "text/plain": [
       "Claim                   7698\n",
       "Evidence                6739\n",
       "Position                2276\n",
       "Concluding Statement    2037\n",
       "Lead                    1424\n",
       "Counterclaim             813\n",
       "Rebuttal                 613\n",
       "Name: discourse_type, dtype: int64"
      ]
     },
     "metadata": {},
     "output_type": "display_data"
    },
    {
     "name": "stdout",
     "output_type": "stream",
     "text": [
      "\n",
      "fold =  2\n"
     ]
    },
    {
     "data": {
      "text/plain": [
       "Claim                   7517\n",
       "Evidence                6671\n",
       "Position                2277\n",
       "Concluding Statement    2038\n",
       "Lead                    1418\n",
       "Counterclaim             800\n",
       "Rebuttal                 632\n",
       "Name: discourse_type, dtype: int64"
      ]
     },
     "metadata": {},
     "output_type": "display_data"
    },
    {
     "name": "stdout",
     "output_type": "stream",
     "text": [
      "\n",
      "fold =  3\n"
     ]
    },
    {
     "data": {
      "text/plain": [
       "Claim                   7688\n",
       "Evidence                6757\n",
       "Position                2279\n",
       "Concluding Statement    2035\n",
       "Lead                    1391\n",
       "Counterclaim             845\n",
       "Rebuttal                 644\n",
       "Name: discourse_type, dtype: int64"
      ]
     },
     "metadata": {},
     "output_type": "display_data"
    },
    {
     "name": "stdout",
     "output_type": "stream",
     "text": [
      "\n",
      "fold =  4\n"
     ]
    },
    {
     "data": {
      "text/plain": [
       "Claim                   7635\n",
       "Evidence                6671\n",
       "Position                2284\n",
       "Concluding Statement    2007\n",
       "Lead                    1361\n",
       "Counterclaim             783\n",
       "Rebuttal                 584\n",
       "Name: discourse_type, dtype: int64"
      ]
     },
     "metadata": {},
     "output_type": "display_data"
    },
    {
     "name": "stdout",
     "output_type": "stream",
     "text": [
      "\n"
     ]
    }
   ],
   "source": [
    "for fold in range(N_FOLDS):\n",
    "    print('fold = ', fold)\n",
    "    val_df = train_df[train_df['essay_id'].isin(val_ids_list[fold])].reset_index()\n",
    "    display(val_df['discourse_type'].value_counts())\n",
    "    print('')"
   ]
  },
  {
   "cell_type": "code",
   "execution_count": null,
   "metadata": {},
   "outputs": [],
   "source": []
  },
  {
   "cell_type": "code",
   "execution_count": null,
   "metadata": {},
   "outputs": [],
   "source": []
  },
  {
   "cell_type": "code",
   "execution_count": null,
   "metadata": {},
   "outputs": [],
   "source": []
  }
 ],
 "metadata": {
  "kernelspec": {
   "display_name": "Python 3",
   "language": "python",
   "name": "python3"
  },
  "language_info": {
   "codemirror_mode": {
    "name": "ipython",
    "version": 3
   },
   "file_extension": ".py",
   "mimetype": "text/x-python",
   "name": "python",
   "nbconvert_exporter": "python",
   "pygments_lexer": "ipython3",
   "version": "3.7.8"
  }
 },
 "nbformat": 4,
 "nbformat_minor": 4
}
