{
 "cells": [
  {
   "cell_type": "markdown",
   "metadata": {},
   "source": [
    "* EDA for formulation  "
   ]
  },
  {
   "cell_type": "markdown",
   "metadata": {},
   "source": [
    "# Import Libraries and Data"
   ]
  },
  {
   "cell_type": "code",
   "execution_count": 1,
   "metadata": {
    "_cell_guid": "b1076dfc-b9ad-4769-8c92-a6c4dae69d19",
    "_uuid": "8f2839f25d086af736a60e9eeb907d3b93b6e0e5",
    "execution": {
     "iopub.execute_input": "2022-05-10T10:03:55.232895Z",
     "iopub.status.busy": "2022-05-10T10:03:55.232215Z",
     "iopub.status.idle": "2022-05-10T10:03:55.272779Z",
     "shell.execute_reply": "2022-05-10T10:03:55.271779Z",
     "shell.execute_reply.started": "2022-05-10T10:03:55.232764Z"
    }
   },
   "outputs": [],
   "source": [
    "import numpy as np\n",
    "import pandas as pd\n",
    "pd.get_option(\"display.max_columns\")\n",
    "pd.set_option('display.max_columns', 300)\n",
    "pd.get_option(\"display.max_rows\")\n",
    "pd.set_option('display.max_rows', 300)\n",
    "\n",
    "import matplotlib.pyplot as plt\n",
    "%matplotlib inline\n",
    "\n",
    "import os\n",
    "from os.path import join as opj\n",
    "import gc\n",
    "\n",
    "INPUT_PATH = '../../input/feedback-prize-effectiveness/'\n",
    "\n",
    "LABEL = 'discourse_effectiveness'"
   ]
  },
  {
   "cell_type": "code",
   "execution_count": 2,
   "metadata": {
    "execution": {
     "iopub.execute_input": "2022-05-10T10:03:55.276389Z",
     "iopub.status.busy": "2022-05-10T10:03:55.276096Z",
     "iopub.status.idle": "2022-05-10T10:03:55.406083Z",
     "shell.execute_reply": "2022-05-10T10:03:55.405306Z",
     "shell.execute_reply.started": "2022-05-10T10:03:55.276334Z"
    }
   },
   "outputs": [
    {
     "name": "stdout",
     "output_type": "stream",
     "text": [
      "train_df.shape =  (36765, 5)\n",
      "test_df.shape =  (10, 4)\n",
      "sub_df.shape =  (10, 4)\n"
     ]
    }
   ],
   "source": [
    "train_df = pd.read_csv(opj(INPUT_PATH, 'train.csv'))\n",
    "test_df = pd.read_csv(opj(INPUT_PATH, 'test.csv'))\n",
    "sub_df = pd.read_csv(opj(INPUT_PATH, 'sample_submission.csv'))\n",
    "\n",
    "print('train_df.shape = ', train_df.shape)\n",
    "print('test_df.shape = ', test_df.shape)\n",
    "print('sub_df.shape = ', sub_df.shape)"
   ]
  },
  {
   "cell_type": "markdown",
   "metadata": {},
   "source": [
    "# Check Distribution"
   ]
  },
  {
   "cell_type": "markdown",
   "metadata": {},
   "source": [
    "# Construct part of full text which includes discourse_text"
   ]
  },
  {
   "cell_type": "code",
   "execution_count": 3,
   "metadata": {},
   "outputs": [],
   "source": [
    "unique_ids = sorted(train_df['essay_id'].unique())"
   ]
  },
  {
   "cell_type": "code",
   "execution_count": 4,
   "metadata": {},
   "outputs": [
    {
     "name": "stderr",
     "output_type": "stream",
     "text": [
      "100%|██████████████████████████████████████| 4191/4191 [00:33<00:00, 125.79it/s]\n"
     ]
    },
    {
     "name": "stdout",
     "output_type": "stream",
     "text": [
      "essay_df.shape =  (36765, 6)\n"
     ]
    }
   ],
   "source": [
    "from tqdm import tqdm\n",
    "\n",
    "essay_df = []\n",
    "for essay_id in tqdm(unique_ids):\n",
    "    tmp_essay_df = train_df[train_df['essay_id']==essay_id].reset_index(drop=True)\n",
    "    for i in range(len(tmp_essay_df)):\n",
    "        tmp_df = tmp_essay_df.iloc[i]\n",
    "        discourse_type = tmp_df['discourse_type']\n",
    "        \n",
    "        if discourse_type in ['Lead', 'Position', 'Evidence']:\n",
    "            feature_df = tmp_essay_df.iloc[max(0,i-3):min(i+3,len(tmp_essay_df))].reset_index(drop=True)\n",
    "                \n",
    "        elif discourse_type=='Claim':\n",
    "            feature_df = tmp_essay_df[tmp_essay_df['discourse_type'].isin(['Position'])].reset_index(drop=True)\n",
    "            \n",
    "        elif discourse_type in ['Counterclaim', 'Rebuttal']:\n",
    "            df1 = tmp_essay_df[tmp_essay_df['discourse_type'].isin(['Position'])].reset_index(drop=True)\n",
    "            df2 = tmp_essay_df.iloc[max(0,i-3):min(i+3,len(tmp_essay_df))]\n",
    "            feature_df = pd.concat([df1,df2], axis=0).drop_duplicates().reset_index(drop=True)\n",
    "            \n",
    "        elif discourse_type=='Concluding Statement':\n",
    "            feature_df = tmp_essay_df[tmp_essay_df['discourse_type'].isin(['Position','Claim'])].reset_index(drop=True)\n",
    "        \n",
    "        feature_text = ''\n",
    "        for j in range(len(feature_df)):\n",
    "            sample = feature_df.iloc[j]\n",
    "            feature_text += f'[{sample[\"discourse_type\"].upper()}]{sample[\"discourse_text\"]}'\n",
    "        tmp_essay_df.loc[i,'feature_text'] = feature_text\n",
    "        \n",
    "    essay_df.append(tmp_essay_df)\n",
    "    \n",
    "essay_df = pd.concat(essay_df).reset_index(drop=True)\n",
    "print('essay_df.shape = ', essay_df.shape)"
   ]
  },
  {
   "cell_type": "code",
   "execution_count": 5,
   "metadata": {},
   "outputs": [
    {
     "data": {
      "text/html": [
       "<div>\n",
       "<style scoped>\n",
       "    .dataframe tbody tr th:only-of-type {\n",
       "        vertical-align: middle;\n",
       "    }\n",
       "\n",
       "    .dataframe tbody tr th {\n",
       "        vertical-align: top;\n",
       "    }\n",
       "\n",
       "    .dataframe thead th {\n",
       "        text-align: right;\n",
       "    }\n",
       "</style>\n",
       "<table border=\"1\" class=\"dataframe\">\n",
       "  <thead>\n",
       "    <tr style=\"text-align: right;\">\n",
       "      <th></th>\n",
       "      <th>discourse_id</th>\n",
       "      <th>essay_id</th>\n",
       "      <th>discourse_text</th>\n",
       "      <th>discourse_type</th>\n",
       "      <th>discourse_effectiveness</th>\n",
       "      <th>feature_text</th>\n",
       "    </tr>\n",
       "  </thead>\n",
       "  <tbody>\n",
       "    <tr>\n",
       "      <th>0</th>\n",
       "      <td>fe6dfbd53216</td>\n",
       "      <td>00066EA9880D</td>\n",
       "      <td>Driverless cars are exaclty what you would exp...</td>\n",
       "      <td>Lead</td>\n",
       "      <td>Adequate</td>\n",
       "      <td>[LEAD]Driverless cars are exaclty what you wou...</td>\n",
       "    </tr>\n",
       "    <tr>\n",
       "      <th>1</th>\n",
       "      <td>ca9e1b60c9fb</td>\n",
       "      <td>00066EA9880D</td>\n",
       "      <td>The developement of these cars should be stopp...</td>\n",
       "      <td>Position</td>\n",
       "      <td>Effective</td>\n",
       "      <td>[LEAD]Driverless cars are exaclty what you wou...</td>\n",
       "    </tr>\n",
       "    <tr>\n",
       "      <th>2</th>\n",
       "      <td>6cf2157f4f19</td>\n",
       "      <td>00066EA9880D</td>\n",
       "      <td>the driver will be alerted when they will need...</td>\n",
       "      <td>Claim</td>\n",
       "      <td>Effective</td>\n",
       "      <td>[POSITION]The developement of these cars shoul...</td>\n",
       "    </tr>\n",
       "    <tr>\n",
       "      <th>3</th>\n",
       "      <td>d920880f4341</td>\n",
       "      <td>00066EA9880D</td>\n",
       "      <td>This is such a dangerous thing because we all ...</td>\n",
       "      <td>Evidence</td>\n",
       "      <td>Effective</td>\n",
       "      <td>[LEAD]Driverless cars are exaclty what you wou...</td>\n",
       "    </tr>\n",
       "    <tr>\n",
       "      <th>4</th>\n",
       "      <td>7d52c3216a0e</td>\n",
       "      <td>00066EA9880D</td>\n",
       "      <td>Another thing that can go wrong with these car...</td>\n",
       "      <td>Claim</td>\n",
       "      <td>Effective</td>\n",
       "      <td>[POSITION]The developement of these cars shoul...</td>\n",
       "    </tr>\n",
       "  </tbody>\n",
       "</table>\n",
       "</div>"
      ],
      "text/plain": [
       "   discourse_id      essay_id  \\\n",
       "0  fe6dfbd53216  00066EA9880D   \n",
       "1  ca9e1b60c9fb  00066EA9880D   \n",
       "2  6cf2157f4f19  00066EA9880D   \n",
       "3  d920880f4341  00066EA9880D   \n",
       "4  7d52c3216a0e  00066EA9880D   \n",
       "\n",
       "                                      discourse_text discourse_type  \\\n",
       "0  Driverless cars are exaclty what you would exp...           Lead   \n",
       "1  The developement of these cars should be stopp...       Position   \n",
       "2  the driver will be alerted when they will need...          Claim   \n",
       "3  This is such a dangerous thing because we all ...       Evidence   \n",
       "4  Another thing that can go wrong with these car...          Claim   \n",
       "\n",
       "  discourse_effectiveness                                       feature_text  \n",
       "0                Adequate  [LEAD]Driverless cars are exaclty what you wou...  \n",
       "1               Effective  [LEAD]Driverless cars are exaclty what you wou...  \n",
       "2               Effective  [POSITION]The developement of these cars shoul...  \n",
       "3               Effective  [LEAD]Driverless cars are exaclty what you wou...  \n",
       "4               Effective  [POSITION]The developement of these cars shoul...  "
      ]
     },
     "execution_count": 5,
     "metadata": {},
     "output_type": "execute_result"
    }
   ],
   "source": [
    "essay_df.head()"
   ]
  },
  {
   "cell_type": "code",
   "execution_count": 6,
   "metadata": {},
   "outputs": [],
   "source": [
    "train_df = train_df.merge(essay_df[['discourse_id','feature_text']], on='discourse_id', how='left')"
   ]
  },
  {
   "cell_type": "code",
   "execution_count": 7,
   "metadata": {},
   "outputs": [],
   "source": [
    "import os\n",
    "os.makedirs('./result', exist_ok=True)\n",
    "train_df.to_csv('./result/train.csv', index=False)"
   ]
  },
  {
   "cell_type": "code",
   "execution_count": 8,
   "metadata": {},
   "outputs": [
    {
     "data": {
      "text/html": [
       "<div>\n",
       "<style scoped>\n",
       "    .dataframe tbody tr th:only-of-type {\n",
       "        vertical-align: middle;\n",
       "    }\n",
       "\n",
       "    .dataframe tbody tr th {\n",
       "        vertical-align: top;\n",
       "    }\n",
       "\n",
       "    .dataframe thead th {\n",
       "        text-align: right;\n",
       "    }\n",
       "</style>\n",
       "<table border=\"1\" class=\"dataframe\">\n",
       "  <thead>\n",
       "    <tr style=\"text-align: right;\">\n",
       "      <th></th>\n",
       "      <th>discourse_id</th>\n",
       "      <th>essay_id</th>\n",
       "      <th>discourse_text</th>\n",
       "      <th>discourse_type</th>\n",
       "      <th>discourse_effectiveness</th>\n",
       "      <th>feature_text</th>\n",
       "    </tr>\n",
       "  </thead>\n",
       "  <tbody>\n",
       "    <tr>\n",
       "      <th>0</th>\n",
       "      <td>0013cc385424</td>\n",
       "      <td>007ACE74B050</td>\n",
       "      <td>Hi, i'm Isaac, i'm going to be writing about h...</td>\n",
       "      <td>Lead</td>\n",
       "      <td>Adequate</td>\n",
       "      <td>[LEAD]Hi, i'm Isaac, i'm going to be writing a...</td>\n",
       "    </tr>\n",
       "    <tr>\n",
       "      <th>1</th>\n",
       "      <td>9704a709b505</td>\n",
       "      <td>007ACE74B050</td>\n",
       "      <td>On my perspective, I think that the face is a ...</td>\n",
       "      <td>Position</td>\n",
       "      <td>Adequate</td>\n",
       "      <td>[LEAD]Hi, i'm Isaac, i'm going to be writing a...</td>\n",
       "    </tr>\n",
       "    <tr>\n",
       "      <th>2</th>\n",
       "      <td>c22adee811b6</td>\n",
       "      <td>007ACE74B050</td>\n",
       "      <td>I think that the face is a natural landform be...</td>\n",
       "      <td>Claim</td>\n",
       "      <td>Adequate</td>\n",
       "      <td>[POSITION]On my perspective, I think that the ...</td>\n",
       "    </tr>\n",
       "    <tr>\n",
       "      <th>3</th>\n",
       "      <td>a10d361e54e4</td>\n",
       "      <td>007ACE74B050</td>\n",
       "      <td>If life was on Mars, we would know by now. The...</td>\n",
       "      <td>Evidence</td>\n",
       "      <td>Adequate</td>\n",
       "      <td>[LEAD]Hi, i'm Isaac, i'm going to be writing a...</td>\n",
       "    </tr>\n",
       "    <tr>\n",
       "      <th>4</th>\n",
       "      <td>db3e453ec4e2</td>\n",
       "      <td>007ACE74B050</td>\n",
       "      <td>People thought that the face was formed by ali...</td>\n",
       "      <td>Counterclaim</td>\n",
       "      <td>Adequate</td>\n",
       "      <td>[POSITION]On my perspective, I think that the ...</td>\n",
       "    </tr>\n",
       "  </tbody>\n",
       "</table>\n",
       "</div>"
      ],
      "text/plain": [
       "   discourse_id      essay_id  \\\n",
       "0  0013cc385424  007ACE74B050   \n",
       "1  9704a709b505  007ACE74B050   \n",
       "2  c22adee811b6  007ACE74B050   \n",
       "3  a10d361e54e4  007ACE74B050   \n",
       "4  db3e453ec4e2  007ACE74B050   \n",
       "\n",
       "                                      discourse_text discourse_type  \\\n",
       "0  Hi, i'm Isaac, i'm going to be writing about h...           Lead   \n",
       "1  On my perspective, I think that the face is a ...       Position   \n",
       "2  I think that the face is a natural landform be...          Claim   \n",
       "3  If life was on Mars, we would know by now. The...       Evidence   \n",
       "4  People thought that the face was formed by ali...   Counterclaim   \n",
       "\n",
       "  discourse_effectiveness                                       feature_text  \n",
       "0                Adequate  [LEAD]Hi, i'm Isaac, i'm going to be writing a...  \n",
       "1                Adequate  [LEAD]Hi, i'm Isaac, i'm going to be writing a...  \n",
       "2                Adequate  [POSITION]On my perspective, I think that the ...  \n",
       "3                Adequate  [LEAD]Hi, i'm Isaac, i'm going to be writing a...  \n",
       "4                Adequate  [POSITION]On my perspective, I think that the ...  "
      ]
     },
     "execution_count": 8,
     "metadata": {},
     "output_type": "execute_result"
    }
   ],
   "source": [
    "train_df.head()"
   ]
  },
  {
   "cell_type": "code",
   "execution_count": null,
   "metadata": {},
   "outputs": [],
   "source": []
  },
  {
   "cell_type": "code",
   "execution_count": null,
   "metadata": {},
   "outputs": [],
   "source": []
  },
  {
   "cell_type": "code",
   "execution_count": null,
   "metadata": {},
   "outputs": [],
   "source": []
  },
  {
   "cell_type": "code",
   "execution_count": null,
   "metadata": {},
   "outputs": [],
   "source": []
  }
 ],
 "metadata": {
  "kernelspec": {
   "display_name": "Python 3 (ipykernel)",
   "language": "python",
   "name": "python3"
  },
  "language_info": {
   "codemirror_mode": {
    "name": "ipython",
    "version": 3
   },
   "file_extension": ".py",
   "mimetype": "text/x-python",
   "name": "python",
   "nbconvert_exporter": "python",
   "pygments_lexer": "ipython3",
   "version": "3.7.3"
  }
 },
 "nbformat": 4,
 "nbformat_minor": 4
}
