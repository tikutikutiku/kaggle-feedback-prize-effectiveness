{
 "cells": [
  {
   "cell_type": "markdown",
   "metadata": {},
   "source": [
    "# Import Data"
   ]
  },
  {
   "cell_type": "code",
   "execution_count": 1,
   "metadata": {},
   "outputs": [
    {
     "name": "stdout",
     "output_type": "stream",
     "text": [
      "(36765, 25)\n"
     ]
    },
    {
     "data": {
      "text/html": [
       "<div>\n",
       "<style scoped>\n",
       "    .dataframe tbody tr th:only-of-type {\n",
       "        vertical-align: middle;\n",
       "    }\n",
       "\n",
       "    .dataframe tbody tr th {\n",
       "        vertical-align: top;\n",
       "    }\n",
       "\n",
       "    .dataframe thead th {\n",
       "        text-align: right;\n",
       "    }\n",
       "</style>\n",
       "<table border=\"1\" class=\"dataframe\">\n",
       "  <thead>\n",
       "    <tr style=\"text-align: right;\">\n",
       "      <th></th>\n",
       "      <th>discourse_id</th>\n",
       "      <th>essay_id</th>\n",
       "      <th>discourse_text</th>\n",
       "      <th>discourse_type</th>\n",
       "      <th>discourse_effectiveness</th>\n",
       "      <th>Ineffective_0</th>\n",
       "      <th>Adequate_0</th>\n",
       "      <th>Effective_0</th>\n",
       "      <th>label</th>\n",
       "      <th>loss</th>\n",
       "      <th>...</th>\n",
       "      <th>Effective_2</th>\n",
       "      <th>Ineffective_3</th>\n",
       "      <th>Adequate_3</th>\n",
       "      <th>Effective_3</th>\n",
       "      <th>Ineffective_4</th>\n",
       "      <th>Adequate_4</th>\n",
       "      <th>Effective_4</th>\n",
       "      <th>Ineffective</th>\n",
       "      <th>Adequate</th>\n",
       "      <th>Effective</th>\n",
       "    </tr>\n",
       "  </thead>\n",
       "  <tbody>\n",
       "    <tr>\n",
       "      <th>0</th>\n",
       "      <td>0013cc385424</td>\n",
       "      <td>007ACE74B050</td>\n",
       "      <td>Hi, i'm Isaac, i'm going to be writing about h...</td>\n",
       "      <td>Lead</td>\n",
       "      <td>Adequate</td>\n",
       "      <td>0.004596</td>\n",
       "      <td>0.128424</td>\n",
       "      <td>0.009837</td>\n",
       "      <td>1</td>\n",
       "      <td>0.106507</td>\n",
       "      <td>...</td>\n",
       "      <td>0.019735</td>\n",
       "      <td>0.009225</td>\n",
       "      <td>0.264238</td>\n",
       "      <td>0.012251</td>\n",
       "      <td>0.001000</td>\n",
       "      <td>0.116014</td>\n",
       "      <td>0.025843</td>\n",
       "      <td>0.005753</td>\n",
       "      <td>0.179938</td>\n",
       "      <td>0.014309</td>\n",
       "    </tr>\n",
       "    <tr>\n",
       "      <th>1</th>\n",
       "      <td>9704a709b505</td>\n",
       "      <td>007ACE74B050</td>\n",
       "      <td>On my perspective, I think that the face is a ...</td>\n",
       "      <td>Position</td>\n",
       "      <td>Adequate</td>\n",
       "      <td>0.014678</td>\n",
       "      <td>0.126776</td>\n",
       "      <td>0.001403</td>\n",
       "      <td>1</td>\n",
       "      <td>0.119425</td>\n",
       "      <td>...</td>\n",
       "      <td>0.007895</td>\n",
       "      <td>0.014992</td>\n",
       "      <td>0.263233</td>\n",
       "      <td>0.007489</td>\n",
       "      <td>0.010160</td>\n",
       "      <td>0.126896</td>\n",
       "      <td>0.005801</td>\n",
       "      <td>0.012774</td>\n",
       "      <td>0.182200</td>\n",
       "      <td>0.005025</td>\n",
       "    </tr>\n",
       "    <tr>\n",
       "      <th>2</th>\n",
       "      <td>c22adee811b6</td>\n",
       "      <td>007ACE74B050</td>\n",
       "      <td>I think that the face is a natural landform be...</td>\n",
       "      <td>Claim</td>\n",
       "      <td>Adequate</td>\n",
       "      <td>0.039009</td>\n",
       "      <td>0.103240</td>\n",
       "      <td>0.000608</td>\n",
       "      <td>1</td>\n",
       "      <td>0.324790</td>\n",
       "      <td>...</td>\n",
       "      <td>0.003183</td>\n",
       "      <td>0.072405</td>\n",
       "      <td>0.210553</td>\n",
       "      <td>0.002757</td>\n",
       "      <td>0.010405</td>\n",
       "      <td>0.127156</td>\n",
       "      <td>0.005296</td>\n",
       "      <td>0.038410</td>\n",
       "      <td>0.159011</td>\n",
       "      <td>0.002580</td>\n",
       "    </tr>\n",
       "    <tr>\n",
       "      <th>3</th>\n",
       "      <td>a10d361e54e4</td>\n",
       "      <td>007ACE74B050</td>\n",
       "      <td>If life was on Mars, we would know by now. The...</td>\n",
       "      <td>Evidence</td>\n",
       "      <td>Adequate</td>\n",
       "      <td>0.029824</td>\n",
       "      <td>0.111454</td>\n",
       "      <td>0.001580</td>\n",
       "      <td>1</td>\n",
       "      <td>0.248233</td>\n",
       "      <td>...</td>\n",
       "      <td>0.002466</td>\n",
       "      <td>0.068198</td>\n",
       "      <td>0.214155</td>\n",
       "      <td>0.003361</td>\n",
       "      <td>0.036436</td>\n",
       "      <td>0.102802</td>\n",
       "      <td>0.003619</td>\n",
       "      <td>0.051634</td>\n",
       "      <td>0.145836</td>\n",
       "      <td>0.002530</td>\n",
       "    </tr>\n",
       "    <tr>\n",
       "      <th>4</th>\n",
       "      <td>db3e453ec4e2</td>\n",
       "      <td>007ACE74B050</td>\n",
       "      <td>People thought that the face was formed by ali...</td>\n",
       "      <td>Counterclaim</td>\n",
       "      <td>Adequate</td>\n",
       "      <td>0.044976</td>\n",
       "      <td>0.097321</td>\n",
       "      <td>0.000560</td>\n",
       "      <td>1</td>\n",
       "      <td>0.383832</td>\n",
       "      <td>...</td>\n",
       "      <td>0.001205</td>\n",
       "      <td>0.098344</td>\n",
       "      <td>0.185625</td>\n",
       "      <td>0.001745</td>\n",
       "      <td>0.023646</td>\n",
       "      <td>0.115180</td>\n",
       "      <td>0.004031</td>\n",
       "      <td>0.059501</td>\n",
       "      <td>0.138864</td>\n",
       "      <td>0.001635</td>\n",
       "    </tr>\n",
       "  </tbody>\n",
       "</table>\n",
       "<p>5 rows × 25 columns</p>\n",
       "</div>"
      ],
      "text/plain": [
       "   discourse_id      essay_id  \\\n",
       "0  0013cc385424  007ACE74B050   \n",
       "1  9704a709b505  007ACE74B050   \n",
       "2  c22adee811b6  007ACE74B050   \n",
       "3  a10d361e54e4  007ACE74B050   \n",
       "4  db3e453ec4e2  007ACE74B050   \n",
       "\n",
       "                                      discourse_text discourse_type  \\\n",
       "0  Hi, i'm Isaac, i'm going to be writing about h...           Lead   \n",
       "1  On my perspective, I think that the face is a ...       Position   \n",
       "2  I think that the face is a natural landform be...          Claim   \n",
       "3  If life was on Mars, we would know by now. The...       Evidence   \n",
       "4  People thought that the face was formed by ali...   Counterclaim   \n",
       "\n",
       "  discourse_effectiveness  Ineffective_0  Adequate_0  Effective_0  label  \\\n",
       "0                Adequate       0.004596    0.128424     0.009837      1   \n",
       "1                Adequate       0.014678    0.126776     0.001403      1   \n",
       "2                Adequate       0.039009    0.103240     0.000608      1   \n",
       "3                Adequate       0.029824    0.111454     0.001580      1   \n",
       "4                Adequate       0.044976    0.097321     0.000560      1   \n",
       "\n",
       "       loss  ...  Effective_2  Ineffective_3  Adequate_3  Effective_3  \\\n",
       "0  0.106507  ...     0.019735       0.009225    0.264238     0.012251   \n",
       "1  0.119425  ...     0.007895       0.014992    0.263233     0.007489   \n",
       "2  0.324790  ...     0.003183       0.072405    0.210553     0.002757   \n",
       "3  0.248233  ...     0.002466       0.068198    0.214155     0.003361   \n",
       "4  0.383832  ...     0.001205       0.098344    0.185625     0.001745   \n",
       "\n",
       "   Ineffective_4  Adequate_4  Effective_4  Ineffective  Adequate  Effective  \n",
       "0       0.001000    0.116014     0.025843     0.005753  0.179938   0.014309  \n",
       "1       0.010160    0.126896     0.005801     0.012774  0.182200   0.005025  \n",
       "2       0.010405    0.127156     0.005296     0.038410  0.159011   0.002580  \n",
       "3       0.036436    0.102802     0.003619     0.051634  0.145836   0.002530  \n",
       "4       0.023646    0.115180     0.004031     0.059501  0.138864   0.001635  \n",
       "\n",
       "[5 rows x 25 columns]"
      ]
     },
     "execution_count": 1,
     "metadata": {},
     "output_type": "execute_result"
    }
   ],
   "source": [
    "import pandas as pd\n",
    "\n",
    "train_df = pd.read_csv('../../input/feedback-prize-effectiveness/train.csv')\n",
    "stack_df = pd.read_csv('../../99_Ensemble/99_v1_02/result/stack_99_v1_02_06.csv')\n",
    "\n",
    "train_df = train_df[['discourse_id']].merge(stack_df, on='discourse_id', how='left')\n",
    "print(train_df.shape)\n",
    "train_df.head()"
   ]
  },
  {
   "cell_type": "markdown",
   "metadata": {},
   "source": [
    "# Features"
   ]
  },
  {
   "cell_type": "markdown",
   "metadata": {},
   "source": [
    "# Data Split"
   ]
  },
  {
   "cell_type": "code",
   "execution_count": 2,
   "metadata": {},
   "outputs": [
    {
     "name": "stdout",
     "output_type": "stream",
     "text": [
      "load folds...\n"
     ]
    }
   ],
   "source": [
    "from os.path import join as opj\n",
    "\n",
    "class args:\n",
    "    fold_path = '../../00_EDA/00_v2_07/result/'\n",
    "    num_fold = 5\n",
    "    \n",
    "fold_path = args.fold_path\n",
    "import joblib\n",
    "print('load folds...')\n",
    "trn_ids_list = joblib.load(opj(fold_path,f'trn_ids_list.joblib'))\n",
    "val_ids_list = joblib.load(opj(fold_path,f'val_ids_list.joblib'))"
   ]
  },
  {
   "cell_type": "markdown",
   "metadata": {},
   "source": [
    "# Stacking"
   ]
  },
  {
   "cell_type": "code",
   "execution_count": 3,
   "metadata": {},
   "outputs": [],
   "source": [
    "import matplotlib.pyplot as plt\n",
    "\n",
    "def show_feature_importance(model):\n",
    "    feature_importance = model.get_feature_importance()\n",
    "    fi_df = pd.DataFrame({'importance':feature_importance, 'features':cols})\n",
    "    fi_df = fi_df.sort_values('importance', ascending=True)\n",
    "\n",
    "    plt.figure(figsize=(12, 6))\n",
    "    plt.barh(range(len(fi_df)),\n",
    "            fi_df['importance'].values,\n",
    "            tick_label=fi_df['features'].values)\n",
    "    plt.xlabel('importance')\n",
    "    plt.ylabel('features')\n",
    "    plt.grid()\n",
    "    plt.show()"
   ]
  },
  {
   "cell_type": "code",
   "execution_count": 4,
   "metadata": {},
   "outputs": [],
   "source": [
    "from sklearn.preprocessing import LabelEncoder\n",
    "le = LabelEncoder()\n",
    "train_df['discourse_type_label'] = le.fit_transform(train_df['discourse_type'])"
   ]
  },
  {
   "cell_type": "code",
   "execution_count": 5,
   "metadata": {},
   "outputs": [
    {
     "data": {
      "text/plain": [
       "5"
      ]
     },
     "execution_count": 5,
     "metadata": {},
     "output_type": "execute_result"
    }
   ],
   "source": [
    "cols = []\n",
    "for col_name in ['Ineffective','Adequate','Effective']:\n",
    "    cols += [col for col in train_df.columns if (col.startswith(col_name) and '_' in col)] \n",
    "    \n",
    "num_models = len(cols) // 3\n",
    "num_models"
   ]
  },
  {
   "cell_type": "code",
   "execution_count": 7,
   "metadata": {},
   "outputs": [],
   "source": [
    "import catboost\n",
    "params = {\n",
    "    'random_state':45, \n",
    "    'n_estimators':20000,\n",
    "    'loss_function':'MultiClass',\n",
    "    #'eval_metric':'MultiClass'\n",
    "}"
   ]
  },
  {
   "cell_type": "code",
   "execution_count": 8,
   "metadata": {
    "scrolled": false
   },
   "outputs": [
    {
     "name": "stdout",
     "output_type": "stream",
     "text": [
      "fold0 : CV=0.5805\n"
     ]
    },
    {
     "data": {
      "image/png": "[encoded data removed]",
      "text/plain": [
       "<Figure size 864x432 with 1 Axes>"
      ]
     },
     "metadata": {
      "needs_background": "light"
     },
     "output_type": "display_data"
    },
    {
     "name": "stdout",
     "output_type": "stream",
     "text": [
      "fold1 : CV=0.5968\n"
     ]
    },
    {
     "data": {
      "image/png": "[encoded data removed]",
      "text/plain": [
       "<Figure size 864x432 with 1 Axes>"
      ]
     },
     "metadata": {
      "needs_background": "light"
     },
     "output_type": "display_data"
    },
    {
     "name": "stdout",
     "output_type": "stream",
     "text": [
      "fold2 : CV=0.5791\n"
     ]
    },
    {
     "data": {
      "image/png": "[encoded data removed]",
      "text/plain": [
       "<Figure size 864x432 with 1 Axes>"
      ]
     },
     "metadata": {
      "needs_background": "light"
     },
     "output_type": "display_data"
    },
    {
     "name": "stdout",
     "output_type": "stream",
     "text": [
      "fold3 : CV=0.6028\n"
     ]
    },
    {
     "data": {
      "image/png": "[encoded data removed]",
      "text/plain": [
       "<Figure size 864x432 with 1 Axes>"
      ]
     },
     "metadata": {
      "needs_background": "light"
     },
     "output_type": "display_data"
    },
    {
     "name": "stdout",
     "output_type": "stream",
     "text": [
      "fold4 : CV=0.5907\n"
     ]
    },
    {
     "data": {
      "image/png": "[encoded data removed]",
      "text/plain": [
       "<Figure size 864x432 with 1 Axes>"
      ]
     },
     "metadata": {
      "needs_background": "light"
     },
     "output_type": "display_data"
    },
    {
     "name": "stdout",
     "output_type": "stream",
     "text": [
      "CV=0.5900\n"
     ]
    }
   ],
   "source": [
    "from sklearn.metrics import log_loss\n",
    "import pickle\n",
    "import os\n",
    "os.makedirs('./result', exist_ok=True)\n",
    "\n",
    "cols = cols + ['discourse_type_label']\n",
    "\n",
    "score_list = []\n",
    "oof_df = []\n",
    "for fold in range(args.num_fold):\n",
    "    trn_df = train_df[train_df['essay_id'].isin(trn_ids_list[fold])].reset_index(drop=True)\n",
    "    val_df = train_df[train_df['essay_id'].isin(val_ids_list[fold])].reset_index(drop=True)\n",
    "\n",
    "    model = catboost.CatBoostClassifier(**params)\n",
    "    model.fit(trn_df[cols].values, \n",
    "              trn_df['label'].values ,\n",
    "              eval_set=[(val_df[cols].values, val_df['label'].values)], \n",
    "              verbose=0, \n",
    "              early_stopping_rounds=100,\n",
    "              #cat_features=[num_models]\n",
    "             )\n",
    "\n",
    "    pred = model.predict(val_df[cols].values, prediction_type='Probability')\n",
    "    target = val_df['label'].values\n",
    "    score = log_loss(target, pred, labels=[0,1,2])\n",
    "    print('fold{} : CV={:.4f}'.format(fold, score))\n",
    "    score_list.append(score)\n",
    "    val_df['oof_ineffective'] = pred[:,0]\n",
    "    val_df['oof_adequate'] = pred[:,1]\n",
    "    val_df['oof_effective'] = pred[:,2]\n",
    "    oof_df.append(val_df)\n",
    "    # save model\n",
    "    joblib.dump(model, f'./result/cat_fold{fold}.joblib')\n",
    "    # plot\n",
    "    show_feature_importance(model)\n",
    "    \n",
    "CV = sum(score_list) / len(score_list)\n",
    "print('CV={:.4f}'.format(CV))"
   ]
  },
  {
   "cell_type": "code",
   "execution_count": null,
   "metadata": {},
   "outputs": [],
   "source": []
  },
  {
   "cell_type": "code",
   "execution_count": 11,
   "metadata": {},
   "outputs": [
    {
     "data": {
      "text/plain": [
       "['./result/label_encoder.joblib']"
      ]
     },
     "execution_count": 11,
     "metadata": {},
     "output_type": "execute_result"
    }
   ],
   "source": [
    "joblib.dump(le, f'./result/label_encoder.joblib')"
   ]
  },
  {
   "cell_type": "code",
   "execution_count": 9,
   "metadata": {},
   "outputs": [
    {
     "name": "stdout",
     "output_type": "stream",
     "text": [
      "(36765, 29)\n"
     ]
    },
    {
     "data": {
      "text/html": [
       "<div>\n",
       "<style scoped>\n",
       "    .dataframe tbody tr th:only-of-type {\n",
       "        vertical-align: middle;\n",
       "    }\n",
       "\n",
       "    .dataframe tbody tr th {\n",
       "        vertical-align: top;\n",
       "    }\n",
       "\n",
       "    .dataframe thead th {\n",
       "        text-align: right;\n",
       "    }\n",
       "</style>\n",
       "<table border=\"1\" class=\"dataframe\">\n",
       "  <thead>\n",
       "    <tr style=\"text-align: right;\">\n",
       "      <th></th>\n",
       "      <th>discourse_id</th>\n",
       "      <th>essay_id</th>\n",
       "      <th>discourse_text</th>\n",
       "      <th>discourse_type</th>\n",
       "      <th>discourse_effectiveness</th>\n",
       "      <th>Ineffective_0</th>\n",
       "      <th>Adequate_0</th>\n",
       "      <th>Effective_0</th>\n",
       "      <th>label</th>\n",
       "      <th>loss</th>\n",
       "      <th>...</th>\n",
       "      <th>Ineffective_4</th>\n",
       "      <th>Adequate_4</th>\n",
       "      <th>Effective_4</th>\n",
       "      <th>Ineffective</th>\n",
       "      <th>Adequate</th>\n",
       "      <th>Effective</th>\n",
       "      <th>discourse_type_label</th>\n",
       "      <th>oof_ineffective</th>\n",
       "      <th>oof_adequate</th>\n",
       "      <th>oof_effective</th>\n",
       "    </tr>\n",
       "  </thead>\n",
       "  <tbody>\n",
       "    <tr>\n",
       "      <th>0</th>\n",
       "      <td>0013cc385424</td>\n",
       "      <td>007ACE74B050</td>\n",
       "      <td>Hi, i'm Isaac, i'm going to be writing about h...</td>\n",
       "      <td>Lead</td>\n",
       "      <td>Adequate</td>\n",
       "      <td>0.004596</td>\n",
       "      <td>0.128424</td>\n",
       "      <td>0.009837</td>\n",
       "      <td>1</td>\n",
       "      <td>0.106507</td>\n",
       "      <td>...</td>\n",
       "      <td>0.001000</td>\n",
       "      <td>0.116014</td>\n",
       "      <td>0.025843</td>\n",
       "      <td>0.005753</td>\n",
       "      <td>0.179938</td>\n",
       "      <td>0.014309</td>\n",
       "      <td>4</td>\n",
       "      <td>0.033619</td>\n",
       "      <td>0.878421</td>\n",
       "      <td>0.087960</td>\n",
       "    </tr>\n",
       "    <tr>\n",
       "      <th>1</th>\n",
       "      <td>9704a709b505</td>\n",
       "      <td>007ACE74B050</td>\n",
       "      <td>On my perspective, I think that the face is a ...</td>\n",
       "      <td>Position</td>\n",
       "      <td>Adequate</td>\n",
       "      <td>0.014678</td>\n",
       "      <td>0.126776</td>\n",
       "      <td>0.001403</td>\n",
       "      <td>1</td>\n",
       "      <td>0.119425</td>\n",
       "      <td>...</td>\n",
       "      <td>0.010160</td>\n",
       "      <td>0.126896</td>\n",
       "      <td>0.005801</td>\n",
       "      <td>0.012774</td>\n",
       "      <td>0.182200</td>\n",
       "      <td>0.005025</td>\n",
       "      <td>5</td>\n",
       "      <td>0.084950</td>\n",
       "      <td>0.882559</td>\n",
       "      <td>0.032491</td>\n",
       "    </tr>\n",
       "    <tr>\n",
       "      <th>2</th>\n",
       "      <td>c22adee811b6</td>\n",
       "      <td>007ACE74B050</td>\n",
       "      <td>I think that the face is a natural landform be...</td>\n",
       "      <td>Claim</td>\n",
       "      <td>Adequate</td>\n",
       "      <td>0.039009</td>\n",
       "      <td>0.103240</td>\n",
       "      <td>0.000608</td>\n",
       "      <td>1</td>\n",
       "      <td>0.324790</td>\n",
       "      <td>...</td>\n",
       "      <td>0.010405</td>\n",
       "      <td>0.127156</td>\n",
       "      <td>0.005296</td>\n",
       "      <td>0.038410</td>\n",
       "      <td>0.159011</td>\n",
       "      <td>0.002580</td>\n",
       "      <td>0</td>\n",
       "      <td>0.220201</td>\n",
       "      <td>0.767598</td>\n",
       "      <td>0.012201</td>\n",
       "    </tr>\n",
       "    <tr>\n",
       "      <th>3</th>\n",
       "      <td>a10d361e54e4</td>\n",
       "      <td>007ACE74B050</td>\n",
       "      <td>If life was on Mars, we would know by now. The...</td>\n",
       "      <td>Evidence</td>\n",
       "      <td>Adequate</td>\n",
       "      <td>0.029824</td>\n",
       "      <td>0.111454</td>\n",
       "      <td>0.001580</td>\n",
       "      <td>1</td>\n",
       "      <td>0.248233</td>\n",
       "      <td>...</td>\n",
       "      <td>0.036436</td>\n",
       "      <td>0.102802</td>\n",
       "      <td>0.003619</td>\n",
       "      <td>0.051634</td>\n",
       "      <td>0.145836</td>\n",
       "      <td>0.002530</td>\n",
       "      <td>3</td>\n",
       "      <td>0.323940</td>\n",
       "      <td>0.664285</td>\n",
       "      <td>0.011774</td>\n",
       "    </tr>\n",
       "    <tr>\n",
       "      <th>4</th>\n",
       "      <td>db3e453ec4e2</td>\n",
       "      <td>007ACE74B050</td>\n",
       "      <td>People thought that the face was formed by ali...</td>\n",
       "      <td>Counterclaim</td>\n",
       "      <td>Adequate</td>\n",
       "      <td>0.044976</td>\n",
       "      <td>0.097321</td>\n",
       "      <td>0.000560</td>\n",
       "      <td>1</td>\n",
       "      <td>0.383832</td>\n",
       "      <td>...</td>\n",
       "      <td>0.023646</td>\n",
       "      <td>0.115180</td>\n",
       "      <td>0.004031</td>\n",
       "      <td>0.059501</td>\n",
       "      <td>0.138864</td>\n",
       "      <td>0.001635</td>\n",
       "      <td>2</td>\n",
       "      <td>0.321644</td>\n",
       "      <td>0.673718</td>\n",
       "      <td>0.004638</td>\n",
       "    </tr>\n",
       "  </tbody>\n",
       "</table>\n",
       "<p>5 rows × 29 columns</p>\n",
       "</div>"
      ],
      "text/plain": [
       "   discourse_id      essay_id  \\\n",
       "0  0013cc385424  007ACE74B050   \n",
       "1  9704a709b505  007ACE74B050   \n",
       "2  c22adee811b6  007ACE74B050   \n",
       "3  a10d361e54e4  007ACE74B050   \n",
       "4  db3e453ec4e2  007ACE74B050   \n",
       "\n",
       "                                      discourse_text discourse_type  \\\n",
       "0  Hi, i'm Isaac, i'm going to be writing about h...           Lead   \n",
       "1  On my perspective, I think that the face is a ...       Position   \n",
       "2  I think that the face is a natural landform be...          Claim   \n",
       "3  If life was on Mars, we would know by now. The...       Evidence   \n",
       "4  People thought that the face was formed by ali...   Counterclaim   \n",
       "\n",
       "  discourse_effectiveness  Ineffective_0  Adequate_0  Effective_0  label  \\\n",
       "0                Adequate       0.004596    0.128424     0.009837      1   \n",
       "1                Adequate       0.014678    0.126776     0.001403      1   \n",
       "2                Adequate       0.039009    0.103240     0.000608      1   \n",
       "3                Adequate       0.029824    0.111454     0.001580      1   \n",
       "4                Adequate       0.044976    0.097321     0.000560      1   \n",
       "\n",
       "       loss  ...  Ineffective_4  Adequate_4  Effective_4  Ineffective  \\\n",
       "0  0.106507  ...       0.001000    0.116014     0.025843     0.005753   \n",
       "1  0.119425  ...       0.010160    0.126896     0.005801     0.012774   \n",
       "2  0.324790  ...       0.010405    0.127156     0.005296     0.038410   \n",
       "3  0.248233  ...       0.036436    0.102802     0.003619     0.051634   \n",
       "4  0.383832  ...       0.023646    0.115180     0.004031     0.059501   \n",
       "\n",
       "   Adequate  Effective  discourse_type_label  oof_ineffective  oof_adequate  \\\n",
       "0  0.179938   0.014309                     4         0.033619      0.878421   \n",
       "1  0.182200   0.005025                     5         0.084950      0.882559   \n",
       "2  0.159011   0.002580                     0         0.220201      0.767598   \n",
       "3  0.145836   0.002530                     3         0.323940      0.664285   \n",
       "4  0.138864   0.001635                     2         0.321644      0.673718   \n",
       "\n",
       "   oof_effective  \n",
       "0       0.087960  \n",
       "1       0.032491  \n",
       "2       0.012201  \n",
       "3       0.011774  \n",
       "4       0.004638  \n",
       "\n",
       "[5 rows x 29 columns]"
      ]
     },
     "execution_count": 9,
     "metadata": {},
     "output_type": "execute_result"
    }
   ],
   "source": [
    "oof_df = pd.concat(oof_df).reset_index(drop=True)\n",
    "oof_df = train_df[['discourse_id']].merge(oof_df, on='discourse_id', how='left')\n",
    "oof_df.to_csv(f'./result/oof_cat.csv', index=False)\n",
    "print(oof_df.shape)\n",
    "oof_df.head()"
   ]
  },
  {
   "cell_type": "code",
   "execution_count": 10,
   "metadata": {},
   "outputs": [
    {
     "name": "stdout",
     "output_type": "stream",
     "text": [
      "oof=0.5901\n"
     ]
    }
   ],
   "source": [
    "cols = [col for col in oof_df.columns if col.startswith('oof_')]\n",
    "\n",
    "oof_score = log_loss(oof_df['label'].values, oof_df[cols].values, labels=[0,1,2])\n",
    "print('oof={:.4f}'.format(oof_score))"
   ]
  },
  {
   "cell_type": "code",
   "execution_count": null,
   "metadata": {},
   "outputs": [],
   "source": []
  }
 ],
 "metadata": {
  "kernelspec": {
   "display_name": "Python 3",
   "language": "python",
   "name": "python3"
  },
  "language_info": {
   "codemirror_mode": {
    "name": "ipython",
    "version": 3
   },
   "file_extension": ".py",
   "mimetype": "text/x-python",
   "name": "python",
   "nbconvert_exporter": "python",
   "pygments_lexer": "ipython3",
   "version": "3.7.8"
  }
 },
 "nbformat": 4,
 "nbformat_minor": 4
}
