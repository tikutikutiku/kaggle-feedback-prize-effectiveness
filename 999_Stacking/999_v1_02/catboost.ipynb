{
 "cells": [
  {
   "cell_type": "markdown",
   "metadata": {},
   "source": [
    "# Import Data"
   ]
  },
  {
   "cell_type": "code",
   "execution_count": 1,
   "metadata": {},
   "outputs": [
    {
     "name": "stdout",
     "output_type": "stream",
     "text": [
      "(36765, 25)\n"
     ]
    },
    {
     "data": {
      "text/html": [
       "<div>\n",
       "<style scoped>\n",
       "    .dataframe tbody tr th:only-of-type {\n",
       "        vertical-align: middle;\n",
       "    }\n",
       "\n",
       "    .dataframe tbody tr th {\n",
       "        vertical-align: top;\n",
       "    }\n",
       "\n",
       "    .dataframe thead th {\n",
       "        text-align: right;\n",
       "    }\n",
       "</style>\n",
       "<table border=\"1\" class=\"dataframe\">\n",
       "  <thead>\n",
       "    <tr style=\"text-align: right;\">\n",
       "      <th></th>\n",
       "      <th>discourse_id</th>\n",
       "      <th>essay_id</th>\n",
       "      <th>discourse_text</th>\n",
       "      <th>discourse_type</th>\n",
       "      <th>discourse_effectiveness</th>\n",
       "      <th>Ineffective_0</th>\n",
       "      <th>Adequate_0</th>\n",
       "      <th>Effective_0</th>\n",
       "      <th>label</th>\n",
       "      <th>loss</th>\n",
       "      <th>...</th>\n",
       "      <th>Effective_2</th>\n",
       "      <th>Ineffective_3</th>\n",
       "      <th>Adequate_3</th>\n",
       "      <th>Effective_3</th>\n",
       "      <th>Ineffective_4</th>\n",
       "      <th>Adequate_4</th>\n",
       "      <th>Effective_4</th>\n",
       "      <th>Ineffective</th>\n",
       "      <th>Adequate</th>\n",
       "      <th>Effective</th>\n",
       "    </tr>\n",
       "  </thead>\n",
       "  <tbody>\n",
       "    <tr>\n",
       "      <th>0</th>\n",
       "      <td>0013cc385424</td>\n",
       "      <td>007ACE74B050</td>\n",
       "      <td>Hi, i'm Isaac, i'm going to be writing about h...</td>\n",
       "      <td>Lead</td>\n",
       "      <td>Adequate</td>\n",
       "      <td>0.002610</td>\n",
       "      <td>0.183576</td>\n",
       "      <td>0.013815</td>\n",
       "      <td>1</td>\n",
       "      <td>0.085691</td>\n",
       "      <td>...</td>\n",
       "      <td>0.008075</td>\n",
       "      <td>0.002195</td>\n",
       "      <td>0.193195</td>\n",
       "      <td>0.004610</td>\n",
       "      <td>0.015633</td>\n",
       "      <td>0.179762</td>\n",
       "      <td>0.004605</td>\n",
       "      <td>0.037435</td>\n",
       "      <td>0.922885</td>\n",
       "      <td>0.039680</td>\n",
       "    </tr>\n",
       "    <tr>\n",
       "      <th>1</th>\n",
       "      <td>9704a709b505</td>\n",
       "      <td>007ACE74B050</td>\n",
       "      <td>On my perspective, I think that the face is a ...</td>\n",
       "      <td>Position</td>\n",
       "      <td>Adequate</td>\n",
       "      <td>0.011199</td>\n",
       "      <td>0.183275</td>\n",
       "      <td>0.005526</td>\n",
       "      <td>1</td>\n",
       "      <td>0.087332</td>\n",
       "      <td>...</td>\n",
       "      <td>0.005189</td>\n",
       "      <td>0.023476</td>\n",
       "      <td>0.168711</td>\n",
       "      <td>0.007814</td>\n",
       "      <td>0.010395</td>\n",
       "      <td>0.185975</td>\n",
       "      <td>0.003630</td>\n",
       "      <td>0.078403</td>\n",
       "      <td>0.894195</td>\n",
       "      <td>0.027401</td>\n",
       "    </tr>\n",
       "    <tr>\n",
       "      <th>2</th>\n",
       "      <td>c22adee811b6</td>\n",
       "      <td>007ACE74B050</td>\n",
       "      <td>I think that the face is a natural landform be...</td>\n",
       "      <td>Claim</td>\n",
       "      <td>Adequate</td>\n",
       "      <td>0.028142</td>\n",
       "      <td>0.169630</td>\n",
       "      <td>0.002228</td>\n",
       "      <td>1</td>\n",
       "      <td>0.164698</td>\n",
       "      <td>...</td>\n",
       "      <td>0.003615</td>\n",
       "      <td>0.010394</td>\n",
       "      <td>0.183001</td>\n",
       "      <td>0.006605</td>\n",
       "      <td>0.035390</td>\n",
       "      <td>0.163083</td>\n",
       "      <td>0.001527</td>\n",
       "      <td>0.148400</td>\n",
       "      <td>0.835695</td>\n",
       "      <td>0.015905</td>\n",
       "    </tr>\n",
       "    <tr>\n",
       "      <th>3</th>\n",
       "      <td>a10d361e54e4</td>\n",
       "      <td>007ACE74B050</td>\n",
       "      <td>If life was on Mars, we would know by now. The...</td>\n",
       "      <td>Evidence</td>\n",
       "      <td>Adequate</td>\n",
       "      <td>0.066880</td>\n",
       "      <td>0.131394</td>\n",
       "      <td>0.001727</td>\n",
       "      <td>1</td>\n",
       "      <td>0.420119</td>\n",
       "      <td>...</td>\n",
       "      <td>0.002774</td>\n",
       "      <td>0.025666</td>\n",
       "      <td>0.171699</td>\n",
       "      <td>0.002635</td>\n",
       "      <td>0.039214</td>\n",
       "      <td>0.159075</td>\n",
       "      <td>0.001711</td>\n",
       "      <td>0.216103</td>\n",
       "      <td>0.772698</td>\n",
       "      <td>0.011199</td>\n",
       "    </tr>\n",
       "    <tr>\n",
       "      <th>4</th>\n",
       "      <td>db3e453ec4e2</td>\n",
       "      <td>007ACE74B050</td>\n",
       "      <td>People thought that the face was formed by ali...</td>\n",
       "      <td>Counterclaim</td>\n",
       "      <td>Adequate</td>\n",
       "      <td>0.049548</td>\n",
       "      <td>0.149608</td>\n",
       "      <td>0.000844</td>\n",
       "      <td>1</td>\n",
       "      <td>0.290297</td>\n",
       "      <td>...</td>\n",
       "      <td>0.002079</td>\n",
       "      <td>0.045025</td>\n",
       "      <td>0.152621</td>\n",
       "      <td>0.002354</td>\n",
       "      <td>0.065161</td>\n",
       "      <td>0.133572</td>\n",
       "      <td>0.001267</td>\n",
       "      <td>0.295933</td>\n",
       "      <td>0.696302</td>\n",
       "      <td>0.007765</td>\n",
       "    </tr>\n",
       "  </tbody>\n",
       "</table>\n",
       "<p>5 rows × 25 columns</p>\n",
       "</div>"
      ],
      "text/plain": [
       "   discourse_id      essay_id  \\\n",
       "0  0013cc385424  007ACE74B050   \n",
       "1  9704a709b505  007ACE74B050   \n",
       "2  c22adee811b6  007ACE74B050   \n",
       "3  a10d361e54e4  007ACE74B050   \n",
       "4  db3e453ec4e2  007ACE74B050   \n",
       "\n",
       "                                      discourse_text discourse_type  \\\n",
       "0  Hi, i'm Isaac, i'm going to be writing about h...           Lead   \n",
       "1  On my perspective, I think that the face is a ...       Position   \n",
       "2  I think that the face is a natural landform be...          Claim   \n",
       "3  If life was on Mars, we would know by now. The...       Evidence   \n",
       "4  People thought that the face was formed by ali...   Counterclaim   \n",
       "\n",
       "  discourse_effectiveness  Ineffective_0  Adequate_0  Effective_0  label  \\\n",
       "0                Adequate       0.002610    0.183576     0.013815      1   \n",
       "1                Adequate       0.011199    0.183275     0.005526      1   \n",
       "2                Adequate       0.028142    0.169630     0.002228      1   \n",
       "3                Adequate       0.066880    0.131394     0.001727      1   \n",
       "4                Adequate       0.049548    0.149608     0.000844      1   \n",
       "\n",
       "       loss  ...  Effective_2  Ineffective_3  Adequate_3  Effective_3  \\\n",
       "0  0.085691  ...     0.008075       0.002195    0.193195     0.004610   \n",
       "1  0.087332  ...     0.005189       0.023476    0.168711     0.007814   \n",
       "2  0.164698  ...     0.003615       0.010394    0.183001     0.006605   \n",
       "3  0.420119  ...     0.002774       0.025666    0.171699     0.002635   \n",
       "4  0.290297  ...     0.002079       0.045025    0.152621     0.002354   \n",
       "\n",
       "   Ineffective_4  Adequate_4  Effective_4  Ineffective  Adequate  Effective  \n",
       "0       0.015633    0.179762     0.004605     0.037435  0.922885   0.039680  \n",
       "1       0.010395    0.185975     0.003630     0.078403  0.894195   0.027401  \n",
       "2       0.035390    0.163083     0.001527     0.148400  0.835695   0.015905  \n",
       "3       0.039214    0.159075     0.001711     0.216103  0.772698   0.011199  \n",
       "4       0.065161    0.133572     0.001267     0.295933  0.696302   0.007765  \n",
       "\n",
       "[5 rows x 25 columns]"
      ]
     },
     "execution_count": 1,
     "metadata": {},
     "output_type": "execute_result"
    }
   ],
   "source": [
    "import pandas as pd\n",
    "\n",
    "train_df = pd.read_csv('../../input/feedback-prize-effectiveness/train.csv')\n",
    "stack_df = pd.read_csv('../../99_Ensemble/99_v1_02/result/stack_99_v1_02_22.csv')\n",
    "\n",
    "train_df = train_df[['discourse_id']].merge(stack_df, on='discourse_id', how='left')\n",
    "print(train_df.shape)\n",
    "train_df.head()"
   ]
  },
  {
   "cell_type": "markdown",
   "metadata": {},
   "source": [
    "# Features"
   ]
  },
  {
   "cell_type": "markdown",
   "metadata": {},
   "source": [
    "# Data Split"
   ]
  },
  {
   "cell_type": "code",
   "execution_count": 2,
   "metadata": {},
   "outputs": [
    {
     "name": "stdout",
     "output_type": "stream",
     "text": [
      "load folds...\n"
     ]
    }
   ],
   "source": [
    "from os.path import join as opj\n",
    "\n",
    "class args:\n",
    "    fold_path = '../../00_EDA/00_v2_07/result/'\n",
    "    num_fold = 5\n",
    "    \n",
    "fold_path = args.fold_path\n",
    "import joblib\n",
    "print('load folds...')\n",
    "trn_ids_list = joblib.load(opj(fold_path,f'trn_ids_list.joblib'))\n",
    "val_ids_list = joblib.load(opj(fold_path,f'val_ids_list.joblib'))"
   ]
  },
  {
   "cell_type": "markdown",
   "metadata": {},
   "source": [
    "# Stacking"
   ]
  },
  {
   "cell_type": "code",
   "execution_count": 3,
   "metadata": {},
   "outputs": [],
   "source": [
    "import matplotlib.pyplot as plt\n",
    "\n",
    "def show_feature_importance(model):\n",
    "    feature_importance = model.get_feature_importance()\n",
    "    fi_df = pd.DataFrame({'importance':feature_importance, 'features':cols})\n",
    "    fi_df = fi_df.sort_values('importance', ascending=True)\n",
    "\n",
    "    plt.figure(figsize=(12, 6))\n",
    "    plt.barh(range(len(fi_df)),\n",
    "            fi_df['importance'].values,\n",
    "            tick_label=fi_df['features'].values)\n",
    "    plt.xlabel('importance')\n",
    "    plt.ylabel('features')\n",
    "    plt.grid()\n",
    "    plt.show()"
   ]
  },
  {
   "cell_type": "code",
   "execution_count": 4,
   "metadata": {},
   "outputs": [
    {
     "data": {
      "text/plain": [
       "5"
      ]
     },
     "execution_count": 4,
     "metadata": {},
     "output_type": "execute_result"
    }
   ],
   "source": [
    "cols = []\n",
    "for col_name in ['Ineffective','Adequate','Effective']:\n",
    "    cols += [col for col in train_df.columns if (col.startswith(col_name) and '_' in col)] \n",
    "    \n",
    "num_models = len(cols) // 3\n",
    "num_models"
   ]
  },
  {
   "cell_type": "code",
   "execution_count": 5,
   "metadata": {},
   "outputs": [],
   "source": [
    "import catboost\n",
    "params = {\n",
    "    'random_state':45, \n",
    "    'n_estimators':20000,\n",
    "    'loss_function':'MultiClass',\n",
    "    #'eval_metric':'MultiClass'\n",
    "}"
   ]
  },
  {
   "cell_type": "code",
   "execution_count": 6,
   "metadata": {
    "scrolled": false
   },
   "outputs": [
    {
     "name": "stdout",
     "output_type": "stream",
     "text": [
      "fold0 : CV=0.5725\n"
     ]
    },
    {
     "data": {
      "image/png": "[encoded data removed]",
      "text/plain": [
       "<Figure size 864x432 with 1 Axes>"
      ]
     },
     "metadata": {
      "needs_background": "light"
     },
     "output_type": "display_data"
    },
    {
     "name": "stdout",
     "output_type": "stream",
     "text": [
      "fold1 : CV=0.5868\n"
     ]
    },
    {
     "data": {
      "image/png": "[encoded data removed]",
      "text/plain": [
       "<Figure size 864x432 with 1 Axes>"
      ]
     },
     "metadata": {
      "needs_background": "light"
     },
     "output_type": "display_data"
    },
    {
     "name": "stdout",
     "output_type": "stream",
     "text": [
      "fold2 : CV=0.5718\n"
     ]
    },
    {
     "data": {
      "image/png": "[encoded data removed]",
      "text/plain": [
       "<Figure size 864x432 with 1 Axes>"
      ]
     },
     "metadata": {
      "needs_background": "light"
     },
     "output_type": "display_data"
    },
    {
     "name": "stdout",
     "output_type": "stream",
     "text": [
      "fold3 : CV=0.5907\n"
     ]
    },
    {
     "data": {
      "image/png": "[encoded data removed]",
      "text/plain": [
       "<Figure size 864x432 with 1 Axes>"
      ]
     },
     "metadata": {
      "needs_background": "light"
     },
     "output_type": "display_data"
    },
    {
     "name": "stdout",
     "output_type": "stream",
     "text": [
      "fold4 : CV=0.5805\n"
     ]
    },
    {
     "data": {
      "image/png": "[encoded data removed]",
      "text/plain": [
       "<Figure size 864x432 with 1 Axes>"
      ]
     },
     "metadata": {
      "needs_background": "light"
     },
     "output_type": "display_data"
    },
    {
     "name": "stdout",
     "output_type": "stream",
     "text": [
      "CV=0.5805\n"
     ]
    }
   ],
   "source": [
    "from sklearn.metrics import log_loss\n",
    "import pickle\n",
    "import os\n",
    "os.makedirs('./result', exist_ok=True)\n",
    "\n",
    "cols = ['discourse_type'] + cols\n",
    "cat_features = [0]\n",
    "\n",
    "score_list = []\n",
    "oof_df = []\n",
    "for fold in range(args.num_fold):\n",
    "    trn_df = train_df[train_df['essay_id'].isin(trn_ids_list[fold])].reset_index(drop=True)\n",
    "    val_df = train_df[train_df['essay_id'].isin(val_ids_list[fold])].reset_index(drop=True)\n",
    "\n",
    "    pool_trn = catboost.Pool(trn_df[cols].values, label=trn_df['label'].values, cat_features=cat_features)\n",
    "    pool_val = catboost.Pool(val_df[cols].values, label=val_df['label'].values, cat_features=cat_features)\n",
    "\n",
    "    model = catboost.CatBoostClassifier(**params)\n",
    "    model.fit(pool_trn, \n",
    "              eval_set=[pool_val], \n",
    "              verbose=0, \n",
    "              early_stopping_rounds=100,\n",
    "             )\n",
    "\n",
    "    pred = model.predict(pool_val, prediction_type='Probability')\n",
    "    target = val_df['label'].values\n",
    "    score = log_loss(target, pred, labels=[0,1,2])\n",
    "    print('fold{} : CV={:.4f}'.format(fold, score))\n",
    "    score_list.append(score)\n",
    "    val_df['oof_ineffective'] = pred[:,0]\n",
    "    val_df['oof_adequate'] = pred[:,1]\n",
    "    val_df['oof_effective'] = pred[:,2]\n",
    "    oof_df.append(val_df)\n",
    "    # save model\n",
    "    joblib.dump(model, f'./result/cat_fold{fold}.joblib')\n",
    "    # plot\n",
    "    show_feature_importance(model)\n",
    "    \n",
    "CV = sum(score_list) / len(score_list)\n",
    "print('CV={:.4f}'.format(CV))"
   ]
  },
  {
   "cell_type": "code",
   "execution_count": 7,
   "metadata": {},
   "outputs": [
    {
     "name": "stdout",
     "output_type": "stream",
     "text": [
      "(36765, 28)\n"
     ]
    },
    {
     "data": {
      "text/html": [
       "<div>\n",
       "<style scoped>\n",
       "    .dataframe tbody tr th:only-of-type {\n",
       "        vertical-align: middle;\n",
       "    }\n",
       "\n",
       "    .dataframe tbody tr th {\n",
       "        vertical-align: top;\n",
       "    }\n",
       "\n",
       "    .dataframe thead th {\n",
       "        text-align: right;\n",
       "    }\n",
       "</style>\n",
       "<table border=\"1\" class=\"dataframe\">\n",
       "  <thead>\n",
       "    <tr style=\"text-align: right;\">\n",
       "      <th></th>\n",
       "      <th>discourse_id</th>\n",
       "      <th>essay_id</th>\n",
       "      <th>discourse_text</th>\n",
       "      <th>discourse_type</th>\n",
       "      <th>discourse_effectiveness</th>\n",
       "      <th>Ineffective_0</th>\n",
       "      <th>Adequate_0</th>\n",
       "      <th>Effective_0</th>\n",
       "      <th>label</th>\n",
       "      <th>loss</th>\n",
       "      <th>...</th>\n",
       "      <th>Effective_3</th>\n",
       "      <th>Ineffective_4</th>\n",
       "      <th>Adequate_4</th>\n",
       "      <th>Effective_4</th>\n",
       "      <th>Ineffective</th>\n",
       "      <th>Adequate</th>\n",
       "      <th>Effective</th>\n",
       "      <th>oof_ineffective</th>\n",
       "      <th>oof_adequate</th>\n",
       "      <th>oof_effective</th>\n",
       "    </tr>\n",
       "  </thead>\n",
       "  <tbody>\n",
       "    <tr>\n",
       "      <th>0</th>\n",
       "      <td>0013cc385424</td>\n",
       "      <td>007ACE74B050</td>\n",
       "      <td>Hi, i'm Isaac, i'm going to be writing about h...</td>\n",
       "      <td>Lead</td>\n",
       "      <td>Adequate</td>\n",
       "      <td>0.002610</td>\n",
       "      <td>0.183576</td>\n",
       "      <td>0.013815</td>\n",
       "      <td>1</td>\n",
       "      <td>0.085691</td>\n",
       "      <td>...</td>\n",
       "      <td>0.004610</td>\n",
       "      <td>0.015633</td>\n",
       "      <td>0.179762</td>\n",
       "      <td>0.004605</td>\n",
       "      <td>0.037435</td>\n",
       "      <td>0.922885</td>\n",
       "      <td>0.039680</td>\n",
       "      <td>0.040279</td>\n",
       "      <td>0.909830</td>\n",
       "      <td>0.049892</td>\n",
       "    </tr>\n",
       "    <tr>\n",
       "      <th>1</th>\n",
       "      <td>9704a709b505</td>\n",
       "      <td>007ACE74B050</td>\n",
       "      <td>On my perspective, I think that the face is a ...</td>\n",
       "      <td>Position</td>\n",
       "      <td>Adequate</td>\n",
       "      <td>0.011199</td>\n",
       "      <td>0.183275</td>\n",
       "      <td>0.005526</td>\n",
       "      <td>1</td>\n",
       "      <td>0.087332</td>\n",
       "      <td>...</td>\n",
       "      <td>0.007814</td>\n",
       "      <td>0.010395</td>\n",
       "      <td>0.185975</td>\n",
       "      <td>0.003630</td>\n",
       "      <td>0.078403</td>\n",
       "      <td>0.894195</td>\n",
       "      <td>0.027401</td>\n",
       "      <td>0.107744</td>\n",
       "      <td>0.855748</td>\n",
       "      <td>0.036508</td>\n",
       "    </tr>\n",
       "    <tr>\n",
       "      <th>2</th>\n",
       "      <td>c22adee811b6</td>\n",
       "      <td>007ACE74B050</td>\n",
       "      <td>I think that the face is a natural landform be...</td>\n",
       "      <td>Claim</td>\n",
       "      <td>Adequate</td>\n",
       "      <td>0.028142</td>\n",
       "      <td>0.169630</td>\n",
       "      <td>0.002228</td>\n",
       "      <td>1</td>\n",
       "      <td>0.164698</td>\n",
       "      <td>...</td>\n",
       "      <td>0.006605</td>\n",
       "      <td>0.035390</td>\n",
       "      <td>0.163083</td>\n",
       "      <td>0.001527</td>\n",
       "      <td>0.148400</td>\n",
       "      <td>0.835695</td>\n",
       "      <td>0.015905</td>\n",
       "      <td>0.164529</td>\n",
       "      <td>0.814616</td>\n",
       "      <td>0.020854</td>\n",
       "    </tr>\n",
       "    <tr>\n",
       "      <th>3</th>\n",
       "      <td>a10d361e54e4</td>\n",
       "      <td>007ACE74B050</td>\n",
       "      <td>If life was on Mars, we would know by now. The...</td>\n",
       "      <td>Evidence</td>\n",
       "      <td>Adequate</td>\n",
       "      <td>0.066880</td>\n",
       "      <td>0.131394</td>\n",
       "      <td>0.001727</td>\n",
       "      <td>1</td>\n",
       "      <td>0.420119</td>\n",
       "      <td>...</td>\n",
       "      <td>0.002635</td>\n",
       "      <td>0.039214</td>\n",
       "      <td>0.159075</td>\n",
       "      <td>0.001711</td>\n",
       "      <td>0.216103</td>\n",
       "      <td>0.772698</td>\n",
       "      <td>0.011199</td>\n",
       "      <td>0.264946</td>\n",
       "      <td>0.723377</td>\n",
       "      <td>0.011677</td>\n",
       "    </tr>\n",
       "    <tr>\n",
       "      <th>4</th>\n",
       "      <td>db3e453ec4e2</td>\n",
       "      <td>007ACE74B050</td>\n",
       "      <td>People thought that the face was formed by ali...</td>\n",
       "      <td>Counterclaim</td>\n",
       "      <td>Adequate</td>\n",
       "      <td>0.049548</td>\n",
       "      <td>0.149608</td>\n",
       "      <td>0.000844</td>\n",
       "      <td>1</td>\n",
       "      <td>0.290297</td>\n",
       "      <td>...</td>\n",
       "      <td>0.002354</td>\n",
       "      <td>0.065161</td>\n",
       "      <td>0.133572</td>\n",
       "      <td>0.001267</td>\n",
       "      <td>0.295933</td>\n",
       "      <td>0.696302</td>\n",
       "      <td>0.007765</td>\n",
       "      <td>0.274220</td>\n",
       "      <td>0.719837</td>\n",
       "      <td>0.005943</td>\n",
       "    </tr>\n",
       "  </tbody>\n",
       "</table>\n",
       "<p>5 rows × 28 columns</p>\n",
       "</div>"
      ],
      "text/plain": [
       "   discourse_id      essay_id  \\\n",
       "0  0013cc385424  007ACE74B050   \n",
       "1  9704a709b505  007ACE74B050   \n",
       "2  c22adee811b6  007ACE74B050   \n",
       "3  a10d361e54e4  007ACE74B050   \n",
       "4  db3e453ec4e2  007ACE74B050   \n",
       "\n",
       "                                      discourse_text discourse_type  \\\n",
       "0  Hi, i'm Isaac, i'm going to be writing about h...           Lead   \n",
       "1  On my perspective, I think that the face is a ...       Position   \n",
       "2  I think that the face is a natural landform be...          Claim   \n",
       "3  If life was on Mars, we would know by now. The...       Evidence   \n",
       "4  People thought that the face was formed by ali...   Counterclaim   \n",
       "\n",
       "  discourse_effectiveness  Ineffective_0  Adequate_0  Effective_0  label  \\\n",
       "0                Adequate       0.002610    0.183576     0.013815      1   \n",
       "1                Adequate       0.011199    0.183275     0.005526      1   \n",
       "2                Adequate       0.028142    0.169630     0.002228      1   \n",
       "3                Adequate       0.066880    0.131394     0.001727      1   \n",
       "4                Adequate       0.049548    0.149608     0.000844      1   \n",
       "\n",
       "       loss  ...  Effective_3  Ineffective_4  Adequate_4  Effective_4  \\\n",
       "0  0.085691  ...     0.004610       0.015633    0.179762     0.004605   \n",
       "1  0.087332  ...     0.007814       0.010395    0.185975     0.003630   \n",
       "2  0.164698  ...     0.006605       0.035390    0.163083     0.001527   \n",
       "3  0.420119  ...     0.002635       0.039214    0.159075     0.001711   \n",
       "4  0.290297  ...     0.002354       0.065161    0.133572     0.001267   \n",
       "\n",
       "   Ineffective  Adequate  Effective  oof_ineffective  oof_adequate  \\\n",
       "0     0.037435  0.922885   0.039680         0.040279      0.909830   \n",
       "1     0.078403  0.894195   0.027401         0.107744      0.855748   \n",
       "2     0.148400  0.835695   0.015905         0.164529      0.814616   \n",
       "3     0.216103  0.772698   0.011199         0.264946      0.723377   \n",
       "4     0.295933  0.696302   0.007765         0.274220      0.719837   \n",
       "\n",
       "   oof_effective  \n",
       "0       0.049892  \n",
       "1       0.036508  \n",
       "2       0.020854  \n",
       "3       0.011677  \n",
       "4       0.005943  \n",
       "\n",
       "[5 rows x 28 columns]"
      ]
     },
     "execution_count": 7,
     "metadata": {},
     "output_type": "execute_result"
    }
   ],
   "source": [
    "oof_df = pd.concat(oof_df).reset_index(drop=True)\n",
    "oof_df = train_df[['discourse_id']].merge(oof_df, on='discourse_id', how='left')\n",
    "oof_df.to_csv(f'./result/oof_cat.csv', index=False)\n",
    "print(oof_df.shape)\n",
    "oof_df.head()"
   ]
  },
  {
   "cell_type": "code",
   "execution_count": 8,
   "metadata": {},
   "outputs": [
    {
     "name": "stdout",
     "output_type": "stream",
     "text": [
      "oof=0.5805\n"
     ]
    }
   ],
   "source": [
    "cols = [col for col in oof_df.columns if col.startswith('oof_')]\n",
    "\n",
    "oof_score = log_loss(oof_df['label'].values, oof_df[cols].values, labels=[0,1,2])\n",
    "print('oof={:.4f}'.format(oof_score))"
   ]
  },
  {
   "cell_type": "code",
   "execution_count": null,
   "metadata": {},
   "outputs": [],
   "source": []
  }
 ],
 "metadata": {
  "kernelspec": {
   "display_name": "Python 3",
   "language": "python",
   "name": "python3"
  },
  "language_info": {
   "codemirror_mode": {
    "name": "ipython",
    "version": 3
   },
   "file_extension": ".py",
   "mimetype": "text/x-python",
   "name": "python",
   "nbconvert_exporter": "python",
   "pygments_lexer": "ipython3",
   "version": "3.7.8"
  }
 },
 "nbformat": 4,
 "nbformat_minor": 4
}
