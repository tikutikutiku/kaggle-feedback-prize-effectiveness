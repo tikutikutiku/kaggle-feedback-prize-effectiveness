{
 "cells": [
  {
   "cell_type": "markdown",
   "metadata": {},
   "source": [
    "# Import Data"
   ]
  },
  {
   "cell_type": "code",
   "execution_count": 1,
   "metadata": {},
   "outputs": [
    {
     "name": "stdout",
     "output_type": "stream",
     "text": [
      "(36765, 16)\n"
     ]
    },
    {
     "data": {
      "text/html": [
       "<div>\n",
       "<style scoped>\n",
       "    .dataframe tbody tr th:only-of-type {\n",
       "        vertical-align: middle;\n",
       "    }\n",
       "\n",
       "    .dataframe tbody tr th {\n",
       "        vertical-align: top;\n",
       "    }\n",
       "\n",
       "    .dataframe thead th {\n",
       "        text-align: right;\n",
       "    }\n",
       "</style>\n",
       "<table border=\"1\" class=\"dataframe\">\n",
       "  <thead>\n",
       "    <tr style=\"text-align: right;\">\n",
       "      <th></th>\n",
       "      <th>discourse_id</th>\n",
       "      <th>essay_id</th>\n",
       "      <th>discourse_text</th>\n",
       "      <th>discourse_type</th>\n",
       "      <th>discourse_effectiveness</th>\n",
       "      <th>Ineffective_0</th>\n",
       "      <th>Adequate_0</th>\n",
       "      <th>Effective_0</th>\n",
       "      <th>label</th>\n",
       "      <th>loss</th>\n",
       "      <th>Ineffective_1</th>\n",
       "      <th>Adequate_1</th>\n",
       "      <th>Effective_1</th>\n",
       "      <th>Ineffective</th>\n",
       "      <th>Adequate</th>\n",
       "      <th>Effective</th>\n",
       "    </tr>\n",
       "  </thead>\n",
       "  <tbody>\n",
       "    <tr>\n",
       "      <th>0</th>\n",
       "      <td>0013cc385424</td>\n",
       "      <td>007ACE74B050</td>\n",
       "      <td>Hi, i'm Isaac, i'm going to be writing about h...</td>\n",
       "      <td>Lead</td>\n",
       "      <td>Adequate</td>\n",
       "      <td>0.032175</td>\n",
       "      <td>0.898969</td>\n",
       "      <td>0.068856</td>\n",
       "      <td>1</td>\n",
       "      <td>0.106507</td>\n",
       "      <td>0.071494</td>\n",
       "      <td>0.901337</td>\n",
       "      <td>0.027169</td>\n",
       "      <td>0.051835</td>\n",
       "      <td>0.900153</td>\n",
       "      <td>0.048012</td>\n",
       "    </tr>\n",
       "    <tr>\n",
       "      <th>1</th>\n",
       "      <td>9704a709b505</td>\n",
       "      <td>007ACE74B050</td>\n",
       "      <td>On my perspective, I think that the face is a ...</td>\n",
       "      <td>Position</td>\n",
       "      <td>Adequate</td>\n",
       "      <td>0.102749</td>\n",
       "      <td>0.887431</td>\n",
       "      <td>0.009821</td>\n",
       "      <td>1</td>\n",
       "      <td>0.119425</td>\n",
       "      <td>0.056299</td>\n",
       "      <td>0.925929</td>\n",
       "      <td>0.017772</td>\n",
       "      <td>0.079524</td>\n",
       "      <td>0.906680</td>\n",
       "      <td>0.013796</td>\n",
       "    </tr>\n",
       "    <tr>\n",
       "      <th>2</th>\n",
       "      <td>c22adee811b6</td>\n",
       "      <td>007ACE74B050</td>\n",
       "      <td>I think that the face is a natural landform be...</td>\n",
       "      <td>Claim</td>\n",
       "      <td>Adequate</td>\n",
       "      <td>0.273061</td>\n",
       "      <td>0.722679</td>\n",
       "      <td>0.004259</td>\n",
       "      <td>1</td>\n",
       "      <td>0.324790</td>\n",
       "      <td>0.210195</td>\n",
       "      <td>0.782425</td>\n",
       "      <td>0.007380</td>\n",
       "      <td>0.241628</td>\n",
       "      <td>0.752552</td>\n",
       "      <td>0.005820</td>\n",
       "    </tr>\n",
       "    <tr>\n",
       "      <th>3</th>\n",
       "      <td>a10d361e54e4</td>\n",
       "      <td>007ACE74B050</td>\n",
       "      <td>If life was on Mars, we would know by now. The...</td>\n",
       "      <td>Evidence</td>\n",
       "      <td>Adequate</td>\n",
       "      <td>0.208765</td>\n",
       "      <td>0.780178</td>\n",
       "      <td>0.011057</td>\n",
       "      <td>1</td>\n",
       "      <td>0.248233</td>\n",
       "      <td>0.197201</td>\n",
       "      <td>0.791436</td>\n",
       "      <td>0.011362</td>\n",
       "      <td>0.202983</td>\n",
       "      <td>0.785807</td>\n",
       "      <td>0.011210</td>\n",
       "    </tr>\n",
       "    <tr>\n",
       "      <th>4</th>\n",
       "      <td>db3e453ec4e2</td>\n",
       "      <td>007ACE74B050</td>\n",
       "      <td>People thought that the face was formed by ali...</td>\n",
       "      <td>Counterclaim</td>\n",
       "      <td>Adequate</td>\n",
       "      <td>0.314834</td>\n",
       "      <td>0.681246</td>\n",
       "      <td>0.003920</td>\n",
       "      <td>1</td>\n",
       "      <td>0.383832</td>\n",
       "      <td>0.418297</td>\n",
       "      <td>0.577276</td>\n",
       "      <td>0.004427</td>\n",
       "      <td>0.366566</td>\n",
       "      <td>0.629261</td>\n",
       "      <td>0.004173</td>\n",
       "    </tr>\n",
       "  </tbody>\n",
       "</table>\n",
       "</div>"
      ],
      "text/plain": [
       "   discourse_id      essay_id  \\\n",
       "0  0013cc385424  007ACE74B050   \n",
       "1  9704a709b505  007ACE74B050   \n",
       "2  c22adee811b6  007ACE74B050   \n",
       "3  a10d361e54e4  007ACE74B050   \n",
       "4  db3e453ec4e2  007ACE74B050   \n",
       "\n",
       "                                      discourse_text discourse_type  \\\n",
       "0  Hi, i'm Isaac, i'm going to be writing about h...           Lead   \n",
       "1  On my perspective, I think that the face is a ...       Position   \n",
       "2  I think that the face is a natural landform be...          Claim   \n",
       "3  If life was on Mars, we would know by now. The...       Evidence   \n",
       "4  People thought that the face was formed by ali...   Counterclaim   \n",
       "\n",
       "  discourse_effectiveness  Ineffective_0  Adequate_0  Effective_0  label  \\\n",
       "0                Adequate       0.032175    0.898969     0.068856      1   \n",
       "1                Adequate       0.102749    0.887431     0.009821      1   \n",
       "2                Adequate       0.273061    0.722679     0.004259      1   \n",
       "3                Adequate       0.208765    0.780178     0.011057      1   \n",
       "4                Adequate       0.314834    0.681246     0.003920      1   \n",
       "\n",
       "       loss  Ineffective_1  Adequate_1  Effective_1  Ineffective  Adequate  \\\n",
       "0  0.106507       0.071494    0.901337     0.027169     0.051835  0.900153   \n",
       "1  0.119425       0.056299    0.925929     0.017772     0.079524  0.906680   \n",
       "2  0.324790       0.210195    0.782425     0.007380     0.241628  0.752552   \n",
       "3  0.248233       0.197201    0.791436     0.011362     0.202983  0.785807   \n",
       "4  0.383832       0.418297    0.577276     0.004427     0.366566  0.629261   \n",
       "\n",
       "   Effective  \n",
       "0   0.048012  \n",
       "1   0.013796  \n",
       "2   0.005820  \n",
       "3   0.011210  \n",
       "4   0.004173  "
      ]
     },
     "execution_count": 1,
     "metadata": {},
     "output_type": "execute_result"
    }
   ],
   "source": [
    "import pandas as pd\n",
    "from tqdm import tqdm\n",
    "tqdm.pandas()\n",
    "\n",
    "train_df = pd.read_csv('../../input/feedback-prize-effectiveness/train.csv')\n",
    "stack_df = pd.read_csv('../../99_Ensemble/99_v1_01/result/stack_99_v1_01_03.csv')\n",
    "\n",
    "train_df = train_df[['discourse_id']].merge(stack_df, on='discourse_id', how='left')\n",
    "print(train_df.shape)\n",
    "train_df.head()"
   ]
  },
  {
   "cell_type": "markdown",
   "metadata": {},
   "source": [
    "# Features"
   ]
  },
  {
   "cell_type": "markdown",
   "metadata": {},
   "source": [
    "# Data Split"
   ]
  },
  {
   "cell_type": "code",
   "execution_count": 2,
   "metadata": {},
   "outputs": [
    {
     "name": "stdout",
     "output_type": "stream",
     "text": [
      "load folds...\n"
     ]
    }
   ],
   "source": [
    "from os.path import join as opj\n",
    "\n",
    "class args:\n",
    "    fold_path = '../../00_EDA/00_v2_07/result/'\n",
    "    num_fold = 5\n",
    "    \n",
    "fold_path = args.fold_path\n",
    "import joblib\n",
    "print('load folds...')\n",
    "trn_ids_list = joblib.load(opj(fold_path,f'trn_ids_list.joblib'))\n",
    "val_ids_list = joblib.load(opj(fold_path,f'val_ids_list.joblib'))"
   ]
  },
  {
   "cell_type": "markdown",
   "metadata": {},
   "source": [
    "# Stacking"
   ]
  },
  {
   "cell_type": "code",
   "execution_count": 3,
   "metadata": {},
   "outputs": [],
   "source": [
    "import matplotlib.pyplot as plt\n",
    "\n",
    "def show_feature_importance(model):\n",
    "    feature_importance = model.get_feature_importance()\n",
    "    fi_df = pd.DataFrame({'importance':feature_importance, 'features':cols})\n",
    "    fi_df = fi_df.sort_values('importance', ascending=True)\n",
    "\n",
    "    plt.figure(figsize=(12, 6))\n",
    "    plt.barh(range(len(fi_df)),\n",
    "            fi_df['importance'].values,\n",
    "            tick_label=fi_df['features'].values)\n",
    "    plt.xlabel('importance')\n",
    "    plt.ylabel('features')\n",
    "    plt.grid()\n",
    "    plt.show()"
   ]
  },
  {
   "cell_type": "code",
   "execution_count": 4,
   "metadata": {},
   "outputs": [
    {
     "data": {
      "text/plain": [
       "2"
      ]
     },
     "execution_count": 4,
     "metadata": {},
     "output_type": "execute_result"
    }
   ],
   "source": [
    "cols = []\n",
    "for col_name in ['Ineffective','Adequate','Effective']:\n",
    "    cols += [col for col in train_df.columns if (col.startswith(col_name) and '_' in col)] \n",
    "    \n",
    "num_models = len(cols) // 3\n",
    "num_models"
   ]
  },
  {
   "cell_type": "code",
   "execution_count": 5,
   "metadata": {},
   "outputs": [],
   "source": [
    "import catboost\n",
    "params = {\n",
    "    'random_state':45, \n",
    "    'n_estimators':20000,\n",
    "    'loss_function':'MultiClass',\n",
    "}"
   ]
  },
  {
   "cell_type": "code",
   "execution_count": 6,
   "metadata": {
    "scrolled": false
   },
   "outputs": [
    {
     "name": "stdout",
     "output_type": "stream",
     "text": [
      "fold0 : CV=0.5972\n"
     ]
    },
    {
     "data": {
      "image/png": "[encoded data removed]",
      "text/plain": [
       "<Figure size 864x432 with 1 Axes>"
      ]
     },
     "metadata": {
      "needs_background": "light"
     },
     "output_type": "display_data"
    },
    {
     "name": "stdout",
     "output_type": "stream",
     "text": [
      "fold1 : CV=0.6069\n"
     ]
    },
    {
     "data": {
      "image/png": "[encoded data removed]",
      "text/plain": [
       "<Figure size 864x432 with 1 Axes>"
      ]
     },
     "metadata": {
      "needs_background": "light"
     },
     "output_type": "display_data"
    },
    {
     "name": "stdout",
     "output_type": "stream",
     "text": [
      "fold2 : CV=0.5944\n"
     ]
    },
    {
     "data": {
      "image/png": "[encoded data removed]",
      "text/plain": [
       "<Figure size 864x432 with 1 Axes>"
      ]
     },
     "metadata": {
      "needs_background": "light"
     },
     "output_type": "display_data"
    },
    {
     "name": "stdout",
     "output_type": "stream",
     "text": [
      "fold3 : CV=0.6214\n"
     ]
    },
    {
     "data": {
      "image/png": "[encoded data removed]",
      "text/plain": [
       "<Figure size 864x432 with 1 Axes>"
      ]
     },
     "metadata": {
      "needs_background": "light"
     },
     "output_type": "display_data"
    },
    {
     "name": "stdout",
     "output_type": "stream",
     "text": [
      "fold4 : CV=0.6048\n"
     ]
    },
    {
     "data": {
      "image/png": "[encoded data removed]",
      "text/plain": [
       "<Figure size 864x432 with 1 Axes>"
      ]
     },
     "metadata": {
      "needs_background": "light"
     },
     "output_type": "display_data"
    },
    {
     "name": "stdout",
     "output_type": "stream",
     "text": [
      "CV=0.6049\n"
     ]
    }
   ],
   "source": [
    "from sklearn.metrics import log_loss\n",
    "import pickle\n",
    "import os\n",
    "os.makedirs('./result', exist_ok=True)\n",
    "\n",
    "cols = ['discourse_type'] + cols\n",
    "cat_features = [0]\n",
    "\n",
    "score_list = []\n",
    "oof_df = []\n",
    "for fold in range(args.num_fold):\n",
    "    trn_df = train_df[train_df['essay_id'].isin(trn_ids_list[fold])].reset_index(drop=True)\n",
    "    val_df = train_df[train_df['essay_id'].isin(val_ids_list[fold])].reset_index(drop=True)\n",
    "\n",
    "    pool_trn = catboost.Pool(trn_df[cols].values, label=trn_df['label'].values, cat_features=cat_features)\n",
    "    pool_val = catboost.Pool(val_df[cols].values, label=val_df['label'].values, cat_features=cat_features)\n",
    "\n",
    "    model = catboost.CatBoostClassifier(**params)\n",
    "    model.fit(pool_trn, \n",
    "              eval_set=[pool_val], \n",
    "              verbose=0, \n",
    "              early_stopping_rounds=100,\n",
    "             )\n",
    "\n",
    "    pred = model.predict(pool_val, prediction_type='Probability')\n",
    "    target = val_df['label'].values\n",
    "    score = log_loss(target, pred, labels=[0,1,2])\n",
    "    print('fold{} : CV={:.4f}'.format(fold, score))\n",
    "    score_list.append(score)\n",
    "    val_df['oof_ineffective'] = pred[:,0]\n",
    "    val_df['oof_adequate'] = pred[:,1]\n",
    "    val_df['oof_effective'] = pred[:,2]\n",
    "    oof_df.append(val_df)\n",
    "    # save model\n",
    "    joblib.dump(model, f'./result/cat_fold{fold}.joblib')\n",
    "    # plot\n",
    "    show_feature_importance(model)\n",
    "    \n",
    "CV = sum(score_list) / len(score_list)\n",
    "print('CV={:.4f}'.format(CV))"
   ]
  },
  {
   "cell_type": "code",
   "execution_count": 7,
   "metadata": {},
   "outputs": [
    {
     "name": "stdout",
     "output_type": "stream",
     "text": [
      "(36765, 19)\n"
     ]
    },
    {
     "data": {
      "text/html": [
       "<div>\n",
       "<style scoped>\n",
       "    .dataframe tbody tr th:only-of-type {\n",
       "        vertical-align: middle;\n",
       "    }\n",
       "\n",
       "    .dataframe tbody tr th {\n",
       "        vertical-align: top;\n",
       "    }\n",
       "\n",
       "    .dataframe thead th {\n",
       "        text-align: right;\n",
       "    }\n",
       "</style>\n",
       "<table border=\"1\" class=\"dataframe\">\n",
       "  <thead>\n",
       "    <tr style=\"text-align: right;\">\n",
       "      <th></th>\n",
       "      <th>discourse_id</th>\n",
       "      <th>essay_id</th>\n",
       "      <th>discourse_text</th>\n",
       "      <th>discourse_type</th>\n",
       "      <th>discourse_effectiveness</th>\n",
       "      <th>Ineffective_0</th>\n",
       "      <th>Adequate_0</th>\n",
       "      <th>Effective_0</th>\n",
       "      <th>label</th>\n",
       "      <th>loss</th>\n",
       "      <th>Ineffective_1</th>\n",
       "      <th>Adequate_1</th>\n",
       "      <th>Effective_1</th>\n",
       "      <th>Ineffective</th>\n",
       "      <th>Adequate</th>\n",
       "      <th>Effective</th>\n",
       "      <th>oof_ineffective</th>\n",
       "      <th>oof_adequate</th>\n",
       "      <th>oof_effective</th>\n",
       "    </tr>\n",
       "  </thead>\n",
       "  <tbody>\n",
       "    <tr>\n",
       "      <th>0</th>\n",
       "      <td>0013cc385424</td>\n",
       "      <td>007ACE74B050</td>\n",
       "      <td>Hi, i'm Isaac, i'm going to be writing about h...</td>\n",
       "      <td>Lead</td>\n",
       "      <td>Adequate</td>\n",
       "      <td>0.032175</td>\n",
       "      <td>0.898969</td>\n",
       "      <td>0.068856</td>\n",
       "      <td>1</td>\n",
       "      <td>0.106507</td>\n",
       "      <td>0.071494</td>\n",
       "      <td>0.901337</td>\n",
       "      <td>0.027169</td>\n",
       "      <td>0.051835</td>\n",
       "      <td>0.900153</td>\n",
       "      <td>0.048012</td>\n",
       "      <td>0.056752</td>\n",
       "      <td>0.887105</td>\n",
       "      <td>0.056144</td>\n",
       "    </tr>\n",
       "    <tr>\n",
       "      <th>1</th>\n",
       "      <td>9704a709b505</td>\n",
       "      <td>007ACE74B050</td>\n",
       "      <td>On my perspective, I think that the face is a ...</td>\n",
       "      <td>Position</td>\n",
       "      <td>Adequate</td>\n",
       "      <td>0.102749</td>\n",
       "      <td>0.887431</td>\n",
       "      <td>0.009821</td>\n",
       "      <td>1</td>\n",
       "      <td>0.119425</td>\n",
       "      <td>0.056299</td>\n",
       "      <td>0.925929</td>\n",
       "      <td>0.017772</td>\n",
       "      <td>0.079524</td>\n",
       "      <td>0.906680</td>\n",
       "      <td>0.013796</td>\n",
       "      <td>0.115748</td>\n",
       "      <td>0.867077</td>\n",
       "      <td>0.017175</td>\n",
       "    </tr>\n",
       "    <tr>\n",
       "      <th>2</th>\n",
       "      <td>c22adee811b6</td>\n",
       "      <td>007ACE74B050</td>\n",
       "      <td>I think that the face is a natural landform be...</td>\n",
       "      <td>Claim</td>\n",
       "      <td>Adequate</td>\n",
       "      <td>0.273061</td>\n",
       "      <td>0.722679</td>\n",
       "      <td>0.004259</td>\n",
       "      <td>1</td>\n",
       "      <td>0.324790</td>\n",
       "      <td>0.210195</td>\n",
       "      <td>0.782425</td>\n",
       "      <td>0.007380</td>\n",
       "      <td>0.241628</td>\n",
       "      <td>0.752552</td>\n",
       "      <td>0.005820</td>\n",
       "      <td>0.308627</td>\n",
       "      <td>0.683281</td>\n",
       "      <td>0.008092</td>\n",
       "    </tr>\n",
       "    <tr>\n",
       "      <th>3</th>\n",
       "      <td>a10d361e54e4</td>\n",
       "      <td>007ACE74B050</td>\n",
       "      <td>If life was on Mars, we would know by now. The...</td>\n",
       "      <td>Evidence</td>\n",
       "      <td>Adequate</td>\n",
       "      <td>0.208765</td>\n",
       "      <td>0.780178</td>\n",
       "      <td>0.011057</td>\n",
       "      <td>1</td>\n",
       "      <td>0.248233</td>\n",
       "      <td>0.197201</td>\n",
       "      <td>0.791436</td>\n",
       "      <td>0.011362</td>\n",
       "      <td>0.202983</td>\n",
       "      <td>0.785807</td>\n",
       "      <td>0.011210</td>\n",
       "      <td>0.247622</td>\n",
       "      <td>0.740395</td>\n",
       "      <td>0.011983</td>\n",
       "    </tr>\n",
       "    <tr>\n",
       "      <th>4</th>\n",
       "      <td>db3e453ec4e2</td>\n",
       "      <td>007ACE74B050</td>\n",
       "      <td>People thought that the face was formed by ali...</td>\n",
       "      <td>Counterclaim</td>\n",
       "      <td>Adequate</td>\n",
       "      <td>0.314834</td>\n",
       "      <td>0.681246</td>\n",
       "      <td>0.003920</td>\n",
       "      <td>1</td>\n",
       "      <td>0.383832</td>\n",
       "      <td>0.418297</td>\n",
       "      <td>0.577276</td>\n",
       "      <td>0.004427</td>\n",
       "      <td>0.366566</td>\n",
       "      <td>0.629261</td>\n",
       "      <td>0.004173</td>\n",
       "      <td>0.377917</td>\n",
       "      <td>0.617458</td>\n",
       "      <td>0.004624</td>\n",
       "    </tr>\n",
       "  </tbody>\n",
       "</table>\n",
       "</div>"
      ],
      "text/plain": [
       "   discourse_id      essay_id  \\\n",
       "0  0013cc385424  007ACE74B050   \n",
       "1  9704a709b505  007ACE74B050   \n",
       "2  c22adee811b6  007ACE74B050   \n",
       "3  a10d361e54e4  007ACE74B050   \n",
       "4  db3e453ec4e2  007ACE74B050   \n",
       "\n",
       "                                      discourse_text discourse_type  \\\n",
       "0  Hi, i'm Isaac, i'm going to be writing about h...           Lead   \n",
       "1  On my perspective, I think that the face is a ...       Position   \n",
       "2  I think that the face is a natural landform be...          Claim   \n",
       "3  If life was on Mars, we would know by now. The...       Evidence   \n",
       "4  People thought that the face was formed by ali...   Counterclaim   \n",
       "\n",
       "  discourse_effectiveness  Ineffective_0  Adequate_0  Effective_0  label  \\\n",
       "0                Adequate       0.032175    0.898969     0.068856      1   \n",
       "1                Adequate       0.102749    0.887431     0.009821      1   \n",
       "2                Adequate       0.273061    0.722679     0.004259      1   \n",
       "3                Adequate       0.208765    0.780178     0.011057      1   \n",
       "4                Adequate       0.314834    0.681246     0.003920      1   \n",
       "\n",
       "       loss  Ineffective_1  Adequate_1  Effective_1  Ineffective  Adequate  \\\n",
       "0  0.106507       0.071494    0.901337     0.027169     0.051835  0.900153   \n",
       "1  0.119425       0.056299    0.925929     0.017772     0.079524  0.906680   \n",
       "2  0.324790       0.210195    0.782425     0.007380     0.241628  0.752552   \n",
       "3  0.248233       0.197201    0.791436     0.011362     0.202983  0.785807   \n",
       "4  0.383832       0.418297    0.577276     0.004427     0.366566  0.629261   \n",
       "\n",
       "   Effective  oof_ineffective  oof_adequate  oof_effective  \n",
       "0   0.048012         0.056752      0.887105       0.056144  \n",
       "1   0.013796         0.115748      0.867077       0.017175  \n",
       "2   0.005820         0.308627      0.683281       0.008092  \n",
       "3   0.011210         0.247622      0.740395       0.011983  \n",
       "4   0.004173         0.377917      0.617458       0.004624  "
      ]
     },
     "execution_count": 7,
     "metadata": {},
     "output_type": "execute_result"
    }
   ],
   "source": [
    "oof_df = pd.concat(oof_df).reset_index(drop=True)\n",
    "oof_df = train_df[['discourse_id']].merge(oof_df, on='discourse_id', how='left')\n",
    "oof_df.to_csv(f'./result/oof_cat.csv', index=False)\n",
    "print(oof_df.shape)\n",
    "oof_df.head()"
   ]
  },
  {
   "cell_type": "code",
   "execution_count": 8,
   "metadata": {},
   "outputs": [
    {
     "name": "stdout",
     "output_type": "stream",
     "text": [
      "oof=0.6050\n"
     ]
    }
   ],
   "source": [
    "cols = [col for col in oof_df.columns if col.startswith('oof_')]\n",
    "\n",
    "oof_score = log_loss(oof_df['label'].values, oof_df[cols].values, labels=[0,1,2])\n",
    "print('oof={:.4f}'.format(oof_score))"
   ]
  },
  {
   "cell_type": "code",
   "execution_count": null,
   "metadata": {},
   "outputs": [],
   "source": []
  }
 ],
 "metadata": {
  "kernelspec": {
   "display_name": "Python 3",
   "language": "python",
   "name": "python3"
  },
  "language_info": {
   "codemirror_mode": {
    "name": "ipython",
    "version": 3
   },
   "file_extension": ".py",
   "mimetype": "text/x-python",
   "name": "python",
   "nbconvert_exporter": "python",
   "pygments_lexer": "ipython3",
   "version": "3.7.8"
  }
 },
 "nbformat": 4,
 "nbformat_minor": 4
}
