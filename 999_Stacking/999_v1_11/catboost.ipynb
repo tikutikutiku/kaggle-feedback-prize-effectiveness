{
 "cells": [
  {
   "cell_type": "markdown",
   "metadata": {},
   "source": [
    "# Import Data"
   ]
  },
  {
   "cell_type": "code",
   "execution_count": 1,
   "metadata": {},
   "outputs": [
    {
     "name": "stdout",
     "output_type": "stream",
     "text": [
      "(36765, 19)\n"
     ]
    },
    {
     "data": {
      "text/html": [
       "<div>\n",
       "<style scoped>\n",
       "    .dataframe tbody tr th:only-of-type {\n",
       "        vertical-align: middle;\n",
       "    }\n",
       "\n",
       "    .dataframe tbody tr th {\n",
       "        vertical-align: top;\n",
       "    }\n",
       "\n",
       "    .dataframe thead th {\n",
       "        text-align: right;\n",
       "    }\n",
       "</style>\n",
       "<table border=\"1\" class=\"dataframe\">\n",
       "  <thead>\n",
       "    <tr style=\"text-align: right;\">\n",
       "      <th></th>\n",
       "      <th>discourse_id</th>\n",
       "      <th>essay_id</th>\n",
       "      <th>discourse_text</th>\n",
       "      <th>discourse_type</th>\n",
       "      <th>discourse_effectiveness</th>\n",
       "      <th>Ineffective_0</th>\n",
       "      <th>Adequate_0</th>\n",
       "      <th>Effective_0</th>\n",
       "      <th>label</th>\n",
       "      <th>loss</th>\n",
       "      <th>Ineffective_1</th>\n",
       "      <th>Adequate_1</th>\n",
       "      <th>Effective_1</th>\n",
       "      <th>Ineffective_2</th>\n",
       "      <th>Adequate_2</th>\n",
       "      <th>Effective_2</th>\n",
       "      <th>Ineffective</th>\n",
       "      <th>Adequate</th>\n",
       "      <th>Effective</th>\n",
       "    </tr>\n",
       "  </thead>\n",
       "  <tbody>\n",
       "    <tr>\n",
       "      <th>0</th>\n",
       "      <td>0013cc385424</td>\n",
       "      <td>007ACE74B050</td>\n",
       "      <td>Hi, i'm Isaac, i'm going to be writing about h...</td>\n",
       "      <td>Lead</td>\n",
       "      <td>Adequate</td>\n",
       "      <td>0.010725</td>\n",
       "      <td>0.299656</td>\n",
       "      <td>0.022952</td>\n",
       "      <td>1</td>\n",
       "      <td>0.106507</td>\n",
       "      <td>0.023831</td>\n",
       "      <td>0.300446</td>\n",
       "      <td>0.009056</td>\n",
       "      <td>0.002334</td>\n",
       "      <td>0.270700</td>\n",
       "      <td>0.060300</td>\n",
       "      <td>0.036890</td>\n",
       "      <td>0.870802</td>\n",
       "      <td>0.092308</td>\n",
       "    </tr>\n",
       "    <tr>\n",
       "      <th>1</th>\n",
       "      <td>9704a709b505</td>\n",
       "      <td>007ACE74B050</td>\n",
       "      <td>On my perspective, I think that the face is a ...</td>\n",
       "      <td>Position</td>\n",
       "      <td>Adequate</td>\n",
       "      <td>0.034250</td>\n",
       "      <td>0.295810</td>\n",
       "      <td>0.003274</td>\n",
       "      <td>1</td>\n",
       "      <td>0.119425</td>\n",
       "      <td>0.018766</td>\n",
       "      <td>0.308643</td>\n",
       "      <td>0.005924</td>\n",
       "      <td>0.023707</td>\n",
       "      <td>0.296091</td>\n",
       "      <td>0.013536</td>\n",
       "      <td>0.076722</td>\n",
       "      <td>0.900544</td>\n",
       "      <td>0.022734</td>\n",
       "    </tr>\n",
       "    <tr>\n",
       "      <th>2</th>\n",
       "      <td>c22adee811b6</td>\n",
       "      <td>007ACE74B050</td>\n",
       "      <td>I think that the face is a natural landform be...</td>\n",
       "      <td>Claim</td>\n",
       "      <td>Adequate</td>\n",
       "      <td>0.091020</td>\n",
       "      <td>0.240893</td>\n",
       "      <td>0.001420</td>\n",
       "      <td>1</td>\n",
       "      <td>0.324790</td>\n",
       "      <td>0.070065</td>\n",
       "      <td>0.260808</td>\n",
       "      <td>0.002460</td>\n",
       "      <td>0.024279</td>\n",
       "      <td>0.296698</td>\n",
       "      <td>0.012356</td>\n",
       "      <td>0.185364</td>\n",
       "      <td>0.798400</td>\n",
       "      <td>0.016236</td>\n",
       "    </tr>\n",
       "    <tr>\n",
       "      <th>3</th>\n",
       "      <td>a10d361e54e4</td>\n",
       "      <td>007ACE74B050</td>\n",
       "      <td>If life was on Mars, we would know by now. The...</td>\n",
       "      <td>Evidence</td>\n",
       "      <td>Adequate</td>\n",
       "      <td>0.069588</td>\n",
       "      <td>0.260059</td>\n",
       "      <td>0.003686</td>\n",
       "      <td>1</td>\n",
       "      <td>0.248233</td>\n",
       "      <td>0.065734</td>\n",
       "      <td>0.263812</td>\n",
       "      <td>0.003787</td>\n",
       "      <td>0.085017</td>\n",
       "      <td>0.239872</td>\n",
       "      <td>0.008444</td>\n",
       "      <td>0.220339</td>\n",
       "      <td>0.763743</td>\n",
       "      <td>0.015917</td>\n",
       "    </tr>\n",
       "    <tr>\n",
       "      <th>4</th>\n",
       "      <td>db3e453ec4e2</td>\n",
       "      <td>007ACE74B050</td>\n",
       "      <td>People thought that the face was formed by ali...</td>\n",
       "      <td>Counterclaim</td>\n",
       "      <td>Adequate</td>\n",
       "      <td>0.104945</td>\n",
       "      <td>0.227082</td>\n",
       "      <td>0.001307</td>\n",
       "      <td>1</td>\n",
       "      <td>0.383832</td>\n",
       "      <td>0.139432</td>\n",
       "      <td>0.192425</td>\n",
       "      <td>0.001476</td>\n",
       "      <td>0.055173</td>\n",
       "      <td>0.268754</td>\n",
       "      <td>0.009406</td>\n",
       "      <td>0.299551</td>\n",
       "      <td>0.688261</td>\n",
       "      <td>0.012188</td>\n",
       "    </tr>\n",
       "  </tbody>\n",
       "</table>\n",
       "</div>"
      ],
      "text/plain": [
       "   discourse_id      essay_id  \\\n",
       "0  0013cc385424  007ACE74B050   \n",
       "1  9704a709b505  007ACE74B050   \n",
       "2  c22adee811b6  007ACE74B050   \n",
       "3  a10d361e54e4  007ACE74B050   \n",
       "4  db3e453ec4e2  007ACE74B050   \n",
       "\n",
       "                                      discourse_text discourse_type  \\\n",
       "0  Hi, i'm Isaac, i'm going to be writing about h...           Lead   \n",
       "1  On my perspective, I think that the face is a ...       Position   \n",
       "2  I think that the face is a natural landform be...          Claim   \n",
       "3  If life was on Mars, we would know by now. The...       Evidence   \n",
       "4  People thought that the face was formed by ali...   Counterclaim   \n",
       "\n",
       "  discourse_effectiveness  Ineffective_0  Adequate_0  Effective_0  label  \\\n",
       "0                Adequate       0.010725    0.299656     0.022952      1   \n",
       "1                Adequate       0.034250    0.295810     0.003274      1   \n",
       "2                Adequate       0.091020    0.240893     0.001420      1   \n",
       "3                Adequate       0.069588    0.260059     0.003686      1   \n",
       "4                Adequate       0.104945    0.227082     0.001307      1   \n",
       "\n",
       "       loss  Ineffective_1  Adequate_1  Effective_1  Ineffective_2  \\\n",
       "0  0.106507       0.023831    0.300446     0.009056       0.002334   \n",
       "1  0.119425       0.018766    0.308643     0.005924       0.023707   \n",
       "2  0.324790       0.070065    0.260808     0.002460       0.024279   \n",
       "3  0.248233       0.065734    0.263812     0.003787       0.085017   \n",
       "4  0.383832       0.139432    0.192425     0.001476       0.055173   \n",
       "\n",
       "   Adequate_2  Effective_2  Ineffective  Adequate  Effective  \n",
       "0    0.270700     0.060300     0.036890  0.870802   0.092308  \n",
       "1    0.296091     0.013536     0.076722  0.900544   0.022734  \n",
       "2    0.296698     0.012356     0.185364  0.798400   0.016236  \n",
       "3    0.239872     0.008444     0.220339  0.763743   0.015917  \n",
       "4    0.268754     0.009406     0.299551  0.688261   0.012188  "
      ]
     },
     "execution_count": 1,
     "metadata": {},
     "output_type": "execute_result"
    }
   ],
   "source": [
    "import pandas as pd\n",
    "from tqdm import tqdm\n",
    "tqdm.pandas()\n",
    "\n",
    "train_df = pd.read_csv('../../input/feedback-prize-effectiveness/train.csv')\n",
    "stack_df = pd.read_csv('../../99_Ensemble/99_v1_03/result/stack_99_v1_03_01.csv')\n",
    "\n",
    "train_df = train_df[['discourse_id']].merge(stack_df, on='discourse_id', how='left')\n",
    "print(train_df.shape)\n",
    "train_df.head()"
   ]
  },
  {
   "cell_type": "markdown",
   "metadata": {},
   "source": [
    "# Features"
   ]
  },
  {
   "cell_type": "markdown",
   "metadata": {},
   "source": [
    "# Data Split"
   ]
  },
  {
   "cell_type": "code",
   "execution_count": 2,
   "metadata": {},
   "outputs": [
    {
     "name": "stdout",
     "output_type": "stream",
     "text": [
      "load folds...\n"
     ]
    }
   ],
   "source": [
    "from os.path import join as opj\n",
    "\n",
    "class args:\n",
    "    fold_path = '../../00_EDA/00_v2_07/result/'\n",
    "    num_fold = 5\n",
    "    \n",
    "fold_path = args.fold_path\n",
    "import joblib\n",
    "print('load folds...')\n",
    "trn_ids_list = joblib.load(opj(fold_path,f'trn_ids_list.joblib'))\n",
    "val_ids_list = joblib.load(opj(fold_path,f'val_ids_list.joblib'))"
   ]
  },
  {
   "cell_type": "markdown",
   "metadata": {},
   "source": [
    "# Stacking"
   ]
  },
  {
   "cell_type": "code",
   "execution_count": 3,
   "metadata": {},
   "outputs": [],
   "source": [
    "import matplotlib.pyplot as plt\n",
    "\n",
    "def show_feature_importance(model):\n",
    "    feature_importance = model.get_feature_importance()\n",
    "    fi_df = pd.DataFrame({'importance':feature_importance, 'features':cols})\n",
    "    fi_df = fi_df.sort_values('importance', ascending=True)\n",
    "\n",
    "    plt.figure(figsize=(12, 6))\n",
    "    plt.barh(range(len(fi_df)),\n",
    "            fi_df['importance'].values,\n",
    "            tick_label=fi_df['features'].values)\n",
    "    plt.xlabel('importance')\n",
    "    plt.ylabel('features')\n",
    "    plt.grid()\n",
    "    plt.show()"
   ]
  },
  {
   "cell_type": "code",
   "execution_count": 4,
   "metadata": {},
   "outputs": [
    {
     "data": {
      "text/plain": [
       "3"
      ]
     },
     "execution_count": 4,
     "metadata": {},
     "output_type": "execute_result"
    }
   ],
   "source": [
    "cols = []\n",
    "for col_name in ['Ineffective','Adequate','Effective']:\n",
    "    cols += [col for col in train_df.columns if (col.startswith(col_name) and '_' in col)] \n",
    "    \n",
    "num_models = len(cols) // 3\n",
    "num_models"
   ]
  },
  {
   "cell_type": "code",
   "execution_count": 5,
   "metadata": {},
   "outputs": [],
   "source": [
    "import catboost\n",
    "params = {\n",
    "    'random_state':45, \n",
    "    'n_estimators':20000,\n",
    "    'loss_function':'MultiClass',\n",
    "}"
   ]
  },
  {
   "cell_type": "code",
   "execution_count": 6,
   "metadata": {
    "scrolled": false
   },
   "outputs": [
    {
     "name": "stdout",
     "output_type": "stream",
     "text": [
      "fold0 : CV=0.5921\n"
     ]
    },
    {
     "data": {
      "image/png": "[encoded data removed]",
      "text/plain": [
       "<Figure size 864x432 with 1 Axes>"
      ]
     },
     "metadata": {
      "needs_background": "light"
     },
     "output_type": "display_data"
    },
    {
     "name": "stdout",
     "output_type": "stream",
     "text": [
      "fold1 : CV=0.6024\n"
     ]
    },
    {
     "data": {
      "image/png": "[encoded data removed]",
      "text/plain": [
       "<Figure size 864x432 with 1 Axes>"
      ]
     },
     "metadata": {
      "needs_background": "light"
     },
     "output_type": "display_data"
    },
    {
     "name": "stdout",
     "output_type": "stream",
     "text": [
      "fold2 : CV=0.5893\n"
     ]
    },
    {
     "data": {
      "image/png": "[encoded data removed]",
      "text/plain": [
       "<Figure size 864x432 with 1 Axes>"
      ]
     },
     "metadata": {
      "needs_background": "light"
     },
     "output_type": "display_data"
    },
    {
     "name": "stdout",
     "output_type": "stream",
     "text": [
      "fold3 : CV=0.6132\n"
     ]
    },
    {
     "data": {
      "image/png": "[encoded data removed]",
      "text/plain": [
       "<Figure size 864x432 with 1 Axes>"
      ]
     },
     "metadata": {
      "needs_background": "light"
     },
     "output_type": "display_data"
    },
    {
     "name": "stdout",
     "output_type": "stream",
     "text": [
      "fold4 : CV=0.5994\n"
     ]
    },
    {
     "data": {
      "image/png": "[encoded data removed]",
      "text/plain": [
       "<Figure size 864x432 with 1 Axes>"
      ]
     },
     "metadata": {
      "needs_background": "light"
     },
     "output_type": "display_data"
    },
    {
     "name": "stdout",
     "output_type": "stream",
     "text": [
      "CV=0.5993\n"
     ]
    }
   ],
   "source": [
    "from sklearn.metrics import log_loss\n",
    "import pickle\n",
    "import os\n",
    "os.makedirs('./result', exist_ok=True)\n",
    "\n",
    "cols = ['discourse_type'] + cols\n",
    "cat_features = [0]\n",
    "\n",
    "score_list = []\n",
    "oof_df = []\n",
    "for fold in range(args.num_fold):\n",
    "    trn_df = train_df[train_df['essay_id'].isin(trn_ids_list[fold])].reset_index(drop=True)\n",
    "    val_df = train_df[train_df['essay_id'].isin(val_ids_list[fold])].reset_index(drop=True)\n",
    "\n",
    "    pool_trn = catboost.Pool(trn_df[cols].values, label=trn_df['label'].values, cat_features=cat_features)\n",
    "    pool_val = catboost.Pool(val_df[cols].values, label=val_df['label'].values, cat_features=cat_features)\n",
    "\n",
    "    model = catboost.CatBoostClassifier(**params)\n",
    "    model.fit(pool_trn, \n",
    "              eval_set=[pool_val], \n",
    "              verbose=0, \n",
    "              early_stopping_rounds=100,\n",
    "             )\n",
    "\n",
    "    pred = model.predict(pool_val, prediction_type='Probability')\n",
    "    target = val_df['label'].values\n",
    "    score = log_loss(target, pred, labels=[0,1,2])\n",
    "    print('fold{} : CV={:.4f}'.format(fold, score))\n",
    "    score_list.append(score)\n",
    "    val_df['oof_ineffective'] = pred[:,0]\n",
    "    val_df['oof_adequate'] = pred[:,1]\n",
    "    val_df['oof_effective'] = pred[:,2]\n",
    "    oof_df.append(val_df)\n",
    "    # save model\n",
    "    joblib.dump(model, f'./result/cat_fold{fold}.joblib')\n",
    "    # plot\n",
    "    show_feature_importance(model)\n",
    "    \n",
    "CV = sum(score_list) / len(score_list)\n",
    "print('CV={:.4f}'.format(CV))"
   ]
  },
  {
   "cell_type": "code",
   "execution_count": 7,
   "metadata": {},
   "outputs": [
    {
     "name": "stdout",
     "output_type": "stream",
     "text": [
      "(36765, 22)\n"
     ]
    },
    {
     "data": {
      "text/html": [
       "<div>\n",
       "<style scoped>\n",
       "    .dataframe tbody tr th:only-of-type {\n",
       "        vertical-align: middle;\n",
       "    }\n",
       "\n",
       "    .dataframe tbody tr th {\n",
       "        vertical-align: top;\n",
       "    }\n",
       "\n",
       "    .dataframe thead th {\n",
       "        text-align: right;\n",
       "    }\n",
       "</style>\n",
       "<table border=\"1\" class=\"dataframe\">\n",
       "  <thead>\n",
       "    <tr style=\"text-align: right;\">\n",
       "      <th></th>\n",
       "      <th>discourse_id</th>\n",
       "      <th>essay_id</th>\n",
       "      <th>discourse_text</th>\n",
       "      <th>discourse_type</th>\n",
       "      <th>discourse_effectiveness</th>\n",
       "      <th>Ineffective_0</th>\n",
       "      <th>Adequate_0</th>\n",
       "      <th>Effective_0</th>\n",
       "      <th>label</th>\n",
       "      <th>loss</th>\n",
       "      <th>...</th>\n",
       "      <th>Effective_1</th>\n",
       "      <th>Ineffective_2</th>\n",
       "      <th>Adequate_2</th>\n",
       "      <th>Effective_2</th>\n",
       "      <th>Ineffective</th>\n",
       "      <th>Adequate</th>\n",
       "      <th>Effective</th>\n",
       "      <th>oof_ineffective</th>\n",
       "      <th>oof_adequate</th>\n",
       "      <th>oof_effective</th>\n",
       "    </tr>\n",
       "  </thead>\n",
       "  <tbody>\n",
       "    <tr>\n",
       "      <th>0</th>\n",
       "      <td>0013cc385424</td>\n",
       "      <td>007ACE74B050</td>\n",
       "      <td>Hi, i'm Isaac, i'm going to be writing about h...</td>\n",
       "      <td>Lead</td>\n",
       "      <td>Adequate</td>\n",
       "      <td>0.010725</td>\n",
       "      <td>0.299656</td>\n",
       "      <td>0.022952</td>\n",
       "      <td>1</td>\n",
       "      <td>0.106507</td>\n",
       "      <td>...</td>\n",
       "      <td>0.009056</td>\n",
       "      <td>0.002334</td>\n",
       "      <td>0.270700</td>\n",
       "      <td>0.060300</td>\n",
       "      <td>0.036890</td>\n",
       "      <td>0.870802</td>\n",
       "      <td>0.092308</td>\n",
       "      <td>0.047240</td>\n",
       "      <td>0.878737</td>\n",
       "      <td>0.074023</td>\n",
       "    </tr>\n",
       "    <tr>\n",
       "      <th>1</th>\n",
       "      <td>9704a709b505</td>\n",
       "      <td>007ACE74B050</td>\n",
       "      <td>On my perspective, I think that the face is a ...</td>\n",
       "      <td>Position</td>\n",
       "      <td>Adequate</td>\n",
       "      <td>0.034250</td>\n",
       "      <td>0.295810</td>\n",
       "      <td>0.003274</td>\n",
       "      <td>1</td>\n",
       "      <td>0.119425</td>\n",
       "      <td>...</td>\n",
       "      <td>0.005924</td>\n",
       "      <td>0.023707</td>\n",
       "      <td>0.296091</td>\n",
       "      <td>0.013536</td>\n",
       "      <td>0.076722</td>\n",
       "      <td>0.900544</td>\n",
       "      <td>0.022734</td>\n",
       "      <td>0.092930</td>\n",
       "      <td>0.885890</td>\n",
       "      <td>0.021180</td>\n",
       "    </tr>\n",
       "    <tr>\n",
       "      <th>2</th>\n",
       "      <td>c22adee811b6</td>\n",
       "      <td>007ACE74B050</td>\n",
       "      <td>I think that the face is a natural landform be...</td>\n",
       "      <td>Claim</td>\n",
       "      <td>Adequate</td>\n",
       "      <td>0.091020</td>\n",
       "      <td>0.240893</td>\n",
       "      <td>0.001420</td>\n",
       "      <td>1</td>\n",
       "      <td>0.324790</td>\n",
       "      <td>...</td>\n",
       "      <td>0.002460</td>\n",
       "      <td>0.024279</td>\n",
       "      <td>0.296698</td>\n",
       "      <td>0.012356</td>\n",
       "      <td>0.185364</td>\n",
       "      <td>0.798400</td>\n",
       "      <td>0.016236</td>\n",
       "      <td>0.220200</td>\n",
       "      <td>0.766578</td>\n",
       "      <td>0.013222</td>\n",
       "    </tr>\n",
       "    <tr>\n",
       "      <th>3</th>\n",
       "      <td>a10d361e54e4</td>\n",
       "      <td>007ACE74B050</td>\n",
       "      <td>If life was on Mars, we would know by now. The...</td>\n",
       "      <td>Evidence</td>\n",
       "      <td>Adequate</td>\n",
       "      <td>0.069588</td>\n",
       "      <td>0.260059</td>\n",
       "      <td>0.003686</td>\n",
       "      <td>1</td>\n",
       "      <td>0.248233</td>\n",
       "      <td>...</td>\n",
       "      <td>0.003787</td>\n",
       "      <td>0.085017</td>\n",
       "      <td>0.239872</td>\n",
       "      <td>0.008444</td>\n",
       "      <td>0.220339</td>\n",
       "      <td>0.763743</td>\n",
       "      <td>0.015917</td>\n",
       "      <td>0.259193</td>\n",
       "      <td>0.729588</td>\n",
       "      <td>0.011219</td>\n",
       "    </tr>\n",
       "    <tr>\n",
       "      <th>4</th>\n",
       "      <td>db3e453ec4e2</td>\n",
       "      <td>007ACE74B050</td>\n",
       "      <td>People thought that the face was formed by ali...</td>\n",
       "      <td>Counterclaim</td>\n",
       "      <td>Adequate</td>\n",
       "      <td>0.104945</td>\n",
       "      <td>0.227082</td>\n",
       "      <td>0.001307</td>\n",
       "      <td>1</td>\n",
       "      <td>0.383832</td>\n",
       "      <td>...</td>\n",
       "      <td>0.001476</td>\n",
       "      <td>0.055173</td>\n",
       "      <td>0.268754</td>\n",
       "      <td>0.009406</td>\n",
       "      <td>0.299551</td>\n",
       "      <td>0.688261</td>\n",
       "      <td>0.012188</td>\n",
       "      <td>0.294383</td>\n",
       "      <td>0.698020</td>\n",
       "      <td>0.007597</td>\n",
       "    </tr>\n",
       "  </tbody>\n",
       "</table>\n",
       "<p>5 rows × 22 columns</p>\n",
       "</div>"
      ],
      "text/plain": [
       "   discourse_id      essay_id  \\\n",
       "0  0013cc385424  007ACE74B050   \n",
       "1  9704a709b505  007ACE74B050   \n",
       "2  c22adee811b6  007ACE74B050   \n",
       "3  a10d361e54e4  007ACE74B050   \n",
       "4  db3e453ec4e2  007ACE74B050   \n",
       "\n",
       "                                      discourse_text discourse_type  \\\n",
       "0  Hi, i'm Isaac, i'm going to be writing about h...           Lead   \n",
       "1  On my perspective, I think that the face is a ...       Position   \n",
       "2  I think that the face is a natural landform be...          Claim   \n",
       "3  If life was on Mars, we would know by now. The...       Evidence   \n",
       "4  People thought that the face was formed by ali...   Counterclaim   \n",
       "\n",
       "  discourse_effectiveness  Ineffective_0  Adequate_0  Effective_0  label  \\\n",
       "0                Adequate       0.010725    0.299656     0.022952      1   \n",
       "1                Adequate       0.034250    0.295810     0.003274      1   \n",
       "2                Adequate       0.091020    0.240893     0.001420      1   \n",
       "3                Adequate       0.069588    0.260059     0.003686      1   \n",
       "4                Adequate       0.104945    0.227082     0.001307      1   \n",
       "\n",
       "       loss  ...  Effective_1  Ineffective_2  Adequate_2  Effective_2  \\\n",
       "0  0.106507  ...     0.009056       0.002334    0.270700     0.060300   \n",
       "1  0.119425  ...     0.005924       0.023707    0.296091     0.013536   \n",
       "2  0.324790  ...     0.002460       0.024279    0.296698     0.012356   \n",
       "3  0.248233  ...     0.003787       0.085017    0.239872     0.008444   \n",
       "4  0.383832  ...     0.001476       0.055173    0.268754     0.009406   \n",
       "\n",
       "   Ineffective  Adequate  Effective  oof_ineffective  oof_adequate  \\\n",
       "0     0.036890  0.870802   0.092308         0.047240      0.878737   \n",
       "1     0.076722  0.900544   0.022734         0.092930      0.885890   \n",
       "2     0.185364  0.798400   0.016236         0.220200      0.766578   \n",
       "3     0.220339  0.763743   0.015917         0.259193      0.729588   \n",
       "4     0.299551  0.688261   0.012188         0.294383      0.698020   \n",
       "\n",
       "   oof_effective  \n",
       "0       0.074023  \n",
       "1       0.021180  \n",
       "2       0.013222  \n",
       "3       0.011219  \n",
       "4       0.007597  \n",
       "\n",
       "[5 rows x 22 columns]"
      ]
     },
     "execution_count": 7,
     "metadata": {},
     "output_type": "execute_result"
    }
   ],
   "source": [
    "oof_df = pd.concat(oof_df).reset_index(drop=True)\n",
    "oof_df = train_df[['discourse_id']].merge(oof_df, on='discourse_id', how='left')\n",
    "oof_df.to_csv(f'./result/oof_cat.csv', index=False)\n",
    "print(oof_df.shape)\n",
    "oof_df.head()"
   ]
  },
  {
   "cell_type": "code",
   "execution_count": 8,
   "metadata": {},
   "outputs": [
    {
     "name": "stdout",
     "output_type": "stream",
     "text": [
      "oof=0.5993\n"
     ]
    }
   ],
   "source": [
    "cols = [col for col in oof_df.columns if col.startswith('oof_')]\n",
    "\n",
    "oof_score = log_loss(oof_df['label'].values, oof_df[cols].values, labels=[0,1,2])\n",
    "print('oof={:.4f}'.format(oof_score))"
   ]
  },
  {
   "cell_type": "code",
   "execution_count": null,
   "metadata": {},
   "outputs": [],
   "source": []
  }
 ],
 "metadata": {
  "kernelspec": {
   "display_name": "Python 3",
   "language": "python",
   "name": "python3"
  },
  "language_info": {
   "codemirror_mode": {
    "name": "ipython",
    "version": 3
   },
   "file_extension": ".py",
   "mimetype": "text/x-python",
   "name": "python",
   "nbconvert_exporter": "python",
   "pygments_lexer": "ipython3",
   "version": "3.7.8"
  }
 },
 "nbformat": 4,
 "nbformat_minor": 4
}
