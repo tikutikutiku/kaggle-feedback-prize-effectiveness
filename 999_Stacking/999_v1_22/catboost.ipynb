{
 "cells": [
  {
   "cell_type": "markdown",
   "metadata": {},
   "source": [
    "# Import Data"
   ]
  },
  {
   "cell_type": "code",
   "execution_count": 1,
   "metadata": {
    "scrolled": true
   },
   "outputs": [
    {
     "name": "stdout",
     "output_type": "stream",
     "text": [
      "(36765, 11)\n"
     ]
    },
    {
     "data": {
      "text/html": [
       "<div>\n",
       "<style scoped>\n",
       "    .dataframe tbody tr th:only-of-type {\n",
       "        vertical-align: middle;\n",
       "    }\n",
       "\n",
       "    .dataframe tbody tr th {\n",
       "        vertical-align: top;\n",
       "    }\n",
       "\n",
       "    .dataframe thead th {\n",
       "        text-align: right;\n",
       "    }\n",
       "</style>\n",
       "<table border=\"1\" class=\"dataframe\">\n",
       "  <thead>\n",
       "    <tr style=\"text-align: right;\">\n",
       "      <th></th>\n",
       "      <th>discourse_id</th>\n",
       "      <th>essay_id</th>\n",
       "      <th>discourse_text</th>\n",
       "      <th>discourse_type</th>\n",
       "      <th>discourse_effectiveness</th>\n",
       "      <th>Ineffective</th>\n",
       "      <th>Adequate</th>\n",
       "      <th>Effective</th>\n",
       "      <th>label</th>\n",
       "      <th>loss</th>\n",
       "      <th>prob_seq</th>\n",
       "    </tr>\n",
       "  </thead>\n",
       "  <tbody>\n",
       "    <tr>\n",
       "      <th>0</th>\n",
       "      <td>0013cc385424</td>\n",
       "      <td>007ACE74B050</td>\n",
       "      <td>Hi, i'm Isaac, i'm going to be writing about h...</td>\n",
       "      <td>Lead</td>\n",
       "      <td>Adequate</td>\n",
       "      <td>0.021704</td>\n",
       "      <td>0.927354</td>\n",
       "      <td>0.050943</td>\n",
       "      <td>1</td>\n",
       "      <td>0.075420</td>\n",
       "      <td>[[0.13634923 0.8468392  0.01681152]\\n [0.07866...</td>\n",
       "    </tr>\n",
       "    <tr>\n",
       "      <th>1</th>\n",
       "      <td>9704a709b505</td>\n",
       "      <td>007ACE74B050</td>\n",
       "      <td>On my perspective, I think that the face is a ...</td>\n",
       "      <td>Position</td>\n",
       "      <td>Adequate</td>\n",
       "      <td>0.077561</td>\n",
       "      <td>0.879470</td>\n",
       "      <td>0.042969</td>\n",
       "      <td>1</td>\n",
       "      <td>0.128435</td>\n",
       "      <td>[[0.0755257  0.86845165 0.05602267]\\n [0.06394...</td>\n",
       "    </tr>\n",
       "    <tr>\n",
       "      <th>2</th>\n",
       "      <td>c22adee811b6</td>\n",
       "      <td>007ACE74B050</td>\n",
       "      <td>I think that the face is a natural landform be...</td>\n",
       "      <td>Claim</td>\n",
       "      <td>Adequate</td>\n",
       "      <td>0.203750</td>\n",
       "      <td>0.780750</td>\n",
       "      <td>0.015500</td>\n",
       "      <td>1</td>\n",
       "      <td>0.247500</td>\n",
       "      <td>[[0.13821203 0.8419575  0.01983041]\\n [0.15052...</td>\n",
       "    </tr>\n",
       "    <tr>\n",
       "      <th>3</th>\n",
       "      <td>a10d361e54e4</td>\n",
       "      <td>007ACE74B050</td>\n",
       "      <td>If life was on Mars, we would know by now. The...</td>\n",
       "      <td>Evidence</td>\n",
       "      <td>Adequate</td>\n",
       "      <td>0.274948</td>\n",
       "      <td>0.712694</td>\n",
       "      <td>0.012357</td>\n",
       "      <td>1</td>\n",
       "      <td>0.338702</td>\n",
       "      <td>[[0.23645823 0.7562572  0.00728461]\\n [0.38560...</td>\n",
       "    </tr>\n",
       "    <tr>\n",
       "      <th>4</th>\n",
       "      <td>db3e453ec4e2</td>\n",
       "      <td>007ACE74B050</td>\n",
       "      <td>People thought that the face was formed by ali...</td>\n",
       "      <td>Counterclaim</td>\n",
       "      <td>Adequate</td>\n",
       "      <td>0.295401</td>\n",
       "      <td>0.697455</td>\n",
       "      <td>0.007143</td>\n",
       "      <td>1</td>\n",
       "      <td>0.360317</td>\n",
       "      <td>[[0.24329548 0.74282235 0.01388219]\\n [0.18840...</td>\n",
       "    </tr>\n",
       "  </tbody>\n",
       "</table>\n",
       "</div>"
      ],
      "text/plain": [
       "   discourse_id      essay_id  \\\n",
       "0  0013cc385424  007ACE74B050   \n",
       "1  9704a709b505  007ACE74B050   \n",
       "2  c22adee811b6  007ACE74B050   \n",
       "3  a10d361e54e4  007ACE74B050   \n",
       "4  db3e453ec4e2  007ACE74B050   \n",
       "\n",
       "                                      discourse_text discourse_type  \\\n",
       "0  Hi, i'm Isaac, i'm going to be writing about h...           Lead   \n",
       "1  On my perspective, I think that the face is a ...       Position   \n",
       "2  I think that the face is a natural landform be...          Claim   \n",
       "3  If life was on Mars, we would know by now. The...       Evidence   \n",
       "4  People thought that the face was formed by ali...   Counterclaim   \n",
       "\n",
       "  discourse_effectiveness  Ineffective  Adequate  Effective  label      loss  \\\n",
       "0                Adequate     0.021704  0.927354   0.050943      1  0.075420   \n",
       "1                Adequate     0.077561  0.879470   0.042969      1  0.128435   \n",
       "2                Adequate     0.203750  0.780750   0.015500      1  0.247500   \n",
       "3                Adequate     0.274948  0.712694   0.012357      1  0.338702   \n",
       "4                Adequate     0.295401  0.697455   0.007143      1  0.360317   \n",
       "\n",
       "                                            prob_seq  \n",
       "0  [[0.13634923 0.8468392  0.01681152]\\n [0.07866...  \n",
       "1  [[0.0755257  0.86845165 0.05602267]\\n [0.06394...  \n",
       "2  [[0.13821203 0.8419575  0.01983041]\\n [0.15052...  \n",
       "3  [[0.23645823 0.7562572  0.00728461]\\n [0.38560...  \n",
       "4  [[0.24329548 0.74282235 0.01388219]\\n [0.18840...  "
      ]
     },
     "execution_count": 1,
     "metadata": {},
     "output_type": "execute_result"
    }
   ],
   "source": [
    "import pandas as pd\n",
    "\n",
    "train_df = pd.read_csv('../../input/feedback-prize-effectiveness/train.csv')\n",
    "#stack_df = pd.read_csv('../../99_Ensemble/99_v1_04/result/stack_99_v1_04_02.csv')\n",
    "stack_df = pd.read_csv('../../29_Pseudo4/exp/result/29_v2_01/oof_df.csv')\n",
    "stack_df = stack_df.rename(columns={'pred_ineffective':'Ineffective','pred_adequate':'Adequate','pred_effective':'Effective'})\n",
    "num_models = 1 #7\n",
    "\n",
    "train_df = train_df[['discourse_id']].merge(stack_df, on='discourse_id', how='left')\n",
    "print(train_df.shape)\n",
    "train_df.head()"
   ]
  },
  {
   "cell_type": "code",
   "execution_count": 2,
   "metadata": {},
   "outputs": [
    {
     "name": "stderr",
     "output_type": "stream",
     "text": [
      "/home/takesako/anaconda3/lib/python3.7/site-packages/ipykernel_launcher.py:7: DeprecationWarning: string or file could not be read to its end due to unmatched data; this will raise a ValueError in the future.\n",
      "  import sys\n"
     ]
    }
   ],
   "source": [
    "# https://stackoverflow.com/questions/45704999/how-to-convert-vector-wrapped-as-string-to-numpy-array-in-pandas-dataframe\n",
    "import numpy as np\n",
    "train_df['prob_seq'] = train_df['prob_seq'].apply(lambda x:np.fromstring(\n",
    "                                x.replace('\\n','')\n",
    "                                 .replace('[','')\n",
    "                                 .replace(']','')\n",
    "                                 .replace('  ',' '), sep=' '))\n",
    "prob_seqs = [train_df['prob_seq'].values[i].reshape(-1,3) for i in range(len(train_df))]"
   ]
  },
  {
   "cell_type": "markdown",
   "metadata": {},
   "source": [
    "# Features"
   ]
  },
  {
   "cell_type": "code",
   "execution_count": 3,
   "metadata": {},
   "outputs": [
    {
     "name": "stderr",
     "output_type": "stream",
     "text": [
      "36765it [00:01, 21659.34it/s]\n",
      " 13%|█▎        | 4684/36765 [00:00<00:00, 46833.68it/s]"
     ]
    },
    {
     "name": "stdout",
     "output_type": "stream",
     "text": [
      "calculated_features.shape =  (36765, 10)\n"
     ]
    },
    {
     "name": "stderr",
     "output_type": "stream",
     "text": [
      "100%|██████████| 36765/36765 [00:00<00:00, 46553.95it/s]\n"
     ]
    },
    {
     "name": "stdout",
     "output_type": "stream",
     "text": [
      "train_df.shape =  (36765, 44)\n"
     ]
    },
    {
     "data": {
      "text/html": [
       "<div>\n",
       "<style scoped>\n",
       "    .dataframe tbody tr th:only-of-type {\n",
       "        vertical-align: middle;\n",
       "    }\n",
       "\n",
       "    .dataframe tbody tr th {\n",
       "        vertical-align: top;\n",
       "    }\n",
       "\n",
       "    .dataframe thead th {\n",
       "        text-align: right;\n",
       "    }\n",
       "</style>\n",
       "<table border=\"1\" class=\"dataframe\">\n",
       "  <thead>\n",
       "    <tr style=\"text-align: right;\">\n",
       "      <th></th>\n",
       "      <th>discourse_id</th>\n",
       "      <th>essay_id</th>\n",
       "      <th>discourse_text</th>\n",
       "      <th>discourse_type</th>\n",
       "      <th>discourse_effectiveness</th>\n",
       "      <th>Ineffective</th>\n",
       "      <th>Adequate</th>\n",
       "      <th>Effective</th>\n",
       "      <th>label</th>\n",
       "      <th>loss</th>\n",
       "      <th>...</th>\n",
       "      <th>std_Adequate</th>\n",
       "      <th>std_Effective</th>\n",
       "      <th>discourse_count</th>\n",
       "      <th>Claim_count</th>\n",
       "      <th>Evidence_count</th>\n",
       "      <th>Concluding Statement_count</th>\n",
       "      <th>Lead_count</th>\n",
       "      <th>Position_count</th>\n",
       "      <th>Counterclaim_count</th>\n",
       "      <th>Rebuttal_count</th>\n",
       "    </tr>\n",
       "  </thead>\n",
       "  <tbody>\n",
       "    <tr>\n",
       "      <th>0</th>\n",
       "      <td>0013cc385424</td>\n",
       "      <td>007ACE74B050</td>\n",
       "      <td>Hi, i'm Isaac, i'm going to be writing about h...</td>\n",
       "      <td>Lead</td>\n",
       "      <td>Adequate</td>\n",
       "      <td>0.021704</td>\n",
       "      <td>0.927354</td>\n",
       "      <td>0.050943</td>\n",
       "      <td>1</td>\n",
       "      <td>0.075420</td>\n",
       "      <td>...</td>\n",
       "      <td>0.162682</td>\n",
       "      <td>0.016596</td>\n",
       "      <td>9</td>\n",
       "      <td>1</td>\n",
       "      <td>2</td>\n",
       "      <td>1</td>\n",
       "      <td>1</td>\n",
       "      <td>1</td>\n",
       "      <td>2</td>\n",
       "      <td>1</td>\n",
       "    </tr>\n",
       "    <tr>\n",
       "      <th>1</th>\n",
       "      <td>9704a709b505</td>\n",
       "      <td>007ACE74B050</td>\n",
       "      <td>On my perspective, I think that the face is a ...</td>\n",
       "      <td>Position</td>\n",
       "      <td>Adequate</td>\n",
       "      <td>0.077561</td>\n",
       "      <td>0.879470</td>\n",
       "      <td>0.042969</td>\n",
       "      <td>1</td>\n",
       "      <td>0.128435</td>\n",
       "      <td>...</td>\n",
       "      <td>0.162682</td>\n",
       "      <td>0.016596</td>\n",
       "      <td>9</td>\n",
       "      <td>1</td>\n",
       "      <td>2</td>\n",
       "      <td>1</td>\n",
       "      <td>1</td>\n",
       "      <td>1</td>\n",
       "      <td>2</td>\n",
       "      <td>1</td>\n",
       "    </tr>\n",
       "  </tbody>\n",
       "</table>\n",
       "<p>2 rows × 44 columns</p>\n",
       "</div>"
      ],
      "text/plain": [
       "   discourse_id      essay_id  \\\n",
       "0  0013cc385424  007ACE74B050   \n",
       "1  9704a709b505  007ACE74B050   \n",
       "\n",
       "                                      discourse_text discourse_type  \\\n",
       "0  Hi, i'm Isaac, i'm going to be writing about h...           Lead   \n",
       "1  On my perspective, I think that the face is a ...       Position   \n",
       "\n",
       "  discourse_effectiveness  Ineffective  Adequate  Effective  label      loss  \\\n",
       "0                Adequate     0.021704  0.927354   0.050943      1  0.075420   \n",
       "1                Adequate     0.077561  0.879470   0.042969      1  0.128435   \n",
       "\n",
       "   ... std_Adequate  std_Effective  discourse_count  Claim_count  \\\n",
       "0  ...     0.162682       0.016596                9            1   \n",
       "1  ...     0.162682       0.016596                9            1   \n",
       "\n",
       "   Evidence_count  Concluding Statement_count  Lead_count  Position_count  \\\n",
       "0               2                           1           1               1   \n",
       "1               2                           1           1               1   \n",
       "\n",
       "   Counterclaim_count  Rebuttal_count  \n",
       "0                   2               1  \n",
       "1                   2               1  \n",
       "\n",
       "[2 rows x 44 columns]"
      ]
     },
     "execution_count": 3,
     "metadata": {},
     "output_type": "execute_result"
    }
   ],
   "source": [
    "from shujun_features import get_xgb_features\n",
    "\n",
    "train_df = get_xgb_features(train_df, prob_sequences=prob_seqs, use_prob_seq=True)\n",
    "print('train_df.shape = ', train_df.shape)\n",
    "train_df.head(2)"
   ]
  },
  {
   "cell_type": "code",
   "execution_count": 4,
   "metadata": {},
   "outputs": [
    {
     "data": {
      "text/plain": [
       "Index(['discourse_id', 'essay_id', 'discourse_text', 'discourse_type',\n",
       "       'discourse_effectiveness', 'Ineffective', 'Adequate', 'Effective',\n",
       "       'label', 'loss', 'prob_seq', 'instability_0', 'instability_1',\n",
       "       'instability_2', 'instability_3', 'begin_0', 'begin_1', 'begin_2',\n",
       "       'end_0', 'end_1', 'end_2', 'len', 'Ineffective_previous',\n",
       "       'Adequate_previous', 'Effective_previous', 'discourse_type_previous',\n",
       "       'Ineffective_next', 'Adequate_next', 'Effective_next',\n",
       "       'discourse_type_next', 'mean_Ineffective', 'mean_Adequate',\n",
       "       'mean_Effective', 'std_Ineffective', 'std_Adequate', 'std_Effective',\n",
       "       'discourse_count', 'Claim_count', 'Evidence_count',\n",
       "       'Concluding Statement_count', 'Lead_count', 'Position_count',\n",
       "       'Counterclaim_count', 'Rebuttal_count'],\n",
       "      dtype='object')"
      ]
     },
     "execution_count": 4,
     "metadata": {},
     "output_type": "execute_result"
    }
   ],
   "source": [
    "train_df.columns"
   ]
  },
  {
   "cell_type": "code",
   "execution_count": 5,
   "metadata": {},
   "outputs": [],
   "source": [
    "seq_cols = [f\"instability_{i}\" for i in range(4)] + [f\"begin_{i}\" for i in range(3)] + [f\"end_{i}\" for i in range(3)] + ['len']"
   ]
  },
  {
   "cell_type": "code",
   "execution_count": 6,
   "metadata": {},
   "outputs": [],
   "source": [
    "cols = ['discourse_type','discourse_type_previous','discourse_type_next']\n",
    "\n",
    "#cols += [f'Ineffective_{i}' for i in range(num_models)]\n",
    "#cols += [f'Adequate_{i}' for i in range(num_models)]\n",
    "#cols += [f'Effective_{i}' for i in range(num_models)]\n",
    "\n",
    "cols += ['Ineffective','Adequate','Effective']\n",
    "\n",
    "cols += [\n",
    "    'Ineffective_previous', 'Adequate_previous', 'Effective_previous', \n",
    "    'Ineffective_next', 'Adequate_next', 'Effective_next',\n",
    "    'mean_Ineffective', 'mean_Adequate', 'mean_Effective',\n",
    "    'std_Ineffective', 'std_Adequate', 'std_Effective', \n",
    "    'discourse_count', 'Claim_count', 'Evidence_count', 'Concluding Statement_count',\n",
    "    'Lead_count', 'Position_count', 'Counterclaim_count', 'Rebuttal_count'\n",
    "]\n",
    "\n",
    "cols += seq_cols"
   ]
  },
  {
   "cell_type": "code",
   "execution_count": 7,
   "metadata": {},
   "outputs": [
    {
     "data": {
      "text/plain": [
       "37"
      ]
     },
     "execution_count": 7,
     "metadata": {},
     "output_type": "execute_result"
    }
   ],
   "source": [
    "len(cols)"
   ]
  },
  {
   "cell_type": "markdown",
   "metadata": {},
   "source": [
    "# Data Split"
   ]
  },
  {
   "cell_type": "code",
   "execution_count": 8,
   "metadata": {},
   "outputs": [
    {
     "name": "stdout",
     "output_type": "stream",
     "text": [
      "load folds...\n"
     ]
    }
   ],
   "source": [
    "from os.path import join as opj\n",
    "\n",
    "class args:\n",
    "    fold_path = '../../00_EDA/00_v2_07/result/'\n",
    "    num_fold = 5\n",
    "    \n",
    "fold_path = args.fold_path\n",
    "import joblib\n",
    "print('load folds...')\n",
    "trn_ids_list = joblib.load(opj(fold_path,f'trn_ids_list.joblib'))\n",
    "val_ids_list = joblib.load(opj(fold_path,f'val_ids_list.joblib'))"
   ]
  },
  {
   "cell_type": "markdown",
   "metadata": {},
   "source": [
    "# Stacking"
   ]
  },
  {
   "cell_type": "code",
   "execution_count": 9,
   "metadata": {},
   "outputs": [],
   "source": [
    "import matplotlib.pyplot as plt\n",
    "\n",
    "def show_feature_importance(model):\n",
    "    feature_importance = model.get_feature_importance()\n",
    "    fi_df = pd.DataFrame({'importance':feature_importance, 'features':cols})\n",
    "    fi_df = fi_df.sort_values('importance', ascending=True)\n",
    "\n",
    "    plt.figure(figsize=(12, 6))\n",
    "    plt.barh(range(len(fi_df)),\n",
    "            fi_df['importance'].values,\n",
    "            tick_label=fi_df['features'].values)\n",
    "    plt.xlabel('importance')\n",
    "    plt.ylabel('features')\n",
    "    plt.grid()\n",
    "    plt.show()"
   ]
  },
  {
   "cell_type": "code",
   "execution_count": 10,
   "metadata": {},
   "outputs": [],
   "source": [
    "import catboost\n",
    "params = {\n",
    "    'random_state':45, \n",
    "    'n_estimators':20000,\n",
    "    'loss_function':'MultiClass',\n",
    "}"
   ]
  },
  {
   "cell_type": "code",
   "execution_count": 11,
   "metadata": {
    "scrolled": false
   },
   "outputs": [
    {
     "name": "stdout",
     "output_type": "stream",
     "text": [
      "fold0 : CV=0.5778\n"
     ]
    },
    {
     "data": {
      "image/png": "[encoded data removed]",
      "text/plain": [
       "<Figure size 864x432 with 1 Axes>"
      ]
     },
     "metadata": {
      "needs_background": "light"
     },
     "output_type": "display_data"
    },
    {
     "name": "stdout",
     "output_type": "stream",
     "text": [
      "fold1 : CV=0.5902\n"
     ]
    },
    {
     "data": {
      "image/png": "[encoded data removed]",
      "text/plain": [
       "<Figure size 864x432 with 1 Axes>"
      ]
     },
     "metadata": {
      "needs_background": "light"
     },
     "output_type": "display_data"
    },
    {
     "name": "stdout",
     "output_type": "stream",
     "text": [
      "fold2 : CV=0.5776\n"
     ]
    },
    {
     "data": {
      "image/png": "[encoded data removed]",
      "text/plain": [
       "<Figure size 864x432 with 1 Axes>"
      ]
     },
     "metadata": {
      "needs_background": "light"
     },
     "output_type": "display_data"
    },
    {
     "name": "stdout",
     "output_type": "stream",
     "text": [
      "fold3 : CV=0.5903\n"
     ]
    },
    {
     "data": {
      "image/png": "[encoded data removed]",
      "text/plain": [
       "<Figure size 864x432 with 1 Axes>"
      ]
     },
     "metadata": {
      "needs_background": "light"
     },
     "output_type": "display_data"
    },
    {
     "name": "stdout",
     "output_type": "stream",
     "text": [
      "fold4 : CV=0.5838\n"
     ]
    },
    {
     "data": {
      "image/png": "[encoded data removed]",
      "text/plain": [
       "<Figure size 864x432 with 1 Axes>"
      ]
     },
     "metadata": {
      "needs_background": "light"
     },
     "output_type": "display_data"
    },
    {
     "name": "stdout",
     "output_type": "stream",
     "text": [
      "CV=0.5839\n"
     ]
    }
   ],
   "source": [
    "from sklearn.metrics import log_loss\n",
    "import pickle\n",
    "import os\n",
    "os.makedirs('./result', exist_ok=True)\n",
    "\n",
    "cat_features = [0,1,2]\n",
    "\n",
    "score_list = []\n",
    "oof_df = []\n",
    "for fold in range(args.num_fold):\n",
    "    trn_df = train_df[train_df['essay_id'].isin(trn_ids_list[fold])].reset_index(drop=True)\n",
    "    val_df = train_df[train_df['essay_id'].isin(val_ids_list[fold])].reset_index(drop=True)\n",
    "\n",
    "    pool_trn = catboost.Pool(trn_df[cols].values, label=trn_df['label'].values, cat_features=cat_features)\n",
    "    pool_val = catboost.Pool(val_df[cols].values, label=val_df['label'].values, cat_features=cat_features)\n",
    "\n",
    "    model = catboost.CatBoostClassifier(**params)\n",
    "    model.fit(pool_trn, \n",
    "              eval_set=[pool_val], \n",
    "              verbose=0, \n",
    "              early_stopping_rounds=100,\n",
    "             )\n",
    "\n",
    "    pred = model.predict(pool_val, prediction_type='Probability')\n",
    "    target = val_df['label'].values\n",
    "    score = log_loss(target, pred, labels=[0,1,2])\n",
    "    print('fold{} : CV={:.4f}'.format(fold, score))\n",
    "    score_list.append(score)\n",
    "    val_df['oof_ineffective'] = pred[:,0]\n",
    "    val_df['oof_adequate'] = pred[:,1]\n",
    "    val_df['oof_effective'] = pred[:,2]\n",
    "    oof_df.append(val_df)\n",
    "    # save model\n",
    "    joblib.dump(model, f'./result/cat_fold{fold}.joblib')\n",
    "    # plot\n",
    "    show_feature_importance(model)\n",
    "    \n",
    "CV = sum(score_list) / len(score_list)\n",
    "print('CV={:.4f}'.format(CV))"
   ]
  },
  {
   "cell_type": "code",
   "execution_count": 12,
   "metadata": {
    "scrolled": false
   },
   "outputs": [
    {
     "name": "stdout",
     "output_type": "stream",
     "text": [
      "(36765, 47)\n"
     ]
    },
    {
     "data": {
      "text/html": [
       "<div>\n",
       "<style scoped>\n",
       "    .dataframe tbody tr th:only-of-type {\n",
       "        vertical-align: middle;\n",
       "    }\n",
       "\n",
       "    .dataframe tbody tr th {\n",
       "        vertical-align: top;\n",
       "    }\n",
       "\n",
       "    .dataframe thead th {\n",
       "        text-align: right;\n",
       "    }\n",
       "</style>\n",
       "<table border=\"1\" class=\"dataframe\">\n",
       "  <thead>\n",
       "    <tr style=\"text-align: right;\">\n",
       "      <th></th>\n",
       "      <th>discourse_id</th>\n",
       "      <th>essay_id</th>\n",
       "      <th>discourse_text</th>\n",
       "      <th>discourse_type</th>\n",
       "      <th>discourse_effectiveness</th>\n",
       "      <th>Ineffective</th>\n",
       "      <th>Adequate</th>\n",
       "      <th>Effective</th>\n",
       "      <th>label</th>\n",
       "      <th>loss</th>\n",
       "      <th>...</th>\n",
       "      <th>Claim_count</th>\n",
       "      <th>Evidence_count</th>\n",
       "      <th>Concluding Statement_count</th>\n",
       "      <th>Lead_count</th>\n",
       "      <th>Position_count</th>\n",
       "      <th>Counterclaim_count</th>\n",
       "      <th>Rebuttal_count</th>\n",
       "      <th>oof_ineffective</th>\n",
       "      <th>oof_adequate</th>\n",
       "      <th>oof_effective</th>\n",
       "    </tr>\n",
       "  </thead>\n",
       "  <tbody>\n",
       "    <tr>\n",
       "      <th>0</th>\n",
       "      <td>0013cc385424</td>\n",
       "      <td>007ACE74B050</td>\n",
       "      <td>Hi, i'm Isaac, i'm going to be writing about h...</td>\n",
       "      <td>Lead</td>\n",
       "      <td>Adequate</td>\n",
       "      <td>0.021704</td>\n",
       "      <td>0.927354</td>\n",
       "      <td>0.050943</td>\n",
       "      <td>1</td>\n",
       "      <td>0.075420</td>\n",
       "      <td>...</td>\n",
       "      <td>1</td>\n",
       "      <td>2</td>\n",
       "      <td>1</td>\n",
       "      <td>1</td>\n",
       "      <td>1</td>\n",
       "      <td>2</td>\n",
       "      <td>1</td>\n",
       "      <td>0.035918</td>\n",
       "      <td>0.895379</td>\n",
       "      <td>0.068704</td>\n",
       "    </tr>\n",
       "    <tr>\n",
       "      <th>1</th>\n",
       "      <td>9704a709b505</td>\n",
       "      <td>007ACE74B050</td>\n",
       "      <td>On my perspective, I think that the face is a ...</td>\n",
       "      <td>Position</td>\n",
       "      <td>Adequate</td>\n",
       "      <td>0.077561</td>\n",
       "      <td>0.879470</td>\n",
       "      <td>0.042969</td>\n",
       "      <td>1</td>\n",
       "      <td>0.128435</td>\n",
       "      <td>...</td>\n",
       "      <td>1</td>\n",
       "      <td>2</td>\n",
       "      <td>1</td>\n",
       "      <td>1</td>\n",
       "      <td>1</td>\n",
       "      <td>2</td>\n",
       "      <td>1</td>\n",
       "      <td>0.084695</td>\n",
       "      <td>0.849328</td>\n",
       "      <td>0.065977</td>\n",
       "    </tr>\n",
       "    <tr>\n",
       "      <th>2</th>\n",
       "      <td>c22adee811b6</td>\n",
       "      <td>007ACE74B050</td>\n",
       "      <td>I think that the face is a natural landform be...</td>\n",
       "      <td>Claim</td>\n",
       "      <td>Adequate</td>\n",
       "      <td>0.203750</td>\n",
       "      <td>0.780750</td>\n",
       "      <td>0.015500</td>\n",
       "      <td>1</td>\n",
       "      <td>0.247500</td>\n",
       "      <td>...</td>\n",
       "      <td>1</td>\n",
       "      <td>2</td>\n",
       "      <td>1</td>\n",
       "      <td>1</td>\n",
       "      <td>1</td>\n",
       "      <td>2</td>\n",
       "      <td>1</td>\n",
       "      <td>0.210883</td>\n",
       "      <td>0.759909</td>\n",
       "      <td>0.029208</td>\n",
       "    </tr>\n",
       "    <tr>\n",
       "      <th>3</th>\n",
       "      <td>a10d361e54e4</td>\n",
       "      <td>007ACE74B050</td>\n",
       "      <td>If life was on Mars, we would know by now. The...</td>\n",
       "      <td>Evidence</td>\n",
       "      <td>Adequate</td>\n",
       "      <td>0.274948</td>\n",
       "      <td>0.712694</td>\n",
       "      <td>0.012357</td>\n",
       "      <td>1</td>\n",
       "      <td>0.338702</td>\n",
       "      <td>...</td>\n",
       "      <td>1</td>\n",
       "      <td>2</td>\n",
       "      <td>1</td>\n",
       "      <td>1</td>\n",
       "      <td>1</td>\n",
       "      <td>2</td>\n",
       "      <td>1</td>\n",
       "      <td>0.297277</td>\n",
       "      <td>0.686563</td>\n",
       "      <td>0.016160</td>\n",
       "    </tr>\n",
       "    <tr>\n",
       "      <th>4</th>\n",
       "      <td>db3e453ec4e2</td>\n",
       "      <td>007ACE74B050</td>\n",
       "      <td>People thought that the face was formed by ali...</td>\n",
       "      <td>Counterclaim</td>\n",
       "      <td>Adequate</td>\n",
       "      <td>0.295401</td>\n",
       "      <td>0.697455</td>\n",
       "      <td>0.007143</td>\n",
       "      <td>1</td>\n",
       "      <td>0.360317</td>\n",
       "      <td>...</td>\n",
       "      <td>1</td>\n",
       "      <td>2</td>\n",
       "      <td>1</td>\n",
       "      <td>1</td>\n",
       "      <td>1</td>\n",
       "      <td>2</td>\n",
       "      <td>1</td>\n",
       "      <td>0.271972</td>\n",
       "      <td>0.712467</td>\n",
       "      <td>0.015561</td>\n",
       "    </tr>\n",
       "  </tbody>\n",
       "</table>\n",
       "<p>5 rows × 47 columns</p>\n",
       "</div>"
      ],
      "text/plain": [
       "   discourse_id      essay_id  \\\n",
       "0  0013cc385424  007ACE74B050   \n",
       "1  9704a709b505  007ACE74B050   \n",
       "2  c22adee811b6  007ACE74B050   \n",
       "3  a10d361e54e4  007ACE74B050   \n",
       "4  db3e453ec4e2  007ACE74B050   \n",
       "\n",
       "                                      discourse_text discourse_type  \\\n",
       "0  Hi, i'm Isaac, i'm going to be writing about h...           Lead   \n",
       "1  On my perspective, I think that the face is a ...       Position   \n",
       "2  I think that the face is a natural landform be...          Claim   \n",
       "3  If life was on Mars, we would know by now. The...       Evidence   \n",
       "4  People thought that the face was formed by ali...   Counterclaim   \n",
       "\n",
       "  discourse_effectiveness  Ineffective  Adequate  Effective  label      loss  \\\n",
       "0                Adequate     0.021704  0.927354   0.050943      1  0.075420   \n",
       "1                Adequate     0.077561  0.879470   0.042969      1  0.128435   \n",
       "2                Adequate     0.203750  0.780750   0.015500      1  0.247500   \n",
       "3                Adequate     0.274948  0.712694   0.012357      1  0.338702   \n",
       "4                Adequate     0.295401  0.697455   0.007143      1  0.360317   \n",
       "\n",
       "   ... Claim_count  Evidence_count  Concluding Statement_count  Lead_count  \\\n",
       "0  ...           1               2                           1           1   \n",
       "1  ...           1               2                           1           1   \n",
       "2  ...           1               2                           1           1   \n",
       "3  ...           1               2                           1           1   \n",
       "4  ...           1               2                           1           1   \n",
       "\n",
       "   Position_count  Counterclaim_count  Rebuttal_count  oof_ineffective  \\\n",
       "0               1                   2               1         0.035918   \n",
       "1               1                   2               1         0.084695   \n",
       "2               1                   2               1         0.210883   \n",
       "3               1                   2               1         0.297277   \n",
       "4               1                   2               1         0.271972   \n",
       "\n",
       "   oof_adequate  oof_effective  \n",
       "0      0.895379       0.068704  \n",
       "1      0.849328       0.065977  \n",
       "2      0.759909       0.029208  \n",
       "3      0.686563       0.016160  \n",
       "4      0.712467       0.015561  \n",
       "\n",
       "[5 rows x 47 columns]"
      ]
     },
     "execution_count": 12,
     "metadata": {},
     "output_type": "execute_result"
    }
   ],
   "source": [
    "oof_df = pd.concat(oof_df).reset_index(drop=True)\n",
    "oof_df = train_df[['discourse_id']].merge(oof_df, on='discourse_id', how='left')\n",
    "oof_df.to_csv(f'./result/oof_cat.csv', index=False)\n",
    "print(oof_df.shape)\n",
    "oof_df.head()"
   ]
  },
  {
   "cell_type": "code",
   "execution_count": 13,
   "metadata": {},
   "outputs": [
    {
     "name": "stdout",
     "output_type": "stream",
     "text": [
      "oof=0.5840\n"
     ]
    }
   ],
   "source": [
    "cols = [col for col in oof_df.columns if col.startswith('oof_')]\n",
    "\n",
    "oof_score = log_loss(oof_df['label'].values, oof_df[cols].values, labels=[0,1,2])\n",
    "print('oof={:.4f}'.format(oof_score))"
   ]
  },
  {
   "cell_type": "code",
   "execution_count": null,
   "metadata": {},
   "outputs": [],
   "source": []
  },
  {
   "cell_type": "markdown",
   "metadata": {},
   "source": [
    "# Check for Fold0"
   ]
  },
  {
   "cell_type": "code",
   "execution_count": 14,
   "metadata": {},
   "outputs": [],
   "source": [
    "import pandas as pd\n",
    "\n",
    "fold = 0\n",
    "val_ids = val_ids_list[fold]\n",
    "\n",
    "local_pred_df = oof_df[oof_df['essay_id'].isin(val_ids)].reset_index(drop=True).copy()\n",
    "\n",
    "kaggle_pred_df = pd.read_csv('kaggle_try3/stack_df.csv')\n",
    "kaggle_pred_df = kaggle_pred_df[kaggle_pred_df['discourse_id'].isin(local_pred_df['discourse_id'])].reset_index(drop=True)\n",
    "#kaggle_pred_df = local_pred_df[['discourse_id']].merge(kaggle_pred_df, on='discourse_id', how='left').reset_index(drop=True)\n",
    "\n",
    "kaggle_sub_df = pd.read_csv('kaggle_try3/submission.csv')\n",
    "kaggle_sub_df = kaggle_sub_df[kaggle_sub_df['discourse_id'].isin(local_pred_df['discourse_id'])].reset_index(drop=True)\n",
    "#kaggle_sub_df = local_pred_df[['discourse_id']].merge(kaggle_sub_df, on='discourse_id', how='left').reset_index(drop=True)\n",
    "\n",
    "local_pred_df = kaggle_sub_df[['discourse_id']].merge(local_pred_df, on='discourse_id', how='left').reset_index(drop=True)"
   ]
  },
  {
   "cell_type": "code",
   "execution_count": 15,
   "metadata": {},
   "outputs": [
    {
     "data": {
      "text/plain": [
       "((7303, 47), (7303, 5), (7303, 4))"
      ]
     },
     "execution_count": 15,
     "metadata": {},
     "output_type": "execute_result"
    }
   ],
   "source": [
    "local_pred_df.shape, kaggle_pred_df.shape, kaggle_sub_df.shape"
   ]
  },
  {
   "cell_type": "code",
   "execution_count": 16,
   "metadata": {},
   "outputs": [
    {
     "data": {
      "text/html": [
       "<div>\n",
       "<style scoped>\n",
       "    .dataframe tbody tr th:only-of-type {\n",
       "        vertical-align: middle;\n",
       "    }\n",
       "\n",
       "    .dataframe tbody tr th {\n",
       "        vertical-align: top;\n",
       "    }\n",
       "\n",
       "    .dataframe thead th {\n",
       "        text-align: right;\n",
       "    }\n",
       "</style>\n",
       "<table border=\"1\" class=\"dataframe\">\n",
       "  <thead>\n",
       "    <tr style=\"text-align: right;\">\n",
       "      <th></th>\n",
       "      <th>discourse_id</th>\n",
       "      <th>oof_ineffective</th>\n",
       "      <th>oof_adequate</th>\n",
       "      <th>oof_effective</th>\n",
       "      <th>Ineffective</th>\n",
       "      <th>Adequate</th>\n",
       "      <th>Effective</th>\n",
       "      <th>prob_seq</th>\n",
       "    </tr>\n",
       "  </thead>\n",
       "  <tbody>\n",
       "    <tr>\n",
       "      <th>0</th>\n",
       "      <td>0013cc385424</td>\n",
       "      <td>0.035918</td>\n",
       "      <td>0.895379</td>\n",
       "      <td>0.068704</td>\n",
       "      <td>0.021704</td>\n",
       "      <td>0.927354</td>\n",
       "      <td>0.050943</td>\n",
       "      <td>[0.13634923, 0.8468392, 0.01681152, 0.07866441...</td>\n",
       "    </tr>\n",
       "    <tr>\n",
       "      <th>1</th>\n",
       "      <td>9704a709b505</td>\n",
       "      <td>0.084695</td>\n",
       "      <td>0.849328</td>\n",
       "      <td>0.065977</td>\n",
       "      <td>0.077561</td>\n",
       "      <td>0.879470</td>\n",
       "      <td>0.042969</td>\n",
       "      <td>[0.0755257, 0.86845165, 0.05602267, 0.06394375...</td>\n",
       "    </tr>\n",
       "    <tr>\n",
       "      <th>2</th>\n",
       "      <td>c22adee811b6</td>\n",
       "      <td>0.210883</td>\n",
       "      <td>0.759909</td>\n",
       "      <td>0.029208</td>\n",
       "      <td>0.203750</td>\n",
       "      <td>0.780750</td>\n",
       "      <td>0.015500</td>\n",
       "      <td>[0.13821203, 0.8419575, 0.01983041, 0.15052359...</td>\n",
       "    </tr>\n",
       "    <tr>\n",
       "      <th>3</th>\n",
       "      <td>a10d361e54e4</td>\n",
       "      <td>0.297277</td>\n",
       "      <td>0.686563</td>\n",
       "      <td>0.016160</td>\n",
       "      <td>0.274948</td>\n",
       "      <td>0.712694</td>\n",
       "      <td>0.012357</td>\n",
       "      <td>[0.23645823, 0.7562572, 0.00728461, 0.3856053,...</td>\n",
       "    </tr>\n",
       "    <tr>\n",
       "      <th>4</th>\n",
       "      <td>db3e453ec4e2</td>\n",
       "      <td>0.271972</td>\n",
       "      <td>0.712467</td>\n",
       "      <td>0.015561</td>\n",
       "      <td>0.295401</td>\n",
       "      <td>0.697455</td>\n",
       "      <td>0.007143</td>\n",
       "      <td>[0.24329548, 0.74282235, 0.01388219, 0.1884030...</td>\n",
       "    </tr>\n",
       "  </tbody>\n",
       "</table>\n",
       "</div>"
      ],
      "text/plain": [
       "   discourse_id  oof_ineffective  oof_adequate  oof_effective  Ineffective  \\\n",
       "0  0013cc385424         0.035918      0.895379       0.068704     0.021704   \n",
       "1  9704a709b505         0.084695      0.849328       0.065977     0.077561   \n",
       "2  c22adee811b6         0.210883      0.759909       0.029208     0.203750   \n",
       "3  a10d361e54e4         0.297277      0.686563       0.016160     0.274948   \n",
       "4  db3e453ec4e2         0.271972      0.712467       0.015561     0.295401   \n",
       "\n",
       "   Adequate  Effective                                           prob_seq  \n",
       "0  0.927354   0.050943  [0.13634923, 0.8468392, 0.01681152, 0.07866441...  \n",
       "1  0.879470   0.042969  [0.0755257, 0.86845165, 0.05602267, 0.06394375...  \n",
       "2  0.780750   0.015500  [0.13821203, 0.8419575, 0.01983041, 0.15052359...  \n",
       "3  0.712694   0.012357  [0.23645823, 0.7562572, 0.00728461, 0.3856053,...  \n",
       "4  0.697455   0.007143  [0.24329548, 0.74282235, 0.01388219, 0.1884030...  "
      ]
     },
     "execution_count": 16,
     "metadata": {},
     "output_type": "execute_result"
    }
   ],
   "source": [
    "local_pred_df[['discourse_id','oof_ineffective','oof_adequate','oof_effective','Ineffective','Adequate','Effective','prob_seq']].head(5)"
   ]
  },
  {
   "cell_type": "code",
   "execution_count": 17,
   "metadata": {},
   "outputs": [
    {
     "data": {
      "text/html": [
       "<div>\n",
       "<style scoped>\n",
       "    .dataframe tbody tr th:only-of-type {\n",
       "        vertical-align: middle;\n",
       "    }\n",
       "\n",
       "    .dataframe tbody tr th {\n",
       "        vertical-align: top;\n",
       "    }\n",
       "\n",
       "    .dataframe thead th {\n",
       "        text-align: right;\n",
       "    }\n",
       "</style>\n",
       "<table border=\"1\" class=\"dataframe\">\n",
       "  <thead>\n",
       "    <tr style=\"text-align: right;\">\n",
       "      <th></th>\n",
       "      <th>discourse_id</th>\n",
       "      <th>Ineffective</th>\n",
       "      <th>Adequate</th>\n",
       "      <th>Effective</th>\n",
       "      <th>prob_seq</th>\n",
       "    </tr>\n",
       "  </thead>\n",
       "  <tbody>\n",
       "    <tr>\n",
       "      <th>0</th>\n",
       "      <td>0013cc385424</td>\n",
       "      <td>0.021700</td>\n",
       "      <td>0.927363</td>\n",
       "      <td>0.050937</td>\n",
       "      <td>[[0.1363547  0.8468382  0.01680712]\\n [0.07864...</td>\n",
       "    </tr>\n",
       "    <tr>\n",
       "      <th>1</th>\n",
       "      <td>9704a709b505</td>\n",
       "      <td>0.077544</td>\n",
       "      <td>0.879495</td>\n",
       "      <td>0.042961</td>\n",
       "      <td>[[0.07551087 0.8684687  0.05602038]\\n [0.06393...</td>\n",
       "    </tr>\n",
       "    <tr>\n",
       "      <th>2</th>\n",
       "      <td>c22adee811b6</td>\n",
       "      <td>0.203645</td>\n",
       "      <td>0.780854</td>\n",
       "      <td>0.015501</td>\n",
       "      <td>[[0.13819964 0.84196836 0.01983205]\\n [0.15048...</td>\n",
       "    </tr>\n",
       "    <tr>\n",
       "      <th>3</th>\n",
       "      <td>a10d361e54e4</td>\n",
       "      <td>0.274836</td>\n",
       "      <td>0.712806</td>\n",
       "      <td>0.012358</td>\n",
       "      <td>[[0.23641744 0.75629693 0.0072856 ]\\n [0.38543...</td>\n",
       "    </tr>\n",
       "    <tr>\n",
       "      <th>4</th>\n",
       "      <td>db3e453ec4e2</td>\n",
       "      <td>0.295359</td>\n",
       "      <td>0.697500</td>\n",
       "      <td>0.007141</td>\n",
       "      <td>[[0.2432435  0.7428754  0.01388111]\\n [0.18832...</td>\n",
       "    </tr>\n",
       "  </tbody>\n",
       "</table>\n",
       "</div>"
      ],
      "text/plain": [
       "   discourse_id  Ineffective  Adequate  Effective  \\\n",
       "0  0013cc385424     0.021700  0.927363   0.050937   \n",
       "1  9704a709b505     0.077544  0.879495   0.042961   \n",
       "2  c22adee811b6     0.203645  0.780854   0.015501   \n",
       "3  a10d361e54e4     0.274836  0.712806   0.012358   \n",
       "4  db3e453ec4e2     0.295359  0.697500   0.007141   \n",
       "\n",
       "                                            prob_seq  \n",
       "0  [[0.1363547  0.8468382  0.01680712]\\n [0.07864...  \n",
       "1  [[0.07551087 0.8684687  0.05602038]\\n [0.06393...  \n",
       "2  [[0.13819964 0.84196836 0.01983205]\\n [0.15048...  \n",
       "3  [[0.23641744 0.75629693 0.0072856 ]\\n [0.38543...  \n",
       "4  [[0.2432435  0.7428754  0.01388111]\\n [0.18832...  "
      ]
     },
     "execution_count": 17,
     "metadata": {},
     "output_type": "execute_result"
    }
   ],
   "source": [
    "kaggle_pred_df.head(5)"
   ]
  },
  {
   "cell_type": "code",
   "execution_count": 18,
   "metadata": {},
   "outputs": [
    {
     "data": {
      "text/html": [
       "<div>\n",
       "<style scoped>\n",
       "    .dataframe tbody tr th:only-of-type {\n",
       "        vertical-align: middle;\n",
       "    }\n",
       "\n",
       "    .dataframe tbody tr th {\n",
       "        vertical-align: top;\n",
       "    }\n",
       "\n",
       "    .dataframe thead th {\n",
       "        text-align: right;\n",
       "    }\n",
       "</style>\n",
       "<table border=\"1\" class=\"dataframe\">\n",
       "  <thead>\n",
       "    <tr style=\"text-align: right;\">\n",
       "      <th></th>\n",
       "      <th>discourse_id</th>\n",
       "      <th>Ineffective</th>\n",
       "      <th>Adequate</th>\n",
       "      <th>Effective</th>\n",
       "    </tr>\n",
       "  </thead>\n",
       "  <tbody>\n",
       "    <tr>\n",
       "      <th>0</th>\n",
       "      <td>0013cc385424</td>\n",
       "      <td>0.035469</td>\n",
       "      <td>0.894734</td>\n",
       "      <td>0.069797</td>\n",
       "    </tr>\n",
       "    <tr>\n",
       "      <th>1</th>\n",
       "      <td>9704a709b505</td>\n",
       "      <td>0.084445</td>\n",
       "      <td>0.850620</td>\n",
       "      <td>0.064934</td>\n",
       "    </tr>\n",
       "    <tr>\n",
       "      <th>2</th>\n",
       "      <td>c22adee811b6</td>\n",
       "      <td>0.210883</td>\n",
       "      <td>0.759909</td>\n",
       "      <td>0.029208</td>\n",
       "    </tr>\n",
       "    <tr>\n",
       "      <th>3</th>\n",
       "      <td>a10d361e54e4</td>\n",
       "      <td>0.297277</td>\n",
       "      <td>0.686563</td>\n",
       "      <td>0.016160</td>\n",
       "    </tr>\n",
       "    <tr>\n",
       "      <th>4</th>\n",
       "      <td>db3e453ec4e2</td>\n",
       "      <td>0.271972</td>\n",
       "      <td>0.712467</td>\n",
       "      <td>0.015561</td>\n",
       "    </tr>\n",
       "  </tbody>\n",
       "</table>\n",
       "</div>"
      ],
      "text/plain": [
       "   discourse_id  Ineffective  Adequate  Effective\n",
       "0  0013cc385424     0.035469  0.894734   0.069797\n",
       "1  9704a709b505     0.084445  0.850620   0.064934\n",
       "2  c22adee811b6     0.210883  0.759909   0.029208\n",
       "3  a10d361e54e4     0.297277  0.686563   0.016160\n",
       "4  db3e453ec4e2     0.271972  0.712467   0.015561"
      ]
     },
     "execution_count": 18,
     "metadata": {},
     "output_type": "execute_result"
    }
   ],
   "source": [
    "kaggle_sub_df.head() #[['discourse_id','Ineffective','Adequate','Effective']].head(5)"
   ]
  },
  {
   "cell_type": "code",
   "execution_count": 19,
   "metadata": {},
   "outputs": [
    {
     "name": "stdout",
     "output_type": "stream",
     "text": [
      "local_score = 0.5778\n",
      "kaggle_score = 0.5777\n"
     ]
    }
   ],
   "source": [
    "from sklearn.metrics import log_loss\n",
    "\n",
    "local_score = log_loss(local_pred_df['label'].values, local_pred_df[['oof_ineffective','oof_adequate','oof_effective']].values)\n",
    "print('local_score = {:.4f}'.format(local_score))\n",
    "\n",
    "kaggle_score = log_loss(local_pred_df['label'].values, kaggle_sub_df[['Ineffective','Adequate','Effective']].values)\n",
    "print('kaggle_score = {:.4f}'.format(kaggle_score))"
   ]
  },
  {
   "cell_type": "code",
   "execution_count": 20,
   "metadata": {},
   "outputs": [
    {
     "name": "stdout",
     "output_type": "stream",
     "text": [
      "local_score = 0.5817417\n",
      "kaggle_score = 0.5817464\n"
     ]
    }
   ],
   "source": [
    "# without stacking\n",
    "\n",
    "local_score = log_loss(local_pred_df['label'].values, local_pred_df[['Ineffective','Adequate','Effective']].values)\n",
    "print('local_score = {:.7f}'.format(local_score))\n",
    "\n",
    "kaggle_score = log_loss(local_pred_df['label'].values, kaggle_pred_df[['Ineffective','Adequate','Effective']].values)\n",
    "print('kaggle_score = {:.7f}'.format(kaggle_score))"
   ]
  },
  {
   "cell_type": "code",
   "execution_count": null,
   "metadata": {},
   "outputs": [],
   "source": []
  },
  {
   "cell_type": "code",
   "execution_count": null,
   "metadata": {},
   "outputs": [],
   "source": []
  },
  {
   "cell_type": "code",
   "execution_count": null,
   "metadata": {},
   "outputs": [],
   "source": []
  }
 ],
 "metadata": {
  "kernelspec": {
   "display_name": "Python 3",
   "language": "python",
   "name": "python3"
  },
  "language_info": {
   "codemirror_mode": {
    "name": "ipython",
    "version": 3
   },
   "file_extension": ".py",
   "mimetype": "text/x-python",
   "name": "python",
   "nbconvert_exporter": "python",
   "pygments_lexer": "ipython3",
   "version": "3.7.8"
  }
 },
 "nbformat": 4,
 "nbformat_minor": 4
}
