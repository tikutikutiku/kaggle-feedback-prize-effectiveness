{
 "cells": [
  {
   "cell_type": "code",
   "execution_count": 1,
   "id": "olympic-beatles",
   "metadata": {},
   "outputs": [],
   "source": [
    "VERSION = '17_v2_02'\n",
    "FOLD_PATH = '../../00_EDA/00_v2_05/result/'\n",
    "MODEL = 'microsoft/deberta-v2-xlarge'\n",
    "#'roberta-large'\n",
    "#'microsoft/deberta-v3-large'\n",
    "#'roberta-base'\n",
    "#'microsoft/deberta-v3-base'\n",
    "#'funnel-transformer/xlarge'\n",
    "#'ahotrod/electra_large_discriminator_squad2_512'\n",
    "#'funnel-transformer/xlarge'\n",
    "#'microsoft/deberta-large'\n",
    "#'anferico/bert-for-patents'\n",
    "#'microsoft/deberta-v3-base'\n",
    "#'microsoft/cocolm-large'\n",
    "LR = 6e-6 #8e-6 #2e-5\n",
    "HEAD_LR = 6e-6 #8e-6 #2e-4\n",
    "SEED = 100\n",
    "TRN_BS = 1\n",
    "VAL_BS = 1\n",
    "ACCUM_STEP = 1 #16\n",
    "EPOCHS = 6 #2\n",
    "STOP_EPOCH = 6 #2\n",
    "RESTART = 1\n",
    "HIDDEN_DROP_PROB = 0.1\n",
    "P_DROP = 0.5\n",
    "#RNN = 'none'\n",
    "WARMUP_RATIO = 0.05 #0.1\n",
    "#LOSS = 'xentropy'\n",
    "#HEAD = 'simple'\n",
    "#AUG = 'false' #'mixup'\n",
    "#MIXUP_ALPHA = 1.0\n",
    "#P_AUG = 0\n",
    "#AUG_STOP_EPOCH = 2\n",
    "#MSD = 'false'\n",
    "#MULTI_LAYERS = 1\n",
    "EVAL_STEP = -1 #100\n",
    "#NUM_LABELS = 3\n",
    "#NUM_LABELS_2 = 7\n",
    "#ADV_SIFT = 'false'\n",
    "FP16 = 'false'\n",
    "WD = 0.01\n",
    "#FREEZE = 'false'\n",
    "#MAX_LENGTH = 1024\n",
    "#MULTI_TASK = 'false'\n",
    "#W_MT = 1.0 #0.5\n",
    "#PREPROCESSED_DATA_PATH = '../../00_EDA/00_v2_01/result/train.csv'\n",
    "#'../../00_EDA/00_v1_09/result/train.csv'\n",
    "#AWP = 'false'\n",
    "#AWP_LR = 1.0\n",
    "#AWP_EPS = 0.01\n",
    "#AWP_START_EPOCH = 1\n",
    "MASK_PROB = 0.8\n",
    "MASK_RATIO = 0.3\n",
    "CP = 'true'\n",
    "SCHEDULER = 'cosine_hard'\n",
    "NUM_CYCLES = EPOCHS\n",
    "\n",
    "WINDOW_SIZE = 1024 #512\n",
    "INNER_LEN = 768 #384\n",
    "EDGE_LEN = 128 #32 #64"
   ]
  },
  {
   "cell_type": "code",
   "execution_count": 2,
   "id": "annual-operation",
   "metadata": {},
   "outputs": [
    {
     "name": "stdout",
     "output_type": "stream",
     "text": [
      "torch 1.10.2\n",
      "train_df.shape =  (144293, 8)\n",
      "load folds...\n",
      "trn_df.shape =  (115526, 8)\n",
      "val_df.shape =  (28767, 8)\n",
      "2022-07-24 10:25:07.014662: W tensorflow/stream_executor/platform/default/dso_loader.cc:59] Could not load dynamic library 'libcudart.so.10.1'; dlerror: libcudart.so.10.1: cannot open shared object file: No such file or directory; LD_LIBRARY_PATH: /usr/local/cuda/lib64:\n",
      "2022-07-24 10:25:07.014683: I tensorflow/stream_executor/cuda/cudart_stub.cc:29] Ignore above cudart dlerror if you do not have a GPU set up on your machine.\n",
      "Loaded 12475 samples.\n",
      "Loaded 3119 samples.\n",
      "num_train_steps =  74850\n",
      "self.warmup_ratio =  0.05\n",
      "self.num_train_steps =  74850\n",
      "num_warmup_steps =  3742\n",
      "\n",
      "lr :  [0.0, 0.0, 0.0]\n",
      " 65%|███████▊    | 8069/12475 [1:13:31<41:14,  1.78it/s, loss=6.1, score=0.0619]^C\n",
      " 65%|███████▊    | 8070/12475 [1:13:31<40:08,  1.83it/s, loss=6.1, score=0.0619]\n",
      "Traceback (most recent call last):\n",
      "  File \"../17_v2_02/train.py\", line 155, in <module>\n",
      "    run(args, trn_df, val_df, pseudo_df=None)\n",
      "  File \"/home/takesako2/programming/kaggle/54_Feedback2/17_DetectionSW/17_v2_02/run.py\", line 182, in run\n",
      "    trn_res = model.training_step(data, trn_df, test_score_thr=args.test_score_thr)\n",
      "  File \"/home/takesako2/programming/kaggle/54_Feedback2/17_DetectionSW/17_v2_02/models.py\", line 263, in training_step\n",
      "    obj_target, reg_target, cls_target, pos_loc = self.build_target(data['gt_spans'], obj_pred, reg_pred, cls_pred)\n",
      "  File \"/home/takesako2/anaconda3/lib/python3.7/site-packages/torch/autograd/grad_mode.py\", line 28, in decorate_context\n",
      "    return func(*args, **kwargs)\n",
      "  File \"/home/takesako2/programming/kaggle/54_Feedback2/17_DetectionSW/17_v2_02/models.py\", line 507, in build_target\n",
      "    obj_target[pos_ind] = 1\n",
      "KeyboardInterrupt\n"
     ]
    }
   ],
   "source": [
    "FOLD = 0\n",
    "\n",
    "!python ../$VERSION/train.py --model $MODEL --version $VERSION --fold_path $FOLD_PATH --fold $FOLD --seed $SEED \\\n",
    "--lr $LR --head_lr $HEAD_LR --trn_batch_size $TRN_BS --val_batch_size $VAL_BS \\\n",
    "--warmup_ratio $WARMUP_RATIO \\\n",
    "--epochs $EPOCHS --accumulate_grad_batches $ACCUM_STEP --eval_step $EVAL_STEP --stop_epoch $STOP_EPOCH \\\n",
    "--restart_epoch $RESTART --fp16 $FP16 --weight_decay $WD --mask_prob $MASK_PROB --mask_ratio $MASK_RATIO \\\n",
    "--check_pointing $CP --scheduler $SCHEDULER --num_cycles $NUM_CYCLES \\\n",
    "--window_size $WINDOW_SIZE --inner_len $INNER_LEN --edge_len $EDGE_LEN"
   ]
  },
  {
   "cell_type": "code",
   "execution_count": null,
   "id": "foreign-kinase",
   "metadata": {},
   "outputs": [],
   "source": []
  },
  {
   "cell_type": "code",
   "execution_count": null,
   "id": "another-consumption",
   "metadata": {},
   "outputs": [],
   "source": []
  },
  {
   "cell_type": "code",
   "execution_count": null,
   "id": "turkish-location",
   "metadata": {},
   "outputs": [],
   "source": []
  },
  {
   "cell_type": "code",
   "execution_count": null,
   "id": "turned-locator",
   "metadata": {},
   "outputs": [],
   "source": []
  },
  {
   "cell_type": "code",
   "execution_count": null,
   "id": "characteristic-headline",
   "metadata": {},
   "outputs": [],
   "source": []
  },
  {
   "cell_type": "code",
   "execution_count": null,
   "id": "close-short",
   "metadata": {},
   "outputs": [],
   "source": []
  },
  {
   "cell_type": "code",
   "execution_count": null,
   "id": "musical-magnitude",
   "metadata": {},
   "outputs": [],
   "source": []
  }
 ],
 "metadata": {
  "kernelspec": {
   "display_name": "Python 3 (ipykernel)",
   "language": "python",
   "name": "python3"
  },
  "language_info": {
   "codemirror_mode": {
    "name": "ipython",
    "version": 3
   },
   "file_extension": ".py",
   "mimetype": "text/x-python",
   "name": "python",
   "nbconvert_exporter": "python",
   "pygments_lexer": "ipython3",
   "version": "3.7.3"
  }
 },
 "nbformat": 4,
 "nbformat_minor": 5
}
