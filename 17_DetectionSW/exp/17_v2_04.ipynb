{
 "cells": [
  {
   "cell_type": "code",
   "execution_count": null,
   "id": "olympic-beatles",
   "metadata": {},
   "outputs": [],
   "source": [
    "VERSION = '17_v2_04'\n",
    "FOLD_PATH = '../../00_EDA/00_v2_05/result/'\n",
    "MODEL = 'microsoft/deberta-v2-xlarge'\n",
    "#'roberta-large'\n",
    "#'microsoft/deberta-v3-large'\n",
    "#'roberta-base'\n",
    "#'microsoft/deberta-v3-base'\n",
    "#'funnel-transformer/xlarge'\n",
    "#'ahotrod/electra_large_discriminator_squad2_512'\n",
    "#'funnel-transformer/xlarge'\n",
    "#'microsoft/deberta-large'\n",
    "#'anferico/bert-for-patents'\n",
    "#'microsoft/deberta-v3-base'\n",
    "#'microsoft/cocolm-large'\n",
    "LR = 2.5e-5 #6e-6 #8e-6 #2e-5\n",
    "HEAD_LR = 2.5e-4 #6e-6 #8e-6 #2e-4\n",
    "SEED = 100\n",
    "TRN_BS = 1\n",
    "VAL_BS = 1\n",
    "ACCUM_STEP = 16\n",
    "EPOCHS = 6 #2\n",
    "STOP_EPOCH = 6 #2\n",
    "RESTART = 1\n",
    "HIDDEN_DROP_PROB = 0.1\n",
    "P_DROP = 0.5\n",
    "#RNN = 'none'\n",
    "WARMUP_RATIO = 0.05\n",
    "#LOSS = 'xentropy'\n",
    "#HEAD = 'simple'\n",
    "#AUG = 'false' #'mixup'\n",
    "#MIXUP_ALPHA = 1.0\n",
    "#P_AUG = 0\n",
    "#AUG_STOP_EPOCH = 2\n",
    "#MSD = 'false'\n",
    "#MULTI_LAYERS = 1\n",
    "EVAL_STEP = -1 #100\n",
    "#NUM_LABELS = 3\n",
    "#NUM_LABELS_2 = 7\n",
    "#ADV_SIFT = 'false'\n",
    "FP16 = 'false'\n",
    "WD = 0.01\n",
    "FREEZE = 'false'\n",
    "#MAX_LENGTH = 1024\n",
    "#MULTI_TASK = 'false'\n",
    "#W_MT = 1.0 #0.5\n",
    "#PREPROCESSED_DATA_PATH = '../../00_EDA/00_v2_01/result/train.csv'\n",
    "#'../../00_EDA/00_v1_09/result/train.csv'\n",
    "#AWP = 'false'\n",
    "#AWP_LR = 1.0\n",
    "#AWP_EPS = 0.01\n",
    "#AWP_START_EPOCH = 1\n",
    "MASK_PROB = 0.8\n",
    "MASK_RATIO = 0.3\n",
    "CP = 'true'\n",
    "SCHEDULER = 'cosine_hard'\n",
    "NUM_CYCLES = EPOCHS\n",
    "\n",
    "WINDOW_SIZE = -100 #1024 #512\n",
    "INNER_LEN = -100 #768 #384\n",
    "EDGE_LEN = -100 #128 #32 #64"
   ]
  },
  {
   "cell_type": "code",
   "execution_count": null,
   "id": "annual-operation",
   "metadata": {},
   "outputs": [],
   "source": [
    "FOLD = 0\n",
    "\n",
    "!python ../$VERSION/train.py --model $MODEL --version $VERSION --fold_path $FOLD_PATH --fold $FOLD --seed $SEED \\\n",
    "--lr $LR --head_lr $HEAD_LR --trn_batch_size $TRN_BS --val_batch_size $VAL_BS \\\n",
    "--warmup_ratio $WARMUP_RATIO \\\n",
    "--epochs $EPOCHS --accumulate_grad_batches $ACCUM_STEP --eval_step $EVAL_STEP --stop_epoch $STOP_EPOCH \\\n",
    "--restart_epoch $RESTART --fp16 $FP16 --weight_decay $WD --mask_prob $MASK_PROB --mask_ratio $MASK_RATIO \\\n",
    "--check_pointing $CP --scheduler $SCHEDULER --num_cycles $NUM_CYCLES \\\n",
    "--window_size $WINDOW_SIZE --inner_len $INNER_LEN --edge_len $EDGE_LEN \\\n",
    "--freeze_layers $FREEZE"
   ]
  },
  {
   "cell_type": "code",
   "execution_count": null,
   "id": "foreign-kinase",
   "metadata": {},
   "outputs": [],
   "source": []
  },
  {
   "cell_type": "code",
   "execution_count": null,
   "id": "another-consumption",
   "metadata": {},
   "outputs": [],
   "source": []
  },
  {
   "cell_type": "code",
   "execution_count": null,
   "id": "turkish-location",
   "metadata": {},
   "outputs": [],
   "source": []
  },
  {
   "cell_type": "code",
   "execution_count": null,
   "id": "turned-locator",
   "metadata": {},
   "outputs": [],
   "source": []
  },
  {
   "cell_type": "code",
   "execution_count": null,
   "id": "characteristic-headline",
   "metadata": {},
   "outputs": [],
   "source": []
  },
  {
   "cell_type": "code",
   "execution_count": null,
   "id": "close-short",
   "metadata": {},
   "outputs": [],
   "source": []
  },
  {
   "cell_type": "code",
   "execution_count": null,
   "id": "musical-magnitude",
   "metadata": {},
   "outputs": [],
   "source": []
  }
 ],
 "metadata": {
  "kernelspec": {
   "display_name": "Python 3 (ipykernel)",
   "language": "python",
   "name": "python3"
  },
  "language_info": {
   "codemirror_mode": {
    "name": "ipython",
    "version": 3
   },
   "file_extension": ".py",
   "mimetype": "text/x-python",
   "name": "python",
   "nbconvert_exporter": "python",
   "pygments_lexer": "ipython3",
   "version": "3.7.3"
  }
 },
 "nbformat": 4,
 "nbformat_minor": 5
}
