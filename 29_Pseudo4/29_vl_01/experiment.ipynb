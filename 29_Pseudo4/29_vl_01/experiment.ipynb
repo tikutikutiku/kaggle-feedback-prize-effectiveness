{
 "cells": [
  {
   "cell_type": "code",
   "execution_count": 1,
   "metadata": {},
   "outputs": [],
   "source": [
    "import pandas as pd\n",
    "\n",
    "pseudo_df = pd.read_csv('result/pseudo_label_fold0.csv')"
   ]
  },
  {
   "cell_type": "code",
   "execution_count": 2,
   "metadata": {},
   "outputs": [
    {
     "data": {
      "text/plain": [
       "(107528, 32)"
      ]
     },
     "execution_count": 2,
     "metadata": {},
     "output_type": "execute_result"
    }
   ],
   "source": [
    "pseudo_df.shape"
   ]
  },
  {
   "cell_type": "code",
   "execution_count": 3,
   "metadata": {},
   "outputs": [
    {
     "data": {
      "text/html": [
       "<div>\n",
       "<style scoped>\n",
       "    .dataframe tbody tr th:only-of-type {\n",
       "        vertical-align: middle;\n",
       "    }\n",
       "\n",
       "    .dataframe tbody tr th {\n",
       "        vertical-align: top;\n",
       "    }\n",
       "\n",
       "    .dataframe thead th {\n",
       "        text-align: right;\n",
       "    }\n",
       "</style>\n",
       "<table border=\"1\" class=\"dataframe\">\n",
       "  <thead>\n",
       "    <tr style=\"text-align: right;\">\n",
       "      <th></th>\n",
       "      <th>discourse_id</th>\n",
       "      <th>essay_id</th>\n",
       "      <th>discourse_start</th>\n",
       "      <th>discourse_end</th>\n",
       "      <th>discourse_text</th>\n",
       "      <th>discourse_type</th>\n",
       "      <th>discourse_type_num</th>\n",
       "      <th>predictionstring</th>\n",
       "      <th>Ineffective</th>\n",
       "      <th>Adequate</th>\n",
       "      <th>...</th>\n",
       "      <th>Effective_3</th>\n",
       "      <th>Ineffective_4</th>\n",
       "      <th>Adequate_4</th>\n",
       "      <th>Effective_4</th>\n",
       "      <th>Ineffective_5</th>\n",
       "      <th>Adequate_5</th>\n",
       "      <th>Effective_5</th>\n",
       "      <th>Ineffective_6</th>\n",
       "      <th>Adequate_6</th>\n",
       "      <th>Effective_6</th>\n",
       "    </tr>\n",
       "  </thead>\n",
       "  <tbody>\n",
       "    <tr>\n",
       "      <th>0</th>\n",
       "      <td>1.622576e+12</td>\n",
       "      <td>A8445CABFECE</td>\n",
       "      <td>18.0</td>\n",
       "      <td>85.0</td>\n",
       "      <td>Drivers should not be able to use phones while...</td>\n",
       "      <td>Position</td>\n",
       "      <td>Position 1</td>\n",
       "      <td>3 4 5 6 7 8 9 10 11 12 13 14</td>\n",
       "      <td>0.021722</td>\n",
       "      <td>0.926697</td>\n",
       "      <td>...</td>\n",
       "      <td>0.001714</td>\n",
       "      <td>0.004877</td>\n",
       "      <td>0.135719</td>\n",
       "      <td>0.002262</td>\n",
       "      <td>0.005704</td>\n",
       "      <td>0.116966</td>\n",
       "      <td>0.020187</td>\n",
       "      <td>0.005474</td>\n",
       "      <td>0.128282</td>\n",
       "      <td>0.009101</td>\n",
       "    </tr>\n",
       "    <tr>\n",
       "      <th>1</th>\n",
       "      <td>1.622576e+12</td>\n",
       "      <td>A8445CABFECE</td>\n",
       "      <td>86.0</td>\n",
       "      <td>202.0</td>\n",
       "      <td>Drivers who used their phone while operating a...</td>\n",
       "      <td>Claim</td>\n",
       "      <td>Claim 1</td>\n",
       "      <td>15 16 17 18 19 20 21 22 23 24 25 26 27 28 29 3...</td>\n",
       "      <td>0.011576</td>\n",
       "      <td>0.518303</td>\n",
       "      <td>...</td>\n",
       "      <td>0.051555</td>\n",
       "      <td>0.001464</td>\n",
       "      <td>0.103418</td>\n",
       "      <td>0.037975</td>\n",
       "      <td>0.003803</td>\n",
       "      <td>0.093751</td>\n",
       "      <td>0.045303</td>\n",
       "      <td>0.000806</td>\n",
       "      <td>0.066188</td>\n",
       "      <td>0.075863</td>\n",
       "    </tr>\n",
       "  </tbody>\n",
       "</table>\n",
       "<p>2 rows × 32 columns</p>\n",
       "</div>"
      ],
      "text/plain": [
       "   discourse_id      essay_id  discourse_start  discourse_end  \\\n",
       "0  1.622576e+12  A8445CABFECE             18.0           85.0   \n",
       "1  1.622576e+12  A8445CABFECE             86.0          202.0   \n",
       "\n",
       "                                      discourse_text discourse_type  \\\n",
       "0  Drivers should not be able to use phones while...       Position   \n",
       "1  Drivers who used their phone while operating a...          Claim   \n",
       "\n",
       "  discourse_type_num                                   predictionstring  \\\n",
       "0         Position 1                       3 4 5 6 7 8 9 10 11 12 13 14   \n",
       "1            Claim 1  15 16 17 18 19 20 21 22 23 24 25 26 27 28 29 3...   \n",
       "\n",
       "   Ineffective  Adequate  ...  Effective_3  Ineffective_4  Adequate_4  \\\n",
       "0     0.021722  0.926697  ...     0.001714       0.004877    0.135719   \n",
       "1     0.011576  0.518303  ...     0.051555       0.001464    0.103418   \n",
       "\n",
       "   Effective_4  Ineffective_5  Adequate_5  Effective_5  Ineffective_6  \\\n",
       "0     0.002262       0.005704    0.116966     0.020187       0.005474   \n",
       "1     0.037975       0.003803    0.093751     0.045303       0.000806   \n",
       "\n",
       "   Adequate_6  Effective_6  \n",
       "0    0.128282     0.009101  \n",
       "1    0.066188     0.075863  \n",
       "\n",
       "[2 rows x 32 columns]"
      ]
     },
     "execution_count": 3,
     "metadata": {},
     "output_type": "execute_result"
    }
   ],
   "source": [
    "pseudo_df.head(2)"
   ]
  },
  {
   "cell_type": "code",
   "execution_count": 4,
   "metadata": {},
   "outputs": [
    {
     "data": {
      "text/plain": [
       "11403"
      ]
     },
     "execution_count": 4,
     "metadata": {},
     "output_type": "execute_result"
    }
   ],
   "source": [
    "len(pseudo_df['essay_id'].unique())"
   ]
  },
  {
   "cell_type": "code",
   "execution_count": 6,
   "metadata": {},
   "outputs": [
    {
     "data": {
      "text/plain": [
       "9122.4"
      ]
     },
     "execution_count": 6,
     "metadata": {},
     "output_type": "execute_result"
    }
   ],
   "source": [
    "len(pseudo_df['essay_id'].unique())/5*4"
   ]
  },
  {
   "cell_type": "code",
   "execution_count": null,
   "metadata": {},
   "outputs": [],
   "source": []
  },
  {
   "cell_type": "code",
   "execution_count": null,
   "metadata": {},
   "outputs": [],
   "source": []
  },
  {
   "cell_type": "code",
   "execution_count": null,
   "metadata": {},
   "outputs": [],
   "source": []
  }
 ],
 "metadata": {
  "kernelspec": {
   "display_name": "Python 3",
   "language": "python",
   "name": "python3"
  },
  "language_info": {
   "codemirror_mode": {
    "name": "ipython",
    "version": 3
   },
   "file_extension": ".py",
   "mimetype": "text/x-python",
   "name": "python",
   "nbconvert_exporter": "python",
   "pygments_lexer": "ipython3",
   "version": "3.7.8"
  }
 },
 "nbformat": 4,
 "nbformat_minor": 5
}
