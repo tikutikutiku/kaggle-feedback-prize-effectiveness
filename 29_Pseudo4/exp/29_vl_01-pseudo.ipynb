{
 "cells": [
  {
   "cell_type": "code",
   "execution_count": null,
   "metadata": {},
   "outputs": [],
   "source": [
    "VERSION = '29_vl_01'\n",
    "FOLD_PATH = '../../00_EDA/00_v2_07/result/'\n",
    "MODEL = 'microsoft/deberta-v3-large'\n",
    "SEED = 100\n",
    "WINDOW = 512\n",
    "INNER = 384\n",
    "EDGE = 64\n",
    "UNLABELED_DATA_PATH = '../../00_EDA/00_v2_11/result/unlabeled.csv'"
   ]
  },
  {
   "cell_type": "code",
   "execution_count": null,
   "metadata": {},
   "outputs": [],
   "source": [
    "FOLD = 0\n",
    "\n",
    "!python ../code/pseudo_label.py --version $VERSION --model $MODEL \\\n",
    "--seed $SEED --fold_path $FOLD_PATH --fold $FOLD --window_size $WINDOW --inner_len $INNER --edge_len $EDGE \\\n",
    "--unlabeled_data_path $UNLABELED_DATA_PATH"
   ]
  },
  {
   "cell_type": "code",
   "execution_count": null,
   "metadata": {},
   "outputs": [],
   "source": [
    "FOLD = 1\n",
    "!python ../code/pseudo_label.py --version $VERSION --model $MODEL \\\n",
    "--seed $SEED --fold_path $FOLD_PATH --fold $FOLD --window_size $WINDOW --inner_len $INNER --edge_len $EDGE \\\n",
    "--unlabeled_data_path $UNLABELED_DATA_PATH\n",
    "\n",
    "FOLD = 2\n",
    "!python ../code/pseudo_label.py --version $VERSION --model $MODEL \\\n",
    "--seed $SEED --fold_path $FOLD_PATH --fold $FOLD --window_size $WINDOW --inner_len $INNER --edge_len $EDGE \\\n",
    "--unlabeled_data_path $UNLABELED_DATA_PATH\n",
    "\n",
    "FOLD = 3\n",
    "!python ../code/pseudo_label.py --version $VERSION --model $MODEL \\\n",
    "--seed $SEED --fold_path $FOLD_PATH --fold $FOLD --window_size $WINDOW --inner_len $INNER --edge_len $EDGE \\\n",
    "--unlabeled_data_path $UNLABELED_DATA_PATH\n",
    "\n",
    "FOLD = 4\n",
    "!python ../code/pseudo_label.py --version $VERSION --model $MODEL \\\n",
    "--seed $SEED --fold_path $FOLD_PATH --fold $FOLD --window_size $WINDOW --inner_len $INNER --edge_len $EDGE \\\n",
    "--unlabeled_data_path $UNLABELED_DATA_PATH"
   ]
  },
  {
   "cell_type": "code",
   "execution_count": null,
   "metadata": {},
   "outputs": [],
   "source": []
  }
 ],
 "metadata": {
  "kernelspec": {
   "display_name": "Python 3",
   "language": "python",
   "name": "python3"
  },
  "language_info": {
   "codemirror_mode": {
    "name": "ipython",
    "version": 3
   },
   "file_extension": ".py",
   "mimetype": "text/x-python",
   "name": "python",
   "nbconvert_exporter": "python",
   "pygments_lexer": "ipython3",
   "version": "3.7.8"
  }
 },
 "nbformat": 4,
 "nbformat_minor": 5
}
