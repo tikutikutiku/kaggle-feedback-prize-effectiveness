{
 "cells": [
  {
   "cell_type": "code",
   "execution_count": null,
   "id": "heated-andrew",
   "metadata": {},
   "outputs": [],
   "source": [
    "VERSION = '05_v2_09'\n",
    "FOLD_PATH = '../../00_EDA/00_v2_05/result/'\n",
    "MODEL = 'microsoft/deberta-v3-large'\n",
    "LR = 8e-6\n",
    "HEAD_LR = 8e-6\n",
    "SEED = 100\n",
    "TRN_BS = 1\n",
    "VAL_BS = 1\n",
    "ACCUM_STEP = 1\n",
    "EPOCHS = 6\n",
    "STOP_EPOCH = 6\n",
    "RESTART = 1\n",
    "HIDDEN_DROP_PROB = 0.1\n",
    "P_DROP = 0.5\n",
    "WARMUP_RATIO = 0.05\n",
    "EVAL_STEP = -1\n",
    "FP16 ='false'\n",
    "WD = 0.01\n",
    "MASK_PROB = 0.8\n",
    "MASK_RATIO = 0.3\n",
    "CP = 'true'\n",
    "SCHEDULER = 'cosine_hard'\n",
    "NUM_CYCLES = EPOCHS"
   ]
  },
  {
   "cell_type": "code",
   "execution_count": null,
   "id": "adult-alabama",
   "metadata": {
    "scrolled": false
   },
   "outputs": [],
   "source": [
    "FOLD = 0\n",
    "\n",
    "!python ../code/train.py --model $MODEL --version $VERSION --fold_path $FOLD_PATH --fold $FOLD --seed $SEED \\\n",
    "--lr $LR --head_lr $HEAD_LR --trn_batch_size $TRN_BS --val_batch_size $VAL_BS \\\n",
    "--warmup_ratio $WARMUP_RATIO \\\n",
    "--epochs $EPOCHS --accumulate_grad_batches $ACCUM_STEP --eval_step $EVAL_STEP --stop_epoch $STOP_EPOCH \\\n",
    "--restart_epoch $RESTART --fp16 $FP16 --weight_decay $WD --mask_prob $MASK_PROB --mask_ratio $MASK_RATIO \\\n",
    "--check_pointing $CP --scheduler $SCHEDULER --num_cycles $NUM_CYCLES"
   ]
  },
  {
   "cell_type": "markdown",
   "id": "expected-runner",
   "metadata": {},
   "source": [
    "# SWA"
   ]
  },
  {
   "cell_type": "code",
   "execution_count": null,
   "id": "powered-semiconductor",
   "metadata": {},
   "outputs": [],
   "source": [
    "!python ../code/swa.py --work_dir ./result/$VERSION/ --fold 0 --seed $SEED --start_epoch 2 --end_epoch 6"
   ]
  },
  {
   "cell_type": "code",
   "execution_count": null,
   "id": "signal-avenue",
   "metadata": {},
   "outputs": [],
   "source": []
  }
 ],
 "metadata": {
  "kernelspec": {
   "display_name": "Python 3.5.2 64-bit",
   "language": "python",
   "name": "python3"
  },
  "language_info": {
   "codemirror_mode": {
    "name": "ipython",
    "version": 3
   },
   "file_extension": ".py",
   "mimetype": "text/x-python",
   "name": "python",
   "nbconvert_exporter": "python",
   "pygments_lexer": "ipython3",
   "version": "3.5.2"
  },
  "vscode": {
   "interpreter": {
    "hash": "31f2aee4e71d21fbe5cf8b01ff0e069b9275f58929596ceb00d14d90e3e16cd6"
   }
  }
 },
 "nbformat": 4,
 "nbformat_minor": 5
}
