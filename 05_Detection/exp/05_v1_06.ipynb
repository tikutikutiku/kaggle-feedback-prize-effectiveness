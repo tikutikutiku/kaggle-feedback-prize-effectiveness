{
 "cells": [
  {
   "cell_type": "code",
   "execution_count": 1,
   "metadata": {},
   "outputs": [],
   "source": [
    "VERSION = '05_v1_06'\n",
    "FOLD_PATH = '../../00_EDA/00_v2_05/result/'\n",
    "MODEL = 'microsoft/deberta-v3-large'\n",
    "#'microsoft/deberta-v3-base'\n",
    "#'funnel-transformer/xlarge'\n",
    "#'ahotrod/electra_large_discriminator_squad2_512'\n",
    "#'funnel-transformer/xlarge'\n",
    "#'microsoft/deberta-large'\n",
    "#'anferico/bert-for-patents'\n",
    "#'microsoft/deberta-v3-base'\n",
    "#'microsoft/cocolm-large'\n",
    "LR = 8e-6 #2e-5\n",
    "HEAD_LR = 8e-6 #2e-4\n",
    "SEED = 100\n",
    "TRN_BS = 1\n",
    "VAL_BS = 1\n",
    "ACCUM_STEP = 1 #4 #16\n",
    "EPOCHS = 6 #2\n",
    "STOP_EPOCH = 6 #2\n",
    "RESTART = 1\n",
    "HIDDEN_DROP_PROB = 0.1\n",
    "P_DROP = 0.5\n",
    "#RNN = 'none'\n",
    "WARMUP_RATIO = 0.05 #0.1\n",
    "#LOSS = 'xentropy'\n",
    "#HEAD = 'simple'\n",
    "#AUG = 'false' #'mixup'\n",
    "#MIXUP_ALPHA = 1.0\n",
    "#P_AUG = 0\n",
    "#AUG_STOP_EPOCH = 2\n",
    "#MSD = 'false'\n",
    "#MULTI_LAYERS = 1\n",
    "EVAL_STEP = -1 #100\n",
    "#NUM_LABELS = 3\n",
    "#NUM_LABELS_2 = 7\n",
    "#ADV_SIFT = 'false'\n",
    "FP16 ='false'\n",
    "WD = 0.01\n",
    "#FREEZE = 'false'\n",
    "#MAX_LENGTH = 1024\n",
    "#MULTI_TASK = 'false'\n",
    "#W_MT = 1.0 #0.5\n",
    "#PREPROCESSED_DATA_PATH = '../../00_EDA/00_v2_01/result/train.csv'\n",
    "#'../../00_EDA/00_v1_09/result/train.csv'\n",
    "#AWP = 'false'\n",
    "#AWP_LR = 1.0\n",
    "#AWP_EPS = 0.01\n",
    "#AWP_START_EPOCH = 1\n",
    "MASK_PROB = 0.8\n",
    "MASK_RATIO = 0.3\n",
    "CP = 'true'\n",
    "SCHEDULER = 'cosine_hard'\n",
    "NUM_CYCLES = EPOCHS"
   ]
  },
  {
   "cell_type": "code",
   "execution_count": 2,
   "metadata": {},
   "outputs": [
    {
     "name": "stdout",
     "output_type": "stream",
     "text": [
      "torch 1.10.1\n",
      "train_df.shape =  (144293, 8)\n",
      "load folds...\n",
      "trn_df.shape =  (115331, 8)\n",
      "val_df.shape =  (28962, 8)\n",
      "2022-07-22 06:30:45.380537: W tensorflow/stream_executor/platform/default/dso_loader.cc:59] Could not load dynamic library 'libcudart.so.10.1'; dlerror: libcudart.so.10.1: cannot open shared object file: No such file or directory; LD_LIBRARY_PATH: /usr/local/cuda-10.2/lib64:\n",
      "2022-07-22 06:30:45.380560: I tensorflow/stream_executor/cuda/cudart_stub.cc:29] Ignore above cudart dlerror if you do not have a GPU set up on your machine.\n",
      "Special tokens have been added in the vocabulary, make sure the associated word embeddings are fine-tuned or trained.\n",
      "Special tokens have been added in the vocabulary, make sure the associated word embeddings are fine-tuned or trained.\n",
      "Loaded 12475 samples.\n",
      "Loaded 3119 samples.\n",
      "num_train_steps =  74850\n",
      "Some weights of the model checkpoint at microsoft/deberta-v3-large were not used when initializing DebertaV2Model: ['lm_predictions.lm_head.dense.weight', 'lm_predictions.lm_head.bias', 'lm_predictions.lm_head.LayerNorm.bias', 'mask_predictions.dense.weight', 'mask_predictions.dense.bias', 'mask_predictions.LayerNorm.bias', 'mask_predictions.LayerNorm.weight', 'mask_predictions.classifier.bias', 'lm_predictions.lm_head.dense.bias', 'lm_predictions.lm_head.LayerNorm.weight', 'mask_predictions.classifier.weight']\n",
      "- This IS expected if you are initializing DebertaV2Model from the checkpoint of a model trained on another task or with another architecture (e.g. initializing a BertForSequenceClassification model from a BertForPreTraining model).\n",
      "- This IS NOT expected if you are initializing DebertaV2Model from the checkpoint of a model that you expect to be exactly identical (initializing a BertForSequenceClassification model from a BertForSequenceClassification model).\n",
      "self.warmup_ratio =  0.05\n",
      "self.num_train_steps =  74850\n",
      "num_warmup_steps =  3742\n",
      "\n",
      "lr :  [0.0, 0.0, 0.0]\n",
      "100%|████████████| 12475/12475 [1:57:58<00:00,  1.76it/s, loss=3.6, score=0.489]\n",
      "100%|███████████████████████████████████████| 3119/3119 [14:53<00:00,  3.49it/s]\n",
      "epoch 1: trn_loss = 3.5960, val_loss = 2.4429, trn_score = 0.4889, val_score = 0.6866\n",
      "trn_obj_loss=1.8751, trn_reg_loss=0.5184, trn_cls_loss=1.2024\n",
      "val_obj_loss=1.2348, val_reg_loss=0.3487, val_cls_loss=0.8594\n",
      "model (best loss) saved\n",
      "model (best score) saved\n",
      "\n",
      "lr :  [1.2905315769786836e-06, 1.2905315769786836e-06, 1.2905315769786836e-06]\n",
      "100%|███████████| 12475/12475 [1:58:19<00:00,  1.76it/s, loss=2.63, score=0.673]\n",
      "100%|███████████████████████████████████████| 3119/3119 [14:08<00:00,  3.68it/s]\n",
      "epoch 2: trn_loss = 2.6285, val_loss = 2.3142, trn_score = 0.6734, val_score = 0.7034\n",
      "trn_obj_loss=1.3505, trn_reg_loss=0.3791, trn_cls_loss=0.8988\n",
      "val_obj_loss=1.1940, val_reg_loss=0.3176, val_cls_loss=0.8026\n",
      "model (best loss) saved\n",
      "model (best score) saved\n",
      "\n",
      "lr :  [8.432094600802182e-07, 8.432094600802182e-07, 8.432094600802182e-07]\n",
      "100%|███████████| 12475/12475 [1:56:33<00:00,  1.78it/s, loss=2.47, score=0.701]\n",
      "100%|███████████████████████████████████████| 3119/3119 [15:05<00:00,  3.44it/s]\n",
      "epoch 3: trn_loss = 2.4727, val_loss = 2.3114, trn_score = 0.7014, val_score = 0.7123\n",
      "trn_obj_loss=1.2765, trn_reg_loss=0.3498, trn_cls_loss=0.8464\n",
      "val_obj_loss=1.1984, val_reg_loss=0.3150, val_cls_loss=0.7981\n",
      "model (best loss) saved\n",
      "model (best score) saved\n",
      "\n",
      "lr :  [4.819721976388868e-07, 4.819721976388868e-07, 4.819721976388868e-07]\n",
      "100%|███████████| 12475/12475 [2:02:20<00:00,  1.70it/s, loss=2.36, score=0.721]\n",
      "100%|███████████████████████████████████████| 3119/3119 [15:00<00:00,  3.47it/s]\n",
      "epoch 4: trn_loss = 2.3629, val_loss = 2.2572, trn_score = 0.7211, val_score = 0.7150\n",
      "trn_obj_loss=1.2252, trn_reg_loss=0.3294, trn_cls_loss=0.8083\n",
      "val_obj_loss=1.1748, val_reg_loss=0.3044, val_cls_loss=0.7779\n",
      "model (best loss) saved\n",
      "model (best score) saved\n",
      "\n",
      "lr :  [2.1667063555926046e-07, 2.1667063555926046e-07, 2.1667063555926046e-07]\n",
      "100%|███████████| 12475/12475 [2:02:38<00:00,  1.70it/s, loss=2.28, score=0.736]\n",
      "100%|███████████████████████████████████████| 3119/3119 [15:08<00:00,  3.43it/s]\n",
      "epoch 5: trn_loss = 2.2793, val_loss = 2.2639, trn_score = 0.7359, val_score = 0.7150\n",
      "trn_obj_loss=1.1867, trn_reg_loss=0.3133, trn_cls_loss=0.7793\n",
      "val_obj_loss=1.1913, val_reg_loss=0.2988, val_cls_loss=0.7738\n",
      "\n",
      "lr :  [5.4539478225454015e-08, 5.4539478225454015e-08, 5.4539478225454015e-08]\n",
      "100%|████████████| 12475/12475 [2:00:22<00:00,  1.73it/s, loss=2.18, score=0.75]\n",
      "100%|███████████████████████████████████████| 3119/3119 [15:01<00:00,  3.46it/s]\n",
      "epoch 6: trn_loss = 2.1838, val_loss = 2.2946, trn_score = 0.7502, val_score = 0.7121\n",
      "trn_obj_loss=1.1353, trn_reg_loss=0.2982, trn_cls_loss=0.7503\n",
      "val_obj_loss=1.2130, val_reg_loss=0.2988, val_cls_loss=0.7828\n",
      "epoch_best 4, val_loss_best 2.25715, val_score_best 0.71502\n",
      "\n"
     ]
    }
   ],
   "source": [
    "FOLD = 1\n",
    "\n",
    "!python ../$VERSION/train.py --model $MODEL --version $VERSION --fold_path $FOLD_PATH --fold $FOLD --seed $SEED \\\n",
    "--lr $LR --head_lr $HEAD_LR --trn_batch_size $TRN_BS --val_batch_size $VAL_BS \\\n",
    "--warmup_ratio $WARMUP_RATIO \\\n",
    "--epochs $EPOCHS --accumulate_grad_batches $ACCUM_STEP --eval_step $EVAL_STEP --stop_epoch $STOP_EPOCH \\\n",
    "--restart_epoch $RESTART --fp16 $FP16 --weight_decay $WD --mask_prob $MASK_PROB --mask_ratio $MASK_RATIO \\\n",
    "--check_pointing $CP --scheduler $SCHEDULER --num_cycles $NUM_CYCLES"
   ]
  },
  {
   "cell_type": "code",
   "execution_count": null,
   "metadata": {},
   "outputs": [],
   "source": []
  },
  {
   "cell_type": "markdown",
   "metadata": {},
   "source": [
    "# Validation"
   ]
  },
  {
   "cell_type": "code",
   "execution_count": 3,
   "metadata": {
    "scrolled": true
   },
   "outputs": [
    {
     "name": "stdout",
     "output_type": "stream",
     "text": [
      "torch 1.10.1\n",
      "2022-07-22 19:59:21.743395: W tensorflow/stream_executor/platform/default/dso_loader.cc:59] Could not load dynamic library 'libcudart.so.10.1'; dlerror: libcudart.so.10.1: cannot open shared object file: No such file or directory; LD_LIBRARY_PATH: /usr/local/cuda-10.2/lib64:\n",
      "2022-07-22 19:59:21.743418: I tensorflow/stream_executor/cuda/cudart_stub.cc:29] Ignore above cudart dlerror if you do not have a GPU set up on your machine.\n",
      "train_df.shape =  (144293, 8)\n",
      "load folds...\n",
      "trn_df.shape =  (115331, 8)\n",
      "val_df.shape =  (28962, 8)\n",
      "Special tokens have been added in the vocabulary, make sure the associated word embeddings are fine-tuned or trained.\n",
      "Special tokens have been added in the vocabulary, make sure the associated word embeddings are fine-tuned or trained.\n",
      "Loaded 3119 samples.\n",
      "Some weights of the model checkpoint at microsoft/deberta-v3-large were not used when initializing DebertaV2Model: ['mask_predictions.LayerNorm.weight', 'lm_predictions.lm_head.LayerNorm.bias', 'mask_predictions.dense.bias', 'lm_predictions.lm_head.dense.bias', 'lm_predictions.lm_head.bias', 'mask_predictions.classifier.weight', 'mask_predictions.classifier.bias', 'lm_predictions.lm_head.dense.weight', 'mask_predictions.LayerNorm.bias', 'lm_predictions.lm_head.LayerNorm.weight', 'mask_predictions.dense.weight']\n",
      "- This IS expected if you are initializing DebertaV2Model from the checkpoint of a model trained on another task or with another architecture (e.g. initializing a BertForSequenceClassification model from a BertForPreTraining model).\n",
      "- This IS NOT expected if you are initializing DebertaV2Model from the checkpoint of a model that you expect to be exactly identical (initializing a BertForSequenceClassification model from a BertForSequenceClassification model).\n",
      "100%|███████████████████████████████████████| 3119/3119 [09:57<00:00,  5.22it/s]\n",
      "val_loss=2.2572, val_score=0.7150\n",
      "val_obj_loss=1.1748, val_reg_loss=0.3044, val_cls_loss=0.7779\n",
      "save raw_oof_fold1...\n",
      "save raw_oof_fold1, done\n",
      "\n",
      "\n"
     ]
    }
   ],
   "source": [
    "TEST_SCORE_THR = 0.5\n",
    "\n",
    "!python ../$VERSION/validation.py --model $MODEL --version $VERSION --fold_path $FOLD_PATH --fold $FOLD --seed $SEED --val_batch_size $VAL_BS \\\n",
    "--test_score_thr $TEST_SCORE_THR"
   ]
  },
  {
   "cell_type": "code",
   "execution_count": 4,
   "metadata": {},
   "outputs": [
    {
     "name": "stdout",
     "output_type": "stream",
     "text": [
      "torch 1.10.1\n",
      "2022-07-22 20:09:46.652145: W tensorflow/stream_executor/platform/default/dso_loader.cc:59] Could not load dynamic library 'libcudart.so.10.1'; dlerror: libcudart.so.10.1: cannot open shared object file: No such file or directory; LD_LIBRARY_PATH: /usr/local/cuda-10.2/lib64:\n",
      "2022-07-22 20:09:46.652168: I tensorflow/stream_executor/cuda/cudart_stub.cc:29] Ignore above cudart dlerror if you do not have a GPU set up on your machine.\n",
      "train_df.shape =  (144293, 8)\n",
      "load folds...\n",
      "trn_df.shape =  (115331, 8)\n",
      "val_df.shape =  (28962, 8)\n",
      "Special tokens have been added in the vocabulary, make sure the associated word embeddings are fine-tuned or trained.\n",
      "Special tokens have been added in the vocabulary, make sure the associated word embeddings are fine-tuned or trained.\n",
      "Loaded 3119 samples.\n",
      "Some weights of the model checkpoint at microsoft/deberta-v3-large were not used when initializing DebertaV2Model: ['lm_predictions.lm_head.LayerNorm.bias', 'lm_predictions.lm_head.bias', 'mask_predictions.LayerNorm.bias', 'mask_predictions.classifier.bias', 'lm_predictions.lm_head.dense.bias', 'lm_predictions.lm_head.LayerNorm.weight', 'mask_predictions.dense.bias', 'lm_predictions.lm_head.dense.weight', 'mask_predictions.LayerNorm.weight', 'mask_predictions.dense.weight', 'mask_predictions.classifier.weight']\n",
      "- This IS expected if you are initializing DebertaV2Model from the checkpoint of a model trained on another task or with another architecture (e.g. initializing a BertForSequenceClassification model from a BertForPreTraining model).\n",
      "- This IS NOT expected if you are initializing DebertaV2Model from the checkpoint of a model that you expect to be exactly identical (initializing a BertForSequenceClassification model from a BertForSequenceClassification model).\n",
      "100%|███████████████████████████████████████| 3119/3119 [09:55<00:00,  5.24it/s]\n",
      "val_loss=2.2572, val_score=0.7144\n",
      "val_obj_loss=1.1748, val_reg_loss=0.3044, val_cls_loss=0.7779\n",
      "save raw_oof_fold1...\n",
      "save raw_oof_fold1, done\n",
      "\n",
      "\n"
     ]
    }
   ],
   "source": [
    "TEST_SCORE_THR = 0.6\n",
    "\n",
    "!python ../$VERSION/validation.py --model $MODEL --version $VERSION --fold_path $FOLD_PATH --fold $FOLD --seed $SEED --val_batch_size $VAL_BS \\\n",
    "--test_score_thr $TEST_SCORE_THR"
   ]
  },
  {
   "cell_type": "markdown",
   "metadata": {},
   "source": [
    "# SWA"
   ]
  },
  {
   "cell_type": "code",
   "execution_count": 5,
   "metadata": {},
   "outputs": [],
   "source": [
    "!python ../$VERSION/swa.py --work_dir ./result/$VERSION/ --fold $FOLD --seed $SEED --start_epoch 2 --end_epoch 6"
   ]
  },
  {
   "cell_type": "code",
   "execution_count": 7,
   "metadata": {},
   "outputs": [
    {
     "name": "stdout",
     "output_type": "stream",
     "text": [
      "torch 1.10.1\n",
      "2022-07-22 20:20:24.616334: W tensorflow/stream_executor/platform/default/dso_loader.cc:59] Could not load dynamic library 'libcudart.so.10.1'; dlerror: libcudart.so.10.1: cannot open shared object file: No such file or directory; LD_LIBRARY_PATH: /usr/local/cuda-10.2/lib64:\n",
      "2022-07-22 20:20:24.616357: I tensorflow/stream_executor/cuda/cudart_stub.cc:29] Ignore above cudart dlerror if you do not have a GPU set up on your machine.\n",
      "train_df.shape =  (144293, 8)\n",
      "load folds...\n",
      "trn_df.shape =  (115331, 8)\n",
      "val_df.shape =  (28962, 8)\n",
      "Special tokens have been added in the vocabulary, make sure the associated word embeddings are fine-tuned or trained.\n",
      "Special tokens have been added in the vocabulary, make sure the associated word embeddings are fine-tuned or trained.\n",
      "Loaded 3119 samples.\n",
      "Some weights of the model checkpoint at microsoft/deberta-v3-large were not used when initializing DebertaV2Model: ['mask_predictions.LayerNorm.bias', 'lm_predictions.lm_head.dense.bias', 'lm_predictions.lm_head.LayerNorm.bias', 'mask_predictions.LayerNorm.weight', 'mask_predictions.classifier.bias', 'lm_predictions.lm_head.bias', 'lm_predictions.lm_head.dense.weight', 'mask_predictions.classifier.weight', 'mask_predictions.dense.weight', 'mask_predictions.dense.bias', 'lm_predictions.lm_head.LayerNorm.weight']\n",
      "- This IS expected if you are initializing DebertaV2Model from the checkpoint of a model trained on another task or with another architecture (e.g. initializing a BertForSequenceClassification model from a BertForPreTraining model).\n",
      "- This IS NOT expected if you are initializing DebertaV2Model from the checkpoint of a model that you expect to be exactly identical (initializing a BertForSequenceClassification model from a BertForSequenceClassification model).\n",
      "100%|███████████████████████████████████████| 3119/3119 [09:58<00:00,  5.21it/s]\n",
      "val_loss=2.3049, val_score=0.7150\n",
      "val_obj_loss=1.1940, val_reg_loss=0.3115, val_cls_loss=0.7993\n",
      "save raw_oof_fold1...\n",
      "save raw_oof_fold1, done\n",
      "\n",
      "\n"
     ]
    }
   ],
   "source": [
    "TEST_SCORE_THR = 0.5\n",
    "\n",
    "WEIGHT_PATH = f'./result/{VERSION}/model_seed{SEED}_fold{FOLD}_swa.pth'\n",
    "\n",
    "!python ../$VERSION/validation.py --model $MODEL --version $VERSION --fold_path $FOLD_PATH --fold $FOLD --seed $SEED --val_batch_size $VAL_BS \\\n",
    "--test_score_thr $TEST_SCORE_THR --weight_path $WEIGHT_PATH"
   ]
  },
  {
   "cell_type": "code",
   "execution_count": null,
   "metadata": {},
   "outputs": [],
   "source": []
  }
 ],
 "metadata": {
  "kernelspec": {
   "display_name": "Python 3",
   "language": "python",
   "name": "python3"
  },
  "language_info": {
   "codemirror_mode": {
    "name": "ipython",
    "version": 3
   },
   "file_extension": ".py",
   "mimetype": "text/x-python",
   "name": "python",
   "nbconvert_exporter": "python",
   "pygments_lexer": "ipython3",
   "version": "3.7.8"
  }
 },
 "nbformat": 4,
 "nbformat_minor": 4
}
